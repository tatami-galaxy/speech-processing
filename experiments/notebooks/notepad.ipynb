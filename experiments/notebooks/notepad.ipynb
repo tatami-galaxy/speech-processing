{
 "cells": [
  {
   "cell_type": "code",
   "execution_count": 1,
   "id": "cd662fef",
   "metadata": {
    "scrolled": true
   },
   "outputs": [
    {
     "name": "stdout",
     "output_type": "stream",
     "text": [
      "\n",
      "===================================BUG REPORT===================================\n",
      "Welcome to bitsandbytes. For bug reports, please run\n",
      "\n",
      "python -m bitsandbytes\n",
      "\n",
      " and submit this information together with your error trace to: https://github.com/TimDettmers/bitsandbytes/issues\n",
      "================================================================================\n",
      "bin /home/ujan/anaconda3/envs/asr/lib/python3.10/site-packages/bitsandbytes/libbitsandbytes_cuda112.so\n",
      "CUDA SETUP: CUDA runtime path found: /home/ujan/anaconda3/envs/asr/lib/libcudart.so.11.0\n",
      "CUDA SETUP: Highest compute capability among GPUs detected: 7.5\n",
      "CUDA SETUP: Detected CUDA version 112\n",
      "CUDA SETUP: Loading binary /home/ujan/anaconda3/envs/asr/lib/python3.10/site-packages/bitsandbytes/libbitsandbytes_cuda112.so...\n"
     ]
    }
   ],
   "source": [
    "#from transformers.utils.fx import symbolic_trace\n",
    "from transformers import AutoConfig, AutoFeatureExtractor, AutoTokenizer, AutoProcessor, AutoModelForSpeechSeq2Seq\n",
    "from modeling_whisper_traceable import WhisperForConditionalGeneration\n",
    "from datasets import load_dataset\n",
    "import torch\n",
    "from torch.fx import symbolic_trace\n",
    "import torch.fx as fx"
   ]
  },
  {
   "cell_type": "code",
   "execution_count": 1,
   "id": "de1f6401",
   "metadata": {},
   "outputs": [
    {
     "name": "stderr",
     "output_type": "stream",
     "text": [
      "/Users/ujan/opt/anaconda3/envs/asr/lib/python3.10/site-packages/transformers/deepspeed.py:23: FutureWarning: transformers.deepspeed module is deprecated and will be removed in a future version. Please import deepspeed modules directly from transformers.integrations\n",
      "  warnings.warn(\n"
     ]
    }
   ],
   "source": [
    "#from transformers.utils.fx import symbolic_trace\n",
    "from transformers import AutoConfig, AutoFeatureExtractor, AutoTokenizer, AutoProcessor, AutoModelForSpeechSeq2Seq\n",
    "#from whisper_traceable_masked import MaskedWhisperForConditionalGeneration\n",
    "from modeling_whisper import SparseWhisperForConditionalGeneration\n",
    "from datasets import load_dataset\n",
    "import torch\n",
    "\n",
    "model_name_or_path = 'openai/whisper-small'\n",
    "data_dir = 'mozilla-foundation/common_voice_11_0'"
   ]
  },
  {
   "cell_type": "code",
   "execution_count": 2,
   "id": "93fa02cd",
   "metadata": {},
   "outputs": [
    {
     "name": "stdout",
     "output_type": "stream",
     "text": [
      "loading dataset from mozilla-foundation/common_voice_11_0\n"
     ]
    },
    {
     "name": "stderr",
     "output_type": "stream",
     "text": [
      "Special tokens have been added in the vocabulary, make sure the associated word embeddings are fine-tuned or trained.\n",
      "Special tokens have been added in the vocabulary, make sure the associated word embeddings are fine-tuned or trained.\n",
      "Reading metadata...: 10581it [00:00, 18936.63it/s]\n"
     ]
    }
   ],
   "source": [
    "# load dataset\n",
    "print('loading dataset from {}'.format(data_dir))\n",
    "\n",
    "raw_datasets = load_dataset(data_dir, \"zh-CN\", split=\"test\", streaming=True)\n",
    "text_column_name = 'sentence'\n",
    "\n",
    "\n",
    "# model, tokenizer, feature extractor, processor\n",
    "\n",
    "model_config = AutoConfig.from_pretrained(\n",
    "    model_name_or_path,\n",
    "    #cache_dir=args.cache_dir,\n",
    "    #revision=args.model_revision,\n",
    "    #use_auth_token=True if args.use_auth_token else None,\n",
    ")\n",
    "\n",
    "model_config.update({\"forced_decoder_ids\": [], \"suppress_tokens\": []})\n",
    "\n",
    "\n",
    "feature_extractor = AutoFeatureExtractor.from_pretrained(\n",
    "    model_name_or_path,\n",
    "    #cache_dir=args.cache_dir,\n",
    "    #revision=args.model_revision,\n",
    "    #use_auth_token=True if args.use_auth_token else None,\n",
    ")\n",
    "tokenizer = AutoTokenizer.from_pretrained(\n",
    "    model_name_or_path,\n",
    "    #cache_dir=args.cache_dir,\n",
    "    #use_fast=model_args.use_fast_tokenizer,\n",
    "    #revision=model_args.model_revision,\n",
    "    #use_auth_token=True if model_args.use_auth_token else None,\n",
    ")\n",
    "\n",
    "tokenizer.set_prefix_tokens(language='chinese', task='transcribe')\n",
    "\n",
    "\n",
    "model = SparseWhisperForConditionalGeneration.from_pretrained(\n",
    "    model_name_or_path,\n",
    "    #config=model_config,\n",
    "    #cache_dir=args.cache_dir,\n",
    "    #revision=args.model_revision,\n",
    "    #use_auth_token=True if args.use_auth_token else None,\n",
    ")\n",
    "\n",
    "if model.config.decoder_start_token_id is None:\n",
    "    raise ValueError(\"Make sure that `config.decoder_start_token_id` is correctly defined\")\n",
    "    \n",
    "processor = AutoProcessor.from_pretrained(model_name_or_path)\n",
    "model.config.forced_decoder_ids = processor.get_decoder_prompt_ids(language='chinese', task='transcribe')\n",
    "\n",
    "\n",
    "dataset = raw_datasets\n",
    "\n",
    "model.eval()\n",
    "\n",
    "\n",
    "sample = next(iter(dataset))\n",
    "\n",
    "\n",
    "inputs = processor(\n",
    "    sample['audio'][\"array\"],\n",
    "    sampling_rate=feature_extractor.sampling_rate,\n",
    "    return_attention_mask=True,\n",
    "    return_tensors=\"pt\")\n",
    "                \n",
    "input_features = inputs.input_features\n",
    "attention_mask = inputs.attention_mask\n",
    "decoder_input_ids = torch.tensor([model.config.decoder_start_token_id]).reshape(1, -1)\n",
    "labels = tokenizer(sample['sentence'], return_tensors='pt').input_ids"
   ]
  },
  {
   "cell_type": "code",
   "execution_count": 4,
   "id": "a85eef2c",
   "metadata": {},
   "outputs": [
    {
     "name": "stdout",
     "output_type": "stream",
     "text": [
      "key : torch.Size([12, 1, 64])\n",
      "value : torch.Size([12, 1, 64])\n",
      "attn : torch.Size([12, 1, 1])\n",
      "True\n",
      "key : torch.Size([12, 1, 64])\n",
      "value : torch.Size([12, 1, 64])\n",
      "attn : torch.Size([12, 1, 1])\n",
      "True\n",
      "key : torch.Size([12, 1, 64])\n",
      "value : torch.Size([12, 1, 64])\n",
      "attn : torch.Size([12, 1, 1])\n",
      "True\n",
      "key : torch.Size([12, 1, 64])\n",
      "value : torch.Size([12, 1, 64])\n",
      "attn : torch.Size([12, 1, 1])\n",
      "True\n",
      "key : torch.Size([12, 1, 64])\n",
      "value : torch.Size([12, 1, 64])\n",
      "attn : torch.Size([12, 1, 1])\n",
      "True\n",
      "key : torch.Size([12, 1, 64])\n",
      "value : torch.Size([12, 1, 64])\n",
      "attn : torch.Size([12, 1, 1])\n",
      "True\n",
      "key : torch.Size([12, 1, 64])\n",
      "value : torch.Size([12, 1, 64])\n",
      "attn : torch.Size([12, 1, 1])\n",
      "True\n",
      "key : torch.Size([12, 1, 64])\n",
      "value : torch.Size([12, 1, 64])\n",
      "attn : torch.Size([12, 1, 1])\n",
      "True\n",
      "key : torch.Size([12, 1, 64])\n",
      "value : torch.Size([12, 1, 64])\n",
      "attn : torch.Size([12, 1, 1])\n",
      "True\n",
      "key : torch.Size([12, 1, 64])\n",
      "value : torch.Size([12, 1, 64])\n",
      "attn : torch.Size([12, 1, 1])\n",
      "True\n",
      "key : torch.Size([12, 1, 64])\n",
      "value : torch.Size([12, 1, 64])\n",
      "attn : torch.Size([12, 1, 1])\n",
      "True\n",
      "key : torch.Size([12, 1, 64])\n",
      "value : torch.Size([12, 1, 64])\n",
      "attn : torch.Size([12, 1, 1])\n",
      "True\n",
      "key : torch.Size([12, 2, 64])\n",
      "value : torch.Size([12, 2, 64])\n",
      "attn : torch.Size([12, 1, 2])\n",
      "True\n",
      "key : torch.Size([12, 2, 64])\n",
      "value : torch.Size([12, 2, 64])\n",
      "attn : torch.Size([12, 1, 2])\n",
      "True\n",
      "key : torch.Size([12, 2, 64])\n",
      "value : torch.Size([12, 2, 64])\n",
      "attn : torch.Size([12, 1, 2])\n",
      "True\n",
      "key : torch.Size([12, 2, 64])\n",
      "value : torch.Size([12, 2, 64])\n",
      "attn : torch.Size([12, 1, 2])\n",
      "True\n",
      "key : torch.Size([12, 2, 64])\n",
      "value : torch.Size([12, 2, 64])\n",
      "attn : torch.Size([12, 1, 2])\n",
      "True\n",
      "key : torch.Size([12, 2, 64])\n",
      "value : torch.Size([12, 2, 64])\n",
      "attn : torch.Size([12, 1, 2])\n",
      "True\n",
      "key : torch.Size([12, 2, 64])\n",
      "value : torch.Size([12, 2, 64])\n",
      "attn : torch.Size([12, 1, 2])\n",
      "True\n",
      "key : torch.Size([12, 2, 64])\n",
      "value : torch.Size([12, 2, 64])\n",
      "attn : torch.Size([12, 1, 2])\n",
      "True\n",
      "key : torch.Size([12, 2, 64])\n",
      "value : torch.Size([12, 2, 64])\n",
      "attn : torch.Size([12, 1, 2])\n",
      "True\n",
      "key : torch.Size([12, 2, 64])\n",
      "value : torch.Size([12, 2, 64])\n",
      "attn : torch.Size([12, 1, 2])\n",
      "True\n",
      "key : torch.Size([12, 2, 64])\n",
      "value : torch.Size([12, 2, 64])\n",
      "attn : torch.Size([12, 1, 2])\n",
      "True\n",
      "key : torch.Size([12, 2, 64])\n",
      "value : torch.Size([12, 2, 64])\n",
      "attn : torch.Size([12, 1, 2])\n",
      "True\n",
      "key : torch.Size([12, 3, 64])\n",
      "value : torch.Size([12, 3, 64])\n",
      "attn : torch.Size([12, 1, 3])\n",
      "True\n",
      "key : torch.Size([12, 3, 64])\n",
      "value : torch.Size([12, 3, 64])\n",
      "attn : torch.Size([12, 1, 3])\n",
      "True\n",
      "key : torch.Size([12, 3, 64])\n",
      "value : torch.Size([12, 3, 64])\n",
      "attn : torch.Size([12, 1, 3])\n",
      "True\n",
      "key : torch.Size([12, 3, 64])\n",
      "value : torch.Size([12, 3, 64])\n",
      "attn : torch.Size([12, 1, 3])\n",
      "True\n",
      "key : torch.Size([12, 3, 64])\n",
      "value : torch.Size([12, 3, 64])\n",
      "attn : torch.Size([12, 1, 3])\n",
      "True\n",
      "key : torch.Size([12, 3, 64])\n",
      "value : torch.Size([12, 3, 64])\n",
      "attn : torch.Size([12, 1, 3])\n",
      "True\n",
      "key : torch.Size([12, 3, 64])\n",
      "value : torch.Size([12, 3, 64])\n",
      "attn : torch.Size([12, 1, 3])\n",
      "True\n",
      "key : torch.Size([12, 3, 64])\n",
      "value : torch.Size([12, 3, 64])\n",
      "attn : torch.Size([12, 1, 3])\n",
      "True\n",
      "key : torch.Size([12, 3, 64])\n",
      "value : torch.Size([12, 3, 64])\n",
      "attn : torch.Size([12, 1, 3])\n",
      "True\n",
      "key : torch.Size([12, 3, 64])\n",
      "value : torch.Size([12, 3, 64])\n",
      "attn : torch.Size([12, 1, 3])\n",
      "True\n",
      "key : torch.Size([12, 3, 64])\n",
      "value : torch.Size([12, 3, 64])\n",
      "attn : torch.Size([12, 1, 3])\n",
      "True\n",
      "key : torch.Size([12, 3, 64])\n",
      "value : torch.Size([12, 3, 64])\n",
      "attn : torch.Size([12, 1, 3])\n",
      "True\n",
      "key : torch.Size([12, 4, 64])\n",
      "value : torch.Size([12, 4, 64])\n",
      "attn : torch.Size([12, 1, 4])\n",
      "True\n",
      "key : torch.Size([12, 4, 64])\n",
      "value : torch.Size([12, 4, 64])\n",
      "attn : torch.Size([12, 1, 4])\n",
      "True\n",
      "key : torch.Size([12, 4, 64])\n",
      "value : torch.Size([12, 4, 64])\n",
      "attn : torch.Size([12, 1, 4])\n",
      "True\n",
      "key : torch.Size([12, 4, 64])\n",
      "value : torch.Size([12, 4, 64])\n",
      "attn : torch.Size([12, 1, 4])\n",
      "True\n",
      "key : torch.Size([12, 4, 64])\n",
      "value : torch.Size([12, 4, 64])\n",
      "attn : torch.Size([12, 1, 4])\n",
      "True\n",
      "key : torch.Size([12, 4, 64])\n",
      "value : torch.Size([12, 4, 64])\n",
      "attn : torch.Size([12, 1, 4])\n",
      "True\n",
      "key : torch.Size([12, 4, 64])\n",
      "value : torch.Size([12, 4, 64])\n",
      "attn : torch.Size([12, 1, 4])\n",
      "True\n",
      "key : torch.Size([12, 4, 64])\n",
      "value : torch.Size([12, 4, 64])\n",
      "attn : torch.Size([12, 1, 4])\n",
      "True\n",
      "key : torch.Size([12, 4, 64])\n",
      "value : torch.Size([12, 4, 64])\n",
      "attn : torch.Size([12, 1, 4])\n",
      "True\n",
      "key : torch.Size([12, 4, 64])\n",
      "value : torch.Size([12, 4, 64])\n",
      "attn : torch.Size([12, 1, 4])\n",
      "True\n",
      "key : torch.Size([12, 4, 64])\n",
      "value : torch.Size([12, 4, 64])\n",
      "attn : torch.Size([12, 1, 4])\n",
      "True\n",
      "key : torch.Size([12, 4, 64])\n",
      "value : torch.Size([12, 4, 64])\n",
      "attn : torch.Size([12, 1, 4])\n",
      "True\n",
      "key : torch.Size([12, 5, 64])\n",
      "value : torch.Size([12, 5, 64])\n",
      "attn : torch.Size([12, 1, 5])\n",
      "True\n",
      "key : torch.Size([12, 5, 64])\n",
      "value : torch.Size([12, 5, 64])\n",
      "attn : torch.Size([12, 1, 5])\n",
      "True\n",
      "key : torch.Size([12, 5, 64])\n",
      "value : torch.Size([12, 5, 64])\n",
      "attn : torch.Size([12, 1, 5])\n",
      "True\n",
      "key : torch.Size([12, 5, 64])\n",
      "value : torch.Size([12, 5, 64])\n",
      "attn : torch.Size([12, 1, 5])\n",
      "True\n",
      "key : torch.Size([12, 5, 64])\n",
      "value : torch.Size([12, 5, 64])\n",
      "attn : torch.Size([12, 1, 5])\n",
      "True\n",
      "key : torch.Size([12, 5, 64])\n",
      "value : torch.Size([12, 5, 64])\n",
      "attn : torch.Size([12, 1, 5])\n",
      "True\n",
      "key : torch.Size([12, 5, 64])\n",
      "value : torch.Size([12, 5, 64])\n",
      "attn : torch.Size([12, 1, 5])\n",
      "True\n",
      "key : torch.Size([12, 5, 64])\n",
      "value : torch.Size([12, 5, 64])\n",
      "attn : torch.Size([12, 1, 5])\n",
      "True\n",
      "key : torch.Size([12, 5, 64])\n",
      "value : torch.Size([12, 5, 64])\n",
      "attn : torch.Size([12, 1, 5])\n",
      "True\n",
      "key : torch.Size([12, 5, 64])\n",
      "value : torch.Size([12, 5, 64])\n",
      "attn : torch.Size([12, 1, 5])\n",
      "True\n",
      "key : torch.Size([12, 5, 64])\n",
      "value : torch.Size([12, 5, 64])\n",
      "attn : torch.Size([12, 1, 5])\n",
      "True\n",
      "key : torch.Size([12, 5, 64])\n",
      "value : torch.Size([12, 5, 64])\n",
      "attn : torch.Size([12, 1, 5])\n",
      "True\n",
      "key : torch.Size([12, 6, 64])\n",
      "value : torch.Size([12, 6, 64])\n",
      "attn : torch.Size([12, 1, 6])\n",
      "True\n",
      "key : torch.Size([12, 6, 64])\n",
      "value : torch.Size([12, 6, 64])\n",
      "attn : torch.Size([12, 1, 6])\n",
      "True\n",
      "key : torch.Size([12, 6, 64])\n",
      "value : torch.Size([12, 6, 64])\n",
      "attn : torch.Size([12, 1, 6])\n",
      "True\n",
      "key : torch.Size([12, 6, 64])\n",
      "value : torch.Size([12, 6, 64])\n",
      "attn : torch.Size([12, 1, 6])\n",
      "True\n",
      "key : torch.Size([12, 6, 64])\n",
      "value : torch.Size([12, 6, 64])\n",
      "attn : torch.Size([12, 1, 6])\n",
      "True\n",
      "key : torch.Size([12, 6, 64])\n",
      "value : torch.Size([12, 6, 64])\n",
      "attn : torch.Size([12, 1, 6])\n",
      "True\n",
      "key : torch.Size([12, 6, 64])\n",
      "value : torch.Size([12, 6, 64])\n",
      "attn : torch.Size([12, 1, 6])\n",
      "True\n",
      "key : torch.Size([12, 6, 64])\n",
      "value : torch.Size([12, 6, 64])\n",
      "attn : torch.Size([12, 1, 6])\n",
      "True\n",
      "key : torch.Size([12, 6, 64])\n",
      "value : torch.Size([12, 6, 64])\n",
      "attn : torch.Size([12, 1, 6])\n",
      "True\n",
      "key : torch.Size([12, 6, 64])\n",
      "value : torch.Size([12, 6, 64])\n",
      "attn : torch.Size([12, 1, 6])\n",
      "True\n",
      "key : torch.Size([12, 6, 64])\n",
      "value : torch.Size([12, 6, 64])\n",
      "attn : torch.Size([12, 1, 6])\n",
      "True\n",
      "key : torch.Size([12, 6, 64])\n",
      "value : torch.Size([12, 6, 64])\n",
      "attn : torch.Size([12, 1, 6])\n",
      "True\n",
      "key : torch.Size([12, 7, 64])\n",
      "value : torch.Size([12, 7, 64])\n",
      "attn : torch.Size([12, 1, 7])\n",
      "True\n",
      "key : torch.Size([12, 7, 64])\n",
      "value : torch.Size([12, 7, 64])\n",
      "attn : torch.Size([12, 1, 7])\n",
      "True\n",
      "key : torch.Size([12, 7, 64])\n",
      "value : torch.Size([12, 7, 64])\n",
      "attn : torch.Size([12, 1, 7])\n",
      "True\n",
      "key : torch.Size([12, 7, 64])\n",
      "value : torch.Size([12, 7, 64])\n",
      "attn : torch.Size([12, 1, 7])\n",
      "True\n",
      "key : torch.Size([12, 7, 64])\n",
      "value : torch.Size([12, 7, 64])\n",
      "attn : torch.Size([12, 1, 7])\n",
      "True\n",
      "key : torch.Size([12, 7, 64])\n",
      "value : torch.Size([12, 7, 64])\n",
      "attn : torch.Size([12, 1, 7])\n",
      "True\n",
      "key : torch.Size([12, 7, 64])\n",
      "value : torch.Size([12, 7, 64])\n",
      "attn : torch.Size([12, 1, 7])\n",
      "True\n",
      "key : torch.Size([12, 7, 64])\n",
      "value : torch.Size([12, 7, 64])\n",
      "attn : torch.Size([12, 1, 7])\n",
      "True\n",
      "key : torch.Size([12, 7, 64])\n",
      "value : torch.Size([12, 7, 64])\n",
      "attn : torch.Size([12, 1, 7])\n",
      "True\n",
      "key : torch.Size([12, 7, 64])\n",
      "value : torch.Size([12, 7, 64])\n",
      "attn : torch.Size([12, 1, 7])\n",
      "True\n",
      "key : torch.Size([12, 7, 64])\n",
      "value : torch.Size([12, 7, 64])\n",
      "attn : torch.Size([12, 1, 7])\n",
      "True\n",
      "key : torch.Size([12, 7, 64])\n",
      "value : torch.Size([12, 7, 64])\n",
      "attn : torch.Size([12, 1, 7])\n",
      "True\n",
      "key : torch.Size([12, 8, 64])\n",
      "value : torch.Size([12, 8, 64])\n",
      "attn : torch.Size([12, 1, 8])\n",
      "True\n",
      "key : torch.Size([12, 8, 64])\n",
      "value : torch.Size([12, 8, 64])\n",
      "attn : torch.Size([12, 1, 8])\n",
      "True\n",
      "key : torch.Size([12, 8, 64])\n",
      "value : torch.Size([12, 8, 64])\n",
      "attn : torch.Size([12, 1, 8])\n",
      "True\n",
      "key : torch.Size([12, 8, 64])\n",
      "value : torch.Size([12, 8, 64])\n",
      "attn : torch.Size([12, 1, 8])\n",
      "True\n",
      "key : torch.Size([12, 8, 64])\n",
      "value : torch.Size([12, 8, 64])\n",
      "attn : torch.Size([12, 1, 8])\n",
      "True\n",
      "key : torch.Size([12, 8, 64])\n",
      "value : torch.Size([12, 8, 64])\n",
      "attn : torch.Size([12, 1, 8])\n",
      "True\n"
     ]
    },
    {
     "name": "stdout",
     "output_type": "stream",
     "text": [
      "key : torch.Size([12, 8, 64])\n",
      "value : torch.Size([12, 8, 64])\n",
      "attn : torch.Size([12, 1, 8])\n",
      "True\n",
      "key : torch.Size([12, 8, 64])\n",
      "value : torch.Size([12, 8, 64])\n",
      "attn : torch.Size([12, 1, 8])\n",
      "True\n",
      "key : torch.Size([12, 8, 64])\n",
      "value : torch.Size([12, 8, 64])\n",
      "attn : torch.Size([12, 1, 8])\n",
      "True\n",
      "key : torch.Size([12, 8, 64])\n",
      "value : torch.Size([12, 8, 64])\n",
      "attn : torch.Size([12, 1, 8])\n",
      "True\n",
      "key : torch.Size([12, 8, 64])\n",
      "value : torch.Size([12, 8, 64])\n",
      "attn : torch.Size([12, 1, 8])\n",
      "True\n",
      "key : torch.Size([12, 8, 64])\n",
      "value : torch.Size([12, 8, 64])\n",
      "attn : torch.Size([12, 1, 8])\n",
      "True\n",
      "key : torch.Size([12, 9, 64])\n",
      "value : torch.Size([12, 9, 64])\n",
      "attn : torch.Size([12, 1, 9])\n",
      "True\n",
      "key : torch.Size([12, 9, 64])\n",
      "value : torch.Size([12, 9, 64])\n",
      "attn : torch.Size([12, 1, 9])\n",
      "True\n",
      "key : torch.Size([12, 9, 64])\n",
      "value : torch.Size([12, 9, 64])\n",
      "attn : torch.Size([12, 1, 9])\n",
      "True\n",
      "key : torch.Size([12, 9, 64])\n",
      "value : torch.Size([12, 9, 64])\n",
      "attn : torch.Size([12, 1, 9])\n",
      "True\n",
      "key : torch.Size([12, 9, 64])\n",
      "value : torch.Size([12, 9, 64])\n",
      "attn : torch.Size([12, 1, 9])\n",
      "True\n",
      "key : torch.Size([12, 9, 64])\n",
      "value : torch.Size([12, 9, 64])\n",
      "attn : torch.Size([12, 1, 9])\n",
      "True\n",
      "key : torch.Size([12, 9, 64])\n",
      "value : torch.Size([12, 9, 64])\n",
      "attn : torch.Size([12, 1, 9])\n",
      "True\n",
      "key : torch.Size([12, 9, 64])\n",
      "value : torch.Size([12, 9, 64])\n",
      "attn : torch.Size([12, 1, 9])\n",
      "True\n",
      "key : torch.Size([12, 9, 64])\n",
      "value : torch.Size([12, 9, 64])\n",
      "attn : torch.Size([12, 1, 9])\n",
      "True\n",
      "key : torch.Size([12, 9, 64])\n",
      "value : torch.Size([12, 9, 64])\n",
      "attn : torch.Size([12, 1, 9])\n",
      "True\n",
      "key : torch.Size([12, 9, 64])\n",
      "value : torch.Size([12, 9, 64])\n",
      "attn : torch.Size([12, 1, 9])\n",
      "True\n",
      "key : torch.Size([12, 9, 64])\n",
      "value : torch.Size([12, 9, 64])\n",
      "attn : torch.Size([12, 1, 9])\n",
      "True\n",
      "key : torch.Size([12, 10, 64])\n",
      "value : torch.Size([12, 10, 64])\n",
      "attn : torch.Size([12, 1, 10])\n",
      "True\n",
      "key : torch.Size([12, 10, 64])\n",
      "value : torch.Size([12, 10, 64])\n",
      "attn : torch.Size([12, 1, 10])\n",
      "True\n",
      "key : torch.Size([12, 10, 64])\n",
      "value : torch.Size([12, 10, 64])\n",
      "attn : torch.Size([12, 1, 10])\n",
      "True\n",
      "key : torch.Size([12, 10, 64])\n",
      "value : torch.Size([12, 10, 64])\n",
      "attn : torch.Size([12, 1, 10])\n",
      "True\n",
      "key : torch.Size([12, 10, 64])\n",
      "value : torch.Size([12, 10, 64])\n",
      "attn : torch.Size([12, 1, 10])\n",
      "True\n",
      "key : torch.Size([12, 10, 64])\n",
      "value : torch.Size([12, 10, 64])\n",
      "attn : torch.Size([12, 1, 10])\n",
      "True\n",
      "key : torch.Size([12, 10, 64])\n",
      "value : torch.Size([12, 10, 64])\n",
      "attn : torch.Size([12, 1, 10])\n",
      "True\n",
      "key : torch.Size([12, 10, 64])\n",
      "value : torch.Size([12, 10, 64])\n",
      "attn : torch.Size([12, 1, 10])\n",
      "True\n",
      "key : torch.Size([12, 10, 64])\n",
      "value : torch.Size([12, 10, 64])\n",
      "attn : torch.Size([12, 1, 10])\n",
      "True\n",
      "key : torch.Size([12, 10, 64])\n",
      "value : torch.Size([12, 10, 64])\n",
      "attn : torch.Size([12, 1, 10])\n",
      "True\n",
      "key : torch.Size([12, 10, 64])\n",
      "value : torch.Size([12, 10, 64])\n",
      "attn : torch.Size([12, 1, 10])\n",
      "True\n",
      "key : torch.Size([12, 10, 64])\n",
      "value : torch.Size([12, 10, 64])\n",
      "attn : torch.Size([12, 1, 10])\n",
      "True\n",
      "key : torch.Size([12, 11, 64])\n",
      "value : torch.Size([12, 11, 64])\n",
      "attn : torch.Size([12, 1, 11])\n",
      "True\n",
      "key : torch.Size([12, 11, 64])\n",
      "value : torch.Size([12, 11, 64])\n",
      "attn : torch.Size([12, 1, 11])\n",
      "True\n",
      "key : torch.Size([12, 11, 64])\n",
      "value : torch.Size([12, 11, 64])\n",
      "attn : torch.Size([12, 1, 11])\n",
      "True\n",
      "key : torch.Size([12, 11, 64])\n",
      "value : torch.Size([12, 11, 64])\n",
      "attn : torch.Size([12, 1, 11])\n",
      "True\n",
      "key : torch.Size([12, 11, 64])\n",
      "value : torch.Size([12, 11, 64])\n",
      "attn : torch.Size([12, 1, 11])\n",
      "True\n",
      "key : torch.Size([12, 11, 64])\n",
      "value : torch.Size([12, 11, 64])\n",
      "attn : torch.Size([12, 1, 11])\n",
      "True\n",
      "key : torch.Size([12, 11, 64])\n",
      "value : torch.Size([12, 11, 64])\n",
      "attn : torch.Size([12, 1, 11])\n",
      "True\n",
      "key : torch.Size([12, 11, 64])\n",
      "value : torch.Size([12, 11, 64])\n",
      "attn : torch.Size([12, 1, 11])\n",
      "True\n",
      "key : torch.Size([12, 11, 64])\n",
      "value : torch.Size([12, 11, 64])\n",
      "attn : torch.Size([12, 1, 11])\n",
      "True\n",
      "key : torch.Size([12, 11, 64])\n",
      "value : torch.Size([12, 11, 64])\n",
      "attn : torch.Size([12, 1, 11])\n",
      "True\n",
      "key : torch.Size([12, 11, 64])\n",
      "value : torch.Size([12, 11, 64])\n",
      "attn : torch.Size([12, 1, 11])\n",
      "True\n",
      "key : torch.Size([12, 11, 64])\n",
      "value : torch.Size([12, 11, 64])\n",
      "attn : torch.Size([12, 1, 11])\n",
      "True\n",
      "key : torch.Size([12, 12, 64])\n",
      "value : torch.Size([12, 12, 64])\n",
      "attn : torch.Size([12, 1, 12])\n",
      "True\n",
      "key : torch.Size([12, 12, 64])\n",
      "value : torch.Size([12, 12, 64])\n",
      "attn : torch.Size([12, 1, 12])\n",
      "True\n",
      "key : torch.Size([12, 12, 64])\n",
      "value : torch.Size([12, 12, 64])\n",
      "attn : torch.Size([12, 1, 12])\n",
      "True\n",
      "key : torch.Size([12, 12, 64])\n",
      "value : torch.Size([12, 12, 64])\n",
      "attn : torch.Size([12, 1, 12])\n",
      "True\n",
      "key : torch.Size([12, 12, 64])\n",
      "value : torch.Size([12, 12, 64])\n",
      "attn : torch.Size([12, 1, 12])\n",
      "True\n",
      "key : torch.Size([12, 12, 64])\n",
      "value : torch.Size([12, 12, 64])\n",
      "attn : torch.Size([12, 1, 12])\n",
      "True\n",
      "key : torch.Size([12, 12, 64])\n",
      "value : torch.Size([12, 12, 64])\n",
      "attn : torch.Size([12, 1, 12])\n",
      "True\n",
      "key : torch.Size([12, 12, 64])\n",
      "value : torch.Size([12, 12, 64])\n",
      "attn : torch.Size([12, 1, 12])\n",
      "True\n",
      "key : torch.Size([12, 12, 64])\n",
      "value : torch.Size([12, 12, 64])\n",
      "attn : torch.Size([12, 1, 12])\n",
      "True\n",
      "key : torch.Size([12, 12, 64])\n",
      "value : torch.Size([12, 12, 64])\n",
      "attn : torch.Size([12, 1, 12])\n",
      "True\n",
      "key : torch.Size([12, 12, 64])\n",
      "value : torch.Size([12, 12, 64])\n",
      "attn : torch.Size([12, 1, 12])\n",
      "True\n",
      "key : torch.Size([12, 12, 64])\n",
      "value : torch.Size([12, 12, 64])\n",
      "attn : torch.Size([12, 1, 12])\n",
      "True\n",
      "key : torch.Size([12, 13, 64])\n",
      "value : torch.Size([12, 13, 64])\n",
      "attn : torch.Size([12, 1, 13])\n",
      "True\n",
      "key : torch.Size([12, 13, 64])\n",
      "value : torch.Size([12, 13, 64])\n",
      "attn : torch.Size([12, 1, 13])\n",
      "True\n",
      "key : torch.Size([12, 13, 64])\n",
      "value : torch.Size([12, 13, 64])\n",
      "attn : torch.Size([12, 1, 13])\n",
      "True\n",
      "key : torch.Size([12, 13, 64])\n",
      "value : torch.Size([12, 13, 64])\n",
      "attn : torch.Size([12, 1, 13])\n",
      "True\n",
      "key : torch.Size([12, 13, 64])\n",
      "value : torch.Size([12, 13, 64])\n",
      "attn : torch.Size([12, 1, 13])\n",
      "True\n",
      "key : torch.Size([12, 13, 64])\n",
      "value : torch.Size([12, 13, 64])\n",
      "attn : torch.Size([12, 1, 13])\n",
      "True\n",
      "key : torch.Size([12, 13, 64])\n",
      "value : torch.Size([12, 13, 64])\n",
      "attn : torch.Size([12, 1, 13])\n",
      "True\n",
      "key : torch.Size([12, 13, 64])\n",
      "value : torch.Size([12, 13, 64])\n",
      "attn : torch.Size([12, 1, 13])\n",
      "True\n",
      "key : torch.Size([12, 13, 64])\n",
      "value : torch.Size([12, 13, 64])\n",
      "attn : torch.Size([12, 1, 13])\n",
      "True\n",
      "key : torch.Size([12, 13, 64])\n",
      "value : torch.Size([12, 13, 64])\n",
      "attn : torch.Size([12, 1, 13])\n",
      "True\n",
      "key : torch.Size([12, 13, 64])\n",
      "value : torch.Size([12, 13, 64])\n",
      "attn : torch.Size([12, 1, 13])\n",
      "True\n",
      "key : torch.Size([12, 13, 64])\n",
      "value : torch.Size([12, 13, 64])\n",
      "attn : torch.Size([12, 1, 13])\n",
      "True\n"
     ]
    },
    {
     "data": {
      "text/plain": [
       "tensor([[50258, 50260, 50359, 50363, 22381, 40211,  2322,  7732,    95,  2347,\n",
       "           108, 19976,   227, 50257]])"
      ]
     },
     "execution_count": 4,
     "metadata": {},
     "output_type": "execute_result"
    }
   ],
   "source": [
    "model.generate(input_features)"
   ]
  },
  {
   "cell_type": "code",
   "execution_count": 3,
   "id": "b0f3b308",
   "metadata": {},
   "outputs": [
    {
     "name": "stdout",
     "output_type": "stream",
     "text": [
      "key : torch.Size([12, 6, 64])\n",
      "value : torch.Size([12, 6, 64])\n",
      "attn : torch.Size([12, 6, 6])\n",
      "True\n",
      "key : torch.Size([12, 6, 64])\n",
      "value : torch.Size([12, 6, 64])\n",
      "attn : torch.Size([12, 6, 6])\n",
      "True\n",
      "key : torch.Size([12, 6, 64])\n",
      "value : torch.Size([12, 6, 64])\n",
      "attn : torch.Size([12, 6, 6])\n",
      "True\n",
      "key : torch.Size([12, 6, 64])\n",
      "value : torch.Size([12, 6, 64])\n",
      "attn : torch.Size([12, 6, 6])\n",
      "True\n",
      "key : torch.Size([12, 6, 64])\n",
      "value : torch.Size([12, 6, 64])\n",
      "attn : torch.Size([12, 6, 6])\n",
      "True\n",
      "key : torch.Size([12, 6, 64])\n",
      "value : torch.Size([12, 6, 64])\n",
      "attn : torch.Size([12, 6, 6])\n",
      "True\n",
      "key : torch.Size([12, 6, 64])\n",
      "value : torch.Size([12, 6, 64])\n",
      "attn : torch.Size([12, 6, 6])\n",
      "True\n",
      "key : torch.Size([12, 6, 64])\n",
      "value : torch.Size([12, 6, 64])\n",
      "attn : torch.Size([12, 6, 6])\n",
      "True\n",
      "key : torch.Size([12, 6, 64])\n",
      "value : torch.Size([12, 6, 64])\n",
      "attn : torch.Size([12, 6, 6])\n",
      "True\n",
      "key : torch.Size([12, 6, 64])\n",
      "value : torch.Size([12, 6, 64])\n",
      "attn : torch.Size([12, 6, 6])\n",
      "True\n",
      "key : torch.Size([12, 6, 64])\n",
      "value : torch.Size([12, 6, 64])\n",
      "attn : torch.Size([12, 6, 6])\n",
      "True\n",
      "key : torch.Size([12, 6, 64])\n",
      "value : torch.Size([12, 6, 64])\n",
      "attn : torch.Size([12, 6, 6])\n",
      "True\n"
     ]
    }
   ],
   "source": [
    "_ = model(input_features=input_features, labels=labels)"
   ]
  },
  {
   "cell_type": "code",
   "execution_count": null,
   "id": "c2fe6c41",
   "metadata": {},
   "outputs": [],
   "source": []
  },
  {
   "cell_type": "code",
   "execution_count": null,
   "id": "5d1e0714",
   "metadata": {},
   "outputs": [],
   "source": []
  },
  {
   "cell_type": "code",
   "execution_count": 3,
   "id": "1b8dc8af",
   "metadata": {},
   "outputs": [],
   "source": [
    "#layers = model.config.encoder_layers"
   ]
  },
  {
   "cell_type": "code",
   "execution_count": 4,
   "id": "58a7a8eb",
   "metadata": {},
   "outputs": [],
   "source": [
    "model = WhisperForConditionalGeneration.from_pretrained('/users/ujan/speech-processing/models/whisper/pasted_checkpoint-5000')"
   ]
  },
  {
   "cell_type": "code",
   "execution_count": 5,
   "id": "66b2b5c5",
   "metadata": {},
   "outputs": [
    {
     "name": "stderr",
     "output_type": "stream",
     "text": [
      "/Users/ujan/opt/anaconda3/envs/asr/lib/python3.10/site-packages/transformers/generation/utils.py:1254: UserWarning: Using the model-agnostic default `max_length` (=448) to control thegeneration length. We recommend setting `max_new_tokens` to control the maximum length of the generation.\n",
      "  warnings.warn(\n"
     ]
    },
    {
     "name": "stdout",
     "output_type": "stream",
     "text": [
      "6.83 s ± 494 ms per loop (mean ± std. dev. of 7 runs, 1 loop each)\n"
     ]
    }
   ],
   "source": [
    "%timeit output_ids = model.generate(input_features)\n",
    "#_ = model.generate(input_features)"
   ]
  },
  {
   "cell_type": "code",
   "execution_count": 6,
   "id": "b1949eca",
   "metadata": {},
   "outputs": [
    {
     "name": "stderr",
     "output_type": "stream",
     "text": [
      "/Users/ujan/opt/anaconda3/envs/asr/lib/python3.10/site-packages/torch/nn/init.py:405: UserWarning: Initializing zero-element tensors is a no-op\n",
      "  warnings.warn(\"Initializing zero-element tensors is a no-op\")\n"
     ]
    }
   ],
   "source": [
    "model.prune_heads()"
   ]
  },
  {
   "cell_type": "code",
   "execution_count": 7,
   "id": "ceca0a63",
   "metadata": {},
   "outputs": [
    {
     "ename": "KeyboardInterrupt",
     "evalue": "",
     "output_type": "error",
     "traceback": [
      "\u001b[0;31m---------------------------------------------------------------------------\u001b[0m",
      "\u001b[0;31mKeyboardInterrupt\u001b[0m                         Traceback (most recent call last)",
      "Cell \u001b[0;32mIn[7], line 1\u001b[0m\n\u001b[0;32m----> 1\u001b[0m \u001b[43mget_ipython\u001b[49m\u001b[43m(\u001b[49m\u001b[43m)\u001b[49m\u001b[38;5;241;43m.\u001b[39;49m\u001b[43mrun_line_magic\u001b[49m\u001b[43m(\u001b[49m\u001b[38;5;124;43m'\u001b[39;49m\u001b[38;5;124;43mtimeit\u001b[39;49m\u001b[38;5;124;43m'\u001b[39;49m\u001b[43m,\u001b[49m\u001b[43m \u001b[49m\u001b[38;5;124;43m'\u001b[39;49m\u001b[38;5;124;43moutput_ids = model.generate(input_features)\u001b[39;49m\u001b[38;5;124;43m'\u001b[39;49m\u001b[43m)\u001b[49m\n",
      "File \u001b[0;32m/Users/ujan/opt/anaconda3/envs/asr/lib/python3.10/site-packages/IPython/core/interactiveshell.py:2369\u001b[0m, in \u001b[0;36mInteractiveShell.run_line_magic\u001b[0;34m(self, magic_name, line, _stack_depth)\u001b[0m\n\u001b[1;32m   2367\u001b[0m     kwargs[\u001b[38;5;124m'\u001b[39m\u001b[38;5;124mlocal_ns\u001b[39m\u001b[38;5;124m'\u001b[39m] \u001b[38;5;241m=\u001b[39m \u001b[38;5;28mself\u001b[39m\u001b[38;5;241m.\u001b[39mget_local_scope(stack_depth)\n\u001b[1;32m   2368\u001b[0m \u001b[38;5;28;01mwith\u001b[39;00m \u001b[38;5;28mself\u001b[39m\u001b[38;5;241m.\u001b[39mbuiltin_trap:\n\u001b[0;32m-> 2369\u001b[0m     result \u001b[38;5;241m=\u001b[39m \u001b[43mfn\u001b[49m\u001b[43m(\u001b[49m\u001b[38;5;241;43m*\u001b[39;49m\u001b[43margs\u001b[49m\u001b[43m,\u001b[49m\u001b[43m \u001b[49m\u001b[38;5;241;43m*\u001b[39;49m\u001b[38;5;241;43m*\u001b[39;49m\u001b[43mkwargs\u001b[49m\u001b[43m)\u001b[49m\n\u001b[1;32m   2370\u001b[0m \u001b[38;5;28;01mreturn\u001b[39;00m result\n",
      "File \u001b[0;32m/Users/ujan/opt/anaconda3/envs/asr/lib/python3.10/site-packages/IPython/core/magics/execution.py:1166\u001b[0m, in \u001b[0;36mExecutionMagics.timeit\u001b[0;34m(self, line, cell, local_ns)\u001b[0m\n\u001b[1;32m   1163\u001b[0m         \u001b[38;5;28;01mif\u001b[39;00m time_number \u001b[38;5;241m>\u001b[39m\u001b[38;5;241m=\u001b[39m \u001b[38;5;241m0.2\u001b[39m:\n\u001b[1;32m   1164\u001b[0m             \u001b[38;5;28;01mbreak\u001b[39;00m\n\u001b[0;32m-> 1166\u001b[0m all_runs \u001b[38;5;241m=\u001b[39m \u001b[43mtimer\u001b[49m\u001b[38;5;241;43m.\u001b[39;49m\u001b[43mrepeat\u001b[49m\u001b[43m(\u001b[49m\u001b[43mrepeat\u001b[49m\u001b[43m,\u001b[49m\u001b[43m \u001b[49m\u001b[43mnumber\u001b[49m\u001b[43m)\u001b[49m\n\u001b[1;32m   1167\u001b[0m best \u001b[38;5;241m=\u001b[39m \u001b[38;5;28mmin\u001b[39m(all_runs) \u001b[38;5;241m/\u001b[39m number\n\u001b[1;32m   1168\u001b[0m worst \u001b[38;5;241m=\u001b[39m \u001b[38;5;28mmax\u001b[39m(all_runs) \u001b[38;5;241m/\u001b[39m number\n",
      "File \u001b[0;32m/Users/ujan/opt/anaconda3/envs/asr/lib/python3.10/timeit.py:206\u001b[0m, in \u001b[0;36mTimer.repeat\u001b[0;34m(self, repeat, number)\u001b[0m\n\u001b[1;32m    204\u001b[0m r \u001b[38;5;241m=\u001b[39m []\n\u001b[1;32m    205\u001b[0m \u001b[38;5;28;01mfor\u001b[39;00m i \u001b[38;5;129;01min\u001b[39;00m \u001b[38;5;28mrange\u001b[39m(repeat):\n\u001b[0;32m--> 206\u001b[0m     t \u001b[38;5;241m=\u001b[39m \u001b[38;5;28;43mself\u001b[39;49m\u001b[38;5;241;43m.\u001b[39;49m\u001b[43mtimeit\u001b[49m\u001b[43m(\u001b[49m\u001b[43mnumber\u001b[49m\u001b[43m)\u001b[49m\n\u001b[1;32m    207\u001b[0m     r\u001b[38;5;241m.\u001b[39mappend(t)\n\u001b[1;32m    208\u001b[0m \u001b[38;5;28;01mreturn\u001b[39;00m r\n",
      "File \u001b[0;32m/Users/ujan/opt/anaconda3/envs/asr/lib/python3.10/site-packages/IPython/core/magics/execution.py:156\u001b[0m, in \u001b[0;36mTimer.timeit\u001b[0;34m(self, number)\u001b[0m\n\u001b[1;32m    154\u001b[0m gc\u001b[38;5;241m.\u001b[39mdisable()\n\u001b[1;32m    155\u001b[0m \u001b[38;5;28;01mtry\u001b[39;00m:\n\u001b[0;32m--> 156\u001b[0m     timing \u001b[38;5;241m=\u001b[39m \u001b[38;5;28;43mself\u001b[39;49m\u001b[38;5;241;43m.\u001b[39;49m\u001b[43minner\u001b[49m\u001b[43m(\u001b[49m\u001b[43mit\u001b[49m\u001b[43m,\u001b[49m\u001b[43m \u001b[49m\u001b[38;5;28;43mself\u001b[39;49m\u001b[38;5;241;43m.\u001b[39;49m\u001b[43mtimer\u001b[49m\u001b[43m)\u001b[49m\n\u001b[1;32m    157\u001b[0m \u001b[38;5;28;01mfinally\u001b[39;00m:\n\u001b[1;32m    158\u001b[0m     \u001b[38;5;28;01mif\u001b[39;00m gcold:\n",
      "File \u001b[0;32m<magic-timeit>:1\u001b[0m, in \u001b[0;36minner\u001b[0;34m(_it, _timer)\u001b[0m\n",
      "File \u001b[0;32m/Users/ujan/speech-processing/experiments/notebooks/whisper_pt_prune.py:1962\u001b[0m, in \u001b[0;36mWhisperForConditionalGeneration.generate\u001b[0;34m(self, inputs, generation_config, logits_processor, stopping_criteria, prefix_allowed_tokens_fn, synced_gpus, return_timestamps, task, language, is_multilingual, prompt_ids, return_token_timestamps, **kwargs)\u001b[0m\n\u001b[1;32m   1959\u001b[0m     \u001b[38;5;28;01mif\u001b[39;00m kwargs\u001b[38;5;241m.\u001b[39mget(\u001b[38;5;124m\"\u001b[39m\u001b[38;5;124mnum_frames\u001b[39m\u001b[38;5;124m\"\u001b[39m) \u001b[38;5;129;01mis\u001b[39;00m \u001b[38;5;129;01mnot\u001b[39;00m \u001b[38;5;28;01mNone\u001b[39;00m:\n\u001b[1;32m   1960\u001b[0m         generation_config\u001b[38;5;241m.\u001b[39mnum_frames \u001b[38;5;241m=\u001b[39m kwargs\u001b[38;5;241m.\u001b[39mpop(\u001b[38;5;124m\"\u001b[39m\u001b[38;5;124mnum_frames\u001b[39m\u001b[38;5;124m\"\u001b[39m)\n\u001b[0;32m-> 1962\u001b[0m outputs \u001b[38;5;241m=\u001b[39m \u001b[38;5;28;43msuper\u001b[39;49m\u001b[43m(\u001b[49m\u001b[43m)\u001b[49m\u001b[38;5;241;43m.\u001b[39;49m\u001b[43mgenerate\u001b[49m\u001b[43m(\u001b[49m\n\u001b[1;32m   1963\u001b[0m \u001b[43m    \u001b[49m\u001b[43minputs\u001b[49m\u001b[43m,\u001b[49m\n\u001b[1;32m   1964\u001b[0m \u001b[43m    \u001b[49m\u001b[43mgeneration_config\u001b[49m\u001b[43m,\u001b[49m\n\u001b[1;32m   1965\u001b[0m \u001b[43m    \u001b[49m\u001b[43mlogits_processor\u001b[49m\u001b[43m,\u001b[49m\n\u001b[1;32m   1966\u001b[0m \u001b[43m    \u001b[49m\u001b[43mstopping_criteria\u001b[49m\u001b[43m,\u001b[49m\n\u001b[1;32m   1967\u001b[0m \u001b[43m    \u001b[49m\u001b[43mprefix_allowed_tokens_fn\u001b[49m\u001b[43m,\u001b[49m\n\u001b[1;32m   1968\u001b[0m \u001b[43m    \u001b[49m\u001b[43msynced_gpus\u001b[49m\u001b[43m,\u001b[49m\n\u001b[1;32m   1969\u001b[0m \u001b[43m    \u001b[49m\u001b[38;5;241;43m*\u001b[39;49m\u001b[38;5;241;43m*\u001b[39;49m\u001b[43mkwargs\u001b[49m\u001b[43m,\u001b[49m\n\u001b[1;32m   1970\u001b[0m \u001b[43m\u001b[49m\u001b[43m)\u001b[49m\n\u001b[1;32m   1972\u001b[0m \u001b[38;5;28;01mif\u001b[39;00m return_token_timestamps \u001b[38;5;129;01mand\u001b[39;00m \u001b[38;5;28mhasattr\u001b[39m(generation_config, \u001b[38;5;124m\"\u001b[39m\u001b[38;5;124malignment_heads\u001b[39m\u001b[38;5;124m\"\u001b[39m):\n\u001b[1;32m   1973\u001b[0m     num_frames \u001b[38;5;241m=\u001b[39m \u001b[38;5;28mgetattr\u001b[39m(generation_config, \u001b[38;5;124m\"\u001b[39m\u001b[38;5;124mnum_frames\u001b[39m\u001b[38;5;124m\"\u001b[39m, \u001b[38;5;28;01mNone\u001b[39;00m)\n",
      "File \u001b[0;32m/Users/ujan/opt/anaconda3/envs/asr/lib/python3.10/site-packages/torch/utils/_contextlib.py:115\u001b[0m, in \u001b[0;36mcontext_decorator.<locals>.decorate_context\u001b[0;34m(*args, **kwargs)\u001b[0m\n\u001b[1;32m    112\u001b[0m \u001b[38;5;129m@functools\u001b[39m\u001b[38;5;241m.\u001b[39mwraps(func)\n\u001b[1;32m    113\u001b[0m \u001b[38;5;28;01mdef\u001b[39;00m \u001b[38;5;21mdecorate_context\u001b[39m(\u001b[38;5;241m*\u001b[39margs, \u001b[38;5;241m*\u001b[39m\u001b[38;5;241m*\u001b[39mkwargs):\n\u001b[1;32m    114\u001b[0m     \u001b[38;5;28;01mwith\u001b[39;00m ctx_factory():\n\u001b[0;32m--> 115\u001b[0m         \u001b[38;5;28;01mreturn\u001b[39;00m \u001b[43mfunc\u001b[49m\u001b[43m(\u001b[49m\u001b[38;5;241;43m*\u001b[39;49m\u001b[43margs\u001b[49m\u001b[43m,\u001b[49m\u001b[43m \u001b[49m\u001b[38;5;241;43m*\u001b[39;49m\u001b[38;5;241;43m*\u001b[39;49m\u001b[43mkwargs\u001b[49m\u001b[43m)\u001b[49m\n",
      "File \u001b[0;32m/Users/ujan/opt/anaconda3/envs/asr/lib/python3.10/site-packages/transformers/generation/utils.py:1596\u001b[0m, in \u001b[0;36mGenerationMixin.generate\u001b[0;34m(self, inputs, generation_config, logits_processor, stopping_criteria, prefix_allowed_tokens_fn, synced_gpus, assistant_model, streamer, negative_prompt_ids, negative_prompt_attention_mask, **kwargs)\u001b[0m\n\u001b[1;32m   1579\u001b[0m     \u001b[38;5;28;01mreturn\u001b[39;00m \u001b[38;5;28mself\u001b[39m\u001b[38;5;241m.\u001b[39massisted_decoding(\n\u001b[1;32m   1580\u001b[0m         input_ids,\n\u001b[1;32m   1581\u001b[0m         assistant_model\u001b[38;5;241m=\u001b[39massistant_model,\n\u001b[0;32m   (...)\u001b[0m\n\u001b[1;32m   1592\u001b[0m         \u001b[38;5;241m*\u001b[39m\u001b[38;5;241m*\u001b[39mmodel_kwargs,\n\u001b[1;32m   1593\u001b[0m     )\n\u001b[1;32m   1594\u001b[0m \u001b[38;5;28;01mif\u001b[39;00m generation_mode \u001b[38;5;241m==\u001b[39m GenerationMode\u001b[38;5;241m.\u001b[39mGREEDY_SEARCH:\n\u001b[1;32m   1595\u001b[0m     \u001b[38;5;66;03m# 11. run greedy search\u001b[39;00m\n\u001b[0;32m-> 1596\u001b[0m     \u001b[38;5;28;01mreturn\u001b[39;00m \u001b[38;5;28;43mself\u001b[39;49m\u001b[38;5;241;43m.\u001b[39;49m\u001b[43mgreedy_search\u001b[49m\u001b[43m(\u001b[49m\n\u001b[1;32m   1597\u001b[0m \u001b[43m        \u001b[49m\u001b[43minput_ids\u001b[49m\u001b[43m,\u001b[49m\n\u001b[1;32m   1598\u001b[0m \u001b[43m        \u001b[49m\u001b[43mlogits_processor\u001b[49m\u001b[38;5;241;43m=\u001b[39;49m\u001b[43mlogits_processor\u001b[49m\u001b[43m,\u001b[49m\n\u001b[1;32m   1599\u001b[0m \u001b[43m        \u001b[49m\u001b[43mstopping_criteria\u001b[49m\u001b[38;5;241;43m=\u001b[39;49m\u001b[43mstopping_criteria\u001b[49m\u001b[43m,\u001b[49m\n\u001b[1;32m   1600\u001b[0m \u001b[43m        \u001b[49m\u001b[43mpad_token_id\u001b[49m\u001b[38;5;241;43m=\u001b[39;49m\u001b[43mgeneration_config\u001b[49m\u001b[38;5;241;43m.\u001b[39;49m\u001b[43mpad_token_id\u001b[49m\u001b[43m,\u001b[49m\n\u001b[1;32m   1601\u001b[0m \u001b[43m        \u001b[49m\u001b[43meos_token_id\u001b[49m\u001b[38;5;241;43m=\u001b[39;49m\u001b[43mgeneration_config\u001b[49m\u001b[38;5;241;43m.\u001b[39;49m\u001b[43meos_token_id\u001b[49m\u001b[43m,\u001b[49m\n\u001b[1;32m   1602\u001b[0m \u001b[43m        \u001b[49m\u001b[43moutput_scores\u001b[49m\u001b[38;5;241;43m=\u001b[39;49m\u001b[43mgeneration_config\u001b[49m\u001b[38;5;241;43m.\u001b[39;49m\u001b[43moutput_scores\u001b[49m\u001b[43m,\u001b[49m\n\u001b[1;32m   1603\u001b[0m \u001b[43m        \u001b[49m\u001b[43mreturn_dict_in_generate\u001b[49m\u001b[38;5;241;43m=\u001b[39;49m\u001b[43mgeneration_config\u001b[49m\u001b[38;5;241;43m.\u001b[39;49m\u001b[43mreturn_dict_in_generate\u001b[49m\u001b[43m,\u001b[49m\n\u001b[1;32m   1604\u001b[0m \u001b[43m        \u001b[49m\u001b[43msynced_gpus\u001b[49m\u001b[38;5;241;43m=\u001b[39;49m\u001b[43msynced_gpus\u001b[49m\u001b[43m,\u001b[49m\n\u001b[1;32m   1605\u001b[0m \u001b[43m        \u001b[49m\u001b[43mstreamer\u001b[49m\u001b[38;5;241;43m=\u001b[39;49m\u001b[43mstreamer\u001b[49m\u001b[43m,\u001b[49m\n\u001b[1;32m   1606\u001b[0m \u001b[43m        \u001b[49m\u001b[38;5;241;43m*\u001b[39;49m\u001b[38;5;241;43m*\u001b[39;49m\u001b[43mmodel_kwargs\u001b[49m\u001b[43m,\u001b[49m\n\u001b[1;32m   1607\u001b[0m \u001b[43m    \u001b[49m\u001b[43m)\u001b[49m\n\u001b[1;32m   1609\u001b[0m \u001b[38;5;28;01melif\u001b[39;00m generation_mode \u001b[38;5;241m==\u001b[39m GenerationMode\u001b[38;5;241m.\u001b[39mCONTRASTIVE_SEARCH:\n\u001b[1;32m   1610\u001b[0m     \u001b[38;5;28;01mif\u001b[39;00m \u001b[38;5;129;01mnot\u001b[39;00m model_kwargs[\u001b[38;5;124m\"\u001b[39m\u001b[38;5;124muse_cache\u001b[39m\u001b[38;5;124m\"\u001b[39m]:\n",
      "File \u001b[0;32m/Users/ujan/opt/anaconda3/envs/asr/lib/python3.10/site-packages/transformers/generation/utils.py:2444\u001b[0m, in \u001b[0;36mGenerationMixin.greedy_search\u001b[0;34m(self, input_ids, logits_processor, stopping_criteria, max_length, pad_token_id, eos_token_id, output_attentions, output_hidden_states, output_scores, return_dict_in_generate, synced_gpus, streamer, **model_kwargs)\u001b[0m\n\u001b[1;32m   2441\u001b[0m model_inputs \u001b[38;5;241m=\u001b[39m \u001b[38;5;28mself\u001b[39m\u001b[38;5;241m.\u001b[39mprepare_inputs_for_generation(input_ids, \u001b[38;5;241m*\u001b[39m\u001b[38;5;241m*\u001b[39mmodel_kwargs)\n\u001b[1;32m   2443\u001b[0m \u001b[38;5;66;03m# forward pass to get next token\u001b[39;00m\n\u001b[0;32m-> 2444\u001b[0m outputs \u001b[38;5;241m=\u001b[39m \u001b[38;5;28;43mself\u001b[39;49m\u001b[43m(\u001b[49m\n\u001b[1;32m   2445\u001b[0m \u001b[43m    \u001b[49m\u001b[38;5;241;43m*\u001b[39;49m\u001b[38;5;241;43m*\u001b[39;49m\u001b[43mmodel_inputs\u001b[49m\u001b[43m,\u001b[49m\n\u001b[1;32m   2446\u001b[0m \u001b[43m    \u001b[49m\u001b[43mreturn_dict\u001b[49m\u001b[38;5;241;43m=\u001b[39;49m\u001b[38;5;28;43;01mTrue\u001b[39;49;00m\u001b[43m,\u001b[49m\n\u001b[1;32m   2447\u001b[0m \u001b[43m    \u001b[49m\u001b[43moutput_attentions\u001b[49m\u001b[38;5;241;43m=\u001b[39;49m\u001b[43moutput_attentions\u001b[49m\u001b[43m,\u001b[49m\n\u001b[1;32m   2448\u001b[0m \u001b[43m    \u001b[49m\u001b[43moutput_hidden_states\u001b[49m\u001b[38;5;241;43m=\u001b[39;49m\u001b[43moutput_hidden_states\u001b[49m\u001b[43m,\u001b[49m\n\u001b[1;32m   2449\u001b[0m \u001b[43m\u001b[49m\u001b[43m)\u001b[49m\n\u001b[1;32m   2451\u001b[0m \u001b[38;5;28;01mif\u001b[39;00m synced_gpus \u001b[38;5;129;01mand\u001b[39;00m this_peer_finished:\n\u001b[1;32m   2452\u001b[0m     \u001b[38;5;28;01mcontinue\u001b[39;00m  \u001b[38;5;66;03m# don't waste resources running the code we don't need\u001b[39;00m\n",
      "File \u001b[0;32m/Users/ujan/opt/anaconda3/envs/asr/lib/python3.10/site-packages/torch/nn/modules/module.py:1501\u001b[0m, in \u001b[0;36mModule._call_impl\u001b[0;34m(self, *args, **kwargs)\u001b[0m\n\u001b[1;32m   1496\u001b[0m \u001b[38;5;66;03m# If we don't have any hooks, we want to skip the rest of the logic in\u001b[39;00m\n\u001b[1;32m   1497\u001b[0m \u001b[38;5;66;03m# this function, and just call forward.\u001b[39;00m\n\u001b[1;32m   1498\u001b[0m \u001b[38;5;28;01mif\u001b[39;00m \u001b[38;5;129;01mnot\u001b[39;00m (\u001b[38;5;28mself\u001b[39m\u001b[38;5;241m.\u001b[39m_backward_hooks \u001b[38;5;129;01mor\u001b[39;00m \u001b[38;5;28mself\u001b[39m\u001b[38;5;241m.\u001b[39m_backward_pre_hooks \u001b[38;5;129;01mor\u001b[39;00m \u001b[38;5;28mself\u001b[39m\u001b[38;5;241m.\u001b[39m_forward_hooks \u001b[38;5;129;01mor\u001b[39;00m \u001b[38;5;28mself\u001b[39m\u001b[38;5;241m.\u001b[39m_forward_pre_hooks\n\u001b[1;32m   1499\u001b[0m         \u001b[38;5;129;01mor\u001b[39;00m _global_backward_pre_hooks \u001b[38;5;129;01mor\u001b[39;00m _global_backward_hooks\n\u001b[1;32m   1500\u001b[0m         \u001b[38;5;129;01mor\u001b[39;00m _global_forward_hooks \u001b[38;5;129;01mor\u001b[39;00m _global_forward_pre_hooks):\n\u001b[0;32m-> 1501\u001b[0m     \u001b[38;5;28;01mreturn\u001b[39;00m \u001b[43mforward_call\u001b[49m\u001b[43m(\u001b[49m\u001b[38;5;241;43m*\u001b[39;49m\u001b[43margs\u001b[49m\u001b[43m,\u001b[49m\u001b[43m \u001b[49m\u001b[38;5;241;43m*\u001b[39;49m\u001b[38;5;241;43m*\u001b[39;49m\u001b[43mkwargs\u001b[49m\u001b[43m)\u001b[49m\n\u001b[1;32m   1502\u001b[0m \u001b[38;5;66;03m# Do not call functions when jit is used\u001b[39;00m\n\u001b[1;32m   1503\u001b[0m full_backward_hooks, non_full_backward_hooks \u001b[38;5;241m=\u001b[39m [], []\n",
      "File \u001b[0;32m/Users/ujan/speech-processing/experiments/notebooks/whisper_pt_prune.py:1679\u001b[0m, in \u001b[0;36mWhisperForConditionalGeneration.forward\u001b[0;34m(self, input_features, attention_mask, decoder_input_ids, decoder_attention_mask, head_mask, decoder_head_mask, cross_attn_head_mask, encoder_outputs, past_key_values, decoder_inputs_embeds, labels, use_cache, output_attentions, output_hidden_states, return_dict)\u001b[0m\n\u001b[1;32m   1674\u001b[0m     \u001b[38;5;28;01mif\u001b[39;00m decoder_input_ids \u001b[38;5;129;01mis\u001b[39;00m \u001b[38;5;28;01mNone\u001b[39;00m \u001b[38;5;129;01mand\u001b[39;00m decoder_inputs_embeds \u001b[38;5;129;01mis\u001b[39;00m \u001b[38;5;28;01mNone\u001b[39;00m:\n\u001b[1;32m   1675\u001b[0m         decoder_input_ids \u001b[38;5;241m=\u001b[39m shift_tokens_right(\n\u001b[1;32m   1676\u001b[0m             labels, \u001b[38;5;28mself\u001b[39m\u001b[38;5;241m.\u001b[39mconfig\u001b[38;5;241m.\u001b[39mpad_token_id, \u001b[38;5;28mself\u001b[39m\u001b[38;5;241m.\u001b[39mconfig\u001b[38;5;241m.\u001b[39mdecoder_start_token_id\n\u001b[1;32m   1677\u001b[0m         )\n\u001b[0;32m-> 1679\u001b[0m outputs \u001b[38;5;241m=\u001b[39m \u001b[38;5;28;43mself\u001b[39;49m\u001b[38;5;241;43m.\u001b[39;49m\u001b[43mmodel\u001b[49m\u001b[43m(\u001b[49m\n\u001b[1;32m   1680\u001b[0m \u001b[43m    \u001b[49m\u001b[43minput_features\u001b[49m\u001b[43m,\u001b[49m\n\u001b[1;32m   1681\u001b[0m \u001b[43m    \u001b[49m\u001b[43mattention_mask\u001b[49m\u001b[38;5;241;43m=\u001b[39;49m\u001b[43mattention_mask\u001b[49m\u001b[43m,\u001b[49m\n\u001b[1;32m   1682\u001b[0m \u001b[43m    \u001b[49m\u001b[43mdecoder_input_ids\u001b[49m\u001b[38;5;241;43m=\u001b[39;49m\u001b[43mdecoder_input_ids\u001b[49m\u001b[43m,\u001b[49m\n\u001b[1;32m   1683\u001b[0m \u001b[43m    \u001b[49m\u001b[43mencoder_outputs\u001b[49m\u001b[38;5;241;43m=\u001b[39;49m\u001b[43mencoder_outputs\u001b[49m\u001b[43m,\u001b[49m\n\u001b[1;32m   1684\u001b[0m \u001b[43m    \u001b[49m\u001b[43mdecoder_attention_mask\u001b[49m\u001b[38;5;241;43m=\u001b[39;49m\u001b[43mdecoder_attention_mask\u001b[49m\u001b[43m,\u001b[49m\n\u001b[1;32m   1685\u001b[0m \u001b[43m    \u001b[49m\u001b[43mhead_mask\u001b[49m\u001b[38;5;241;43m=\u001b[39;49m\u001b[43mhead_mask\u001b[49m\u001b[43m,\u001b[49m\n\u001b[1;32m   1686\u001b[0m \u001b[43m    \u001b[49m\u001b[43mdecoder_head_mask\u001b[49m\u001b[38;5;241;43m=\u001b[39;49m\u001b[43mdecoder_head_mask\u001b[49m\u001b[43m,\u001b[49m\n\u001b[1;32m   1687\u001b[0m \u001b[43m    \u001b[49m\u001b[43mcross_attn_head_mask\u001b[49m\u001b[38;5;241;43m=\u001b[39;49m\u001b[43mcross_attn_head_mask\u001b[49m\u001b[43m,\u001b[49m\n\u001b[1;32m   1688\u001b[0m \u001b[43m    \u001b[49m\u001b[43mpast_key_values\u001b[49m\u001b[38;5;241;43m=\u001b[39;49m\u001b[43mpast_key_values\u001b[49m\u001b[43m,\u001b[49m\n\u001b[1;32m   1689\u001b[0m \u001b[43m    \u001b[49m\u001b[43mdecoder_inputs_embeds\u001b[49m\u001b[38;5;241;43m=\u001b[39;49m\u001b[43mdecoder_inputs_embeds\u001b[49m\u001b[43m,\u001b[49m\n\u001b[1;32m   1690\u001b[0m \u001b[43m    \u001b[49m\u001b[43muse_cache\u001b[49m\u001b[38;5;241;43m=\u001b[39;49m\u001b[43muse_cache\u001b[49m\u001b[43m,\u001b[49m\n\u001b[1;32m   1691\u001b[0m \u001b[43m    \u001b[49m\u001b[43moutput_attentions\u001b[49m\u001b[38;5;241;43m=\u001b[39;49m\u001b[43moutput_attentions\u001b[49m\u001b[43m,\u001b[49m\n\u001b[1;32m   1692\u001b[0m \u001b[43m    \u001b[49m\u001b[43moutput_hidden_states\u001b[49m\u001b[38;5;241;43m=\u001b[39;49m\u001b[43moutput_hidden_states\u001b[49m\u001b[43m,\u001b[49m\n\u001b[1;32m   1693\u001b[0m \u001b[43m    \u001b[49m\u001b[43mreturn_dict\u001b[49m\u001b[38;5;241;43m=\u001b[39;49m\u001b[43mreturn_dict\u001b[49m\u001b[43m,\u001b[49m\n\u001b[1;32m   1694\u001b[0m \u001b[43m\u001b[49m\u001b[43m)\u001b[49m\n\u001b[1;32m   1695\u001b[0m lm_logits \u001b[38;5;241m=\u001b[39m \u001b[38;5;28mself\u001b[39m\u001b[38;5;241m.\u001b[39mproj_out(outputs[\u001b[38;5;241m0\u001b[39m])\n\u001b[1;32m   1697\u001b[0m loss \u001b[38;5;241m=\u001b[39m \u001b[38;5;28;01mNone\u001b[39;00m\n",
      "File \u001b[0;32m/Users/ujan/opt/anaconda3/envs/asr/lib/python3.10/site-packages/torch/nn/modules/module.py:1501\u001b[0m, in \u001b[0;36mModule._call_impl\u001b[0;34m(self, *args, **kwargs)\u001b[0m\n\u001b[1;32m   1496\u001b[0m \u001b[38;5;66;03m# If we don't have any hooks, we want to skip the rest of the logic in\u001b[39;00m\n\u001b[1;32m   1497\u001b[0m \u001b[38;5;66;03m# this function, and just call forward.\u001b[39;00m\n\u001b[1;32m   1498\u001b[0m \u001b[38;5;28;01mif\u001b[39;00m \u001b[38;5;129;01mnot\u001b[39;00m (\u001b[38;5;28mself\u001b[39m\u001b[38;5;241m.\u001b[39m_backward_hooks \u001b[38;5;129;01mor\u001b[39;00m \u001b[38;5;28mself\u001b[39m\u001b[38;5;241m.\u001b[39m_backward_pre_hooks \u001b[38;5;129;01mor\u001b[39;00m \u001b[38;5;28mself\u001b[39m\u001b[38;5;241m.\u001b[39m_forward_hooks \u001b[38;5;129;01mor\u001b[39;00m \u001b[38;5;28mself\u001b[39m\u001b[38;5;241m.\u001b[39m_forward_pre_hooks\n\u001b[1;32m   1499\u001b[0m         \u001b[38;5;129;01mor\u001b[39;00m _global_backward_pre_hooks \u001b[38;5;129;01mor\u001b[39;00m _global_backward_hooks\n\u001b[1;32m   1500\u001b[0m         \u001b[38;5;129;01mor\u001b[39;00m _global_forward_hooks \u001b[38;5;129;01mor\u001b[39;00m _global_forward_pre_hooks):\n\u001b[0;32m-> 1501\u001b[0m     \u001b[38;5;28;01mreturn\u001b[39;00m \u001b[43mforward_call\u001b[49m\u001b[43m(\u001b[49m\u001b[38;5;241;43m*\u001b[39;49m\u001b[43margs\u001b[49m\u001b[43m,\u001b[49m\u001b[43m \u001b[49m\u001b[38;5;241;43m*\u001b[39;49m\u001b[38;5;241;43m*\u001b[39;49m\u001b[43mkwargs\u001b[49m\u001b[43m)\u001b[49m\n\u001b[1;32m   1502\u001b[0m \u001b[38;5;66;03m# Do not call functions when jit is used\u001b[39;00m\n\u001b[1;32m   1503\u001b[0m full_backward_hooks, non_full_backward_hooks \u001b[38;5;241m=\u001b[39m [], []\n",
      "File \u001b[0;32m/Users/ujan/speech-processing/experiments/notebooks/whisper_pt_prune.py:1498\u001b[0m, in \u001b[0;36mWhisperModel.forward\u001b[0;34m(self, input_features, attention_mask, decoder_input_ids, decoder_attention_mask, head_mask, decoder_head_mask, cross_attn_head_mask, encoder_outputs, past_key_values, decoder_inputs_embeds, use_cache, output_attentions, output_hidden_states, return_dict)\u001b[0m\n\u001b[1;32m   1491\u001b[0m     encoder_outputs \u001b[38;5;241m=\u001b[39m BaseModelOutput(\n\u001b[1;32m   1492\u001b[0m         last_hidden_state\u001b[38;5;241m=\u001b[39mencoder_outputs[\u001b[38;5;241m0\u001b[39m],\n\u001b[1;32m   1493\u001b[0m         hidden_states\u001b[38;5;241m=\u001b[39mencoder_outputs[\u001b[38;5;241m1\u001b[39m] \u001b[38;5;28;01mif\u001b[39;00m \u001b[38;5;28mlen\u001b[39m(encoder_outputs) \u001b[38;5;241m>\u001b[39m \u001b[38;5;241m1\u001b[39m \u001b[38;5;28;01melse\u001b[39;00m \u001b[38;5;28;01mNone\u001b[39;00m,\n\u001b[1;32m   1494\u001b[0m         attentions\u001b[38;5;241m=\u001b[39mencoder_outputs[\u001b[38;5;241m2\u001b[39m] \u001b[38;5;28;01mif\u001b[39;00m \u001b[38;5;28mlen\u001b[39m(encoder_outputs) \u001b[38;5;241m>\u001b[39m \u001b[38;5;241m2\u001b[39m \u001b[38;5;28;01melse\u001b[39;00m \u001b[38;5;28;01mNone\u001b[39;00m,\n\u001b[1;32m   1495\u001b[0m     )\n\u001b[1;32m   1497\u001b[0m \u001b[38;5;66;03m# decoder outputs consists of (dec_features, past_key_value, dec_hidden, dec_attn)\u001b[39;00m\n\u001b[0;32m-> 1498\u001b[0m decoder_outputs \u001b[38;5;241m=\u001b[39m \u001b[38;5;28;43mself\u001b[39;49m\u001b[38;5;241;43m.\u001b[39;49m\u001b[43mdecoder\u001b[49m\u001b[43m(\u001b[49m\n\u001b[1;32m   1499\u001b[0m \u001b[43m    \u001b[49m\u001b[43minput_ids\u001b[49m\u001b[38;5;241;43m=\u001b[39;49m\u001b[43mdecoder_input_ids\u001b[49m\u001b[43m,\u001b[49m\n\u001b[1;32m   1500\u001b[0m \u001b[43m    \u001b[49m\u001b[43mattention_mask\u001b[49m\u001b[38;5;241;43m=\u001b[39;49m\u001b[43mdecoder_attention_mask\u001b[49m\u001b[43m,\u001b[49m\n\u001b[1;32m   1501\u001b[0m \u001b[43m    \u001b[49m\u001b[43mencoder_hidden_states\u001b[49m\u001b[38;5;241;43m=\u001b[39;49m\u001b[43mencoder_outputs\u001b[49m\u001b[43m[\u001b[49m\u001b[38;5;241;43m0\u001b[39;49m\u001b[43m]\u001b[49m\u001b[43m,\u001b[49m\n\u001b[1;32m   1502\u001b[0m \u001b[43m    \u001b[49m\u001b[43mhead_mask\u001b[49m\u001b[38;5;241;43m=\u001b[39;49m\u001b[43mdecoder_head_mask\u001b[49m\u001b[43m,\u001b[49m\n\u001b[1;32m   1503\u001b[0m \u001b[43m    \u001b[49m\u001b[43mcross_attn_head_mask\u001b[49m\u001b[38;5;241;43m=\u001b[39;49m\u001b[43mcross_attn_head_mask\u001b[49m\u001b[43m,\u001b[49m\n\u001b[1;32m   1504\u001b[0m \u001b[43m    \u001b[49m\u001b[43mpast_key_values\u001b[49m\u001b[38;5;241;43m=\u001b[39;49m\u001b[43mpast_key_values\u001b[49m\u001b[43m,\u001b[49m\n\u001b[1;32m   1505\u001b[0m \u001b[43m    \u001b[49m\u001b[43minputs_embeds\u001b[49m\u001b[38;5;241;43m=\u001b[39;49m\u001b[43mdecoder_inputs_embeds\u001b[49m\u001b[43m,\u001b[49m\n\u001b[1;32m   1506\u001b[0m \u001b[43m    \u001b[49m\u001b[43muse_cache\u001b[49m\u001b[38;5;241;43m=\u001b[39;49m\u001b[43muse_cache\u001b[49m\u001b[43m,\u001b[49m\n\u001b[1;32m   1507\u001b[0m \u001b[43m    \u001b[49m\u001b[43moutput_attentions\u001b[49m\u001b[38;5;241;43m=\u001b[39;49m\u001b[43moutput_attentions\u001b[49m\u001b[43m,\u001b[49m\n\u001b[1;32m   1508\u001b[0m \u001b[43m    \u001b[49m\u001b[43moutput_hidden_states\u001b[49m\u001b[38;5;241;43m=\u001b[39;49m\u001b[43moutput_hidden_states\u001b[49m\u001b[43m,\u001b[49m\n\u001b[1;32m   1509\u001b[0m \u001b[43m    \u001b[49m\u001b[43mreturn_dict\u001b[49m\u001b[38;5;241;43m=\u001b[39;49m\u001b[43mreturn_dict\u001b[49m\u001b[43m,\u001b[49m\n\u001b[1;32m   1510\u001b[0m \u001b[43m\u001b[49m\u001b[43m)\u001b[49m\n\u001b[1;32m   1512\u001b[0m \u001b[38;5;28;01mif\u001b[39;00m \u001b[38;5;129;01mnot\u001b[39;00m return_dict:\n\u001b[1;32m   1513\u001b[0m     \u001b[38;5;28;01mreturn\u001b[39;00m decoder_outputs \u001b[38;5;241m+\u001b[39m encoder_outputs\n",
      "File \u001b[0;32m/Users/ujan/opt/anaconda3/envs/asr/lib/python3.10/site-packages/torch/nn/modules/module.py:1501\u001b[0m, in \u001b[0;36mModule._call_impl\u001b[0;34m(self, *args, **kwargs)\u001b[0m\n\u001b[1;32m   1496\u001b[0m \u001b[38;5;66;03m# If we don't have any hooks, we want to skip the rest of the logic in\u001b[39;00m\n\u001b[1;32m   1497\u001b[0m \u001b[38;5;66;03m# this function, and just call forward.\u001b[39;00m\n\u001b[1;32m   1498\u001b[0m \u001b[38;5;28;01mif\u001b[39;00m \u001b[38;5;129;01mnot\u001b[39;00m (\u001b[38;5;28mself\u001b[39m\u001b[38;5;241m.\u001b[39m_backward_hooks \u001b[38;5;129;01mor\u001b[39;00m \u001b[38;5;28mself\u001b[39m\u001b[38;5;241m.\u001b[39m_backward_pre_hooks \u001b[38;5;129;01mor\u001b[39;00m \u001b[38;5;28mself\u001b[39m\u001b[38;5;241m.\u001b[39m_forward_hooks \u001b[38;5;129;01mor\u001b[39;00m \u001b[38;5;28mself\u001b[39m\u001b[38;5;241m.\u001b[39m_forward_pre_hooks\n\u001b[1;32m   1499\u001b[0m         \u001b[38;5;129;01mor\u001b[39;00m _global_backward_pre_hooks \u001b[38;5;129;01mor\u001b[39;00m _global_backward_hooks\n\u001b[1;32m   1500\u001b[0m         \u001b[38;5;129;01mor\u001b[39;00m _global_forward_hooks \u001b[38;5;129;01mor\u001b[39;00m _global_forward_pre_hooks):\n\u001b[0;32m-> 1501\u001b[0m     \u001b[38;5;28;01mreturn\u001b[39;00m \u001b[43mforward_call\u001b[49m\u001b[43m(\u001b[49m\u001b[38;5;241;43m*\u001b[39;49m\u001b[43margs\u001b[49m\u001b[43m,\u001b[49m\u001b[43m \u001b[49m\u001b[38;5;241;43m*\u001b[39;49m\u001b[38;5;241;43m*\u001b[39;49m\u001b[43mkwargs\u001b[49m\u001b[43m)\u001b[49m\n\u001b[1;32m   1502\u001b[0m \u001b[38;5;66;03m# Do not call functions when jit is used\u001b[39;00m\n\u001b[1;32m   1503\u001b[0m full_backward_hooks, non_full_backward_hooks \u001b[38;5;241m=\u001b[39m [], []\n",
      "File \u001b[0;32m/Users/ujan/speech-processing/experiments/notebooks/whisper_pt_prune.py:1315\u001b[0m, in \u001b[0;36mWhisperDecoder.forward\u001b[0;34m(self, input_ids, attention_mask, encoder_hidden_states, head_mask, cross_attn_head_mask, past_key_values, inputs_embeds, use_cache, output_attentions, output_hidden_states, return_dict)\u001b[0m\n\u001b[1;32m   1304\u001b[0m     layer_outputs \u001b[38;5;241m=\u001b[39m torch\u001b[38;5;241m.\u001b[39mutils\u001b[38;5;241m.\u001b[39mcheckpoint\u001b[38;5;241m.\u001b[39mcheckpoint(\n\u001b[1;32m   1305\u001b[0m         create_custom_forward(decoder_layer),\n\u001b[1;32m   1306\u001b[0m         hidden_states,\n\u001b[0;32m   (...)\u001b[0m\n\u001b[1;32m   1312\u001b[0m         \u001b[38;5;28;01mNone\u001b[39;00m,  \u001b[38;5;66;03m# past_key_value\u001b[39;00m\n\u001b[1;32m   1313\u001b[0m     )\n\u001b[1;32m   1314\u001b[0m \u001b[38;5;28;01melse\u001b[39;00m:\n\u001b[0;32m-> 1315\u001b[0m     layer_outputs \u001b[38;5;241m=\u001b[39m \u001b[43mdecoder_layer\u001b[49m\u001b[43m(\u001b[49m\n\u001b[1;32m   1316\u001b[0m \u001b[43m        \u001b[49m\u001b[43mhidden_states\u001b[49m\u001b[43m,\u001b[49m\n\u001b[1;32m   1317\u001b[0m \u001b[43m        \u001b[49m\u001b[43mattention_mask\u001b[49m\u001b[38;5;241;43m=\u001b[39;49m\u001b[43mattention_mask\u001b[49m\u001b[43m,\u001b[49m\n\u001b[1;32m   1318\u001b[0m \u001b[43m        \u001b[49m\u001b[43mencoder_hidden_states\u001b[49m\u001b[38;5;241;43m=\u001b[39;49m\u001b[43mencoder_hidden_states\u001b[49m\u001b[43m,\u001b[49m\n\u001b[1;32m   1319\u001b[0m \u001b[43m        \u001b[49m\u001b[43mlayer_head_mask\u001b[49m\u001b[38;5;241;43m=\u001b[39;49m\u001b[43m(\u001b[49m\u001b[43mhead_mask\u001b[49m\u001b[43m[\u001b[49m\u001b[43midx\u001b[49m\u001b[43m]\u001b[49m\u001b[43m \u001b[49m\u001b[38;5;28;43;01mif\u001b[39;49;00m\u001b[43m \u001b[49m\u001b[43mhead_mask\u001b[49m\u001b[43m \u001b[49m\u001b[38;5;129;43;01mis\u001b[39;49;00m\u001b[43m \u001b[49m\u001b[38;5;129;43;01mnot\u001b[39;49;00m\u001b[43m \u001b[49m\u001b[38;5;28;43;01mNone\u001b[39;49;00m\u001b[43m \u001b[49m\u001b[38;5;28;43;01melse\u001b[39;49;00m\u001b[43m \u001b[49m\u001b[38;5;28;43;01mNone\u001b[39;49;00m\u001b[43m)\u001b[49m\u001b[43m,\u001b[49m\n\u001b[1;32m   1320\u001b[0m \u001b[43m        \u001b[49m\u001b[43mcross_attn_layer_head_mask\u001b[49m\u001b[38;5;241;43m=\u001b[39;49m\u001b[43m(\u001b[49m\n\u001b[1;32m   1321\u001b[0m \u001b[43m            \u001b[49m\u001b[43mcross_attn_head_mask\u001b[49m\u001b[43m[\u001b[49m\u001b[43midx\u001b[49m\u001b[43m]\u001b[49m\u001b[43m \u001b[49m\u001b[38;5;28;43;01mif\u001b[39;49;00m\u001b[43m \u001b[49m\u001b[43mcross_attn_head_mask\u001b[49m\u001b[43m \u001b[49m\u001b[38;5;129;43;01mis\u001b[39;49;00m\u001b[43m \u001b[49m\u001b[38;5;129;43;01mnot\u001b[39;49;00m\u001b[43m \u001b[49m\u001b[38;5;28;43;01mNone\u001b[39;49;00m\u001b[43m \u001b[49m\u001b[38;5;28;43;01melse\u001b[39;49;00m\u001b[43m \u001b[49m\u001b[38;5;28;43;01mNone\u001b[39;49;00m\n\u001b[1;32m   1322\u001b[0m \u001b[43m        \u001b[49m\u001b[43m)\u001b[49m\u001b[43m,\u001b[49m\n\u001b[1;32m   1323\u001b[0m \u001b[43m        \u001b[49m\u001b[43mpast_key_value\u001b[49m\u001b[38;5;241;43m=\u001b[39;49m\u001b[43mpast_key_value\u001b[49m\u001b[43m,\u001b[49m\n\u001b[1;32m   1324\u001b[0m \u001b[43m        \u001b[49m\u001b[43moutput_attentions\u001b[49m\u001b[38;5;241;43m=\u001b[39;49m\u001b[43moutput_attentions\u001b[49m\u001b[43m,\u001b[49m\n\u001b[1;32m   1325\u001b[0m \u001b[43m        \u001b[49m\u001b[43muse_cache\u001b[49m\u001b[38;5;241;43m=\u001b[39;49m\u001b[43muse_cache\u001b[49m\u001b[43m,\u001b[49m\n\u001b[1;32m   1326\u001b[0m \u001b[43m    \u001b[49m\u001b[43m)\u001b[49m\n\u001b[1;32m   1327\u001b[0m hidden_states \u001b[38;5;241m=\u001b[39m layer_outputs[\u001b[38;5;241m0\u001b[39m]\n\u001b[1;32m   1329\u001b[0m \u001b[38;5;28;01mif\u001b[39;00m use_cache:\n",
      "File \u001b[0;32m/Users/ujan/opt/anaconda3/envs/asr/lib/python3.10/site-packages/torch/nn/modules/module.py:1501\u001b[0m, in \u001b[0;36mModule._call_impl\u001b[0;34m(self, *args, **kwargs)\u001b[0m\n\u001b[1;32m   1496\u001b[0m \u001b[38;5;66;03m# If we don't have any hooks, we want to skip the rest of the logic in\u001b[39;00m\n\u001b[1;32m   1497\u001b[0m \u001b[38;5;66;03m# this function, and just call forward.\u001b[39;00m\n\u001b[1;32m   1498\u001b[0m \u001b[38;5;28;01mif\u001b[39;00m \u001b[38;5;129;01mnot\u001b[39;00m (\u001b[38;5;28mself\u001b[39m\u001b[38;5;241m.\u001b[39m_backward_hooks \u001b[38;5;129;01mor\u001b[39;00m \u001b[38;5;28mself\u001b[39m\u001b[38;5;241m.\u001b[39m_backward_pre_hooks \u001b[38;5;129;01mor\u001b[39;00m \u001b[38;5;28mself\u001b[39m\u001b[38;5;241m.\u001b[39m_forward_hooks \u001b[38;5;129;01mor\u001b[39;00m \u001b[38;5;28mself\u001b[39m\u001b[38;5;241m.\u001b[39m_forward_pre_hooks\n\u001b[1;32m   1499\u001b[0m         \u001b[38;5;129;01mor\u001b[39;00m _global_backward_pre_hooks \u001b[38;5;129;01mor\u001b[39;00m _global_backward_hooks\n\u001b[1;32m   1500\u001b[0m         \u001b[38;5;129;01mor\u001b[39;00m _global_forward_hooks \u001b[38;5;129;01mor\u001b[39;00m _global_forward_pre_hooks):\n\u001b[0;32m-> 1501\u001b[0m     \u001b[38;5;28;01mreturn\u001b[39;00m \u001b[43mforward_call\u001b[49m\u001b[43m(\u001b[49m\u001b[38;5;241;43m*\u001b[39;49m\u001b[43margs\u001b[49m\u001b[43m,\u001b[49m\u001b[43m \u001b[49m\u001b[38;5;241;43m*\u001b[39;49m\u001b[38;5;241;43m*\u001b[39;49m\u001b[43mkwargs\u001b[49m\u001b[43m)\u001b[49m\n\u001b[1;32m   1502\u001b[0m \u001b[38;5;66;03m# Do not call functions when jit is used\u001b[39;00m\n\u001b[1;32m   1503\u001b[0m full_backward_hooks, non_full_backward_hooks \u001b[38;5;241m=\u001b[39m [], []\n",
      "File \u001b[0;32m/Users/ujan/speech-processing/experiments/notebooks/whisper_pt_prune.py:773\u001b[0m, in \u001b[0;36mWhisperDecoderLayer.forward\u001b[0;34m(self, hidden_states, attention_mask, encoder_hidden_states, encoder_attention_mask, layer_head_mask, cross_attn_layer_head_mask, past_key_value, output_attentions, use_cache)\u001b[0m\n\u001b[1;32m    771\u001b[0m residual \u001b[38;5;241m=\u001b[39m hidden_states\n\u001b[1;32m    772\u001b[0m hidden_states \u001b[38;5;241m=\u001b[39m \u001b[38;5;28mself\u001b[39m\u001b[38;5;241m.\u001b[39mfinal_layer_norm(hidden_states)\n\u001b[0;32m--> 773\u001b[0m hidden_states \u001b[38;5;241m=\u001b[39m \u001b[38;5;28mself\u001b[39m\u001b[38;5;241m.\u001b[39mactivation_fn(\u001b[38;5;28;43mself\u001b[39;49m\u001b[38;5;241;43m.\u001b[39;49m\u001b[43mfc1\u001b[49m\u001b[43m(\u001b[49m\u001b[43mhidden_states\u001b[49m\u001b[43m)\u001b[49m)\n\u001b[1;32m    774\u001b[0m hidden_states \u001b[38;5;241m=\u001b[39m nn\u001b[38;5;241m.\u001b[39mfunctional\u001b[38;5;241m.\u001b[39mdropout(hidden_states, p\u001b[38;5;241m=\u001b[39m\u001b[38;5;28mself\u001b[39m\u001b[38;5;241m.\u001b[39mactivation_dropout, training\u001b[38;5;241m=\u001b[39m\u001b[38;5;28mself\u001b[39m\u001b[38;5;241m.\u001b[39mtraining)\n\u001b[1;32m    775\u001b[0m hidden_states \u001b[38;5;241m=\u001b[39m \u001b[38;5;28mself\u001b[39m\u001b[38;5;241m.\u001b[39mfc2(hidden_states)\n",
      "File \u001b[0;32m/Users/ujan/opt/anaconda3/envs/asr/lib/python3.10/site-packages/torch/nn/modules/module.py:1501\u001b[0m, in \u001b[0;36mModule._call_impl\u001b[0;34m(self, *args, **kwargs)\u001b[0m\n\u001b[1;32m   1496\u001b[0m \u001b[38;5;66;03m# If we don't have any hooks, we want to skip the rest of the logic in\u001b[39;00m\n\u001b[1;32m   1497\u001b[0m \u001b[38;5;66;03m# this function, and just call forward.\u001b[39;00m\n\u001b[1;32m   1498\u001b[0m \u001b[38;5;28;01mif\u001b[39;00m \u001b[38;5;129;01mnot\u001b[39;00m (\u001b[38;5;28mself\u001b[39m\u001b[38;5;241m.\u001b[39m_backward_hooks \u001b[38;5;129;01mor\u001b[39;00m \u001b[38;5;28mself\u001b[39m\u001b[38;5;241m.\u001b[39m_backward_pre_hooks \u001b[38;5;129;01mor\u001b[39;00m \u001b[38;5;28mself\u001b[39m\u001b[38;5;241m.\u001b[39m_forward_hooks \u001b[38;5;129;01mor\u001b[39;00m \u001b[38;5;28mself\u001b[39m\u001b[38;5;241m.\u001b[39m_forward_pre_hooks\n\u001b[1;32m   1499\u001b[0m         \u001b[38;5;129;01mor\u001b[39;00m _global_backward_pre_hooks \u001b[38;5;129;01mor\u001b[39;00m _global_backward_hooks\n\u001b[1;32m   1500\u001b[0m         \u001b[38;5;129;01mor\u001b[39;00m _global_forward_hooks \u001b[38;5;129;01mor\u001b[39;00m _global_forward_pre_hooks):\n\u001b[0;32m-> 1501\u001b[0m     \u001b[38;5;28;01mreturn\u001b[39;00m \u001b[43mforward_call\u001b[49m\u001b[43m(\u001b[49m\u001b[38;5;241;43m*\u001b[39;49m\u001b[43margs\u001b[49m\u001b[43m,\u001b[49m\u001b[43m \u001b[49m\u001b[38;5;241;43m*\u001b[39;49m\u001b[38;5;241;43m*\u001b[39;49m\u001b[43mkwargs\u001b[49m\u001b[43m)\u001b[49m\n\u001b[1;32m   1502\u001b[0m \u001b[38;5;66;03m# Do not call functions when jit is used\u001b[39;00m\n\u001b[1;32m   1503\u001b[0m full_backward_hooks, non_full_backward_hooks \u001b[38;5;241m=\u001b[39m [], []\n",
      "File \u001b[0;32m/Users/ujan/opt/anaconda3/envs/asr/lib/python3.10/site-packages/torch/nn/modules/linear.py:114\u001b[0m, in \u001b[0;36mLinear.forward\u001b[0;34m(self, input)\u001b[0m\n\u001b[1;32m    113\u001b[0m \u001b[38;5;28;01mdef\u001b[39;00m \u001b[38;5;21mforward\u001b[39m(\u001b[38;5;28mself\u001b[39m, \u001b[38;5;28minput\u001b[39m: Tensor) \u001b[38;5;241m-\u001b[39m\u001b[38;5;241m>\u001b[39m Tensor:\n\u001b[0;32m--> 114\u001b[0m     \u001b[38;5;28;01mreturn\u001b[39;00m \u001b[43mF\u001b[49m\u001b[38;5;241;43m.\u001b[39;49m\u001b[43mlinear\u001b[49m\u001b[43m(\u001b[49m\u001b[38;5;28;43minput\u001b[39;49m\u001b[43m,\u001b[49m\u001b[43m \u001b[49m\u001b[38;5;28;43mself\u001b[39;49m\u001b[38;5;241;43m.\u001b[39;49m\u001b[43mweight\u001b[49m\u001b[43m,\u001b[49m\u001b[43m \u001b[49m\u001b[38;5;28;43mself\u001b[39;49m\u001b[38;5;241;43m.\u001b[39;49m\u001b[43mbias\u001b[49m\u001b[43m)\u001b[49m\n",
      "\u001b[0;31mKeyboardInterrupt\u001b[0m: "
     ]
    }
   ],
   "source": [
    "%timeit output_ids = model.generate(input_features)"
   ]
  },
  {
   "cell_type": "code",
   "execution_count": 6,
   "id": "ec0b6e74",
   "metadata": {},
   "outputs": [],
   "source": [
    "from torch.ao.quantization import get_default_qconfig\n",
    "from quantize_fx import prepare_fx, convert_fx\n",
    "from torch.ao.quantization import QConfigMapping"
   ]
  },
  {
   "cell_type": "code",
   "execution_count": 7,
   "id": "229c0a3c",
   "metadata": {},
   "outputs": [],
   "source": [
    "qconfig = get_default_qconfig(\"x86\")\n",
    "qconfig_mapping = QConfigMapping().set_global(qconfig)"
   ]
  },
  {
   "cell_type": "code",
   "execution_count": 8,
   "id": "d020617b",
   "metadata": {},
   "outputs": [],
   "source": [
    "example_inputs = (input_features, attention_mask, decoder_input_ids)"
   ]
  },
  {
   "cell_type": "code",
   "execution_count": 9,
   "id": "e3c310d3",
   "metadata": {
    "collapsed": true
   },
   "outputs": [
    {
     "name": "stderr",
     "output_type": "stream",
     "text": [
      "/Users/ujan/opt/anaconda3/envs/asr/lib/python3.10/site-packages/torch/ao/quantization/observer.py:214: UserWarning: Please use quant_min and quant_max to specify the range for observers.                     reduce_range will be deprecated in a future release of PyTorch.\n",
      "  warnings.warn(\n"
     ]
    },
    {
     "data": {
      "text/plain": [
       "GraphModule(\n",
       "  (activation_post_process_0): HistogramObserver(min_val=inf, max_val=-inf)\n",
       "  (activation_post_process_1): HistogramObserver(min_val=inf, max_val=-inf)\n",
       "  (model): Module(\n",
       "    (decoder): Module(\n",
       "      (embed_tokens): Embedding(51865, 768, padding_idx=50257)\n",
       "      (embed_positions): Module()\n",
       "      (layers): Module(\n",
       "        (0): Module(\n",
       "          (self_attn_layer_norm): LayerNorm((768,), eps=1e-05, elementwise_affine=True)\n",
       "          (self_attn): Module(\n",
       "            (q_proj): Linear(in_features=768, out_features=768, bias=True)\n",
       "            (k_proj): Linear(in_features=768, out_features=768, bias=False)\n",
       "            (v_proj): Linear(in_features=768, out_features=768, bias=True)\n",
       "            (out_proj): Linear(in_features=768, out_features=768, bias=True)\n",
       "          )\n",
       "          (encoder_attn_layer_norm): LayerNorm((768,), eps=1e-05, elementwise_affine=True)\n",
       "          (encoder_attn): Module(\n",
       "            (q_proj): Linear(in_features=768, out_features=768, bias=True)\n",
       "            (out_proj): Linear(in_features=768, out_features=768, bias=True)\n",
       "          )\n",
       "          (final_layer_norm): LayerNorm((768,), eps=1e-05, elementwise_affine=True)\n",
       "          (fc1): Linear(in_features=768, out_features=3072, bias=True)\n",
       "          (fc2): Linear(in_features=3072, out_features=768, bias=True)\n",
       "        )\n",
       "        (1): Module(\n",
       "          (self_attn_layer_norm): LayerNorm((768,), eps=1e-05, elementwise_affine=True)\n",
       "          (self_attn): Module(\n",
       "            (q_proj): Linear(in_features=768, out_features=768, bias=True)\n",
       "            (k_proj): Linear(in_features=768, out_features=768, bias=False)\n",
       "            (v_proj): Linear(in_features=768, out_features=768, bias=True)\n",
       "            (out_proj): Linear(in_features=768, out_features=768, bias=True)\n",
       "          )\n",
       "          (encoder_attn_layer_norm): LayerNorm((768,), eps=1e-05, elementwise_affine=True)\n",
       "          (encoder_attn): Module(\n",
       "            (q_proj): Linear(in_features=768, out_features=768, bias=True)\n",
       "            (out_proj): Linear(in_features=768, out_features=768, bias=True)\n",
       "          )\n",
       "          (final_layer_norm): LayerNorm((768,), eps=1e-05, elementwise_affine=True)\n",
       "          (fc1): Linear(in_features=768, out_features=3072, bias=True)\n",
       "          (fc2): Linear(in_features=3072, out_features=768, bias=True)\n",
       "        )\n",
       "        (2): Module(\n",
       "          (self_attn_layer_norm): LayerNorm((768,), eps=1e-05, elementwise_affine=True)\n",
       "          (self_attn): Module(\n",
       "            (q_proj): Linear(in_features=768, out_features=768, bias=True)\n",
       "            (k_proj): Linear(in_features=768, out_features=768, bias=False)\n",
       "            (v_proj): Linear(in_features=768, out_features=768, bias=True)\n",
       "            (out_proj): Linear(in_features=768, out_features=768, bias=True)\n",
       "          )\n",
       "          (encoder_attn_layer_norm): LayerNorm((768,), eps=1e-05, elementwise_affine=True)\n",
       "          (encoder_attn): Module(\n",
       "            (q_proj): Linear(in_features=768, out_features=768, bias=True)\n",
       "            (out_proj): Linear(in_features=768, out_features=768, bias=True)\n",
       "          )\n",
       "          (final_layer_norm): LayerNorm((768,), eps=1e-05, elementwise_affine=True)\n",
       "          (fc1): Linear(in_features=768, out_features=3072, bias=True)\n",
       "          (fc2): Linear(in_features=3072, out_features=768, bias=True)\n",
       "        )\n",
       "        (3): Module(\n",
       "          (self_attn_layer_norm): LayerNorm((768,), eps=1e-05, elementwise_affine=True)\n",
       "          (self_attn): Module(\n",
       "            (q_proj): Linear(in_features=768, out_features=768, bias=True)\n",
       "            (k_proj): Linear(in_features=768, out_features=768, bias=False)\n",
       "            (v_proj): Linear(in_features=768, out_features=768, bias=True)\n",
       "            (out_proj): Linear(in_features=768, out_features=768, bias=True)\n",
       "          )\n",
       "          (encoder_attn_layer_norm): LayerNorm((768,), eps=1e-05, elementwise_affine=True)\n",
       "          (encoder_attn): Module(\n",
       "            (q_proj): Linear(in_features=768, out_features=768, bias=True)\n",
       "            (out_proj): Linear(in_features=768, out_features=768, bias=True)\n",
       "          )\n",
       "          (final_layer_norm): LayerNorm((768,), eps=1e-05, elementwise_affine=True)\n",
       "          (fc1): Linear(in_features=768, out_features=3072, bias=True)\n",
       "          (fc2): Linear(in_features=3072, out_features=768, bias=True)\n",
       "        )\n",
       "        (4): Module(\n",
       "          (self_attn_layer_norm): LayerNorm((768,), eps=1e-05, elementwise_affine=True)\n",
       "          (self_attn): Module(\n",
       "            (q_proj): Linear(in_features=768, out_features=768, bias=True)\n",
       "            (k_proj): Linear(in_features=768, out_features=768, bias=False)\n",
       "            (v_proj): Linear(in_features=768, out_features=768, bias=True)\n",
       "            (out_proj): Linear(in_features=768, out_features=768, bias=True)\n",
       "          )\n",
       "          (encoder_attn_layer_norm): LayerNorm((768,), eps=1e-05, elementwise_affine=True)\n",
       "          (encoder_attn): Module(\n",
       "            (q_proj): Linear(in_features=768, out_features=768, bias=True)\n",
       "            (out_proj): Linear(in_features=768, out_features=768, bias=True)\n",
       "          )\n",
       "          (final_layer_norm): LayerNorm((768,), eps=1e-05, elementwise_affine=True)\n",
       "          (fc1): Linear(in_features=768, out_features=3072, bias=True)\n",
       "          (fc2): Linear(in_features=3072, out_features=768, bias=True)\n",
       "        )\n",
       "        (5): Module(\n",
       "          (self_attn_layer_norm): LayerNorm((768,), eps=1e-05, elementwise_affine=True)\n",
       "          (self_attn): Module(\n",
       "            (q_proj): Linear(in_features=768, out_features=768, bias=True)\n",
       "            (k_proj): Linear(in_features=768, out_features=768, bias=False)\n",
       "            (v_proj): Linear(in_features=768, out_features=768, bias=True)\n",
       "            (out_proj): Linear(in_features=768, out_features=768, bias=True)\n",
       "          )\n",
       "          (encoder_attn_layer_norm): LayerNorm((768,), eps=1e-05, elementwise_affine=True)\n",
       "          (encoder_attn): Module(\n",
       "            (q_proj): Linear(in_features=768, out_features=768, bias=True)\n",
       "            (out_proj): Linear(in_features=768, out_features=768, bias=True)\n",
       "          )\n",
       "          (final_layer_norm): LayerNorm((768,), eps=1e-05, elementwise_affine=True)\n",
       "          (fc1): Linear(in_features=768, out_features=3072, bias=True)\n",
       "          (fc2): Linear(in_features=3072, out_features=768, bias=True)\n",
       "        )\n",
       "        (6): Module(\n",
       "          (self_attn_layer_norm): LayerNorm((768,), eps=1e-05, elementwise_affine=True)\n",
       "          (self_attn): Module(\n",
       "            (q_proj): Linear(in_features=768, out_features=768, bias=True)\n",
       "            (k_proj): Linear(in_features=768, out_features=768, bias=False)\n",
       "            (v_proj): Linear(in_features=768, out_features=768, bias=True)\n",
       "            (out_proj): Linear(in_features=768, out_features=768, bias=True)\n",
       "          )\n",
       "          (encoder_attn_layer_norm): LayerNorm((768,), eps=1e-05, elementwise_affine=True)\n",
       "          (encoder_attn): Module(\n",
       "            (q_proj): Linear(in_features=768, out_features=768, bias=True)\n",
       "            (out_proj): Linear(in_features=768, out_features=768, bias=True)\n",
       "          )\n",
       "          (final_layer_norm): LayerNorm((768,), eps=1e-05, elementwise_affine=True)\n",
       "          (fc1): Linear(in_features=768, out_features=3072, bias=True)\n",
       "          (fc2): Linear(in_features=3072, out_features=768, bias=True)\n",
       "        )\n",
       "        (7): Module(\n",
       "          (self_attn_layer_norm): LayerNorm((768,), eps=1e-05, elementwise_affine=True)\n",
       "          (self_attn): Module(\n",
       "            (q_proj): Linear(in_features=768, out_features=768, bias=True)\n",
       "            (k_proj): Linear(in_features=768, out_features=768, bias=False)\n",
       "            (v_proj): Linear(in_features=768, out_features=768, bias=True)\n",
       "            (out_proj): Linear(in_features=768, out_features=768, bias=True)\n",
       "          )\n",
       "          (encoder_attn_layer_norm): LayerNorm((768,), eps=1e-05, elementwise_affine=True)\n",
       "          (encoder_attn): Module(\n",
       "            (q_proj): Linear(in_features=768, out_features=768, bias=True)\n",
       "            (out_proj): Linear(in_features=768, out_features=768, bias=True)\n",
       "          )\n",
       "          (final_layer_norm): LayerNorm((768,), eps=1e-05, elementwise_affine=True)\n",
       "          (fc1): Linear(in_features=768, out_features=3072, bias=True)\n",
       "          (fc2): Linear(in_features=3072, out_features=768, bias=True)\n",
       "        )\n",
       "        (8): Module(\n",
       "          (self_attn_layer_norm): LayerNorm((768,), eps=1e-05, elementwise_affine=True)\n",
       "          (self_attn): Module(\n",
       "            (q_proj): Linear(in_features=768, out_features=768, bias=True)\n",
       "            (k_proj): Linear(in_features=768, out_features=768, bias=False)\n",
       "            (v_proj): Linear(in_features=768, out_features=768, bias=True)\n",
       "            (out_proj): Linear(in_features=768, out_features=768, bias=True)\n",
       "          )\n",
       "          (encoder_attn_layer_norm): LayerNorm((768,), eps=1e-05, elementwise_affine=True)\n",
       "          (encoder_attn): Module(\n",
       "            (q_proj): Linear(in_features=768, out_features=768, bias=True)\n",
       "            (out_proj): Linear(in_features=768, out_features=768, bias=True)\n",
       "          )\n",
       "          (final_layer_norm): LayerNorm((768,), eps=1e-05, elementwise_affine=True)\n",
       "          (fc1): Linear(in_features=768, out_features=3072, bias=True)\n",
       "          (fc2): Linear(in_features=3072, out_features=768, bias=True)\n",
       "        )\n",
       "        (9): Module(\n",
       "          (self_attn_layer_norm): LayerNorm((768,), eps=1e-05, elementwise_affine=True)\n",
       "          (self_attn): Module(\n",
       "            (q_proj): Linear(in_features=768, out_features=768, bias=True)\n",
       "            (k_proj): Linear(in_features=768, out_features=768, bias=False)\n",
       "            (v_proj): Linear(in_features=768, out_features=768, bias=True)\n",
       "            (out_proj): Linear(in_features=768, out_features=768, bias=True)\n",
       "          )\n",
       "          (encoder_attn_layer_norm): LayerNorm((768,), eps=1e-05, elementwise_affine=True)\n",
       "          (encoder_attn): Module(\n",
       "            (q_proj): Linear(in_features=768, out_features=768, bias=True)\n",
       "            (out_proj): Linear(in_features=768, out_features=768, bias=True)\n",
       "          )\n",
       "          (final_layer_norm): LayerNorm((768,), eps=1e-05, elementwise_affine=True)\n",
       "          (fc1): Linear(in_features=768, out_features=3072, bias=True)\n",
       "          (fc2): Linear(in_features=3072, out_features=768, bias=True)\n",
       "        )\n",
       "        (10): Module(\n",
       "          (self_attn_layer_norm): LayerNorm((768,), eps=1e-05, elementwise_affine=True)\n",
       "          (self_attn): Module(\n",
       "            (q_proj): Linear(in_features=768, out_features=768, bias=True)\n",
       "            (k_proj): Linear(in_features=768, out_features=768, bias=False)\n",
       "            (v_proj): Linear(in_features=768, out_features=768, bias=True)\n",
       "            (out_proj): Linear(in_features=768, out_features=768, bias=True)\n",
       "          )\n",
       "          (encoder_attn_layer_norm): LayerNorm((768,), eps=1e-05, elementwise_affine=True)\n",
       "          (encoder_attn): Module(\n",
       "            (q_proj): Linear(in_features=768, out_features=768, bias=True)\n",
       "            (out_proj): Linear(in_features=768, out_features=768, bias=True)\n",
       "          )\n",
       "          (final_layer_norm): LayerNorm((768,), eps=1e-05, elementwise_affine=True)\n",
       "          (fc1): Linear(in_features=768, out_features=3072, bias=True)\n",
       "          (fc2): Linear(in_features=3072, out_features=768, bias=True)\n",
       "        )\n",
       "        (11): Module(\n",
       "          (self_attn_layer_norm): LayerNorm((768,), eps=1e-05, elementwise_affine=True)\n",
       "          (self_attn): Module(\n",
       "            (q_proj): Linear(in_features=768, out_features=768, bias=True)\n",
       "            (k_proj): Linear(in_features=768, out_features=768, bias=False)\n",
       "            (v_proj): Linear(in_features=768, out_features=768, bias=True)\n",
       "            (out_proj): Linear(in_features=768, out_features=768, bias=True)\n",
       "          )\n",
       "          (encoder_attn_layer_norm): LayerNorm((768,), eps=1e-05, elementwise_affine=True)\n",
       "          (encoder_attn): Module(\n",
       "            (q_proj): Linear(in_features=768, out_features=768, bias=True)\n",
       "            (out_proj): Linear(in_features=768, out_features=768, bias=True)\n",
       "          )\n",
       "          (final_layer_norm): LayerNorm((768,), eps=1e-05, elementwise_affine=True)\n",
       "          (fc1): Linear(in_features=768, out_features=3072, bias=True)\n",
       "          (fc2): Linear(in_features=3072, out_features=768, bias=True)\n",
       "        )\n",
       "      )\n",
       "      (layer_norm): LayerNorm((768,), eps=1e-05, elementwise_affine=True)\n",
       "    )\n",
       "  )\n",
       "  (activation_post_process_2): HistogramObserver(min_val=inf, max_val=-inf)\n",
       "  (activation_post_process_30): HistogramObserver(min_val=inf, max_val=-inf)\n",
       "  (activation_post_process_3): HistogramObserver(min_val=inf, max_val=-inf)\n",
       "  (activation_post_process_4): HistogramObserver(min_val=inf, max_val=-inf)\n",
       "  (activation_post_process_5): HistogramObserver(min_val=inf, max_val=-inf)\n",
       "  (activation_post_process_33): HistogramObserver(min_val=inf, max_val=-inf)\n",
       "  (activation_post_process_59): HistogramObserver(min_val=inf, max_val=-inf)\n",
       "  (activation_post_process_6): HistogramObserver(min_val=inf, max_val=-inf)\n",
       "  (activation_post_process_7): HistogramObserver(min_val=inf, max_val=-inf)\n",
       "  (activation_post_process_8): HistogramObserver(min_val=inf, max_val=-inf)\n",
       "  (activation_post_process_9): HistogramObserver(min_val=inf, max_val=-inf)\n",
       "  (activation_post_process_10): HistogramObserver(min_val=inf, max_val=-inf)\n",
       "  (activation_post_process_11): HistogramObserver(min_val=inf, max_val=-inf)\n",
       "  (activation_post_process_12): HistogramObserver(min_val=inf, max_val=-inf)\n",
       "  (activation_post_process_13): HistogramObserver(min_val=inf, max_val=-inf)\n",
       "  (activation_post_process_14): HistogramObserver(min_val=inf, max_val=-inf)\n",
       "  (activation_post_process_15): HistogramObserver(min_val=inf, max_val=-inf)\n",
       "  (activation_post_process_16): HistogramObserver(min_val=inf, max_val=-inf)\n",
       "  (activation_post_process_17): HistogramObserver(min_val=inf, max_val=-inf)\n",
       "  (activation_post_process_18): HistogramObserver(min_val=inf, max_val=-inf)\n",
       "  (activation_post_process_19): HistogramObserver(min_val=inf, max_val=-inf)\n",
       "  (activation_post_process_20): HistogramObserver(min_val=inf, max_val=-inf)\n",
       "  (activation_post_process_21): HistogramObserver(min_val=inf, max_val=-inf)\n",
       "  (activation_post_process_22): HistogramObserver(min_val=inf, max_val=-inf)\n",
       "  (activation_post_process_23): HistogramObserver(min_val=inf, max_val=-inf)\n",
       "  (activation_post_process_24): HistogramObserver(min_val=inf, max_val=-inf)\n",
       "  (activation_post_process_25): HistogramObserver(min_val=inf, max_val=-inf)\n",
       "  (activation_post_process_26): HistogramObserver(min_val=inf, max_val=-inf)\n",
       "  (activation_post_process_27): HistogramObserver(min_val=inf, max_val=-inf)\n",
       "  (activation_post_process_28): HistogramObserver(min_val=inf, max_val=-inf)\n",
       "  (activation_post_process_29): HistogramObserver(min_val=inf, max_val=-inf)\n",
       "  (activation_post_process_31): HistogramObserver(min_val=inf, max_val=-inf)\n",
       "  (activation_post_process_32): HistogramObserver(min_val=inf, max_val=-inf)\n",
       "  (activation_post_process_35): HistogramObserver(min_val=inf, max_val=-inf)\n",
       "  (activation_post_process_34): HistogramObserver(min_val=inf, max_val=-inf)\n",
       "  (activation_post_process_36): HistogramObserver(min_val=inf, max_val=-inf)\n",
       "  (activation_post_process_37): HistogramObserver(min_val=inf, max_val=-inf)\n",
       "  (activation_post_process_38): HistogramObserver(min_val=inf, max_val=-inf)\n",
       "  (activation_post_process_39): HistogramObserver(min_val=inf, max_val=-inf)\n",
       "  (activation_post_process_40): HistogramObserver(min_val=inf, max_val=-inf)\n",
       "  (activation_post_process_41): HistogramObserver(min_val=inf, max_val=-inf)\n",
       "  (activation_post_process_42): HistogramObserver(min_val=inf, max_val=-inf)\n",
       "  (activation_post_process_43): HistogramObserver(min_val=inf, max_val=-inf)\n",
       "  (activation_post_process_44): HistogramObserver(min_val=inf, max_val=-inf)\n",
       "  (activation_post_process_45): HistogramObserver(min_val=inf, max_val=-inf)\n",
       "  (activation_post_process_46): HistogramObserver(min_val=inf, max_val=-inf)\n",
       "  (activation_post_process_47): HistogramObserver(min_val=inf, max_val=-inf)\n",
       "  (activation_post_process_48): HistogramObserver(min_val=inf, max_val=-inf)\n",
       "  (activation_post_process_49): HistogramObserver(min_val=inf, max_val=-inf)\n",
       "  (activation_post_process_54): HistogramObserver(min_val=inf, max_val=-inf)\n",
       "  (activation_post_process_56): HistogramObserver(min_val=inf, max_val=-inf)\n",
       "  (activation_post_process_50): HistogramObserver(min_val=inf, max_val=-inf)\n",
       "  (activation_post_process_51): HistogramObserver(min_val=inf, max_val=-inf)\n",
       "  (activation_post_process_52): HistogramObserver(min_val=inf, max_val=-inf)\n",
       "  (activation_post_process_53): HistogramObserver(min_val=inf, max_val=-inf)\n",
       "  (activation_post_process_55): HistogramObserver(min_val=inf, max_val=-inf)\n",
       "  (activation_post_process_57): HistogramObserver(min_val=inf, max_val=-inf)\n",
       "  (activation_post_process_58): HistogramObserver(min_val=inf, max_val=-inf)\n",
       "  (activation_post_process_61): HistogramObserver(min_val=inf, max_val=-inf)\n",
       "  (activation_post_process_60): HistogramObserver(min_val=inf, max_val=-inf)\n",
       "  (activation_post_process_62): HistogramObserver(min_val=inf, max_val=-inf)\n",
       "  (activation_post_process_63): HistogramObserver(min_val=inf, max_val=-inf)\n",
       "  (activation_post_process_64): HistogramObserver(min_val=inf, max_val=-inf)\n",
       "  (activation_post_process_65): HistogramObserver(min_val=inf, max_val=-inf)\n",
       "  (activation_post_process_66): HistogramObserver(min_val=inf, max_val=-inf)\n",
       "  (activation_post_process_67): HistogramObserver(min_val=inf, max_val=-inf)\n",
       "  (activation_post_process_68): HistogramObserver(min_val=inf, max_val=-inf)\n",
       "  (activation_post_process_69): HistogramObserver(min_val=inf, max_val=-inf)\n",
       "  (activation_post_process_70): HistogramObserver(min_val=inf, max_val=-inf)\n",
       "  (activation_post_process_71): HistogramObserver(min_val=inf, max_val=-inf)\n",
       "  (activation_post_process_72): HistogramObserver(min_val=inf, max_val=-inf)\n",
       "  (activation_post_process_73): HistogramObserver(min_val=inf, max_val=-inf)\n",
       "  (activation_post_process_74): HistogramObserver(min_val=inf, max_val=-inf)\n",
       "  (activation_post_process_75): HistogramObserver(min_val=inf, max_val=-inf)\n",
       "  (activation_post_process_76): HistogramObserver(min_val=inf, max_val=-inf)\n",
       "  (activation_post_process_77): HistogramObserver(min_val=inf, max_val=-inf)\n",
       "  (activation_post_process_78): HistogramObserver(min_val=inf, max_val=-inf)\n",
       "  (activation_post_process_79): HistogramObserver(min_val=inf, max_val=-inf)\n",
       "  (activation_post_process_106): HistogramObserver(min_val=inf, max_val=-inf)\n",
       "  (activation_post_process_132): HistogramObserver(min_val=inf, max_val=-inf)\n",
       "  (activation_post_process_80): HistogramObserver(min_val=inf, max_val=-inf)\n",
       "  (activation_post_process_81): HistogramObserver(min_val=inf, max_val=-inf)\n",
       "  (activation_post_process_82): HistogramObserver(min_val=inf, max_val=-inf)\n",
       "  (activation_post_process_83): HistogramObserver(min_val=inf, max_val=-inf)\n",
       "  (activation_post_process_84): HistogramObserver(min_val=inf, max_val=-inf)\n",
       "  (activation_post_process_85): HistogramObserver(min_val=inf, max_val=-inf)\n",
       "  (activation_post_process_86): HistogramObserver(min_val=inf, max_val=-inf)\n",
       "  (activation_post_process_87): HistogramObserver(min_val=inf, max_val=-inf)\n",
       "  (activation_post_process_88): HistogramObserver(min_val=inf, max_val=-inf)\n",
       "  (activation_post_process_89): HistogramObserver(min_val=inf, max_val=-inf)\n",
       "  (activation_post_process_90): HistogramObserver(min_val=inf, max_val=-inf)\n",
       "  (activation_post_process_91): HistogramObserver(min_val=inf, max_val=-inf)\n",
       "  (activation_post_process_92): HistogramObserver(min_val=inf, max_val=-inf)\n",
       "  (activation_post_process_93): HistogramObserver(min_val=inf, max_val=-inf)\n",
       "  (activation_post_process_94): HistogramObserver(min_val=inf, max_val=-inf)\n",
       "  (activation_post_process_95): HistogramObserver(min_val=inf, max_val=-inf)\n",
       "  (activation_post_process_96): HistogramObserver(min_val=inf, max_val=-inf)\n",
       "  (activation_post_process_97): HistogramObserver(min_val=inf, max_val=-inf)\n",
       "  (activation_post_process_98): HistogramObserver(min_val=inf, max_val=-inf)\n",
       "  (activation_post_process_99): HistogramObserver(min_val=inf, max_val=-inf)\n",
       "  (activation_post_process_100): HistogramObserver(min_val=inf, max_val=-inf)\n",
       "  (activation_post_process_101): HistogramObserver(min_val=inf, max_val=-inf)\n",
       "  (activation_post_process_102): HistogramObserver(min_val=inf, max_val=-inf)\n",
       "  (activation_post_process_103): HistogramObserver(min_val=inf, max_val=-inf)\n",
       "  (activation_post_process_104): HistogramObserver(min_val=inf, max_val=-inf)\n",
       "  (activation_post_process_105): HistogramObserver(min_val=inf, max_val=-inf)\n",
       "  (activation_post_process_108): HistogramObserver(min_val=inf, max_val=-inf)\n",
       "  (activation_post_process_107): HistogramObserver(min_val=inf, max_val=-inf)\n",
       "  (activation_post_process_109): HistogramObserver(min_val=inf, max_val=-inf)\n",
       "  (activation_post_process_110): HistogramObserver(min_val=inf, max_val=-inf)\n",
       "  (activation_post_process_111): HistogramObserver(min_val=inf, max_val=-inf)\n",
       "  (activation_post_process_112): HistogramObserver(min_val=inf, max_val=-inf)\n",
       "  (activation_post_process_113): HistogramObserver(min_val=inf, max_val=-inf)\n",
       "  (activation_post_process_114): HistogramObserver(min_val=inf, max_val=-inf)\n",
       "  (activation_post_process_115): HistogramObserver(min_val=inf, max_val=-inf)\n",
       "  (activation_post_process_116): HistogramObserver(min_val=inf, max_val=-inf)\n",
       "  (activation_post_process_117): HistogramObserver(min_val=inf, max_val=-inf)\n",
       "  (activation_post_process_118): HistogramObserver(min_val=inf, max_val=-inf)\n",
       "  (activation_post_process_119): HistogramObserver(min_val=inf, max_val=-inf)\n",
       "  (activation_post_process_120): HistogramObserver(min_val=inf, max_val=-inf)\n",
       "  (activation_post_process_121): HistogramObserver(min_val=inf, max_val=-inf)\n",
       "  (activation_post_process_122): HistogramObserver(min_val=inf, max_val=-inf)\n",
       "  (activation_post_process_127): HistogramObserver(min_val=inf, max_val=-inf)\n",
       "  (activation_post_process_129): HistogramObserver(min_val=inf, max_val=-inf)\n",
       "  (activation_post_process_123): HistogramObserver(min_val=inf, max_val=-inf)\n",
       "  (activation_post_process_124): HistogramObserver(min_val=inf, max_val=-inf)\n",
       "  (activation_post_process_125): HistogramObserver(min_val=inf, max_val=-inf)\n",
       "  (activation_post_process_126): HistogramObserver(min_val=inf, max_val=-inf)\n",
       "  (activation_post_process_128): HistogramObserver(min_val=inf, max_val=-inf)\n",
       "  (activation_post_process_130): HistogramObserver(min_val=inf, max_val=-inf)\n",
       "  (activation_post_process_131): HistogramObserver(min_val=inf, max_val=-inf)\n",
       "  (activation_post_process_134): HistogramObserver(min_val=inf, max_val=-inf)\n",
       "  (activation_post_process_133): HistogramObserver(min_val=inf, max_val=-inf)\n",
       "  (activation_post_process_135): HistogramObserver(min_val=inf, max_val=-inf)\n",
       "  (activation_post_process_136): HistogramObserver(min_val=inf, max_val=-inf)\n",
       "  (activation_post_process_137): HistogramObserver(min_val=inf, max_val=-inf)\n",
       "  (activation_post_process_138): HistogramObserver(min_val=inf, max_val=-inf)\n",
       "  (activation_post_process_139): HistogramObserver(min_val=inf, max_val=-inf)\n",
       "  (activation_post_process_140): HistogramObserver(min_val=inf, max_val=-inf)\n",
       "  (activation_post_process_141): HistogramObserver(min_val=inf, max_val=-inf)\n",
       "  (activation_post_process_142): HistogramObserver(min_val=inf, max_val=-inf)\n",
       "  (activation_post_process_143): HistogramObserver(min_val=inf, max_val=-inf)\n",
       "  (activation_post_process_144): HistogramObserver(min_val=inf, max_val=-inf)\n",
       "  (activation_post_process_145): HistogramObserver(min_val=inf, max_val=-inf)\n",
       "  (activation_post_process_146): HistogramObserver(min_val=inf, max_val=-inf)\n",
       "  (activation_post_process_147): HistogramObserver(min_val=inf, max_val=-inf)\n",
       "  (activation_post_process_148): HistogramObserver(min_val=inf, max_val=-inf)\n",
       "  (activation_post_process_149): HistogramObserver(min_val=inf, max_val=-inf)\n",
       "  (activation_post_process_150): HistogramObserver(min_val=inf, max_val=-inf)\n",
       "  (activation_post_process_151): HistogramObserver(min_val=inf, max_val=-inf)\n",
       "  (activation_post_process_152): HistogramObserver(min_val=inf, max_val=-inf)\n",
       "  (activation_post_process_179): HistogramObserver(min_val=inf, max_val=-inf)\n",
       "  (activation_post_process_205): HistogramObserver(min_val=inf, max_val=-inf)\n",
       "  (activation_post_process_153): HistogramObserver(min_val=inf, max_val=-inf)\n",
       "  (activation_post_process_154): HistogramObserver(min_val=inf, max_val=-inf)\n",
       "  (activation_post_process_155): HistogramObserver(min_val=inf, max_val=-inf)\n",
       "  (activation_post_process_156): HistogramObserver(min_val=inf, max_val=-inf)\n",
       "  (activation_post_process_157): HistogramObserver(min_val=inf, max_val=-inf)\n",
       "  (activation_post_process_158): HistogramObserver(min_val=inf, max_val=-inf)\n",
       "  (activation_post_process_159): HistogramObserver(min_val=inf, max_val=-inf)\n",
       "  (activation_post_process_160): HistogramObserver(min_val=inf, max_val=-inf)\n",
       "  (activation_post_process_161): HistogramObserver(min_val=inf, max_val=-inf)\n",
       "  (activation_post_process_162): HistogramObserver(min_val=inf, max_val=-inf)\n",
       "  (activation_post_process_163): HistogramObserver(min_val=inf, max_val=-inf)\n",
       "  (activation_post_process_164): HistogramObserver(min_val=inf, max_val=-inf)\n",
       "  (activation_post_process_165): HistogramObserver(min_val=inf, max_val=-inf)\n",
       "  (activation_post_process_166): HistogramObserver(min_val=inf, max_val=-inf)\n",
       "  (activation_post_process_167): HistogramObserver(min_val=inf, max_val=-inf)\n",
       "  (activation_post_process_168): HistogramObserver(min_val=inf, max_val=-inf)\n",
       "  (activation_post_process_169): HistogramObserver(min_val=inf, max_val=-inf)\n",
       "  (activation_post_process_170): HistogramObserver(min_val=inf, max_val=-inf)\n",
       "  (activation_post_process_171): HistogramObserver(min_val=inf, max_val=-inf)\n",
       "  (activation_post_process_172): HistogramObserver(min_val=inf, max_val=-inf)\n",
       "  (activation_post_process_173): HistogramObserver(min_val=inf, max_val=-inf)\n",
       "  (activation_post_process_174): HistogramObserver(min_val=inf, max_val=-inf)\n",
       "  (activation_post_process_175): HistogramObserver(min_val=inf, max_val=-inf)\n",
       "  (activation_post_process_176): HistogramObserver(min_val=inf, max_val=-inf)\n",
       "  (activation_post_process_177): HistogramObserver(min_val=inf, max_val=-inf)\n",
       "  (activation_post_process_178): HistogramObserver(min_val=inf, max_val=-inf)\n",
       "  (activation_post_process_181): HistogramObserver(min_val=inf, max_val=-inf)\n",
       "  (activation_post_process_180): HistogramObserver(min_val=inf, max_val=-inf)\n",
       "  (activation_post_process_182): HistogramObserver(min_val=inf, max_val=-inf)\n",
       "  (activation_post_process_183): HistogramObserver(min_val=inf, max_val=-inf)\n",
       "  (activation_post_process_184): HistogramObserver(min_val=inf, max_val=-inf)\n",
       "  (activation_post_process_185): HistogramObserver(min_val=inf, max_val=-inf)\n",
       "  (activation_post_process_186): HistogramObserver(min_val=inf, max_val=-inf)\n",
       "  (activation_post_process_187): HistogramObserver(min_val=inf, max_val=-inf)\n",
       "  (activation_post_process_188): HistogramObserver(min_val=inf, max_val=-inf)\n",
       "  (activation_post_process_189): HistogramObserver(min_val=inf, max_val=-inf)\n",
       "  (activation_post_process_190): HistogramObserver(min_val=inf, max_val=-inf)\n",
       "  (activation_post_process_191): HistogramObserver(min_val=inf, max_val=-inf)\n",
       "  (activation_post_process_192): HistogramObserver(min_val=inf, max_val=-inf)\n",
       "  (activation_post_process_193): HistogramObserver(min_val=inf, max_val=-inf)\n",
       "  (activation_post_process_194): HistogramObserver(min_val=inf, max_val=-inf)\n",
       "  (activation_post_process_195): HistogramObserver(min_val=inf, max_val=-inf)\n",
       "  (activation_post_process_200): HistogramObserver(min_val=inf, max_val=-inf)\n",
       "  (activation_post_process_202): HistogramObserver(min_val=inf, max_val=-inf)\n",
       "  (activation_post_process_196): HistogramObserver(min_val=inf, max_val=-inf)\n",
       "  (activation_post_process_197): HistogramObserver(min_val=inf, max_val=-inf)\n",
       "  (activation_post_process_198): HistogramObserver(min_val=inf, max_val=-inf)\n",
       "  (activation_post_process_199): HistogramObserver(min_val=inf, max_val=-inf)\n",
       "  (activation_post_process_201): HistogramObserver(min_val=inf, max_val=-inf)\n",
       "  (activation_post_process_203): HistogramObserver(min_val=inf, max_val=-inf)\n",
       "  (activation_post_process_204): HistogramObserver(min_val=inf, max_val=-inf)\n",
       "  (activation_post_process_207): HistogramObserver(min_val=inf, max_val=-inf)\n",
       "  (activation_post_process_206): HistogramObserver(min_val=inf, max_val=-inf)\n",
       "  (activation_post_process_208): HistogramObserver(min_val=inf, max_val=-inf)\n",
       "  (activation_post_process_209): HistogramObserver(min_val=inf, max_val=-inf)\n",
       "  (activation_post_process_210): HistogramObserver(min_val=inf, max_val=-inf)\n",
       "  (activation_post_process_211): HistogramObserver(min_val=inf, max_val=-inf)\n",
       "  (activation_post_process_212): HistogramObserver(min_val=inf, max_val=-inf)\n",
       "  (activation_post_process_213): HistogramObserver(min_val=inf, max_val=-inf)\n",
       "  (activation_post_process_214): HistogramObserver(min_val=inf, max_val=-inf)\n",
       "  (activation_post_process_215): HistogramObserver(min_val=inf, max_val=-inf)\n",
       "  (activation_post_process_216): HistogramObserver(min_val=inf, max_val=-inf)\n",
       "  (activation_post_process_217): HistogramObserver(min_val=inf, max_val=-inf)\n",
       "  (activation_post_process_218): HistogramObserver(min_val=inf, max_val=-inf)\n",
       "  (activation_post_process_219): HistogramObserver(min_val=inf, max_val=-inf)\n",
       "  (activation_post_process_220): HistogramObserver(min_val=inf, max_val=-inf)\n",
       "  (activation_post_process_221): HistogramObserver(min_val=inf, max_val=-inf)\n",
       "  (activation_post_process_222): HistogramObserver(min_val=inf, max_val=-inf)\n",
       "  (activation_post_process_223): HistogramObserver(min_val=inf, max_val=-inf)\n",
       "  (activation_post_process_224): HistogramObserver(min_val=inf, max_val=-inf)\n",
       "  (activation_post_process_225): HistogramObserver(min_val=inf, max_val=-inf)\n",
       "  (activation_post_process_252): HistogramObserver(min_val=inf, max_val=-inf)\n",
       "  (activation_post_process_278): HistogramObserver(min_val=inf, max_val=-inf)\n",
       "  (activation_post_process_226): HistogramObserver(min_val=inf, max_val=-inf)\n",
       "  (activation_post_process_227): HistogramObserver(min_val=inf, max_val=-inf)\n",
       "  (activation_post_process_228): HistogramObserver(min_val=inf, max_val=-inf)\n",
       "  (activation_post_process_229): HistogramObserver(min_val=inf, max_val=-inf)\n",
       "  (activation_post_process_230): HistogramObserver(min_val=inf, max_val=-inf)\n",
       "  (activation_post_process_231): HistogramObserver(min_val=inf, max_val=-inf)\n",
       "  (activation_post_process_232): HistogramObserver(min_val=inf, max_val=-inf)\n",
       "  (activation_post_process_233): HistogramObserver(min_val=inf, max_val=-inf)\n",
       "  (activation_post_process_234): HistogramObserver(min_val=inf, max_val=-inf)\n",
       "  (activation_post_process_235): HistogramObserver(min_val=inf, max_val=-inf)\n",
       "  (activation_post_process_236): HistogramObserver(min_val=inf, max_val=-inf)\n",
       "  (activation_post_process_237): HistogramObserver(min_val=inf, max_val=-inf)\n",
       "  (activation_post_process_238): HistogramObserver(min_val=inf, max_val=-inf)\n",
       "  (activation_post_process_239): HistogramObserver(min_val=inf, max_val=-inf)\n",
       "  (activation_post_process_240): HistogramObserver(min_val=inf, max_val=-inf)\n",
       "  (activation_post_process_241): HistogramObserver(min_val=inf, max_val=-inf)\n",
       "  (activation_post_process_242): HistogramObserver(min_val=inf, max_val=-inf)\n",
       "  (activation_post_process_243): HistogramObserver(min_val=inf, max_val=-inf)\n",
       "  (activation_post_process_244): HistogramObserver(min_val=inf, max_val=-inf)\n",
       "  (activation_post_process_245): HistogramObserver(min_val=inf, max_val=-inf)\n",
       "  (activation_post_process_246): HistogramObserver(min_val=inf, max_val=-inf)\n",
       "  (activation_post_process_247): HistogramObserver(min_val=inf, max_val=-inf)\n",
       "  (activation_post_process_248): HistogramObserver(min_val=inf, max_val=-inf)\n",
       "  (activation_post_process_249): HistogramObserver(min_val=inf, max_val=-inf)\n",
       "  (activation_post_process_250): HistogramObserver(min_val=inf, max_val=-inf)\n",
       "  (activation_post_process_251): HistogramObserver(min_val=inf, max_val=-inf)\n",
       "  (activation_post_process_254): HistogramObserver(min_val=inf, max_val=-inf)\n",
       "  (activation_post_process_253): HistogramObserver(min_val=inf, max_val=-inf)\n",
       "  (activation_post_process_255): HistogramObserver(min_val=inf, max_val=-inf)\n",
       "  (activation_post_process_256): HistogramObserver(min_val=inf, max_val=-inf)\n",
       "  (activation_post_process_257): HistogramObserver(min_val=inf, max_val=-inf)\n",
       "  (activation_post_process_258): HistogramObserver(min_val=inf, max_val=-inf)\n",
       "  (activation_post_process_259): HistogramObserver(min_val=inf, max_val=-inf)\n",
       "  (activation_post_process_260): HistogramObserver(min_val=inf, max_val=-inf)\n",
       "  (activation_post_process_261): HistogramObserver(min_val=inf, max_val=-inf)\n",
       "  (activation_post_process_262): HistogramObserver(min_val=inf, max_val=-inf)\n",
       "  (activation_post_process_263): HistogramObserver(min_val=inf, max_val=-inf)\n",
       "  (activation_post_process_264): HistogramObserver(min_val=inf, max_val=-inf)\n",
       "  (activation_post_process_265): HistogramObserver(min_val=inf, max_val=-inf)\n",
       "  (activation_post_process_266): HistogramObserver(min_val=inf, max_val=-inf)\n",
       "  (activation_post_process_267): HistogramObserver(min_val=inf, max_val=-inf)\n",
       "  (activation_post_process_268): HistogramObserver(min_val=inf, max_val=-inf)\n",
       "  (activation_post_process_273): HistogramObserver(min_val=inf, max_val=-inf)\n",
       "  (activation_post_process_275): HistogramObserver(min_val=inf, max_val=-inf)\n",
       "  (activation_post_process_269): HistogramObserver(min_val=inf, max_val=-inf)\n",
       "  (activation_post_process_270): HistogramObserver(min_val=inf, max_val=-inf)\n",
       "  (activation_post_process_271): HistogramObserver(min_val=inf, max_val=-inf)\n",
       "  (activation_post_process_272): HistogramObserver(min_val=inf, max_val=-inf)\n",
       "  (activation_post_process_274): HistogramObserver(min_val=inf, max_val=-inf)\n",
       "  (activation_post_process_276): HistogramObserver(min_val=inf, max_val=-inf)\n",
       "  (activation_post_process_277): HistogramObserver(min_val=inf, max_val=-inf)\n",
       "  (activation_post_process_280): HistogramObserver(min_val=inf, max_val=-inf)\n",
       "  (activation_post_process_279): HistogramObserver(min_val=inf, max_val=-inf)\n",
       "  (activation_post_process_281): HistogramObserver(min_val=inf, max_val=-inf)\n",
       "  (activation_post_process_282): HistogramObserver(min_val=inf, max_val=-inf)\n",
       "  (activation_post_process_283): HistogramObserver(min_val=inf, max_val=-inf)\n",
       "  (activation_post_process_284): HistogramObserver(min_val=inf, max_val=-inf)\n",
       "  (activation_post_process_285): HistogramObserver(min_val=inf, max_val=-inf)\n",
       "  (activation_post_process_286): HistogramObserver(min_val=inf, max_val=-inf)\n",
       "  (activation_post_process_287): HistogramObserver(min_val=inf, max_val=-inf)\n",
       "  (activation_post_process_288): HistogramObserver(min_val=inf, max_val=-inf)\n",
       "  (activation_post_process_289): HistogramObserver(min_val=inf, max_val=-inf)\n",
       "  (activation_post_process_290): HistogramObserver(min_val=inf, max_val=-inf)\n",
       "  (activation_post_process_291): HistogramObserver(min_val=inf, max_val=-inf)\n",
       "  (activation_post_process_292): HistogramObserver(min_val=inf, max_val=-inf)\n",
       "  (activation_post_process_293): HistogramObserver(min_val=inf, max_val=-inf)\n",
       "  (activation_post_process_294): HistogramObserver(min_val=inf, max_val=-inf)\n",
       "  (activation_post_process_295): HistogramObserver(min_val=inf, max_val=-inf)\n",
       "  (activation_post_process_296): HistogramObserver(min_val=inf, max_val=-inf)\n",
       "  (activation_post_process_297): HistogramObserver(min_val=inf, max_val=-inf)\n",
       "  (activation_post_process_298): HistogramObserver(min_val=inf, max_val=-inf)\n",
       "  (activation_post_process_325): HistogramObserver(min_val=inf, max_val=-inf)\n",
       "  (activation_post_process_351): HistogramObserver(min_val=inf, max_val=-inf)\n",
       "  (activation_post_process_299): HistogramObserver(min_val=inf, max_val=-inf)\n",
       "  (activation_post_process_300): HistogramObserver(min_val=inf, max_val=-inf)\n",
       "  (activation_post_process_301): HistogramObserver(min_val=inf, max_val=-inf)\n",
       "  (activation_post_process_302): HistogramObserver(min_val=inf, max_val=-inf)\n",
       "  (activation_post_process_303): HistogramObserver(min_val=inf, max_val=-inf)\n",
       "  (activation_post_process_304): HistogramObserver(min_val=inf, max_val=-inf)\n",
       "  (activation_post_process_305): HistogramObserver(min_val=inf, max_val=-inf)\n",
       "  (activation_post_process_306): HistogramObserver(min_val=inf, max_val=-inf)\n",
       "  (activation_post_process_307): HistogramObserver(min_val=inf, max_val=-inf)\n",
       "  (activation_post_process_308): HistogramObserver(min_val=inf, max_val=-inf)\n",
       "  (activation_post_process_309): HistogramObserver(min_val=inf, max_val=-inf)\n",
       "  (activation_post_process_310): HistogramObserver(min_val=inf, max_val=-inf)\n",
       "  (activation_post_process_311): HistogramObserver(min_val=inf, max_val=-inf)\n",
       "  (activation_post_process_312): HistogramObserver(min_val=inf, max_val=-inf)\n",
       "  (activation_post_process_313): HistogramObserver(min_val=inf, max_val=-inf)\n",
       "  (activation_post_process_314): HistogramObserver(min_val=inf, max_val=-inf)\n",
       "  (activation_post_process_315): HistogramObserver(min_val=inf, max_val=-inf)\n",
       "  (activation_post_process_316): HistogramObserver(min_val=inf, max_val=-inf)\n",
       "  (activation_post_process_317): HistogramObserver(min_val=inf, max_val=-inf)\n",
       "  (activation_post_process_318): HistogramObserver(min_val=inf, max_val=-inf)\n",
       "  (activation_post_process_319): HistogramObserver(min_val=inf, max_val=-inf)\n",
       "  (activation_post_process_320): HistogramObserver(min_val=inf, max_val=-inf)\n",
       "  (activation_post_process_321): HistogramObserver(min_val=inf, max_val=-inf)\n",
       "  (activation_post_process_322): HistogramObserver(min_val=inf, max_val=-inf)\n",
       "  (activation_post_process_323): HistogramObserver(min_val=inf, max_val=-inf)\n",
       "  (activation_post_process_324): HistogramObserver(min_val=inf, max_val=-inf)\n",
       "  (activation_post_process_327): HistogramObserver(min_val=inf, max_val=-inf)\n",
       "  (activation_post_process_326): HistogramObserver(min_val=inf, max_val=-inf)\n",
       "  (activation_post_process_328): HistogramObserver(min_val=inf, max_val=-inf)\n",
       "  (activation_post_process_329): HistogramObserver(min_val=inf, max_val=-inf)\n",
       "  (activation_post_process_330): HistogramObserver(min_val=inf, max_val=-inf)\n",
       "  (activation_post_process_331): HistogramObserver(min_val=inf, max_val=-inf)\n",
       "  (activation_post_process_332): HistogramObserver(min_val=inf, max_val=-inf)\n",
       "  (activation_post_process_333): HistogramObserver(min_val=inf, max_val=-inf)\n",
       "  (activation_post_process_334): HistogramObserver(min_val=inf, max_val=-inf)\n",
       "  (activation_post_process_335): HistogramObserver(min_val=inf, max_val=-inf)\n",
       "  (activation_post_process_336): HistogramObserver(min_val=inf, max_val=-inf)\n",
       "  (activation_post_process_337): HistogramObserver(min_val=inf, max_val=-inf)\n",
       "  (activation_post_process_338): HistogramObserver(min_val=inf, max_val=-inf)\n",
       "  (activation_post_process_339): HistogramObserver(min_val=inf, max_val=-inf)\n",
       "  (activation_post_process_340): HistogramObserver(min_val=inf, max_val=-inf)\n",
       "  (activation_post_process_341): HistogramObserver(min_val=inf, max_val=-inf)\n",
       "  (activation_post_process_346): HistogramObserver(min_val=inf, max_val=-inf)\n",
       "  (activation_post_process_348): HistogramObserver(min_val=inf, max_val=-inf)\n",
       "  (activation_post_process_342): HistogramObserver(min_val=inf, max_val=-inf)\n",
       "  (activation_post_process_343): HistogramObserver(min_val=inf, max_val=-inf)\n",
       "  (activation_post_process_344): HistogramObserver(min_val=inf, max_val=-inf)\n",
       "  (activation_post_process_345): HistogramObserver(min_val=inf, max_val=-inf)\n",
       "  (activation_post_process_347): HistogramObserver(min_val=inf, max_val=-inf)\n",
       "  (activation_post_process_349): HistogramObserver(min_val=inf, max_val=-inf)\n",
       "  (activation_post_process_350): HistogramObserver(min_val=inf, max_val=-inf)\n",
       "  (activation_post_process_353): HistogramObserver(min_val=inf, max_val=-inf)\n",
       "  (activation_post_process_352): HistogramObserver(min_val=inf, max_val=-inf)\n",
       "  (activation_post_process_354): HistogramObserver(min_val=inf, max_val=-inf)\n",
       "  (activation_post_process_355): HistogramObserver(min_val=inf, max_val=-inf)\n",
       "  (activation_post_process_356): HistogramObserver(min_val=inf, max_val=-inf)\n",
       "  (activation_post_process_357): HistogramObserver(min_val=inf, max_val=-inf)\n",
       "  (activation_post_process_358): HistogramObserver(min_val=inf, max_val=-inf)\n",
       "  (activation_post_process_359): HistogramObserver(min_val=inf, max_val=-inf)\n",
       "  (activation_post_process_360): HistogramObserver(min_val=inf, max_val=-inf)\n",
       "  (activation_post_process_361): HistogramObserver(min_val=inf, max_val=-inf)\n",
       "  (activation_post_process_362): HistogramObserver(min_val=inf, max_val=-inf)\n",
       "  (activation_post_process_363): HistogramObserver(min_val=inf, max_val=-inf)\n",
       "  (activation_post_process_364): HistogramObserver(min_val=inf, max_val=-inf)\n",
       "  (activation_post_process_365): HistogramObserver(min_val=inf, max_val=-inf)\n",
       "  (activation_post_process_366): HistogramObserver(min_val=inf, max_val=-inf)\n",
       "  (activation_post_process_367): HistogramObserver(min_val=inf, max_val=-inf)\n",
       "  (activation_post_process_368): HistogramObserver(min_val=inf, max_val=-inf)\n",
       "  (activation_post_process_369): HistogramObserver(min_val=inf, max_val=-inf)\n",
       "  (activation_post_process_370): HistogramObserver(min_val=inf, max_val=-inf)\n",
       "  (activation_post_process_371): HistogramObserver(min_val=inf, max_val=-inf)\n",
       "  (activation_post_process_398): HistogramObserver(min_val=inf, max_val=-inf)\n",
       "  (activation_post_process_424): HistogramObserver(min_val=inf, max_val=-inf)\n",
       "  (activation_post_process_372): HistogramObserver(min_val=inf, max_val=-inf)\n",
       "  (activation_post_process_373): HistogramObserver(min_val=inf, max_val=-inf)\n",
       "  (activation_post_process_374): HistogramObserver(min_val=inf, max_val=-inf)\n",
       "  (activation_post_process_375): HistogramObserver(min_val=inf, max_val=-inf)\n",
       "  (activation_post_process_376): HistogramObserver(min_val=inf, max_val=-inf)\n",
       "  (activation_post_process_377): HistogramObserver(min_val=inf, max_val=-inf)\n",
       "  (activation_post_process_378): HistogramObserver(min_val=inf, max_val=-inf)\n",
       "  (activation_post_process_379): HistogramObserver(min_val=inf, max_val=-inf)\n",
       "  (activation_post_process_380): HistogramObserver(min_val=inf, max_val=-inf)\n",
       "  (activation_post_process_381): HistogramObserver(min_val=inf, max_val=-inf)\n",
       "  (activation_post_process_382): HistogramObserver(min_val=inf, max_val=-inf)\n",
       "  (activation_post_process_383): HistogramObserver(min_val=inf, max_val=-inf)\n",
       "  (activation_post_process_384): HistogramObserver(min_val=inf, max_val=-inf)\n",
       "  (activation_post_process_385): HistogramObserver(min_val=inf, max_val=-inf)\n",
       "  (activation_post_process_386): HistogramObserver(min_val=inf, max_val=-inf)\n",
       "  (activation_post_process_387): HistogramObserver(min_val=inf, max_val=-inf)\n",
       "  (activation_post_process_388): HistogramObserver(min_val=inf, max_val=-inf)\n",
       "  (activation_post_process_389): HistogramObserver(min_val=inf, max_val=-inf)\n",
       "  (activation_post_process_390): HistogramObserver(min_val=inf, max_val=-inf)\n",
       "  (activation_post_process_391): HistogramObserver(min_val=inf, max_val=-inf)\n",
       "  (activation_post_process_392): HistogramObserver(min_val=inf, max_val=-inf)\n",
       "  (activation_post_process_393): HistogramObserver(min_val=inf, max_val=-inf)\n",
       "  (activation_post_process_394): HistogramObserver(min_val=inf, max_val=-inf)\n",
       "  (activation_post_process_395): HistogramObserver(min_val=inf, max_val=-inf)\n",
       "  (activation_post_process_396): HistogramObserver(min_val=inf, max_val=-inf)\n",
       "  (activation_post_process_397): HistogramObserver(min_val=inf, max_val=-inf)\n",
       "  (activation_post_process_400): HistogramObserver(min_val=inf, max_val=-inf)\n",
       "  (activation_post_process_399): HistogramObserver(min_val=inf, max_val=-inf)\n",
       "  (activation_post_process_401): HistogramObserver(min_val=inf, max_val=-inf)\n",
       "  (activation_post_process_402): HistogramObserver(min_val=inf, max_val=-inf)\n",
       "  (activation_post_process_403): HistogramObserver(min_val=inf, max_val=-inf)\n",
       "  (activation_post_process_404): HistogramObserver(min_val=inf, max_val=-inf)\n",
       "  (activation_post_process_405): HistogramObserver(min_val=inf, max_val=-inf)\n",
       "  (activation_post_process_406): HistogramObserver(min_val=inf, max_val=-inf)\n",
       "  (activation_post_process_407): HistogramObserver(min_val=inf, max_val=-inf)\n",
       "  (activation_post_process_408): HistogramObserver(min_val=inf, max_val=-inf)\n",
       "  (activation_post_process_409): HistogramObserver(min_val=inf, max_val=-inf)\n",
       "  (activation_post_process_410): HistogramObserver(min_val=inf, max_val=-inf)\n",
       "  (activation_post_process_411): HistogramObserver(min_val=inf, max_val=-inf)\n",
       "  (activation_post_process_412): HistogramObserver(min_val=inf, max_val=-inf)\n",
       "  (activation_post_process_413): HistogramObserver(min_val=inf, max_val=-inf)\n",
       "  (activation_post_process_414): HistogramObserver(min_val=inf, max_val=-inf)\n",
       "  (activation_post_process_419): HistogramObserver(min_val=inf, max_val=-inf)\n",
       "  (activation_post_process_421): HistogramObserver(min_val=inf, max_val=-inf)\n",
       "  (activation_post_process_415): HistogramObserver(min_val=inf, max_val=-inf)\n",
       "  (activation_post_process_416): HistogramObserver(min_val=inf, max_val=-inf)\n",
       "  (activation_post_process_417): HistogramObserver(min_val=inf, max_val=-inf)\n",
       "  (activation_post_process_418): HistogramObserver(min_val=inf, max_val=-inf)\n",
       "  (activation_post_process_420): HistogramObserver(min_val=inf, max_val=-inf)\n",
       "  (activation_post_process_422): HistogramObserver(min_val=inf, max_val=-inf)\n",
       "  (activation_post_process_423): HistogramObserver(min_val=inf, max_val=-inf)\n",
       "  (activation_post_process_426): HistogramObserver(min_val=inf, max_val=-inf)\n",
       "  (activation_post_process_425): HistogramObserver(min_val=inf, max_val=-inf)\n",
       "  (activation_post_process_427): HistogramObserver(min_val=inf, max_val=-inf)\n",
       "  (activation_post_process_428): HistogramObserver(min_val=inf, max_val=-inf)\n",
       "  (activation_post_process_429): HistogramObserver(min_val=inf, max_val=-inf)\n",
       "  (activation_post_process_430): HistogramObserver(min_val=inf, max_val=-inf)\n",
       "  (activation_post_process_431): HistogramObserver(min_val=inf, max_val=-inf)\n",
       "  (activation_post_process_432): HistogramObserver(min_val=inf, max_val=-inf)\n",
       "  (activation_post_process_433): HistogramObserver(min_val=inf, max_val=-inf)\n",
       "  (activation_post_process_434): HistogramObserver(min_val=inf, max_val=-inf)\n",
       "  (activation_post_process_435): HistogramObserver(min_val=inf, max_val=-inf)\n",
       "  (activation_post_process_436): HistogramObserver(min_val=inf, max_val=-inf)\n",
       "  (activation_post_process_437): HistogramObserver(min_val=inf, max_val=-inf)\n",
       "  (activation_post_process_438): HistogramObserver(min_val=inf, max_val=-inf)\n",
       "  (activation_post_process_439): HistogramObserver(min_val=inf, max_val=-inf)\n",
       "  (activation_post_process_440): HistogramObserver(min_val=inf, max_val=-inf)\n",
       "  (activation_post_process_441): HistogramObserver(min_val=inf, max_val=-inf)\n",
       "  (activation_post_process_442): HistogramObserver(min_val=inf, max_val=-inf)\n",
       "  (activation_post_process_443): HistogramObserver(min_val=inf, max_val=-inf)\n",
       "  (activation_post_process_444): HistogramObserver(min_val=inf, max_val=-inf)\n",
       "  (activation_post_process_471): HistogramObserver(min_val=inf, max_val=-inf)\n",
       "  (activation_post_process_497): HistogramObserver(min_val=inf, max_val=-inf)\n",
       "  (activation_post_process_445): HistogramObserver(min_val=inf, max_val=-inf)\n",
       "  (activation_post_process_446): HistogramObserver(min_val=inf, max_val=-inf)\n",
       "  (activation_post_process_447): HistogramObserver(min_val=inf, max_val=-inf)\n",
       "  (activation_post_process_448): HistogramObserver(min_val=inf, max_val=-inf)\n",
       "  (activation_post_process_449): HistogramObserver(min_val=inf, max_val=-inf)\n",
       "  (activation_post_process_450): HistogramObserver(min_val=inf, max_val=-inf)\n",
       "  (activation_post_process_451): HistogramObserver(min_val=inf, max_val=-inf)\n",
       "  (activation_post_process_452): HistogramObserver(min_val=inf, max_val=-inf)\n",
       "  (activation_post_process_453): HistogramObserver(min_val=inf, max_val=-inf)\n",
       "  (activation_post_process_454): HistogramObserver(min_val=inf, max_val=-inf)\n",
       "  (activation_post_process_455): HistogramObserver(min_val=inf, max_val=-inf)\n",
       "  (activation_post_process_456): HistogramObserver(min_val=inf, max_val=-inf)\n",
       "  (activation_post_process_457): HistogramObserver(min_val=inf, max_val=-inf)\n",
       "  (activation_post_process_458): HistogramObserver(min_val=inf, max_val=-inf)\n",
       "  (activation_post_process_459): HistogramObserver(min_val=inf, max_val=-inf)\n",
       "  (activation_post_process_460): HistogramObserver(min_val=inf, max_val=-inf)\n",
       "  (activation_post_process_461): HistogramObserver(min_val=inf, max_val=-inf)\n",
       "  (activation_post_process_462): HistogramObserver(min_val=inf, max_val=-inf)\n",
       "  (activation_post_process_463): HistogramObserver(min_val=inf, max_val=-inf)\n",
       "  (activation_post_process_464): HistogramObserver(min_val=inf, max_val=-inf)\n",
       "  (activation_post_process_465): HistogramObserver(min_val=inf, max_val=-inf)\n",
       "  (activation_post_process_466): HistogramObserver(min_val=inf, max_val=-inf)\n",
       "  (activation_post_process_467): HistogramObserver(min_val=inf, max_val=-inf)\n",
       "  (activation_post_process_468): HistogramObserver(min_val=inf, max_val=-inf)\n",
       "  (activation_post_process_469): HistogramObserver(min_val=inf, max_val=-inf)\n",
       "  (activation_post_process_470): HistogramObserver(min_val=inf, max_val=-inf)\n",
       "  (activation_post_process_473): HistogramObserver(min_val=inf, max_val=-inf)\n",
       "  (activation_post_process_472): HistogramObserver(min_val=inf, max_val=-inf)\n",
       "  (activation_post_process_474): HistogramObserver(min_val=inf, max_val=-inf)\n",
       "  (activation_post_process_475): HistogramObserver(min_val=inf, max_val=-inf)\n",
       "  (activation_post_process_476): HistogramObserver(min_val=inf, max_val=-inf)\n",
       "  (activation_post_process_477): HistogramObserver(min_val=inf, max_val=-inf)\n",
       "  (activation_post_process_478): HistogramObserver(min_val=inf, max_val=-inf)\n",
       "  (activation_post_process_479): HistogramObserver(min_val=inf, max_val=-inf)\n",
       "  (activation_post_process_480): HistogramObserver(min_val=inf, max_val=-inf)\n",
       "  (activation_post_process_481): HistogramObserver(min_val=inf, max_val=-inf)\n",
       "  (activation_post_process_482): HistogramObserver(min_val=inf, max_val=-inf)\n",
       "  (activation_post_process_483): HistogramObserver(min_val=inf, max_val=-inf)\n",
       "  (activation_post_process_484): HistogramObserver(min_val=inf, max_val=-inf)\n",
       "  (activation_post_process_485): HistogramObserver(min_val=inf, max_val=-inf)\n",
       "  (activation_post_process_486): HistogramObserver(min_val=inf, max_val=-inf)\n",
       "  (activation_post_process_487): HistogramObserver(min_val=inf, max_val=-inf)\n",
       "  (activation_post_process_492): HistogramObserver(min_val=inf, max_val=-inf)\n",
       "  (activation_post_process_494): HistogramObserver(min_val=inf, max_val=-inf)\n",
       "  (activation_post_process_488): HistogramObserver(min_val=inf, max_val=-inf)\n",
       "  (activation_post_process_489): HistogramObserver(min_val=inf, max_val=-inf)\n",
       "  (activation_post_process_490): HistogramObserver(min_val=inf, max_val=-inf)\n",
       "  (activation_post_process_491): HistogramObserver(min_val=inf, max_val=-inf)\n",
       "  (activation_post_process_493): HistogramObserver(min_val=inf, max_val=-inf)\n",
       "  (activation_post_process_495): HistogramObserver(min_val=inf, max_val=-inf)\n",
       "  (activation_post_process_496): HistogramObserver(min_val=inf, max_val=-inf)\n",
       "  (activation_post_process_499): HistogramObserver(min_val=inf, max_val=-inf)\n",
       "  (activation_post_process_498): HistogramObserver(min_val=inf, max_val=-inf)\n",
       "  (activation_post_process_500): HistogramObserver(min_val=inf, max_val=-inf)\n",
       "  (activation_post_process_501): HistogramObserver(min_val=inf, max_val=-inf)\n",
       "  (activation_post_process_502): HistogramObserver(min_val=inf, max_val=-inf)\n",
       "  (activation_post_process_503): HistogramObserver(min_val=inf, max_val=-inf)\n",
       "  (activation_post_process_504): HistogramObserver(min_val=inf, max_val=-inf)\n",
       "  (activation_post_process_505): HistogramObserver(min_val=inf, max_val=-inf)\n",
       "  (activation_post_process_506): HistogramObserver(min_val=inf, max_val=-inf)\n",
       "  (activation_post_process_507): HistogramObserver(min_val=inf, max_val=-inf)\n",
       "  (activation_post_process_508): HistogramObserver(min_val=inf, max_val=-inf)\n",
       "  (activation_post_process_509): HistogramObserver(min_val=inf, max_val=-inf)\n",
       "  (activation_post_process_510): HistogramObserver(min_val=inf, max_val=-inf)\n",
       "  (activation_post_process_511): HistogramObserver(min_val=inf, max_val=-inf)\n",
       "  (activation_post_process_512): HistogramObserver(min_val=inf, max_val=-inf)\n",
       "  (activation_post_process_513): HistogramObserver(min_val=inf, max_val=-inf)\n",
       "  (activation_post_process_514): HistogramObserver(min_val=inf, max_val=-inf)\n",
       "  (activation_post_process_515): HistogramObserver(min_val=inf, max_val=-inf)\n",
       "  (activation_post_process_516): HistogramObserver(min_val=inf, max_val=-inf)\n",
       "  (activation_post_process_517): HistogramObserver(min_val=inf, max_val=-inf)\n",
       "  (activation_post_process_544): HistogramObserver(min_val=inf, max_val=-inf)\n",
       "  (activation_post_process_570): HistogramObserver(min_val=inf, max_val=-inf)\n",
       "  (activation_post_process_518): HistogramObserver(min_val=inf, max_val=-inf)\n",
       "  (activation_post_process_519): HistogramObserver(min_val=inf, max_val=-inf)\n",
       "  (activation_post_process_520): HistogramObserver(min_val=inf, max_val=-inf)\n",
       "  (activation_post_process_521): HistogramObserver(min_val=inf, max_val=-inf)\n",
       "  (activation_post_process_522): HistogramObserver(min_val=inf, max_val=-inf)\n",
       "  (activation_post_process_523): HistogramObserver(min_val=inf, max_val=-inf)\n",
       "  (activation_post_process_524): HistogramObserver(min_val=inf, max_val=-inf)\n",
       "  (activation_post_process_525): HistogramObserver(min_val=inf, max_val=-inf)\n",
       "  (activation_post_process_526): HistogramObserver(min_val=inf, max_val=-inf)\n",
       "  (activation_post_process_527): HistogramObserver(min_val=inf, max_val=-inf)\n",
       "  (activation_post_process_528): HistogramObserver(min_val=inf, max_val=-inf)\n",
       "  (activation_post_process_529): HistogramObserver(min_val=inf, max_val=-inf)\n",
       "  (activation_post_process_530): HistogramObserver(min_val=inf, max_val=-inf)\n",
       "  (activation_post_process_531): HistogramObserver(min_val=inf, max_val=-inf)\n",
       "  (activation_post_process_532): HistogramObserver(min_val=inf, max_val=-inf)\n",
       "  (activation_post_process_533): HistogramObserver(min_val=inf, max_val=-inf)\n",
       "  (activation_post_process_534): HistogramObserver(min_val=inf, max_val=-inf)\n",
       "  (activation_post_process_535): HistogramObserver(min_val=inf, max_val=-inf)\n",
       "  (activation_post_process_536): HistogramObserver(min_val=inf, max_val=-inf)\n",
       "  (activation_post_process_537): HistogramObserver(min_val=inf, max_val=-inf)\n",
       "  (activation_post_process_538): HistogramObserver(min_val=inf, max_val=-inf)\n",
       "  (activation_post_process_539): HistogramObserver(min_val=inf, max_val=-inf)\n",
       "  (activation_post_process_540): HistogramObserver(min_val=inf, max_val=-inf)\n",
       "  (activation_post_process_541): HistogramObserver(min_val=inf, max_val=-inf)\n",
       "  (activation_post_process_542): HistogramObserver(min_val=inf, max_val=-inf)\n",
       "  (activation_post_process_543): HistogramObserver(min_val=inf, max_val=-inf)\n",
       "  (activation_post_process_546): HistogramObserver(min_val=inf, max_val=-inf)\n",
       "  (activation_post_process_545): HistogramObserver(min_val=inf, max_val=-inf)\n",
       "  (activation_post_process_547): HistogramObserver(min_val=inf, max_val=-inf)\n",
       "  (activation_post_process_548): HistogramObserver(min_val=inf, max_val=-inf)\n",
       "  (activation_post_process_549): HistogramObserver(min_val=inf, max_val=-inf)\n",
       "  (activation_post_process_550): HistogramObserver(min_val=inf, max_val=-inf)\n",
       "  (activation_post_process_551): HistogramObserver(min_val=inf, max_val=-inf)\n",
       "  (activation_post_process_552): HistogramObserver(min_val=inf, max_val=-inf)\n",
       "  (activation_post_process_553): HistogramObserver(min_val=inf, max_val=-inf)\n",
       "  (activation_post_process_554): HistogramObserver(min_val=inf, max_val=-inf)\n",
       "  (activation_post_process_555): HistogramObserver(min_val=inf, max_val=-inf)\n",
       "  (activation_post_process_556): HistogramObserver(min_val=inf, max_val=-inf)\n",
       "  (activation_post_process_557): HistogramObserver(min_val=inf, max_val=-inf)\n",
       "  (activation_post_process_558): HistogramObserver(min_val=inf, max_val=-inf)\n",
       "  (activation_post_process_559): HistogramObserver(min_val=inf, max_val=-inf)\n",
       "  (activation_post_process_560): HistogramObserver(min_val=inf, max_val=-inf)\n",
       "  (activation_post_process_565): HistogramObserver(min_val=inf, max_val=-inf)\n",
       "  (activation_post_process_567): HistogramObserver(min_val=inf, max_val=-inf)\n",
       "  (activation_post_process_561): HistogramObserver(min_val=inf, max_val=-inf)\n",
       "  (activation_post_process_562): HistogramObserver(min_val=inf, max_val=-inf)\n",
       "  (activation_post_process_563): HistogramObserver(min_val=inf, max_val=-inf)\n",
       "  (activation_post_process_564): HistogramObserver(min_val=inf, max_val=-inf)\n",
       "  (activation_post_process_566): HistogramObserver(min_val=inf, max_val=-inf)\n",
       "  (activation_post_process_568): HistogramObserver(min_val=inf, max_val=-inf)\n",
       "  (activation_post_process_569): HistogramObserver(min_val=inf, max_val=-inf)\n",
       "  (activation_post_process_572): HistogramObserver(min_val=inf, max_val=-inf)\n",
       "  (activation_post_process_571): HistogramObserver(min_val=inf, max_val=-inf)\n",
       "  (activation_post_process_573): HistogramObserver(min_val=inf, max_val=-inf)\n",
       "  (activation_post_process_574): HistogramObserver(min_val=inf, max_val=-inf)\n",
       "  (activation_post_process_575): HistogramObserver(min_val=inf, max_val=-inf)\n",
       "  (activation_post_process_576): HistogramObserver(min_val=inf, max_val=-inf)\n",
       "  (activation_post_process_577): HistogramObserver(min_val=inf, max_val=-inf)\n",
       "  (activation_post_process_578): HistogramObserver(min_val=inf, max_val=-inf)\n",
       "  (activation_post_process_579): HistogramObserver(min_val=inf, max_val=-inf)\n",
       "  (activation_post_process_580): HistogramObserver(min_val=inf, max_val=-inf)\n",
       "  (activation_post_process_581): HistogramObserver(min_val=inf, max_val=-inf)\n",
       "  (activation_post_process_582): HistogramObserver(min_val=inf, max_val=-inf)\n",
       "  (activation_post_process_583): HistogramObserver(min_val=inf, max_val=-inf)\n",
       "  (activation_post_process_584): HistogramObserver(min_val=inf, max_val=-inf)\n",
       "  (activation_post_process_585): HistogramObserver(min_val=inf, max_val=-inf)\n",
       "  (activation_post_process_586): HistogramObserver(min_val=inf, max_val=-inf)\n",
       "  (activation_post_process_587): HistogramObserver(min_val=inf, max_val=-inf)\n",
       "  (activation_post_process_588): HistogramObserver(min_val=inf, max_val=-inf)\n",
       "  (activation_post_process_589): HistogramObserver(min_val=inf, max_val=-inf)\n",
       "  (activation_post_process_590): HistogramObserver(min_val=inf, max_val=-inf)\n",
       "  (activation_post_process_617): HistogramObserver(min_val=inf, max_val=-inf)\n",
       "  (activation_post_process_643): HistogramObserver(min_val=inf, max_val=-inf)\n",
       "  (activation_post_process_591): HistogramObserver(min_val=inf, max_val=-inf)\n",
       "  (activation_post_process_592): HistogramObserver(min_val=inf, max_val=-inf)\n",
       "  (activation_post_process_593): HistogramObserver(min_val=inf, max_val=-inf)\n",
       "  (activation_post_process_594): HistogramObserver(min_val=inf, max_val=-inf)\n",
       "  (activation_post_process_595): HistogramObserver(min_val=inf, max_val=-inf)\n",
       "  (activation_post_process_596): HistogramObserver(min_val=inf, max_val=-inf)\n",
       "  (activation_post_process_597): HistogramObserver(min_val=inf, max_val=-inf)\n",
       "  (activation_post_process_598): HistogramObserver(min_val=inf, max_val=-inf)\n",
       "  (activation_post_process_599): HistogramObserver(min_val=inf, max_val=-inf)\n",
       "  (activation_post_process_600): HistogramObserver(min_val=inf, max_val=-inf)\n",
       "  (activation_post_process_601): HistogramObserver(min_val=inf, max_val=-inf)\n",
       "  (activation_post_process_602): HistogramObserver(min_val=inf, max_val=-inf)\n",
       "  (activation_post_process_603): HistogramObserver(min_val=inf, max_val=-inf)\n",
       "  (activation_post_process_604): HistogramObserver(min_val=inf, max_val=-inf)\n",
       "  (activation_post_process_605): HistogramObserver(min_val=inf, max_val=-inf)\n",
       "  (activation_post_process_606): HistogramObserver(min_val=inf, max_val=-inf)\n",
       "  (activation_post_process_607): HistogramObserver(min_val=inf, max_val=-inf)\n",
       "  (activation_post_process_608): HistogramObserver(min_val=inf, max_val=-inf)\n",
       "  (activation_post_process_609): HistogramObserver(min_val=inf, max_val=-inf)\n",
       "  (activation_post_process_610): HistogramObserver(min_val=inf, max_val=-inf)\n",
       "  (activation_post_process_611): HistogramObserver(min_val=inf, max_val=-inf)\n",
       "  (activation_post_process_612): HistogramObserver(min_val=inf, max_val=-inf)\n",
       "  (activation_post_process_613): HistogramObserver(min_val=inf, max_val=-inf)\n",
       "  (activation_post_process_614): HistogramObserver(min_val=inf, max_val=-inf)\n",
       "  (activation_post_process_615): HistogramObserver(min_val=inf, max_val=-inf)\n",
       "  (activation_post_process_616): HistogramObserver(min_val=inf, max_val=-inf)\n",
       "  (activation_post_process_619): HistogramObserver(min_val=inf, max_val=-inf)\n",
       "  (activation_post_process_618): HistogramObserver(min_val=inf, max_val=-inf)\n",
       "  (activation_post_process_620): HistogramObserver(min_val=inf, max_val=-inf)\n",
       "  (activation_post_process_621): HistogramObserver(min_val=inf, max_val=-inf)\n",
       "  (activation_post_process_622): HistogramObserver(min_val=inf, max_val=-inf)\n",
       "  (activation_post_process_623): HistogramObserver(min_val=inf, max_val=-inf)\n",
       "  (activation_post_process_624): HistogramObserver(min_val=inf, max_val=-inf)\n",
       "  (activation_post_process_625): HistogramObserver(min_val=inf, max_val=-inf)\n",
       "  (activation_post_process_626): HistogramObserver(min_val=inf, max_val=-inf)\n",
       "  (activation_post_process_627): HistogramObserver(min_val=inf, max_val=-inf)\n",
       "  (activation_post_process_628): HistogramObserver(min_val=inf, max_val=-inf)\n",
       "  (activation_post_process_629): HistogramObserver(min_val=inf, max_val=-inf)\n",
       "  (activation_post_process_630): HistogramObserver(min_val=inf, max_val=-inf)\n",
       "  (activation_post_process_631): HistogramObserver(min_val=inf, max_val=-inf)\n",
       "  (activation_post_process_632): HistogramObserver(min_val=inf, max_val=-inf)\n",
       "  (activation_post_process_633): HistogramObserver(min_val=inf, max_val=-inf)\n",
       "  (activation_post_process_638): HistogramObserver(min_val=inf, max_val=-inf)\n",
       "  (activation_post_process_640): HistogramObserver(min_val=inf, max_val=-inf)\n",
       "  (activation_post_process_634): HistogramObserver(min_val=inf, max_val=-inf)\n",
       "  (activation_post_process_635): HistogramObserver(min_val=inf, max_val=-inf)\n",
       "  (activation_post_process_636): HistogramObserver(min_val=inf, max_val=-inf)\n",
       "  (activation_post_process_637): HistogramObserver(min_val=inf, max_val=-inf)\n",
       "  (activation_post_process_639): HistogramObserver(min_val=inf, max_val=-inf)\n",
       "  (activation_post_process_641): HistogramObserver(min_val=inf, max_val=-inf)\n",
       "  (activation_post_process_642): HistogramObserver(min_val=inf, max_val=-inf)\n",
       "  (activation_post_process_645): HistogramObserver(min_val=inf, max_val=-inf)\n",
       "  (activation_post_process_644): HistogramObserver(min_val=inf, max_val=-inf)\n",
       "  (activation_post_process_646): HistogramObserver(min_val=inf, max_val=-inf)\n",
       "  (activation_post_process_647): HistogramObserver(min_val=inf, max_val=-inf)\n",
       "  (activation_post_process_648): HistogramObserver(min_val=inf, max_val=-inf)\n",
       "  (activation_post_process_649): HistogramObserver(min_val=inf, max_val=-inf)\n",
       "  (activation_post_process_650): HistogramObserver(min_val=inf, max_val=-inf)\n",
       "  (activation_post_process_651): HistogramObserver(min_val=inf, max_val=-inf)\n",
       "  (activation_post_process_652): HistogramObserver(min_val=inf, max_val=-inf)\n",
       "  (activation_post_process_653): HistogramObserver(min_val=inf, max_val=-inf)\n",
       "  (activation_post_process_654): HistogramObserver(min_val=inf, max_val=-inf)\n",
       "  (activation_post_process_655): HistogramObserver(min_val=inf, max_val=-inf)\n",
       "  (activation_post_process_656): HistogramObserver(min_val=inf, max_val=-inf)\n",
       "  (activation_post_process_657): HistogramObserver(min_val=inf, max_val=-inf)\n",
       "  (activation_post_process_658): HistogramObserver(min_val=inf, max_val=-inf)\n",
       "  (activation_post_process_659): HistogramObserver(min_val=inf, max_val=-inf)\n",
       "  (activation_post_process_660): HistogramObserver(min_val=inf, max_val=-inf)\n",
       "  (activation_post_process_661): HistogramObserver(min_val=inf, max_val=-inf)\n",
       "  (activation_post_process_662): HistogramObserver(min_val=inf, max_val=-inf)\n",
       "  (activation_post_process_663): HistogramObserver(min_val=inf, max_val=-inf)\n",
       "  (activation_post_process_690): HistogramObserver(min_val=inf, max_val=-inf)\n",
       "  (activation_post_process_716): HistogramObserver(min_val=inf, max_val=-inf)\n",
       "  (activation_post_process_664): HistogramObserver(min_val=inf, max_val=-inf)\n",
       "  (activation_post_process_665): HistogramObserver(min_val=inf, max_val=-inf)\n",
       "  (activation_post_process_666): HistogramObserver(min_val=inf, max_val=-inf)\n",
       "  (activation_post_process_667): HistogramObserver(min_val=inf, max_val=-inf)\n",
       "  (activation_post_process_668): HistogramObserver(min_val=inf, max_val=-inf)\n",
       "  (activation_post_process_669): HistogramObserver(min_val=inf, max_val=-inf)\n",
       "  (activation_post_process_670): HistogramObserver(min_val=inf, max_val=-inf)\n",
       "  (activation_post_process_671): HistogramObserver(min_val=inf, max_val=-inf)\n",
       "  (activation_post_process_672): HistogramObserver(min_val=inf, max_val=-inf)\n",
       "  (activation_post_process_673): HistogramObserver(min_val=inf, max_val=-inf)\n",
       "  (activation_post_process_674): HistogramObserver(min_val=inf, max_val=-inf)\n",
       "  (activation_post_process_675): HistogramObserver(min_val=inf, max_val=-inf)\n",
       "  (activation_post_process_676): HistogramObserver(min_val=inf, max_val=-inf)\n",
       "  (activation_post_process_677): HistogramObserver(min_val=inf, max_val=-inf)\n",
       "  (activation_post_process_678): HistogramObserver(min_val=inf, max_val=-inf)\n",
       "  (activation_post_process_679): HistogramObserver(min_val=inf, max_val=-inf)\n",
       "  (activation_post_process_680): HistogramObserver(min_val=inf, max_val=-inf)\n",
       "  (activation_post_process_681): HistogramObserver(min_val=inf, max_val=-inf)\n",
       "  (activation_post_process_682): HistogramObserver(min_val=inf, max_val=-inf)\n",
       "  (activation_post_process_683): HistogramObserver(min_val=inf, max_val=-inf)\n",
       "  (activation_post_process_684): HistogramObserver(min_val=inf, max_val=-inf)\n",
       "  (activation_post_process_685): HistogramObserver(min_val=inf, max_val=-inf)\n",
       "  (activation_post_process_686): HistogramObserver(min_val=inf, max_val=-inf)\n",
       "  (activation_post_process_687): HistogramObserver(min_val=inf, max_val=-inf)\n",
       "  (activation_post_process_688): HistogramObserver(min_val=inf, max_val=-inf)\n",
       "  (activation_post_process_689): HistogramObserver(min_val=inf, max_val=-inf)\n",
       "  (activation_post_process_692): HistogramObserver(min_val=inf, max_val=-inf)\n",
       "  (activation_post_process_691): HistogramObserver(min_val=inf, max_val=-inf)\n",
       "  (activation_post_process_693): HistogramObserver(min_val=inf, max_val=-inf)\n",
       "  (activation_post_process_694): HistogramObserver(min_val=inf, max_val=-inf)\n",
       "  (activation_post_process_695): HistogramObserver(min_val=inf, max_val=-inf)\n",
       "  (activation_post_process_696): HistogramObserver(min_val=inf, max_val=-inf)\n",
       "  (activation_post_process_697): HistogramObserver(min_val=inf, max_val=-inf)\n",
       "  (activation_post_process_698): HistogramObserver(min_val=inf, max_val=-inf)\n",
       "  (activation_post_process_699): HistogramObserver(min_val=inf, max_val=-inf)\n",
       "  (activation_post_process_700): HistogramObserver(min_val=inf, max_val=-inf)\n",
       "  (activation_post_process_701): HistogramObserver(min_val=inf, max_val=-inf)\n",
       "  (activation_post_process_702): HistogramObserver(min_val=inf, max_val=-inf)\n",
       "  (activation_post_process_703): HistogramObserver(min_val=inf, max_val=-inf)\n",
       "  (activation_post_process_704): HistogramObserver(min_val=inf, max_val=-inf)\n",
       "  (activation_post_process_705): HistogramObserver(min_val=inf, max_val=-inf)\n",
       "  (activation_post_process_706): HistogramObserver(min_val=inf, max_val=-inf)\n",
       "  (activation_post_process_711): HistogramObserver(min_val=inf, max_val=-inf)\n",
       "  (activation_post_process_713): HistogramObserver(min_val=inf, max_val=-inf)\n",
       "  (activation_post_process_707): HistogramObserver(min_val=inf, max_val=-inf)\n",
       "  (activation_post_process_708): HistogramObserver(min_val=inf, max_val=-inf)\n",
       "  (activation_post_process_709): HistogramObserver(min_val=inf, max_val=-inf)\n",
       "  (activation_post_process_710): HistogramObserver(min_val=inf, max_val=-inf)\n",
       "  (activation_post_process_712): HistogramObserver(min_val=inf, max_val=-inf)\n",
       "  (activation_post_process_714): HistogramObserver(min_val=inf, max_val=-inf)\n",
       "  (activation_post_process_715): HistogramObserver(min_val=inf, max_val=-inf)\n",
       "  (activation_post_process_718): HistogramObserver(min_val=inf, max_val=-inf)\n",
       "  (activation_post_process_717): HistogramObserver(min_val=inf, max_val=-inf)\n",
       "  (activation_post_process_719): HistogramObserver(min_val=inf, max_val=-inf)\n",
       "  (activation_post_process_720): HistogramObserver(min_val=inf, max_val=-inf)\n",
       "  (activation_post_process_721): HistogramObserver(min_val=inf, max_val=-inf)\n",
       "  (activation_post_process_722): HistogramObserver(min_val=inf, max_val=-inf)\n",
       "  (activation_post_process_723): HistogramObserver(min_val=inf, max_val=-inf)\n",
       "  (activation_post_process_724): HistogramObserver(min_val=inf, max_val=-inf)\n",
       "  (activation_post_process_725): HistogramObserver(min_val=inf, max_val=-inf)\n",
       "  (activation_post_process_726): HistogramObserver(min_val=inf, max_val=-inf)\n",
       "  (activation_post_process_727): HistogramObserver(min_val=inf, max_val=-inf)\n",
       "  (activation_post_process_728): HistogramObserver(min_val=inf, max_val=-inf)\n",
       "  (activation_post_process_729): HistogramObserver(min_val=inf, max_val=-inf)\n",
       "  (activation_post_process_730): HistogramObserver(min_val=inf, max_val=-inf)\n",
       "  (activation_post_process_731): HistogramObserver(min_val=inf, max_val=-inf)\n",
       "  (activation_post_process_732): HistogramObserver(min_val=inf, max_val=-inf)\n",
       "  (activation_post_process_733): HistogramObserver(min_val=inf, max_val=-inf)\n",
       "  (activation_post_process_734): HistogramObserver(min_val=inf, max_val=-inf)\n",
       "  (activation_post_process_735): HistogramObserver(min_val=inf, max_val=-inf)\n",
       "  (activation_post_process_736): HistogramObserver(min_val=inf, max_val=-inf)\n",
       "  (activation_post_process_763): HistogramObserver(min_val=inf, max_val=-inf)\n",
       "  (activation_post_process_789): HistogramObserver(min_val=inf, max_val=-inf)\n",
       "  (activation_post_process_737): HistogramObserver(min_val=inf, max_val=-inf)\n",
       "  (activation_post_process_738): HistogramObserver(min_val=inf, max_val=-inf)\n",
       "  (activation_post_process_739): HistogramObserver(min_val=inf, max_val=-inf)\n",
       "  (activation_post_process_740): HistogramObserver(min_val=inf, max_val=-inf)\n",
       "  (activation_post_process_741): HistogramObserver(min_val=inf, max_val=-inf)\n",
       "  (activation_post_process_742): HistogramObserver(min_val=inf, max_val=-inf)\n",
       "  (activation_post_process_743): HistogramObserver(min_val=inf, max_val=-inf)\n",
       "  (activation_post_process_744): HistogramObserver(min_val=inf, max_val=-inf)\n",
       "  (activation_post_process_745): HistogramObserver(min_val=inf, max_val=-inf)\n",
       "  (activation_post_process_746): HistogramObserver(min_val=inf, max_val=-inf)\n",
       "  (activation_post_process_747): HistogramObserver(min_val=inf, max_val=-inf)\n",
       "  (activation_post_process_748): HistogramObserver(min_val=inf, max_val=-inf)\n",
       "  (activation_post_process_749): HistogramObserver(min_val=inf, max_val=-inf)\n",
       "  (activation_post_process_750): HistogramObserver(min_val=inf, max_val=-inf)\n",
       "  (activation_post_process_751): HistogramObserver(min_val=inf, max_val=-inf)\n",
       "  (activation_post_process_752): HistogramObserver(min_val=inf, max_val=-inf)\n",
       "  (activation_post_process_753): HistogramObserver(min_val=inf, max_val=-inf)\n",
       "  (activation_post_process_754): HistogramObserver(min_val=inf, max_val=-inf)\n",
       "  (activation_post_process_755): HistogramObserver(min_val=inf, max_val=-inf)\n",
       "  (activation_post_process_756): HistogramObserver(min_val=inf, max_val=-inf)\n",
       "  (activation_post_process_757): HistogramObserver(min_val=inf, max_val=-inf)\n",
       "  (activation_post_process_758): HistogramObserver(min_val=inf, max_val=-inf)\n",
       "  (activation_post_process_759): HistogramObserver(min_val=inf, max_val=-inf)\n",
       "  (activation_post_process_760): HistogramObserver(min_val=inf, max_val=-inf)\n",
       "  (activation_post_process_761): HistogramObserver(min_val=inf, max_val=-inf)\n",
       "  (activation_post_process_762): HistogramObserver(min_val=inf, max_val=-inf)\n",
       "  (activation_post_process_765): HistogramObserver(min_val=inf, max_val=-inf)\n",
       "  (activation_post_process_764): HistogramObserver(min_val=inf, max_val=-inf)\n",
       "  (activation_post_process_766): HistogramObserver(min_val=inf, max_val=-inf)\n",
       "  (activation_post_process_767): HistogramObserver(min_val=inf, max_val=-inf)\n",
       "  (activation_post_process_768): HistogramObserver(min_val=inf, max_val=-inf)\n",
       "  (activation_post_process_769): HistogramObserver(min_val=inf, max_val=-inf)\n",
       "  (activation_post_process_770): HistogramObserver(min_val=inf, max_val=-inf)\n",
       "  (activation_post_process_771): HistogramObserver(min_val=inf, max_val=-inf)\n",
       "  (activation_post_process_772): HistogramObserver(min_val=inf, max_val=-inf)\n",
       "  (activation_post_process_773): HistogramObserver(min_val=inf, max_val=-inf)\n",
       "  (activation_post_process_774): HistogramObserver(min_val=inf, max_val=-inf)\n",
       "  (activation_post_process_775): HistogramObserver(min_val=inf, max_val=-inf)\n",
       "  (activation_post_process_776): HistogramObserver(min_val=inf, max_val=-inf)\n",
       "  (activation_post_process_777): HistogramObserver(min_val=inf, max_val=-inf)\n",
       "  (activation_post_process_778): HistogramObserver(min_val=inf, max_val=-inf)\n",
       "  (activation_post_process_779): HistogramObserver(min_val=inf, max_val=-inf)\n",
       "  (activation_post_process_784): HistogramObserver(min_val=inf, max_val=-inf)\n",
       "  (activation_post_process_786): HistogramObserver(min_val=inf, max_val=-inf)\n",
       "  (activation_post_process_780): HistogramObserver(min_val=inf, max_val=-inf)\n",
       "  (activation_post_process_781): HistogramObserver(min_val=inf, max_val=-inf)\n",
       "  (activation_post_process_782): HistogramObserver(min_val=inf, max_val=-inf)\n",
       "  (activation_post_process_783): HistogramObserver(min_val=inf, max_val=-inf)\n",
       "  (activation_post_process_785): HistogramObserver(min_val=inf, max_val=-inf)\n",
       "  (activation_post_process_787): HistogramObserver(min_val=inf, max_val=-inf)\n",
       "  (activation_post_process_788): HistogramObserver(min_val=inf, max_val=-inf)\n",
       "  (activation_post_process_791): HistogramObserver(min_val=inf, max_val=-inf)\n",
       "  (activation_post_process_790): HistogramObserver(min_val=inf, max_val=-inf)\n",
       "  (activation_post_process_792): HistogramObserver(min_val=inf, max_val=-inf)\n",
       "  (activation_post_process_793): HistogramObserver(min_val=inf, max_val=-inf)\n",
       "  (activation_post_process_794): HistogramObserver(min_val=inf, max_val=-inf)\n",
       "  (activation_post_process_795): HistogramObserver(min_val=inf, max_val=-inf)\n",
       "  (activation_post_process_796): HistogramObserver(min_val=inf, max_val=-inf)\n",
       "  (activation_post_process_797): HistogramObserver(min_val=inf, max_val=-inf)\n",
       "  (activation_post_process_798): HistogramObserver(min_val=inf, max_val=-inf)\n",
       "  (activation_post_process_799): HistogramObserver(min_val=inf, max_val=-inf)\n",
       "  (activation_post_process_800): HistogramObserver(min_val=inf, max_val=-inf)\n",
       "  (activation_post_process_801): HistogramObserver(min_val=inf, max_val=-inf)\n",
       "  (activation_post_process_802): HistogramObserver(min_val=inf, max_val=-inf)\n",
       "  (activation_post_process_803): HistogramObserver(min_val=inf, max_val=-inf)\n",
       "  (activation_post_process_804): HistogramObserver(min_val=inf, max_val=-inf)\n",
       "  (activation_post_process_805): HistogramObserver(min_val=inf, max_val=-inf)\n",
       "  (activation_post_process_806): HistogramObserver(min_val=inf, max_val=-inf)\n",
       "  (activation_post_process_807): HistogramObserver(min_val=inf, max_val=-inf)\n",
       "  (activation_post_process_808): HistogramObserver(min_val=inf, max_val=-inf)\n",
       "  (activation_post_process_809): HistogramObserver(min_val=inf, max_val=-inf)\n",
       "  (activation_post_process_836): HistogramObserver(min_val=inf, max_val=-inf)\n",
       "  (activation_post_process_862): HistogramObserver(min_val=inf, max_val=-inf)\n",
       "  (activation_post_process_810): HistogramObserver(min_val=inf, max_val=-inf)\n",
       "  (activation_post_process_811): HistogramObserver(min_val=inf, max_val=-inf)\n",
       "  (activation_post_process_812): HistogramObserver(min_val=inf, max_val=-inf)\n",
       "  (activation_post_process_813): HistogramObserver(min_val=inf, max_val=-inf)\n",
       "  (activation_post_process_814): HistogramObserver(min_val=inf, max_val=-inf)\n",
       "  (activation_post_process_815): HistogramObserver(min_val=inf, max_val=-inf)\n",
       "  (activation_post_process_816): HistogramObserver(min_val=inf, max_val=-inf)\n",
       "  (activation_post_process_817): HistogramObserver(min_val=inf, max_val=-inf)\n",
       "  (activation_post_process_818): HistogramObserver(min_val=inf, max_val=-inf)\n",
       "  (activation_post_process_819): HistogramObserver(min_val=inf, max_val=-inf)\n",
       "  (activation_post_process_820): HistogramObserver(min_val=inf, max_val=-inf)\n",
       "  (activation_post_process_821): HistogramObserver(min_val=inf, max_val=-inf)\n",
       "  (activation_post_process_822): HistogramObserver(min_val=inf, max_val=-inf)\n",
       "  (activation_post_process_823): HistogramObserver(min_val=inf, max_val=-inf)\n",
       "  (activation_post_process_824): HistogramObserver(min_val=inf, max_val=-inf)\n",
       "  (activation_post_process_825): HistogramObserver(min_val=inf, max_val=-inf)\n",
       "  (activation_post_process_826): HistogramObserver(min_val=inf, max_val=-inf)\n",
       "  (activation_post_process_827): HistogramObserver(min_val=inf, max_val=-inf)\n",
       "  (activation_post_process_828): HistogramObserver(min_val=inf, max_val=-inf)\n",
       "  (activation_post_process_829): HistogramObserver(min_val=inf, max_val=-inf)\n",
       "  (activation_post_process_830): HistogramObserver(min_val=inf, max_val=-inf)\n",
       "  (activation_post_process_831): HistogramObserver(min_val=inf, max_val=-inf)\n",
       "  (activation_post_process_832): HistogramObserver(min_val=inf, max_val=-inf)\n",
       "  (activation_post_process_833): HistogramObserver(min_val=inf, max_val=-inf)\n",
       "  (activation_post_process_834): HistogramObserver(min_val=inf, max_val=-inf)\n",
       "  (activation_post_process_835): HistogramObserver(min_val=inf, max_val=-inf)\n",
       "  (activation_post_process_838): HistogramObserver(min_val=inf, max_val=-inf)\n",
       "  (activation_post_process_837): HistogramObserver(min_val=inf, max_val=-inf)\n",
       "  (activation_post_process_839): HistogramObserver(min_val=inf, max_val=-inf)\n",
       "  (activation_post_process_840): HistogramObserver(min_val=inf, max_val=-inf)\n",
       "  (activation_post_process_841): HistogramObserver(min_val=inf, max_val=-inf)\n",
       "  (activation_post_process_842): HistogramObserver(min_val=inf, max_val=-inf)\n",
       "  (activation_post_process_843): HistogramObserver(min_val=inf, max_val=-inf)\n",
       "  (activation_post_process_844): HistogramObserver(min_val=inf, max_val=-inf)\n",
       "  (activation_post_process_845): HistogramObserver(min_val=inf, max_val=-inf)\n",
       "  (activation_post_process_846): HistogramObserver(min_val=inf, max_val=-inf)\n",
       "  (activation_post_process_847): HistogramObserver(min_val=inf, max_val=-inf)\n",
       "  (activation_post_process_848): HistogramObserver(min_val=inf, max_val=-inf)\n",
       "  (activation_post_process_849): HistogramObserver(min_val=inf, max_val=-inf)\n",
       "  (activation_post_process_850): HistogramObserver(min_val=inf, max_val=-inf)\n",
       "  (activation_post_process_851): HistogramObserver(min_val=inf, max_val=-inf)\n",
       "  (activation_post_process_852): HistogramObserver(min_val=inf, max_val=-inf)\n",
       "  (activation_post_process_857): HistogramObserver(min_val=inf, max_val=-inf)\n",
       "  (activation_post_process_859): HistogramObserver(min_val=inf, max_val=-inf)\n",
       "  (activation_post_process_853): HistogramObserver(min_val=inf, max_val=-inf)\n",
       "  (activation_post_process_854): HistogramObserver(min_val=inf, max_val=-inf)\n",
       "  (activation_post_process_855): HistogramObserver(min_val=inf, max_val=-inf)\n",
       "  (activation_post_process_856): HistogramObserver(min_val=inf, max_val=-inf)\n",
       "  (activation_post_process_858): HistogramObserver(min_val=inf, max_val=-inf)\n",
       "  (activation_post_process_860): HistogramObserver(min_val=inf, max_val=-inf)\n",
       "  (activation_post_process_861): HistogramObserver(min_val=inf, max_val=-inf)\n",
       "  (activation_post_process_864): HistogramObserver(min_val=inf, max_val=-inf)\n",
       "  (activation_post_process_863): HistogramObserver(min_val=inf, max_val=-inf)\n",
       "  (activation_post_process_865): HistogramObserver(min_val=inf, max_val=-inf)\n",
       "  (activation_post_process_866): HistogramObserver(min_val=inf, max_val=-inf)\n",
       "  (activation_post_process_867): HistogramObserver(min_val=inf, max_val=-inf)\n",
       "  (activation_post_process_868): HistogramObserver(min_val=inf, max_val=-inf)\n",
       "  (activation_post_process_869): HistogramObserver(min_val=inf, max_val=-inf)\n",
       "  (activation_post_process_870): HistogramObserver(min_val=inf, max_val=-inf)\n",
       "  (activation_post_process_871): HistogramObserver(min_val=inf, max_val=-inf)\n",
       "  (activation_post_process_872): HistogramObserver(min_val=inf, max_val=-inf)\n",
       "  (activation_post_process_873): HistogramObserver(min_val=inf, max_val=-inf)\n",
       "  (activation_post_process_874): HistogramObserver(min_val=inf, max_val=-inf)\n",
       "  (activation_post_process_875): HistogramObserver(min_val=inf, max_val=-inf)\n",
       "  (activation_post_process_876): HistogramObserver(min_val=inf, max_val=-inf)\n",
       "  (activation_post_process_877): HistogramObserver(min_val=inf, max_val=-inf)\n",
       "  (activation_post_process_878): HistogramObserver(min_val=inf, max_val=-inf)\n",
       "  (activation_post_process_879): HistogramObserver(min_val=inf, max_val=-inf)\n",
       "  (activation_post_process_880): HistogramObserver(min_val=inf, max_val=-inf)\n",
       "  (activation_post_process_881): HistogramObserver(min_val=inf, max_val=-inf)\n",
       "  (activation_post_process_882): HistogramObserver(min_val=inf, max_val=-inf)\n",
       "  (activation_post_process_883): HistogramObserver(min_val=inf, max_val=-inf)\n",
       "  (proj_out): Linear(in_features=768, out_features=51865, bias=False)\n",
       "  (activation_post_process_884): HistogramObserver(min_val=inf, max_val=-inf)\n",
       "  (activation_post_process_886): HistogramObserver(min_val=inf, max_val=-inf)\n",
       "  (activation_post_process_885): HistogramObserver(min_val=inf, max_val=-inf)\n",
       "  (activation_post_process_887): HistogramObserver(min_val=inf, max_val=-inf)\n",
       "  (loss_fct): CrossEntropyLoss()\n",
       ")"
      ]
     },
     "execution_count": 9,
     "metadata": {},
     "output_type": "execute_result"
    }
   ],
   "source": [
    "prepare_fx(model, qconfig_mapping, example_inputs, concrete_args=decoder_concrete_args)"
   ]
  },
  {
   "cell_type": "code",
   "execution_count": 2,
   "id": "5d3c91ce",
   "metadata": {},
   "outputs": [],
   "source": [
    "import torch"
   ]
  },
  {
   "cell_type": "code",
   "execution_count": 3,
   "id": "31443de1",
   "metadata": {},
   "outputs": [
    {
     "data": {
      "text/plain": [
       "tensor([[0.3670, 0.9916, 0.8972, 0.7970, 0.3965, 0.5842, 0.2741, 0.5255],\n",
       "        [0.6296, 0.4956, 0.1430, 0.8266, 0.5940, 0.7007, 0.2518, 0.1667],\n",
       "        [0.7255, 0.0080, 0.9489, 0.1894, 0.5512, 0.5293, 0.2753, 0.0508],\n",
       "        [0.0584, 0.3933, 0.1139, 0.7904, 0.3747, 0.3514, 0.7094, 0.1210],\n",
       "        [0.2017, 0.0492, 0.1117, 0.2658, 0.8969, 0.0542, 0.2911, 0.9022],\n",
       "        [0.3773, 0.9827, 0.1489, 0.0572, 0.9670, 0.2209, 0.4054, 0.3755],\n",
       "        [0.8901, 0.5765, 0.0042, 0.6808, 0.5876, 0.0787, 0.9588, 0.2276],\n",
       "        [0.7936, 0.0282, 0.0572, 0.2471, 0.8485, 0.9265, 0.1902, 0.8694]])"
      ]
     },
     "execution_count": 3,
     "metadata": {},
     "output_type": "execute_result"
    }
   ],
   "source": [
    "mask = torch.rand(8,8)\n",
    "mask"
   ]
  },
  {
   "cell_type": "code",
   "execution_count": 10,
   "id": "bdb5ae0d",
   "metadata": {},
   "outputs": [
    {
     "data": {
      "text/plain": [
       "16.0"
      ]
     },
     "execution_count": 10,
     "metadata": {},
     "output_type": "execute_result"
    }
   ],
   "source": [
    "(8**2) / (2**2)"
   ]
  },
  {
   "cell_type": "code",
   "execution_count": 12,
   "id": "d9179b8a",
   "metadata": {},
   "outputs": [],
   "source": [
    "rows = 8\n",
    "cols = 8\n",
    "block_size = 2"
   ]
  },
  {
   "cell_type": "code",
   "execution_count": 14,
   "id": "700f58ff",
   "metadata": {},
   "outputs": [
    {
     "name": "stdout",
     "output_type": "stream",
     "text": [
      "0\n",
      "2\n",
      "4\n",
      "6\n"
     ]
    }
   ],
   "source": [
    "for b in range(rows//block_size):\n",
    "    print(b*block_size)"
   ]
  },
  {
   "cell_type": "code",
   "execution_count": 29,
   "id": "a993ef88",
   "metadata": {},
   "outputs": [],
   "source": [
    "row_ids = [b*block_size for b in range(rows//block_size)]"
   ]
  },
  {
   "cell_type": "code",
   "execution_count": 30,
   "id": "68426c4c",
   "metadata": {},
   "outputs": [],
   "source": [
    "col_ids = [b*block_size for b in range(cols//block_size)]"
   ]
  },
  {
   "cell_type": "code",
   "execution_count": 4,
   "id": "ce90261a",
   "metadata": {},
   "outputs": [],
   "source": [
    "import itertools"
   ]
  },
  {
   "cell_type": "code",
   "execution_count": 43,
   "id": "3a94fd01",
   "metadata": {},
   "outputs": [],
   "source": [
    "block_starts = list(itertools.product(row_ids, col_ids))"
   ]
  },
  {
   "cell_type": "code",
   "execution_count": 36,
   "id": "8c73c8c7",
   "metadata": {},
   "outputs": [
    {
     "data": {
      "text/plain": [
       "0"
      ]
     },
     "execution_count": 36,
     "metadata": {},
     "output_type": "execute_result"
    }
   ],
   "source": [
    "starts[0][0]"
   ]
  },
  {
   "cell_type": "code",
   "execution_count": 46,
   "id": "79cf59b0",
   "metadata": {},
   "outputs": [
    {
     "name": "stdout",
     "output_type": "stream",
     "text": [
      "tensor([[0.5500, 0.6808],\n",
      "        [0.8853, 0.0787]])\n",
      "4\n"
     ]
    }
   ],
   "source": [
    "for starts in block_starts:\n",
    "    block = mask[starts[0]:starts[0]+block_size, starts[1]:starts[1]+block_size]\n",
    "    print(block)\n",
    "    print(block.numel())\n",
    "    break"
   ]
  },
  {
   "cell_type": "code",
   "execution_count": 45,
   "id": "1fc1a444",
   "metadata": {},
   "outputs": [
    {
     "data": {
      "text/plain": [
       "64"
      ]
     },
     "execution_count": 45,
     "metadata": {},
     "output_type": "execute_result"
    }
   ],
   "source": [
    "mask.numel()"
   ]
  },
  {
   "cell_type": "code",
   "execution_count": 47,
   "id": "d07f0f28",
   "metadata": {},
   "outputs": [
    {
     "data": {
      "text/plain": [
       "tensor([[0.5500, 0.6808, 0.0000, 0.0000, 0.3190, 0.4696, 0.1576, 0.5488],\n",
       "        [0.8853, 0.0787, 0.0000, 0.0000, 0.0588, 0.3720, 0.8529, 0.5314],\n",
       "        [0.5348, 0.5938, 0.3496, 0.1799, 0.9819, 0.6040, 0.5582, 0.3997],\n",
       "        [0.4339, 0.7161, 0.8938, 0.2811, 0.3184, 0.5575, 0.6046, 0.9316],\n",
       "        [0.0519, 0.7054, 0.1441, 0.0785, 0.2620, 0.7403, 0.8035, 0.4934],\n",
       "        [0.6501, 0.0503, 0.0231, 0.4434, 0.7548, 0.2351, 0.0118, 0.4432],\n",
       "        [0.6796, 0.2638, 0.6830, 0.9232, 0.9234, 0.0189, 0.7614, 0.2667],\n",
       "        [0.7023, 0.5816, 0.4335, 0.0157, 0.0692, 0.3074, 0.8151, 0.9757]])"
      ]
     },
     "execution_count": 47,
     "metadata": {},
     "output_type": "execute_result"
    }
   ],
   "source": [
    "mask"
   ]
  },
  {
   "cell_type": "code",
   "execution_count": 50,
   "id": "545a9f78",
   "metadata": {},
   "outputs": [
    {
     "data": {
      "text/plain": [
       "tensor([[0.0046, 0.6940, 0.1306, 0.8281],\n",
       "        [0.0148, 0.0548, 0.3951, 0.5808],\n",
       "        [0.3264, 0.6692, 0.2732, 0.4666],\n",
       "        [0.0983, 0.0590, 0.1664, 0.3158]], requires_grad=True)"
      ]
     },
     "execution_count": 50,
     "metadata": {},
     "output_type": "execute_result"
    }
   ],
   "source": [
    "x = torch.rand((4,4), requires_grad=True)\n",
    "x"
   ]
  },
  {
   "cell_type": "code",
   "execution_count": 52,
   "id": "58817836",
   "metadata": {},
   "outputs": [],
   "source": [
    "y = torch.var(x)"
   ]
  },
  {
   "cell_type": "code",
   "execution_count": 54,
   "id": "51d3f25d",
   "metadata": {},
   "outputs": [
    {
     "data": {
      "text/plain": [
       "tensor(0.0705, grad_fn=<VarBackward0>)"
      ]
     },
     "execution_count": 54,
     "metadata": {},
     "output_type": "execute_result"
    }
   ],
   "source": [
    "y"
   ]
  },
  {
   "cell_type": "code",
   "execution_count": 53,
   "id": "6b22dec3",
   "metadata": {},
   "outputs": [
    {
     "data": {
      "text/plain": [
       "tensor([[-0.0417,  0.0502, -0.0249,  0.0681],\n",
       "        [-0.0403, -0.0350,  0.0104,  0.0351],\n",
       "        [ 0.0012,  0.0469, -0.0059,  0.0199],\n",
       "        [-0.0292, -0.0344, -0.0201, -0.0002]])"
      ]
     },
     "execution_count": 53,
     "metadata": {},
     "output_type": "execute_result"
    }
   ],
   "source": [
    "y.backward(retain_graph=True)\n",
    "x.grad"
   ]
  },
  {
   "cell_type": "code",
   "execution_count": 6,
   "id": "625b2a18",
   "metadata": {},
   "outputs": [],
   "source": [
    "block_size = 2\n",
    "out_features = 8\n",
    "in_features = 8"
   ]
  },
  {
   "cell_type": "code",
   "execution_count": 7,
   "id": "49787659",
   "metadata": {},
   "outputs": [],
   "source": [
    "row_ids = [b*block_size for b in range(out_features//block_size)]\n",
    "# column indices where a block starts\n",
    "col_ids = [b*block_size for b in range(in_features//block_size)]\n",
    "    # cartesian product\n",
    "# each element is a tuple containing the top left position of each block\n",
    "block_starts = list(itertools.product(row_ids, col_ids))"
   ]
  },
  {
   "cell_type": "code",
   "execution_count": 8,
   "id": "0137cf35",
   "metadata": {},
   "outputs": [
    {
     "data": {
      "text/plain": [
       "[(0, 0),\n",
       " (0, 2),\n",
       " (0, 4),\n",
       " (0, 6),\n",
       " (2, 0),\n",
       " (2, 2),\n",
       " (2, 4),\n",
       " (2, 6),\n",
       " (4, 0),\n",
       " (4, 2),\n",
       " (4, 4),\n",
       " (4, 6),\n",
       " (6, 0),\n",
       " (6, 2),\n",
       " (6, 4),\n",
       " (6, 6)]"
      ]
     },
     "execution_count": 8,
     "metadata": {},
     "output_type": "execute_result"
    }
   ],
   "source": [
    "block_starts"
   ]
  },
  {
   "cell_type": "code",
   "execution_count": 11,
   "id": "83b024a1",
   "metadata": {},
   "outputs": [],
   "source": [
    "for starts in block_starts:\n",
    "    # get a block\n",
    "    block = mask[starts[0]:starts[0]+block_size, starts[1]:starts[1]+block_size]\n",
    "    mask[starts[0]:starts[0]+block_size, starts[1]:starts[1]+block_size] = 0\n",
    "    break"
   ]
  },
  {
   "cell_type": "code",
   "execution_count": 12,
   "id": "d0fe312e",
   "metadata": {},
   "outputs": [
    {
     "data": {
      "text/plain": [
       "tensor([[0.0000, 0.0000, 0.8972, 0.7970, 0.3965, 0.5842, 0.2741, 0.5255],\n",
       "        [0.0000, 0.0000, 0.1430, 0.8266, 0.5940, 0.7007, 0.2518, 0.1667],\n",
       "        [0.7255, 0.0080, 0.9489, 0.1894, 0.5512, 0.5293, 0.2753, 0.0508],\n",
       "        [0.0584, 0.3933, 0.1139, 0.7904, 0.3747, 0.3514, 0.7094, 0.1210],\n",
       "        [0.2017, 0.0492, 0.1117, 0.2658, 0.8969, 0.0542, 0.2911, 0.9022],\n",
       "        [0.3773, 0.9827, 0.1489, 0.0572, 0.9670, 0.2209, 0.4054, 0.3755],\n",
       "        [0.8901, 0.5765, 0.0042, 0.6808, 0.5876, 0.0787, 0.9588, 0.2276],\n",
       "        [0.7936, 0.0282, 0.0572, 0.2471, 0.8485, 0.9265, 0.1902, 0.8694]])"
      ]
     },
     "execution_count": 12,
     "metadata": {},
     "output_type": "execute_result"
    }
   ],
   "source": [
    "mask"
   ]
  },
  {
   "cell_type": "code",
   "execution_count": 2,
   "id": "c11cecfb",
   "metadata": {},
   "outputs": [],
   "source": [
    "from transformers import WhisperForConditionalGeneration"
   ]
  },
  {
   "cell_type": "code",
   "execution_count": 3,
   "id": "22e7c9c6",
   "metadata": {},
   "outputs": [],
   "source": [
    "model = WhisperForConditionalGeneration.from_pretrained('/home/ujan/speech-processing/models/whisper/whisper-small-common_voice_13_0-sigmoied_threshold-pruned/pasted_checkpoint-5000')"
   ]
  },
  {
   "cell_type": "code",
   "execution_count": 46,
   "id": "40aeebc6",
   "metadata": {},
   "outputs": [],
   "source": [
    "model_old = WhisperForConditionalGeneration.from_pretrained('openai/whisper-small')"
   ]
  },
  {
   "cell_type": "code",
   "execution_count": 15,
   "id": "ab1f4801",
   "metadata": {},
   "outputs": [
    {
     "data": {
      "text/plain": [
       "Parameter containing:\n",
       "tensor([[-0.0000,  0.0000,  0.0000,  ..., -0.0388, -0.0000,  0.0000],\n",
       "        [ 0.0000, -0.0000, -0.0000,  ..., -0.0000,  0.0231, -0.0000],\n",
       "        [-0.0249, -0.0000,  0.0000,  ..., -0.0173, -0.0000,  0.0000],\n",
       "        ...,\n",
       "        [ 0.0000,  0.0000, -0.0000,  ..., -0.0000,  0.0000, -0.0000],\n",
       "        [ 0.0000,  0.0000,  0.0000,  ...,  0.0000,  0.0000, -0.0000],\n",
       "        [ 0.0000, -0.0000, -0.0000,  ..., -0.0000, -0.0000, -0.0000]],\n",
       "       requires_grad=True)"
      ]
     },
     "execution_count": 15,
     "metadata": {},
     "output_type": "execute_result"
    }
   ],
   "source": [
    "model.model.encoder.layers[7].self_attn.k_proj.weight"
   ]
  },
  {
   "cell_type": "code",
   "execution_count": 21,
   "id": "95adb3ff",
   "metadata": {},
   "outputs": [],
   "source": [
    "from transformers import AutoConfig, AutoFeatureExtractor, AutoTokenizer, AutoProcessor, AutoModelForSpeechSeq2Seq\n",
    "from modeling_whisper_traceable import WhisperForConditionalGeneration\n",
    "from datasets import load_dataset\n",
    "import torch\n",
    "\n",
    "model_name_or_path = 'openai/whisper-small'\n",
    "data_dir = 'mozilla-foundation/common_voice_11_0'"
   ]
  },
  {
   "cell_type": "code",
   "execution_count": 48,
   "id": "d7965501",
   "metadata": {},
   "outputs": [
    {
     "name": "stdout",
     "output_type": "stream",
     "text": [
      "loading dataset from mozilla-foundation/common_voice_11_0\n"
     ]
    },
    {
     "name": "stderr",
     "output_type": "stream",
     "text": [
      "Reading metadata...: 10581it [00:00, 23742.22it/s]\n"
     ]
    }
   ],
   "source": [
    "# load dataset\n",
    "print('loading dataset from {}'.format(data_dir))\n",
    "\n",
    "raw_datasets = load_dataset(data_dir, \"zh-CN\", split=\"test\", streaming=True)\n",
    "text_column_name = 'sentence'\n",
    "\n",
    "\n",
    "# model, tokenizer, feature extractor, processor\n",
    "\n",
    "\n",
    "feature_extractor = AutoFeatureExtractor.from_pretrained(\n",
    "    model_name_or_path,\n",
    "    #cache_dir=args.cache_dir,\n",
    "    #revision=args.model_revision,\n",
    "    #use_auth_token=True if args.use_auth_token else None,\n",
    ")\n",
    "tokenizer = AutoTokenizer.from_pretrained(\n",
    "    model_name_or_path,\n",
    "    #cache_dir=args.cache_dir,\n",
    "    #use_fast=model_args.use_fast_tokenizer,\n",
    "    #revision=model_args.model_revision,\n",
    "    #use_auth_token=True if model_args.use_auth_token else None,\n",
    ")\n",
    "\n",
    "tokenizer.set_prefix_tokens(language='chinese', task='transcribe')\n",
    "\n",
    "\n",
    "    \n",
    "processor = AutoProcessor.from_pretrained(model_name_or_path)\n",
    "\n",
    "\n",
    "dataset = raw_datasets\n",
    "\n",
    "model.eval()\n",
    "\n",
    "\n",
    "sample = next(iter(dataset))\n",
    "\n",
    "\n",
    "inputs = processor(\n",
    "    sample['audio'][\"array\"],\n",
    "    sampling_rate=feature_extractor.sampling_rate,\n",
    "    return_attention_mask=True,\n",
    "    return_tensors=\"pt\")\n",
    "                \n",
    "input_features = inputs.input_features\n",
    "attention_mask = inputs.attention_mask\n",
    "decoder_input_ids = torch.tensor([model.config.decoder_start_token_id]).reshape(1, -1)"
   ]
  },
  {
   "cell_type": "code",
   "execution_count": null,
   "id": "19d8f5f4",
   "metadata": {},
   "outputs": [],
   "source": []
  },
  {
   "cell_type": "code",
   "execution_count": null,
   "id": "12da5b36",
   "metadata": {},
   "outputs": [],
   "source": [
    "%timeit output_ids = model.generate(input_features)"
   ]
  },
  {
   "cell_type": "code",
   "execution_count": 49,
   "id": "92e58da8",
   "metadata": {},
   "outputs": [
    {
     "name": "stdout",
     "output_type": "stream",
     "text": [
      "546 ms ± 85.6 ms per loop (mean ± std. dev. of 7 runs, 1 loop each)\n"
     ]
    }
   ],
   "source": [
    "%timeit output_ids = model_old.generate(input_features)"
   ]
  },
  {
   "cell_type": "code",
   "execution_count": 33,
   "id": "550bdcef",
   "metadata": {},
   "outputs": [
    {
     "name": "stderr",
     "output_type": "stream",
     "text": [
      "Reading metadata...: 10581it [00:00, 11039.05it/s]\n"
     ]
    }
   ],
   "source": [
    "sample = next(iter(dataset))\n",
    "\n",
    "\n",
    "inputs = processor(\n",
    "    sample['audio'][\"array\"],\n",
    "    sampling_rate=feature_extractor.sampling_rate,\n",
    "    return_attention_mask=True,\n",
    "    return_tensors=\"pt\")\n",
    "                \n",
    "input_features = inputs.input_features\n",
    "attention_mask = inputs.attention_mask\n",
    "decoder_input_ids = torch.tensor([model.config.decoder_start_token_id]).reshape(1, -1)"
   ]
  },
  {
   "cell_type": "code",
   "execution_count": 36,
   "id": "40e7502d",
   "metadata": {},
   "outputs": [
    {
     "name": "stdout",
     "output_type": "stream",
     "text": [
      "824 ms ± 8.85 ms per loop (mean ± std. dev. of 7 runs, 1 loop each)\n"
     ]
    }
   ],
   "source": [
    "%timeit output_ids = model.generate(input_features)"
   ]
  },
  {
   "cell_type": "code",
   "execution_count": 37,
   "id": "11d46b87",
   "metadata": {},
   "outputs": [
    {
     "name": "stdout",
     "output_type": "stream",
     "text": [
      "791 ms ± 27.5 ms per loop (mean ± std. dev. of 7 runs, 1 loop each)\n"
     ]
    }
   ],
   "source": [
    "%timeit output_ids = model_old.generate(input_features)"
   ]
  },
  {
   "cell_type": "code",
   "execution_count": null,
   "id": "e03ad651",
   "metadata": {},
   "outputs": [],
   "source": []
  },
  {
   "cell_type": "code",
   "execution_count": null,
   "id": "705ca344",
   "metadata": {},
   "outputs": [],
   "source": []
  },
  {
   "cell_type": "code",
   "execution_count": null,
   "id": "5fd8965e",
   "metadata": {},
   "outputs": [],
   "source": []
  },
  {
   "cell_type": "code",
   "execution_count": 27,
   "id": "08956e99",
   "metadata": {},
   "outputs": [],
   "source": [
    "import transformers\n",
    "import datasets\n",
    "from whisper_traceable_masked import MaskedWhisperForConditionalGeneration\n",
    "import torch"
   ]
  },
  {
   "cell_type": "code",
   "execution_count": 28,
   "id": "86f1aeed",
   "metadata": {},
   "outputs": [
    {
     "name": "stderr",
     "output_type": "stream",
     "text": [
      "/Users/ujan/speech-processing/experiments/notebooks/whisper_traceable_masked.py:6415: UserWarning: disabled check : \n",
      "                attn_weights.size() == (bsz * self.num_heads, tgt_len, src_len) \n",
      "            in WhisperAttention.forward\n",
      "  warnings.warn(\n",
      "/Users/ujan/speech-processing/experiments/notebooks/whisper_traceable_masked.py:6420: UserWarning: disabled check :\n",
      "                attn_output.size() == (bsz * self.num_heads, tgt_len, self.head_dim)\n",
      "            in WhisperAttention.forward\n",
      "  warnings.warn(\n",
      "/Users/ujan/speech-processing/experiments/notebooks/whisper_traceable_masked.py:6425: UserWarning: if passing in a tuple for encoder_outputs, wrap it in a BaseModelOutput when return_dict=True\n",
      "                before passing through model. As :\n",
      "                    encoder_outputs = BaseModelOutput(\n",
      "                    last_hidden_state=encoder_outputs[0],\n",
      "                    hidden_states=encoder_outputs[1] if len(encoder_outputs) > 1 else None,\n",
      "                    attentions=encoder_outputs[2] if len(encoder_outputs) > 2 else None,\n",
      "            )\n",
      "  warnings.warn(\n",
      "/Users/ujan/speech-processing/experiments/notebooks/whisper_traceable_masked.py:6434: UserWarning: clamping disabled in WhisperEncoderLayer.forward\n",
      "  warnings.warn('clamping disabled in WhisperEncoderLayer.forward')\n",
      "/Users/ujan/speech-processing/experiments/notebooks/whisper_traceable_masked.py:6435: UserWarning: disabled check : \n",
      "                if head_mask/cross_attn_head_mask has a correct number of layers specified\n",
      "            in WhisperDecoder.forward\n",
      "  warnings.warn(\n",
      "/Users/ujan/speech-processing/experiments/notebooks/whisper_traceable_masked.py:6440: UserWarning: disabled check : \n",
      "                attention_mask.size() == (bsz, 1, tgt_len, src_len))\n",
      "            in WhisperAttention.forward\n",
      "  warnings.warn(\n",
      "/Users/ujan/speech-processing/experiments/notebooks/whisper_traceable_masked.py:6445: UserWarning: disabled check : \n",
      "                layer_head_mask.size() != (self.num_heads,)\n",
      "            in WhisperAttention.forward\n",
      "  warnings.warn(\n",
      "/Users/ujan/speech-processing/experiments/notebooks/whisper_traceable_masked.py:6450: UserWarning: prefix tuning disabled in WhisperAttention.forward\n",
      "  warnings.warn('prefix tuning disabled in WhisperAttention.forward')\n",
      "/Users/ujan/speech-processing/experiments/notebooks/whisper_traceable_masked.py:6451: UserWarning: _prepare_decoder_attention_mask wraped\n",
      "  warnings.warn('_prepare_decoder_attention_mask wraped')\n",
      "/Users/ujan/speech-processing/experiments/notebooks/whisper_traceable_masked.py:6452: UserWarning: gradient checkpointing not supported\n",
      "  warnings.warn('gradient checkpointing not supported')\n",
      "/Users/ujan/speech-processing/experiments/notebooks/whisper_traceable_masked.py:6453: UserWarning: only greedy search supported for now\n",
      "  warnings.warn('only greedy search supported for now')\n",
      "Some weights of MaskedWhisperForConditionalGeneration were not initialized from the model checkpoint at /users/ujan/speech-processing/models/whisper/pasted_checkpoint-5000 and are newly initialized: ['model.encoder.layers.1.fc1.mask_scores', 'model.decoder.layers.9.fc2.mask_scores', 'model.decoder.layers.8.fc1.mask_scores', 'model.decoder.layers.8.self_attn.q_proj.mask_scores', 'model.encoder.layers.10.self_attn.out_proj.mask_scores', 'model.decoder.layers.8.fc2.mask_scores', 'model.encoder.layers.9.self_attn.k_proj.mask_scores', 'model.encoder.layers.11.self_attn.k_proj.mask_scores', 'model.encoder.layers.7.self_attn.out_proj.mask_scores', 'model.decoder.layers.0.fc1.mask_scores', 'model.decoder.layers.0.encoder_attn.v_proj.mask_scores', 'model.decoder.layers.1.encoder_attn.v_proj.mask_scores', 'model.decoder.layers.11.fc2.mask_scores', 'model.decoder.layers.6.encoder_attn.v_proj.mask_scores', 'model.decoder.layers.2.encoder_attn.q_proj.mask_scores', 'model.encoder.layers.5.self_attn.k_proj.mask_scores', 'model.decoder.layers.7.encoder_attn.k_proj.mask_scores', 'model.decoder.layers.7.self_attn.k_proj.mask_scores', 'model.decoder.layers.5.encoder_attn.out_proj.mask_scores', 'model.encoder.layers.10.fc2.mask_scores', 'model.decoder.layers.8.encoder_attn.q_proj.mask_scores', 'model.decoder.layers.5.self_attn.q_proj.mask_scores', 'model.encoder.layers.9.self_attn.out_proj.mask_scores', 'model.decoder.layers.2.self_attn.q_proj.mask_scores', 'model.encoder.layers.0.self_attn.q_proj.mask_scores', 'model.decoder.layers.11.self_attn.out_proj.mask_scores', 'model.decoder.layers.7.self_attn.q_proj.mask_scores', 'model.encoder.layers.4.self_attn.v_proj.mask_scores', 'model.decoder.layers.6.self_attn.out_proj.mask_scores', 'model.decoder.layers.7.self_attn.out_proj.mask_scores', 'model.encoder.layers.1.fc2.mask_scores', 'model.encoder.layers.6.self_attn.q_proj.mask_scores', 'model.decoder.layers.3.self_attn.out_proj.mask_scores', 'model.decoder.layers.9.fc1.mask_scores', 'model.decoder.layers.2.self_attn.out_proj.mask_scores', 'model.decoder.layers.10.self_attn.out_proj.mask_scores', 'model.encoder.layers.10.self_attn.v_proj.mask_scores', 'model.decoder.layers.7.encoder_attn.v_proj.mask_scores', 'model.encoder.layers.1.self_attn.out_proj.mask_scores', 'model.encoder.layers.8.self_attn.q_proj.mask_scores', 'model.encoder.layers.10.fc1.mask_scores', 'model.decoder.layers.2.encoder_attn.out_proj.mask_scores', 'model.decoder.layers.7.encoder_attn.out_proj.mask_scores', 'model.decoder.layers.3.self_attn.q_proj.mask_scores', 'model.decoder.layers.11.self_attn.q_proj.mask_scores', 'model.decoder.layers.9.encoder_attn.q_proj.mask_scores', 'model.decoder.layers.3.encoder_attn.out_proj.mask_scores', 'model.encoder.layers.2.self_attn.q_proj.mask_scores', 'model.encoder.layers.7.self_attn.k_proj.mask_scores', 'model.decoder.layers.3.encoder_attn.v_proj.mask_scores', 'model.encoder.layers.2.self_attn.out_proj.mask_scores', 'model.decoder.layers.11.fc1.mask_scores', 'model.decoder.layers.8.encoder_attn.k_proj.mask_scores', 'model.decoder.layers.11.self_attn.k_proj.mask_scores', 'model.encoder.layers.8.fc1.mask_scores', 'model.encoder.layers.11.self_attn.v_proj.mask_scores', 'model.encoder.layers.0.self_attn.k_proj.mask_scores', 'model.decoder.layers.0.encoder_attn.k_proj.mask_scores', 'model.encoder.layers.3.self_attn.k_proj.mask_scores', 'model.decoder.layers.11.encoder_attn.out_proj.mask_scores', 'model.encoder.layers.4.self_attn.out_proj.mask_scores', 'model.encoder.layers.10.self_attn.q_proj.mask_scores', 'model.decoder.layers.7.self_attn.v_proj.mask_scores', 'model.decoder.layers.0.self_attn.k_proj.mask_scores', 'model.encoder.layers.2.self_attn.k_proj.mask_scores', 'model.decoder.layers.8.self_attn.k_proj.mask_scores', 'model.decoder.layers.4.fc1.mask_scores', 'model.decoder.layers.11.encoder_attn.q_proj.mask_scores', 'model.decoder.layers.9.self_attn.q_proj.mask_scores', 'model.encoder.layers.3.self_attn.q_proj.mask_scores', 'model.decoder.layers.10.self_attn.v_proj.mask_scores', 'model.decoder.layers.5.fc1.mask_scores', 'model.decoder.layers.0.fc2.mask_scores', 'model.decoder.layers.4.encoder_attn.k_proj.mask_scores', 'model.decoder.layers.9.encoder_attn.k_proj.mask_scores', 'model.encoder.layers.11.fc1.mask_scores', 'model.decoder.layers.6.fc2.mask_scores', 'model.decoder.layers.7.fc1.mask_scores', 'model.decoder.layers.0.self_attn.q_proj.mask_scores', 'model.decoder.layers.4.self_attn.k_proj.mask_scores', 'model.encoder.layers.1.self_attn.v_proj.mask_scores', 'model.encoder.layers.11.self_attn.out_proj.mask_scores', 'model.decoder.layers.5.encoder_attn.v_proj.mask_scores', 'model.encoder.layers.9.fc2.mask_scores', 'model.decoder.layers.3.fc1.mask_scores', 'model.decoder.layers.10.encoder_attn.v_proj.mask_scores', 'model.decoder.layers.4.encoder_attn.v_proj.mask_scores', 'model.decoder.layers.3.self_attn.k_proj.mask_scores', 'model.decoder.layers.10.fc2.mask_scores', 'model.decoder.layers.8.encoder_attn.v_proj.mask_scores', 'model.encoder.layers.0.self_attn.out_proj.mask_scores', 'model.decoder.layers.5.fc2.mask_scores', 'model.decoder.layers.5.self_attn.out_proj.mask_scores', 'model.encoder.layers.3.self_attn.out_proj.mask_scores', 'model.encoder.layers.6.self_attn.k_proj.mask_scores', 'model.encoder.layers.3.fc2.mask_scores', 'model.encoder.layers.8.self_attn.k_proj.mask_scores', 'model.decoder.layers.9.self_attn.v_proj.mask_scores', 'model.decoder.layers.2.self_attn.v_proj.mask_scores', 'model.decoder.layers.6.self_attn.k_proj.mask_scores', 'model.decoder.layers.4.encoder_attn.q_proj.mask_scores', 'model.encoder.layers.6.fc1.mask_scores', 'model.encoder.layers.10.self_attn.k_proj.mask_scores', 'model.decoder.layers.1.self_attn.out_proj.mask_scores', 'model.decoder.layers.0.self_attn.out_proj.mask_scores', 'model.decoder.layers.4.self_attn.q_proj.mask_scores', 'model.encoder.layers.4.self_attn.k_proj.mask_scores', 'model.encoder.layers.1.self_attn.q_proj.mask_scores', 'model.encoder.layers.3.fc1.mask_scores', 'model.encoder.layers.0.fc1.mask_scores', 'model.decoder.layers.3.self_attn.v_proj.mask_scores', 'model.decoder.layers.5.self_attn.v_proj.mask_scores', 'model.encoder.layers.5.self_attn.q_proj.mask_scores', 'model.encoder.layers.7.self_attn.v_proj.mask_scores', 'model.encoder.layers.7.fc1.mask_scores', 'model.encoder.layers.6.self_attn.v_proj.mask_scores', 'model.decoder.layers.2.fc2.mask_scores', 'model.decoder.layers.6.encoder_attn.q_proj.mask_scores', 'model.encoder.layers.11.self_attn.q_proj.mask_scores', 'model.decoder.layers.1.encoder_attn.k_proj.mask_scores', 'model.decoder.layers.2.fc1.mask_scores', 'model.decoder.layers.9.self_attn.k_proj.mask_scores', 'model.decoder.layers.5.self_attn.k_proj.mask_scores', 'model.decoder.layers.0.self_attn.v_proj.mask_scores', 'model.decoder.layers.3.encoder_attn.k_proj.mask_scores', 'model.decoder.layers.11.encoder_attn.k_proj.mask_scores', 'model.decoder.layers.11.self_attn.v_proj.mask_scores', 'model.encoder.layers.0.fc2.mask_scores', 'model.encoder.layers.8.self_attn.v_proj.mask_scores', 'model.decoder.layers.1.fc2.mask_scores', 'model.decoder.layers.5.encoder_attn.q_proj.mask_scores', 'model.decoder.layers.10.encoder_attn.k_proj.mask_scores', 'model.encoder.layers.9.self_attn.q_proj.mask_scores', 'model.decoder.layers.1.encoder_attn.q_proj.mask_scores', 'model.decoder.layers.0.encoder_attn.out_proj.mask_scores', 'model.decoder.layers.9.encoder_attn.out_proj.mask_scores', 'model.encoder.layers.6.fc2.mask_scores', 'model.decoder.layers.1.self_attn.v_proj.mask_scores', 'model.encoder.layers.8.fc2.mask_scores', 'model.encoder.layers.5.self_attn.out_proj.mask_scores', 'model.decoder.layers.3.fc2.mask_scores', 'model.decoder.layers.10.self_attn.k_proj.mask_scores', 'model.encoder.layers.6.self_attn.out_proj.mask_scores', 'model.decoder.layers.6.self_attn.v_proj.mask_scores', 'model.decoder.layers.10.encoder_attn.q_proj.mask_scores', 'model.decoder.layers.8.encoder_attn.out_proj.mask_scores', 'model.decoder.layers.6.encoder_attn.k_proj.mask_scores', 'model.encoder.layers.4.fc2.mask_scores', 'model.encoder.layers.5.fc1.mask_scores', 'model.encoder.layers.9.fc1.mask_scores', 'model.decoder.layers.1.self_attn.q_proj.mask_scores', 'model.encoder.layers.0.self_attn.v_proj.mask_scores', 'model.decoder.layers.6.encoder_attn.out_proj.mask_scores', 'model.encoder.layers.2.self_attn.v_proj.mask_scores', 'model.decoder.layers.4.self_attn.v_proj.mask_scores', 'model.decoder.layers.8.self_attn.out_proj.mask_scores', 'model.decoder.layers.5.encoder_attn.k_proj.mask_scores', 'model.decoder.layers.1.self_attn.k_proj.mask_scores', 'model.decoder.layers.6.self_attn.q_proj.mask_scores', 'model.decoder.layers.4.encoder_attn.out_proj.mask_scores', 'model.decoder.layers.10.fc1.mask_scores', 'model.decoder.layers.9.self_attn.out_proj.mask_scores', 'model.encoder.layers.4.fc1.mask_scores', 'model.encoder.layers.5.fc2.mask_scores', 'model.decoder.layers.8.self_attn.v_proj.mask_scores', 'model.decoder.layers.10.self_attn.q_proj.mask_scores', 'model.decoder.layers.10.encoder_attn.out_proj.mask_scores', 'model.encoder.layers.2.fc1.mask_scores', 'model.decoder.layers.11.encoder_attn.v_proj.mask_scores', 'model.decoder.layers.7.encoder_attn.q_proj.mask_scores', 'model.decoder.layers.4.self_attn.out_proj.mask_scores', 'model.decoder.layers.1.fc1.mask_scores', 'model.decoder.layers.9.encoder_attn.v_proj.mask_scores', 'model.encoder.layers.9.self_attn.v_proj.mask_scores', 'model.encoder.layers.3.self_attn.v_proj.mask_scores', 'model.decoder.layers.0.encoder_attn.q_proj.mask_scores', 'model.encoder.layers.7.self_attn.q_proj.mask_scores', 'model.encoder.layers.1.self_attn.k_proj.mask_scores', 'model.encoder.layers.2.fc2.mask_scores', 'model.encoder.layers.7.fc2.mask_scores', 'model.encoder.layers.8.self_attn.out_proj.mask_scores', 'model.decoder.layers.7.fc2.mask_scores', 'model.decoder.layers.3.encoder_attn.q_proj.mask_scores', 'model.encoder.layers.4.self_attn.q_proj.mask_scores', 'model.decoder.layers.2.encoder_attn.v_proj.mask_scores', 'model.decoder.layers.6.fc1.mask_scores', 'model.decoder.layers.2.encoder_attn.k_proj.mask_scores', 'model.encoder.layers.5.self_attn.v_proj.mask_scores', 'model.decoder.layers.4.fc2.mask_scores', 'model.decoder.layers.1.encoder_attn.out_proj.mask_scores', 'model.encoder.layers.11.fc2.mask_scores', 'model.decoder.layers.2.self_attn.k_proj.mask_scores']\n",
      "You should probably TRAIN this model on a down-stream task to be able to use it for predictions and inference.\n"
     ]
    }
   ],
   "source": [
    "model = MaskedWhisperForConditionalGeneration.from_pretrained('/users/ujan/speech-processing/models/whisper/pasted_checkpoint-5000')"
   ]
  },
  {
   "cell_type": "code",
   "execution_count": 16,
   "id": "d485ab40",
   "metadata": {},
   "outputs": [],
   "source": [
    "n_layers = model.config.encoder_layers\n",
    "\n",
    "for layer in n_layers:\n",
    "    "
   ]
  },
  {
   "cell_type": "code",
   "execution_count": 29,
   "id": "ff80b1dd",
   "metadata": {},
   "outputs": [
    {
     "data": {
      "text/plain": [
       "WhisperAttention(\n",
       "  (k_proj): MaskedLinear(in_features=768, out_features=768, bias=False)\n",
       "  (v_proj): MaskedLinear(in_features=768, out_features=768, bias=True)\n",
       "  (q_proj): MaskedLinear(in_features=768, out_features=768, bias=True)\n",
       "  (out_proj): MaskedLinear(in_features=768, out_features=768, bias=True)\n",
       ")"
      ]
     },
     "execution_count": 29,
     "metadata": {},
     "output_type": "execute_result"
    }
   ],
   "source": [
    "model.model.encoder.layers[0].self_attn"
   ]
  },
  {
   "cell_type": "code",
   "execution_count": 34,
   "id": "6533c94c",
   "metadata": {},
   "outputs": [
    {
     "ename": "AttributeError",
     "evalue": "'function' object has no attribute 'update'",
     "output_type": "error",
     "traceback": [
      "\u001b[0;31m---------------------------------------------------------------------------\u001b[0m",
      "\u001b[0;31mAttributeError\u001b[0m                            Traceback (most recent call last)",
      "Cell \u001b[0;32mIn[34], line 1\u001b[0m\n\u001b[0;32m----> 1\u001b[0m model\u001b[39m.\u001b[39;49mmodel\u001b[39m.\u001b[39;49mencoder\u001b[39m.\u001b[39;49mlayers[\u001b[39m0\u001b[39;49m]\u001b[39m.\u001b[39;49mself_attn\u001b[39m.\u001b[39;49mprune_heads()\n",
      "File \u001b[0;32m/Users/ujan/speech-processing/experiments/notebooks/whisper_traceable_masked.py:1076\u001b[0m, in \u001b[0;36mWhisperAttention.prune_heads\u001b[0;34m(self)\u001b[0m\n\u001b[1;32m   1073\u001b[0m \u001b[39mself\u001b[39m\u001b[39m.\u001b[39mout_proj \u001b[39m=\u001b[39m \u001b[39mself\u001b[39m\u001b[39m.\u001b[39mprune_linear(\u001b[39mself\u001b[39m\u001b[39m.\u001b[39mout_proj, \u001b[39mself\u001b[39m\u001b[39m.\u001b[39mget_index(\u001b[39mself\u001b[39m\u001b[39m.\u001b[39mout_proj, heads))\n\u001b[1;32m   1075\u001b[0m \u001b[39m# add to pruned_heads\u001b[39;00m\n\u001b[0;32m-> 1076\u001b[0m \u001b[39mself\u001b[39;49m\u001b[39m.\u001b[39;49mprune_heads\u001b[39m.\u001b[39;49mupdate(heads)\n",
      "\u001b[0;31mAttributeError\u001b[0m: 'function' object has no attribute 'update'"
     ]
    }
   ],
   "source": [
    "model.model.encoder.layers[0].self_attn.prune_heads()"
   ]
  },
  {
   "cell_type": "code",
   "execution_count": null,
   "id": "bba648da",
   "metadata": {},
   "outputs": [],
   "source": []
  },
  {
   "cell_type": "code",
   "execution_count": null,
   "id": "e9039afd",
   "metadata": {},
   "outputs": [],
   "source": []
  },
  {
   "cell_type": "code",
   "execution_count": 35,
   "id": "feb95f98",
   "metadata": {},
   "outputs": [
    {
     "data": {
      "text/plain": [
       "torch.Size([576, 768])"
      ]
     },
     "execution_count": 35,
     "metadata": {},
     "output_type": "execute_result"
    }
   ],
   "source": [
    "model.model.encoder.layers[0].self_attn.q_proj.weight.shape"
   ]
  },
  {
   "cell_type": "code",
   "execution_count": 20,
   "id": "30f60ac5",
   "metadata": {},
   "outputs": [
    {
     "data": {
      "text/plain": [
       "torch.Size([768])"
      ]
     },
     "execution_count": 20,
     "metadata": {},
     "output_type": "execute_result"
    }
   ],
   "source": [
    "model.model.encoder.layers[1].self_attn.q_proj.bias.shape"
   ]
  },
  {
   "cell_type": "code",
   "execution_count": 4,
   "id": "78ac312c",
   "metadata": {},
   "outputs": [
    {
     "data": {
      "text/plain": [
       "torch.Size([768, 768])"
      ]
     },
     "execution_count": 4,
     "metadata": {},
     "output_type": "execute_result"
    }
   ],
   "source": [
    "model.model.encoder.layers[1].self_attn.k_proj.weight.shape"
   ]
  },
  {
   "cell_type": "code",
   "execution_count": 23,
   "id": "82bd51f8",
   "metadata": {},
   "outputs": [
    {
     "data": {
      "text/plain": [
       "Parameter containing:\n",
       "tensor([[-0.3454,  0.2567, -0.0577, -0.0531,  0.2629, -0.2770,  0.1651,  0.2354],\n",
       "        [ 0.0246,  0.1383, -0.1844,  0.2265,  0.2167,  0.1436, -0.2143,  0.2890],\n",
       "        [-0.1389,  0.1298, -0.1271,  0.3178,  0.2265,  0.2532,  0.2212,  0.1376],\n",
       "        [-0.0266, -0.1038,  0.1442,  0.0910,  0.1162,  0.2033,  0.1470,  0.2200],\n",
       "        [-0.0706, -0.0356,  0.1770, -0.3168,  0.0240, -0.2727,  0.1274,  0.1433],\n",
       "        [-0.2800, -0.2679, -0.3011, -0.1833,  0.1450, -0.1462,  0.3520, -0.1301],\n",
       "        [ 0.0195, -0.0116,  0.2186, -0.2406,  0.2759,  0.2960,  0.1356, -0.1104],\n",
       "        [ 0.0513,  0.2382,  0.2592, -0.0341, -0.1410,  0.0554,  0.3369, -0.0965]],\n",
       "       requires_grad=True)"
      ]
     },
     "execution_count": 23,
     "metadata": {},
     "output_type": "execute_result"
    }
   ],
   "source": [
    "linear = torch.nn.Linear(8,8)\n",
    "linear.weight"
   ]
  },
  {
   "cell_type": "code",
   "execution_count": 29,
   "id": "1fa43909",
   "metadata": {},
   "outputs": [
    {
     "name": "stdout",
     "output_type": "stream",
     "text": [
      "tensor([0, 1, 2, 3, 4, 5, 6, 7])\n"
     ]
    }
   ],
   "source": [
    "num_heads = 4\n",
    "head_dim = 2\n",
    "to_prune = set()\n",
    "\n",
    "mask = torch.ones(num_heads, head_dim)\n",
    "heads = set([h for h in range(num_heads)])\n",
    "        \n",
    "for h in heads:\n",
    "    head = linear.weight[h*head_dim:(h+1)*head_dim, :]\n",
    "    if h in to_prune:\n",
    "        mask[h] = 0\n",
    "mask = mask.view(-1).contiguous().eq(1)\n",
    "index: torch.LongTensor = torch.arange(len(mask))[mask].long()\n",
    "print(index)"
   ]
  },
  {
   "cell_type": "code",
   "execution_count": null,
   "id": "96d230bb",
   "metadata": {},
   "outputs": [],
   "source": []
  },
  {
   "cell_type": "code",
   "execution_count": 16,
   "id": "02d1e636",
   "metadata": {},
   "outputs": [],
   "source": [
    "k_layer1 = model.model.encoder.layers[1].self_attn.k_proj.weight\n",
    "q_layer1 = model.model.encoder.layers[1].self_attn.q_proj.weight\n",
    "v_layer1 = model.model.encoder.layers[1].self_attn.v_proj.weight"
   ]
  },
  {
   "cell_type": "code",
   "execution_count": 10,
   "id": "1ce86772",
   "metadata": {},
   "outputs": [
    {
     "name": "stdout",
     "output_type": "stream",
     "text": [
      "tensor(0.7455)\n",
      "tensor(0.9654)\n",
      "tensor(0.9864)\n",
      "tensor(1.)\n",
      "tensor(0.8030)\n",
      "tensor(1.)\n",
      "tensor(0.9452)\n",
      "tensor(0.8397)\n",
      "tensor(0.7087)\n",
      "tensor(0.6654)\n",
      "tensor(0.8525)\n",
      "tensor(0.7038)\n",
      "tensor(1.)\n",
      "tensor(1.)\n",
      "tensor(1.)\n",
      "tensor(1.)\n",
      "tensor(1.)\n",
      "tensor(1.)\n",
      "tensor(1.)\n",
      "tensor(1.)\n",
      "tensor(1.)\n",
      "tensor(1.)\n",
      "tensor(1.)\n",
      "tensor(1.)\n",
      "tensor(1.)\n",
      "tensor(1.)\n",
      "tensor(1.)\n",
      "tensor(1.)\n",
      "tensor(1.)\n",
      "tensor(1.)\n",
      "tensor(1.)\n",
      "tensor(1.)\n",
      "tensor(1.)\n",
      "tensor(1.)\n",
      "tensor(1.)\n",
      "tensor(1.)\n",
      "tensor(0.7362)\n",
      "tensor(0.9858)\n",
      "tensor(1.)\n",
      "tensor(1.)\n",
      "tensor(0.4410)\n",
      "tensor(1.)\n",
      "tensor(1.)\n",
      "tensor(1.)\n",
      "tensor(1.)\n",
      "tensor(1.)\n",
      "tensor(0.7257)\n",
      "tensor(1.)\n",
      "tensor(0.6535)\n",
      "tensor(1.)\n",
      "tensor(1.)\n",
      "tensor(1.)\n",
      "tensor(0.7759)\n",
      "tensor(1.)\n",
      "tensor(0.6208)\n",
      "tensor(1.)\n",
      "tensor(1.)\n",
      "tensor(1.)\n",
      "tensor(1.)\n",
      "tensor(0.4448)\n",
      "tensor(0.9890)\n",
      "tensor(1.)\n",
      "tensor(0.9978)\n",
      "tensor(0.8692)\n",
      "tensor(1.)\n",
      "tensor(1.)\n",
      "tensor(0.6554)\n",
      "tensor(1.)\n",
      "tensor(0.7717)\n",
      "tensor(1.)\n",
      "tensor(0.5163)\n",
      "tensor(1.)\n",
      "tensor(1.)\n",
      "tensor(1.)\n",
      "tensor(0.7433)\n",
      "tensor(1.)\n",
      "tensor(0.6294)\n",
      "tensor(1.)\n",
      "tensor(1.)\n",
      "tensor(1.)\n",
      "tensor(0.6755)\n",
      "tensor(1.)\n",
      "tensor(1.)\n",
      "tensor(0.6428)\n",
      "tensor(0.8654)\n",
      "tensor(0.7953)\n",
      "tensor(1.)\n",
      "tensor(0.8784)\n",
      "tensor(0.8297)\n",
      "tensor(1.)\n",
      "tensor(0.9419)\n",
      "tensor(1.)\n",
      "tensor(0.6383)\n",
      "tensor(0.8304)\n",
      "tensor(1.)\n",
      "tensor(1.)\n",
      "tensor(0.8135)\n",
      "tensor(0.9977)\n",
      "tensor(0.9318)\n",
      "tensor(0.3383)\n",
      "tensor(1.)\n",
      "tensor(1.)\n",
      "tensor(1.)\n",
      "tensor(1.)\n",
      "tensor(0.7586)\n",
      "tensor(0.7920)\n",
      "tensor(1.)\n",
      "tensor(0.6876)\n",
      "tensor(0.8316)\n",
      "tensor(0.6417)\n",
      "tensor(0.4347)\n",
      "tensor(0.9956)\n",
      "tensor(0.6779)\n",
      "tensor(0.6284)\n",
      "tensor(1.)\n",
      "tensor(1.)\n",
      "tensor(1.)\n",
      "tensor(0.6094)\n",
      "tensor(1.)\n",
      "tensor(0.8250)\n",
      "tensor(1.)\n",
      "tensor(0.6144)\n",
      "tensor(1.)\n",
      "tensor(0.9165)\n",
      "tensor(1.)\n",
      "tensor(0.7810)\n",
      "tensor(1.)\n",
      "tensor(0.6867)\n",
      "tensor(0.5583)\n",
      "tensor(0.8609)\n",
      "tensor(0.7999)\n",
      "tensor(1.)\n",
      "tensor(1.)\n",
      "tensor(1.)\n",
      "tensor(1.)\n",
      "tensor(0.8517)\n",
      "tensor(0.9936)\n",
      "tensor(0.9166)\n",
      "tensor(1.)\n",
      "tensor(0.7632)\n",
      "tensor(1.)\n",
      "tensor(1.)\n",
      "tensor(0.8344)\n",
      "tensor(1.)\n"
     ]
    }
   ],
   "source": [
    "n_layers = 12\n",
    "n_heads = 12\n",
    "head_size = 64\n",
    "already_pruned_heads = set()\n",
    "\n",
    "for l in range(n_layers):\n",
    "    k_layer = model.model.decoder.layers[l].self_attn.k_proj.weight\n",
    "    for i in range(n_heads):\n",
    "        head = k_layer[i*head_size:(i+1)*head_size, :]\n",
    "        total = head.numel()\n",
    "        zeros = total - torch.count_nonzero(head)\n",
    "        sparsity = zeros/total\n",
    "        print(sparsity)"
   ]
  },
  {
   "cell_type": "code",
   "execution_count": 31,
   "id": "f2a137bf",
   "metadata": {},
   "outputs": [
    {
     "name": "stdout",
     "output_type": "stream",
     "text": [
      "layer : 0\n",
      "tensor(0.9714)\n",
      "tensor(0.9603)\n",
      "tensor(0.8516)\n",
      "tensor(1.)\n",
      "tensor(0.9751)\n",
      "tensor(0.9912)\n",
      "tensor(0.9149)\n",
      "tensor(0.9273)\n",
      "tensor(1.)\n",
      "tensor(0.9689)\n",
      "tensor(1.)\n",
      "tensor(0.9643)\n",
      "layer : 1\n",
      "tensor(0.7510)\n",
      "tensor(0.9695)\n",
      "tensor(0.8671)\n",
      "tensor(0.8711)\n",
      "tensor(1.)\n",
      "tensor(0.6916)\n",
      "tensor(0.9636)\n",
      "tensor(0.7287)\n",
      "tensor(1.)\n",
      "tensor(0.7927)\n",
      "tensor(0.9893)\n",
      "tensor(0.9953)\n",
      "layer : 2\n",
      "tensor(0.8669)\n",
      "tensor(0.8287)\n",
      "tensor(1.)\n",
      "tensor(0.9455)\n",
      "tensor(0.9921)\n",
      "tensor(0.7903)\n",
      "tensor(0.9809)\n",
      "tensor(0.9854)\n",
      "tensor(0.9890)\n",
      "tensor(1.)\n",
      "tensor(0.7553)\n",
      "tensor(0.8355)\n",
      "layer : 3\n",
      "tensor(0.6078)\n",
      "tensor(1.)\n",
      "tensor(0.9950)\n",
      "tensor(1.)\n",
      "tensor(0.8508)\n",
      "tensor(1.)\n",
      "tensor(0.7106)\n",
      "tensor(0.7519)\n",
      "tensor(0.6570)\n",
      "tensor(0.8331)\n",
      "tensor(0.9931)\n",
      "tensor(0.9432)\n",
      "layer : 4\n",
      "tensor(1.)\n",
      "tensor(1.)\n",
      "tensor(0.7614)\n",
      "tensor(1.)\n",
      "tensor(0.5511)\n",
      "tensor(0.5278)\n",
      "tensor(0.6949)\n",
      "tensor(1.)\n",
      "tensor(0.9240)\n",
      "tensor(0.4983)\n",
      "tensor(0.5682)\n",
      "tensor(0.6837)\n",
      "layer : 5\n",
      "tensor(1.)\n",
      "tensor(1.)\n",
      "tensor(0.8177)\n",
      "tensor(0.6369)\n",
      "tensor(0.6723)\n",
      "tensor(1.)\n",
      "tensor(0.8766)\n",
      "tensor(1.)\n",
      "tensor(1.)\n",
      "tensor(0.8345)\n",
      "tensor(1.)\n",
      "tensor(1.)\n",
      "layer : 6\n",
      "tensor(1.)\n",
      "tensor(0.8228)\n",
      "tensor(0.7293)\n",
      "tensor(0.7039)\n",
      "tensor(0.9908)\n",
      "tensor(0.7575)\n",
      "tensor(0.4220)\n",
      "tensor(0.8871)\n",
      "tensor(0.8705)\n",
      "tensor(0.5867)\n",
      "tensor(1.)\n",
      "tensor(1.)\n",
      "layer : 7\n",
      "tensor(0.8130)\n",
      "tensor(0.5890)\n",
      "tensor(0.7473)\n",
      "tensor(0.8309)\n",
      "tensor(0.9909)\n",
      "tensor(1.)\n",
      "tensor(0.6680)\n",
      "tensor(0.7936)\n",
      "tensor(0.7942)\n",
      "tensor(1.)\n",
      "tensor(0.6106)\n",
      "tensor(1.)\n",
      "layer : 8\n",
      "tensor(0.5691)\n",
      "tensor(0.7509)\n",
      "tensor(1.)\n",
      "tensor(0.7449)\n",
      "tensor(0.8974)\n",
      "tensor(0.5091)\n",
      "tensor(0.6912)\n",
      "tensor(0.5469)\n",
      "tensor(0.6064)\n",
      "tensor(0.6243)\n",
      "tensor(0.9976)\n",
      "tensor(0.9771)\n",
      "layer : 9\n",
      "tensor(0.4999)\n",
      "tensor(0.5130)\n",
      "tensor(0.6741)\n",
      "tensor(0.5895)\n",
      "tensor(0.9022)\n",
      "tensor(0.6666)\n",
      "tensor(0.7118)\n",
      "tensor(0.8116)\n",
      "tensor(0.8801)\n",
      "tensor(0.7242)\n",
      "tensor(0.5946)\n",
      "tensor(0.9612)\n",
      "layer : 10\n",
      "tensor(0.8899)\n",
      "tensor(0.5824)\n",
      "tensor(0.8266)\n",
      "tensor(0.5424)\n",
      "tensor(0.5663)\n",
      "tensor(0.7864)\n",
      "tensor(0.5569)\n",
      "tensor(0.9470)\n",
      "tensor(0.8055)\n",
      "tensor(0.4797)\n",
      "tensor(0.8277)\n",
      "tensor(0.5929)\n",
      "layer : 11\n",
      "tensor(0.7325)\n",
      "tensor(0.7517)\n",
      "tensor(0.6318)\n",
      "tensor(0.8698)\n",
      "tensor(0.4954)\n",
      "tensor(0.5175)\n",
      "tensor(0.6130)\n",
      "tensor(0.6103)\n",
      "tensor(0.7309)\n",
      "tensor(0.5653)\n",
      "tensor(0.8565)\n",
      "tensor(0.7969)\n"
     ]
    }
   ],
   "source": [
    "n_layers = 12\n",
    "n_heads = 12\n",
    "head_size = 64\n",
    "already_pruned_heads = set()\n",
    "\n",
    "for l in range(n_layers):\n",
    "    print('layer : {}'.format(l))\n",
    "    q_layer = model.model.encoder.layers[l].self_attn.q_proj.weight\n",
    "    for i in range(n_heads):\n",
    "        head = q_layer[i*head_size:(i+1)*head_size, :]\n",
    "        total = head.numel()\n",
    "        zeros = total - torch.count_nonzero(head)\n",
    "        sparsity = zeros/total\n",
    "        print(sparsity)"
   ]
  },
  {
   "cell_type": "code",
   "execution_count": 23,
   "id": "24df19cf",
   "metadata": {},
   "outputs": [
    {
     "name": "stdout",
     "output_type": "stream",
     "text": [
      "tensor(0.4625)\n",
      "tensor(0.4472)\n",
      "tensor(0.4431)\n",
      "tensor(0.8786)\n",
      "tensor(0.7661)\n",
      "tensor(0.8391)\n",
      "tensor(0.6809)\n",
      "tensor(0.4908)\n",
      "tensor(0.9108)\n",
      "tensor(0.6605)\n",
      "tensor(0.8629)\n",
      "tensor(0.6276)\n",
      "tensor(0.3697)\n",
      "tensor(0.5136)\n",
      "tensor(0.8359)\n",
      "tensor(0.7241)\n",
      "tensor(0.7291)\n",
      "tensor(0.5412)\n",
      "tensor(0.4911)\n",
      "tensor(0.4878)\n",
      "tensor(0.7707)\n",
      "tensor(0.7071)\n",
      "tensor(0.6876)\n",
      "tensor(0.7410)\n",
      "tensor(0.3993)\n",
      "tensor(0.6327)\n",
      "tensor(0.8552)\n",
      "tensor(0.6821)\n",
      "tensor(0.5311)\n",
      "tensor(0.3423)\n",
      "tensor(0.5159)\n",
      "tensor(0.7433)\n",
      "tensor(0.5492)\n",
      "tensor(0.7879)\n",
      "tensor(0.5088)\n",
      "tensor(0.5048)\n",
      "tensor(0.5351)\n",
      "tensor(0.6059)\n",
      "tensor(0.5570)\n",
      "tensor(0.7144)\n",
      "tensor(0.5277)\n",
      "tensor(0.6843)\n",
      "tensor(0.3028)\n",
      "tensor(0.3588)\n",
      "tensor(0.5780)\n",
      "tensor(0.4945)\n",
      "tensor(0.6114)\n",
      "tensor(0.5747)\n",
      "tensor(0.6831)\n",
      "tensor(0.6459)\n",
      "tensor(0.5558)\n",
      "tensor(0.6756)\n",
      "tensor(0.2450)\n",
      "tensor(0.4767)\n",
      "tensor(0.2567)\n",
      "tensor(0.6924)\n",
      "tensor(0.6011)\n",
      "tensor(0.4140)\n",
      "tensor(0.3891)\n",
      "tensor(0.6047)\n",
      "tensor(0.6923)\n",
      "tensor(0.7292)\n",
      "tensor(0.2492)\n",
      "tensor(0.2012)\n",
      "tensor(0.2346)\n",
      "tensor(0.7342)\n",
      "tensor(0.3638)\n",
      "tensor(0.7467)\n",
      "tensor(0.7087)\n",
      "tensor(0.4589)\n",
      "tensor(0.7386)\n",
      "tensor(0.7067)\n",
      "tensor(0.6356)\n",
      "tensor(0.5446)\n",
      "tensor(0.4708)\n",
      "tensor(0.4093)\n",
      "tensor(0.6586)\n",
      "tensor(0.5698)\n",
      "tensor(0.3084)\n",
      "tensor(0.6343)\n",
      "tensor(0.4923)\n",
      "tensor(0.5088)\n",
      "tensor(0.6068)\n",
      "tensor(0.7272)\n",
      "tensor(0.2398)\n",
      "tensor(0.1821)\n",
      "tensor(0.2995)\n",
      "tensor(0.5869)\n",
      "tensor(0.6924)\n",
      "tensor(0.7639)\n",
      "tensor(0.2043)\n",
      "tensor(0.3081)\n",
      "tensor(0.6129)\n",
      "tensor(0.8566)\n",
      "tensor(0.1764)\n",
      "tensor(0.8691)\n",
      "tensor(0.2316)\n",
      "tensor(0.6609)\n",
      "tensor(0.8706)\n",
      "tensor(0.2496)\n",
      "tensor(0.8362)\n",
      "tensor(0.3604)\n",
      "tensor(0.5339)\n",
      "tensor(0.3052)\n",
      "tensor(0.2138)\n",
      "tensor(0.5895)\n",
      "tensor(0.8837)\n",
      "tensor(0.7770)\n",
      "tensor(0.2093)\n",
      "tensor(0.2581)\n",
      "tensor(0.3507)\n",
      "tensor(0.2476)\n",
      "tensor(0.5224)\n",
      "tensor(0.4492)\n",
      "tensor(0.4379)\n",
      "tensor(0.8136)\n",
      "tensor(0.4820)\n",
      "tensor(0.6877)\n",
      "tensor(0.3258)\n",
      "tensor(0.7258)\n",
      "tensor(0.6525)\n",
      "tensor(0.5516)\n",
      "tensor(0.8164)\n",
      "tensor(0.2225)\n",
      "tensor(0.3895)\n",
      "tensor(0.5227)\n",
      "tensor(0.5434)\n",
      "tensor(0.7921)\n",
      "tensor(0.5552)\n",
      "tensor(0.2259)\n",
      "tensor(0.8139)\n",
      "tensor(0.2871)\n",
      "tensor(0.5726)\n",
      "tensor(0.6874)\n",
      "tensor(0.5472)\n",
      "tensor(0.7878)\n",
      "tensor(0.2211)\n",
      "tensor(0.1937)\n",
      "tensor(0.2582)\n",
      "tensor(0.3549)\n",
      "tensor(0.4246)\n",
      "tensor(0.2377)\n",
      "tensor(0.7738)\n",
      "tensor(0.5494)\n"
     ]
    }
   ],
   "source": [
    "n_layers = 12\n",
    "n_heads = 12\n",
    "head_size = 64\n",
    "already_pruned_heads = set()\n",
    "\n",
    "for l in range(n_layers):\n",
    "    v_layer = model.model.encoder.layers[l].self_attn.v_proj.weight\n",
    "    for i in range(n_heads):\n",
    "        head = v_layer[i*head_size:(i+1)*head_size, :]\n",
    "        total = head.numel()\n",
    "        zeros = total - torch.count_nonzero(head)\n",
    "        sparsity = zeros/total\n",
    "        print(sparsity)"
   ]
  },
  {
   "cell_type": "code",
   "execution_count": 35,
   "id": "231d837d",
   "metadata": {},
   "outputs": [
    {
     "name": "stdout",
     "output_type": "stream",
     "text": [
      "tensor(0.8086)\n",
      "tensor(0.6119)\n",
      "tensor(0.4512)\n",
      "tensor(0.4485)\n",
      "tensor(0.4539)\n",
      "tensor(0.4476)\n",
      "tensor(0.8197)\n",
      "tensor(0.6311)\n",
      "tensor(0.4425)\n",
      "tensor(0.4436)\n",
      "tensor(0.4609)\n",
      "tensor(0.4526)\n",
      "tensor(0.9095)\n",
      "tensor(0.6590)\n",
      "tensor(0.4678)\n",
      "tensor(0.4511)\n",
      "tensor(0.4526)\n",
      "tensor(0.4417)\n",
      "tensor(0.9384)\n",
      "tensor(0.6940)\n",
      "tensor(0.4548)\n",
      "tensor(0.4651)\n",
      "tensor(0.4572)\n",
      "tensor(0.4412)\n",
      "tensor(0.9299)\n",
      "tensor(0.5874)\n",
      "tensor(0.4279)\n",
      "tensor(0.4069)\n",
      "tensor(0.4068)\n",
      "tensor(0.4001)\n",
      "tensor(0.9325)\n",
      "tensor(0.6125)\n",
      "tensor(0.4133)\n",
      "tensor(0.4331)\n",
      "tensor(0.4149)\n",
      "tensor(0.3923)\n",
      "tensor(0.9012)\n",
      "tensor(0.5565)\n",
      "tensor(0.4042)\n",
      "tensor(0.3927)\n",
      "tensor(0.3915)\n",
      "tensor(0.3901)\n",
      "tensor(0.9177)\n",
      "tensor(0.5742)\n",
      "tensor(0.3948)\n",
      "tensor(0.4167)\n",
      "tensor(0.4022)\n",
      "tensor(0.3781)\n",
      "tensor(0.8282)\n",
      "tensor(0.5499)\n",
      "tensor(0.4147)\n",
      "tensor(0.4138)\n",
      "tensor(0.4132)\n",
      "tensor(0.4114)\n",
      "tensor(0.8232)\n",
      "tensor(0.5596)\n",
      "tensor(0.4136)\n",
      "tensor(0.4392)\n",
      "tensor(0.4216)\n",
      "tensor(0.4023)\n",
      "tensor(0.8116)\n",
      "tensor(0.5459)\n",
      "tensor(0.4593)\n",
      "tensor(0.4552)\n",
      "tensor(0.4488)\n",
      "tensor(0.4414)\n",
      "tensor(0.8241)\n",
      "tensor(0.5478)\n",
      "tensor(0.4561)\n",
      "tensor(0.4710)\n",
      "tensor(0.4520)\n",
      "tensor(0.4409)\n",
      "tensor(0.8485)\n",
      "tensor(0.5695)\n",
      "tensor(0.4453)\n",
      "tensor(0.4503)\n",
      "tensor(0.4400)\n",
      "tensor(0.4406)\n",
      "tensor(0.8550)\n",
      "tensor(0.5775)\n",
      "tensor(0.4523)\n",
      "tensor(0.4676)\n",
      "tensor(0.4460)\n",
      "tensor(0.4385)\n",
      "tensor(0.5453)\n",
      "tensor(0.4830)\n",
      "tensor(0.4535)\n",
      "tensor(0.4483)\n",
      "tensor(0.4487)\n",
      "tensor(0.4519)\n",
      "tensor(0.5538)\n",
      "tensor(0.4893)\n",
      "tensor(0.4566)\n",
      "tensor(0.4634)\n",
      "tensor(0.4464)\n",
      "tensor(0.4456)\n",
      "tensor(0.5954)\n",
      "tensor(0.5318)\n",
      "tensor(0.5049)\n",
      "tensor(0.5091)\n",
      "tensor(0.5070)\n",
      "tensor(0.5072)\n",
      "tensor(0.6108)\n",
      "tensor(0.5440)\n",
      "tensor(0.5127)\n",
      "tensor(0.5181)\n",
      "tensor(0.5016)\n",
      "tensor(0.5084)\n",
      "tensor(0.4295)\n",
      "tensor(0.3933)\n",
      "tensor(0.3709)\n",
      "tensor(0.3730)\n",
      "tensor(0.3722)\n",
      "tensor(0.3732)\n",
      "tensor(0.4290)\n",
      "tensor(0.4016)\n",
      "tensor(0.3813)\n",
      "tensor(0.4046)\n",
      "tensor(0.3691)\n",
      "tensor(0.3713)\n",
      "tensor(0.5005)\n",
      "tensor(0.4713)\n",
      "tensor(0.4628)\n",
      "tensor(0.4536)\n",
      "tensor(0.4625)\n",
      "tensor(0.4548)\n",
      "tensor(0.5082)\n",
      "tensor(0.4843)\n",
      "tensor(0.4634)\n",
      "tensor(0.4756)\n",
      "tensor(0.4523)\n",
      "tensor(0.4573)\n",
      "tensor(0.4145)\n",
      "tensor(0.3826)\n",
      "tensor(0.3966)\n",
      "tensor(0.3841)\n",
      "tensor(0.3945)\n",
      "tensor(0.3916)\n",
      "tensor(0.4233)\n",
      "tensor(0.4073)\n",
      "tensor(0.3976)\n",
      "tensor(0.4019)\n",
      "tensor(0.3851)\n",
      "tensor(0.3919)\n"
     ]
    }
   ],
   "source": [
    "n_layers = 12\n",
    "n_heads = 12\n",
    "head_size = 64\n",
    "already_pruned_heads = set()\n",
    "\n",
    "for l in range(n_layers):\n",
    "    out_layer = model.model.encoder.layers[l].self_attn.out_proj.weight\n",
    "    for i in range(n_heads):\n",
    "        head = out_layer[i*head_size:(i+1)*head_size, :]\n",
    "        total = head.numel()\n",
    "        zeros = total - torch.count_nonzero(head)\n",
    "        sparsity = zeros/total\n",
    "        print(sparsity)"
   ]
  },
  {
   "cell_type": "code",
   "execution_count": null,
   "id": "bfda3930",
   "metadata": {},
   "outputs": [],
   "source": []
  },
  {
   "cell_type": "code",
   "execution_count": 34,
   "id": "abb0e7c8",
   "metadata": {},
   "outputs": [
    {
     "name": "stdout",
     "output_type": "stream",
     "text": [
      "tensor([  0,   1,   2,   3,   4,   5,   6,   7,   8,   9,  10,  11,  12,  13,\n",
      "         14,  15,  16,  17,  18,  19,  20,  21,  22,  23,  24,  25,  26,  27,\n",
      "         28,  29,  30,  31,  32,  33,  34,  35,  36,  37,  38,  39,  40,  41,\n",
      "         42,  43,  44,  45,  46,  47,  48,  49,  50,  51,  52,  53,  54,  55,\n",
      "         56,  57,  58,  59,  60,  61,  62,  63,  64,  65,  66,  67,  68,  69,\n",
      "         70,  71,  72,  73,  74,  75,  76,  77,  78,  79,  80,  81,  82,  83,\n",
      "         84,  85,  86,  87,  88,  89,  90,  91,  92,  93,  94,  95,  96,  97,\n",
      "         98,  99, 100, 101, 102, 103, 104, 105, 106, 107, 108, 109, 110, 111,\n",
      "        112, 113, 114, 115, 116, 117, 118, 119, 120, 121, 122, 123, 124, 125,\n",
      "        126, 127, 128, 129, 130, 131, 132, 133, 134, 135, 136, 137, 138, 139,\n",
      "        140, 141, 142, 143, 144, 145, 146, 147, 148, 149, 150, 151, 152, 153,\n",
      "        154, 155, 156, 157, 158, 159, 160, 161, 162, 163, 164, 165, 166, 167,\n",
      "        168, 169, 170, 171, 172, 173, 174, 175, 176, 177, 178, 179, 180, 181,\n",
      "        182, 183, 184, 185, 186, 187, 188, 189, 190, 191, 256, 257, 258, 259,\n",
      "        260, 261, 262, 263, 264, 265, 266, 267, 268, 269, 270, 271, 272, 273,\n",
      "        274, 275, 276, 277, 278, 279, 280, 281, 282, 283, 284, 285, 286, 287,\n",
      "        288, 289, 290, 291, 292, 293, 294, 295, 296, 297, 298, 299, 300, 301,\n",
      "        302, 303, 304, 305, 306, 307, 308, 309, 310, 311, 312, 313, 314, 315,\n",
      "        316, 317, 318, 319, 320, 321, 322, 323, 324, 325, 326, 327, 328, 329,\n",
      "        330, 331, 332, 333, 334, 335, 336, 337, 338, 339, 340, 341, 342, 343,\n",
      "        344, 345, 346, 347, 348, 349, 350, 351, 352, 353, 354, 355, 356, 357,\n",
      "        358, 359, 360, 361, 362, 363, 364, 365, 366, 367, 368, 369, 370, 371,\n",
      "        372, 373, 374, 375, 376, 377, 378, 379, 380, 381, 382, 383, 384, 385,\n",
      "        386, 387, 388, 389, 390, 391, 392, 393, 394, 395, 396, 397, 398, 399,\n",
      "        400, 401, 402, 403, 404, 405, 406, 407, 408, 409, 410, 411, 412, 413,\n",
      "        414, 415, 416, 417, 418, 419, 420, 421, 422, 423, 424, 425, 426, 427,\n",
      "        428, 429, 430, 431, 432, 433, 434, 435, 436, 437, 438, 439, 440, 441,\n",
      "        442, 443, 444, 445, 446, 447, 448, 449, 450, 451, 452, 453, 454, 455,\n",
      "        456, 457, 458, 459, 460, 461, 462, 463, 464, 465, 466, 467, 468, 469,\n",
      "        470, 471, 472, 473, 474, 475, 476, 477, 478, 479, 480, 481, 482, 483,\n",
      "        484, 485, 486, 487, 488, 489, 490, 491, 492, 493, 494, 495, 496, 497,\n",
      "        498, 499, 500, 501, 502, 503, 504, 505, 506, 507, 508, 509, 510, 511,\n",
      "        576, 577, 578, 579, 580, 581, 582, 583, 584, 585, 586, 587, 588, 589,\n",
      "        590, 591, 592, 593, 594, 595, 596, 597, 598, 599, 600, 601, 602, 603,\n",
      "        604, 605, 606, 607, 608, 609, 610, 611, 612, 613, 614, 615, 616, 617,\n",
      "        618, 619, 620, 621, 622, 623, 624, 625, 626, 627, 628, 629, 630, 631,\n",
      "        632, 633, 634, 635, 636, 637, 638, 639, 704, 705, 706, 707, 708, 709,\n",
      "        710, 711, 712, 713, 714, 715, 716, 717, 718, 719, 720, 721, 722, 723,\n",
      "        724, 725, 726, 727, 728, 729, 730, 731, 732, 733, 734, 735, 736, 737,\n",
      "        738, 739, 740, 741, 742, 743, 744, 745, 746, 747, 748, 749, 750, 751,\n",
      "        752, 753, 754, 755, 756, 757, 758, 759, 760, 761, 762, 763, 764, 765,\n",
      "        766, 767])\n"
     ]
    }
   ],
   "source": [
    "n_layers = 12\n",
    "n_heads = 12\n",
    "head_size = 64\n",
    "\n",
    "for l in range(n_layers):\n",
    "    mask = torch.ones(n_heads, head_size)\n",
    "    k_layer = model.model.encoder.layers[l].self_attn.k_proj.weight\n",
    "    for i in range(n_heads):\n",
    "        head = k_layer[i*head_size:(i+1)*head_size, :]\n",
    "        total = head.numel()\n",
    "        zeros = total - torch.count_nonzero(head)\n",
    "        sparsity = zeros/total\n",
    "        if sparsity == 1:\n",
    "            mask[i] = 0\n",
    "        \n",
    "    mask = mask.view(-1).contiguous().eq(1)\n",
    "    index: torch.LongTensor = torch.arange(len(mask))[mask].long()\n",
    "    print(index)\n",
    "    break"
   ]
  },
  {
   "cell_type": "code",
   "execution_count": 29,
   "id": "24667906",
   "metadata": {},
   "outputs": [
    {
     "data": {
      "text/plain": [
       "tensor([[0.2500, 0.2500, 0.2500, 0.2500],\n",
       "        [0.2500, 0.2500, 0.2500, 0.2500]])"
      ]
     },
     "execution_count": 29,
     "metadata": {},
     "output_type": "execute_result"
    }
   ],
   "source": [
    "m = torch.nn.Softmax(dim=1)\n",
    "#input = torch.randn(2, 3)\n",
    "input = torch.zeros(2, 4)\n",
    "output = m(input)\n",
    "output"
   ]
  },
  {
   "cell_type": "code",
   "execution_count": 13,
   "id": "bda25e64",
   "metadata": {},
   "outputs": [
    {
     "data": {
      "text/plain": [
       "{0, 1, 3, 4, 6, 7, 8, 9, 10, 11}"
      ]
     },
     "execution_count": 13,
     "metadata": {},
     "output_type": "execute_result"
    }
   ],
   "source": [
    "already_pruned_heads = set([2,5])\n",
    "heads = set([h for h in range(12)]) - already_pruned_heads\n",
    "heads"
   ]
  },
  {
   "cell_type": "code",
   "execution_count": 12,
   "id": "cde070dd",
   "metadata": {},
   "outputs": [
    {
     "name": "stdout",
     "output_type": "stream",
     "text": [
      "0\n",
      "1\n",
      "2\n",
      "3\n",
      "4\n",
      "5\n",
      "6\n",
      "7\n",
      "8\n",
      "9\n"
     ]
    }
   ],
   "source": [
    "for head in heads:\n",
    "    # Compute how many pruned heads are before the head and move the index accordingly\n",
    "    head = head - sum(1 if h < head else 0 for h in already_pruned_heads)\n",
    "    print(head)"
   ]
  },
  {
   "cell_type": "code",
   "execution_count": null,
   "id": "a504ba7e",
   "metadata": {},
   "outputs": [],
   "source": []
  },
  {
   "cell_type": "code",
   "execution_count": null,
   "id": "20168b60",
   "metadata": {},
   "outputs": [],
   "source": [
    "from torch import nn\n",
    "import torch\n",
    "\n",
    "def prune_linear_layer(layer: nn.Linear, index: torch.LongTensor, dim: int = 0) -> nn.Linear:\n",
    "    \"\"\"\n",
    "    Prune a linear layer to keep only entries in index.\n",
    "\n",
    "    Used to remove heads.\n",
    "\n",
    "    Args:\n",
    "        layer (`torch.nn.Linear`): The layer to prune.\n",
    "        index (`torch.LongTensor`): The indices to keep in the layer.\n",
    "        dim (`int`, *optional*, defaults to 0): The dimension on which to keep the indices.\n",
    "\n",
    "    Returns:\n",
    "        `torch.nn.Linear`: The pruned layer as a new layer with `requires_grad=True`.\n",
    "    \"\"\"\n",
    "    index = index.to(layer.weight.device)\n",
    "    W = layer.weight.index_select(dim, index).clone().detach()\n",
    "    if layer.bias is not None:\n",
    "        if dim == 1:\n",
    "            b = layer.bias.clone().detach()\n",
    "        else:\n",
    "            b = layer.bias[index].clone().detach()\n",
    "    new_size = list(layer.weight.size())\n",
    "    new_size[dim] = len(index)\n",
    "    new_layer = nn.Linear(new_size[1], new_size[0], bias=layer.bias is not None).to(layer.weight.device)\n",
    "    new_layer.weight.requires_grad = False\n",
    "    new_layer.weight.copy_(W.contiguous())\n",
    "    new_layer.weight.requires_grad = True\n",
    "    if layer.bias is not None:\n",
    "        new_layer.bias.requires_grad = False\n",
    "        new_layer.bias.copy_(b.contiguous())\n",
    "        new_layer.bias.requires_grad = True\n",
    "    return new_layer"
   ]
  },
  {
   "cell_type": "code",
   "execution_count": null,
   "id": "c43170f1",
   "metadata": {},
   "outputs": [],
   "source": []
  },
  {
   "cell_type": "code",
   "execution_count": null,
   "id": "c0ddc547",
   "metadata": {},
   "outputs": [],
   "source": []
  },
  {
   "cell_type": "code",
   "execution_count": 2,
   "id": "640f600c",
   "metadata": {},
   "outputs": [],
   "source": [
    "import torch\n",
    "from torch import nn\n",
    "import numpy as np\n",
    "import seaborn as sns\n",
    "import matplotlib.pyplot as plt\n",
    "import torch.nn.functional as F\n",
    "from torch.autograd import Variable"
   ]
  },
  {
   "cell_type": "code",
   "execution_count": 3,
   "id": "0b8dd43e",
   "metadata": {},
   "outputs": [],
   "source": [
    "m = nn.Softmax(dim=0)\n",
    "kl_loss = nn.KLDivLoss(reduction=\"batchmean\", log_target=True)"
   ]
  },
  {
   "cell_type": "code",
   "execution_count": 4,
   "id": "68a2a2da",
   "metadata": {},
   "outputs": [
    {
     "data": {
      "image/png": "[encoded data removed]",
      "text/plain": [
       "<Figure size 640x480 with 1 Axes>"
      ]
     },
     "metadata": {},
     "output_type": "display_data"
    }
   ],
   "source": [
    "a = torch.rand(10000)\n",
    "a_dist = m(a)\n",
    "\n",
    "sns.set_style(\"whitegrid\")\n",
    "plt.plot(a_dist)\n",
    "plt.show()"
   ]
  },
  {
   "cell_type": "code",
   "execution_count": 5,
   "id": "eb77daf4",
   "metadata": {},
   "outputs": [
    {
     "data": {
      "text/plain": [
       "tensor([0.8044, 0.8632, 0.5470,  ..., 0.4942, 0.9625, 0.3417],\n",
       "       requires_grad=True)"
      ]
     },
     "execution_count": 5,
     "metadata": {},
     "output_type": "execute_result"
    }
   ],
   "source": [
    "p = nn.Parameter(torch.rand(10000))\n",
    "w1 = Variable(p, requires_grad=True)\n",
    "w1"
   ]
  },
  {
   "cell_type": "code",
   "execution_count": 6,
   "id": "ab9d494b",
   "metadata": {},
   "outputs": [
    {
     "data": {
      "image/png": "[encoded data removed]",
      "text/plain": [
       "<Figure size 640x480 with 1 Axes>"
      ]
     },
     "metadata": {},
     "output_type": "display_data"
    }
   ],
   "source": [
    "p_dist = m(p)\n",
    "plt.plot(p_dist.detach().numpy())\n",
    "plt.show()"
   ]
  },
  {
   "cell_type": "code",
   "execution_count": 7,
   "id": "2c60f457",
   "metadata": {},
   "outputs": [],
   "source": [
    "learning_rate = 5e5\n",
    "for t in range(150):\n",
    "    \n",
    "    input = F.log_softmax(w1, dim=0)\n",
    "    log_target = F.log_softmax(a, dim=0)\n",
    "\n",
    "    loss = -kl_loss(input, log_target)\n",
    "    loss.backward()\n",
    "\n",
    "    # Update weights using gradient descent; w1.data and w2.data are Tensors,\n",
    "    # w1.grad and w2.grad are Variables and w1.grad.data and w2.grad.data are\n",
    "    # Tensors.\n",
    "    w1.data -= learning_rate * w1.grad.data\n",
    "\n",
    "    #print(w1.data)\n",
    "\n",
    "    # Manually zero the gradients after updating weights\n",
    "    w1.grad.data.zero_()\n"
   ]
  },
  {
   "cell_type": "code",
   "execution_count": 8,
   "id": "89f62677",
   "metadata": {},
   "outputs": [
    {
     "data": {
      "image/png": "[encoded data removed]",
      "text/plain": [
       "<Figure size 640x480 with 1 Axes>"
      ]
     },
     "metadata": {},
     "output_type": "display_data"
    }
   ],
   "source": [
    "p_dist = m(p)\n",
    "plt.plot(p_dist.detach().numpy())\n",
    "plt.show()"
   ]
  },
  {
   "cell_type": "code",
   "execution_count": null,
   "id": "46fb6049",
   "metadata": {},
   "outputs": [],
   "source": []
  },
  {
   "cell_type": "code",
   "execution_count": null,
   "id": "06e915c6",
   "metadata": {},
   "outputs": [],
   "source": []
  },
  {
   "cell_type": "code",
   "execution_count": 53,
   "id": "ee1103bb",
   "metadata": {},
   "outputs": [],
   "source": [
    "import pdb\n",
    "\n",
    "from re import L\n",
    "import torch\n",
    "import math\n",
    "import numpy as np\n",
    "import torch.nn.functional as F\n",
    "from torch.nn.modules import Module\n",
    "from torch.nn.parameter import Parameter\n",
    "from torch.autograd import Variable\n",
    "from transformers.utils import logging\n",
    "\n",
    "limit_a, limit_b, epsilon = -.1, 1.1, 1e-6\n",
    "logger = logging.get_logger(__name__)\n",
    "\n",
    "class L0Module(Module):\n",
    "    def __init__(self,\n",
    "                 config, \n",
    "                 droprate_init=0.5,\n",
    "                 temperature=2./3.,\n",
    "                 lagrangian_warmup=0,\n",
    "                 start_sparsity=0.0,\n",
    "                 target_sparsity=0.0,\n",
    "                 pruning_type=\"structured_heads+structured_mlp+hidden+layer\",\n",
    "                 magical_number=0.8, # from Wang et al. 2020\n",
    "                 ):\n",
    "        super(L0Module, self).__init__()\n",
    "        self.all_types = [\"hidden_z\", \"intermediate_z\", \"mlp_z\", \"head_layer_z\", \"head_z\"]\n",
    "        self.pruning_type = pruning_type\n",
    "        \n",
    "        # model parameters\n",
    "        self.vocab_size = config.vocab_size\n",
    "        self.d_model = config.d_model  # hidden_size\n",
    "        self.encoder_layers = config.encoder_layers\n",
    "        self.encoder_attention_heads = config.encoder_attention_heads  # num_attention_heads\n",
    "        self.decoder_layers = config.decoder_layers\n",
    "        self.decoder_attention_heads = config.decoder_attention_heads  # num_attention_heads\n",
    "        self.decoder_ffn_dim = config.decoder_ffn_dim  # intermediate_size\n",
    "        self.encoder_ffn_dim = config.encoder_ffn_dim  # intermediate_size\n",
    "        self.num_hidden_layers = config.encoder_layers\n",
    "        self.mlp_num_per_layer = 1  # linear -> activation -> linear\n",
    "        self.dim_per_encoder_head = self.d_model // self.encoder_attention_heads\n",
    "        self.dim_per_decoder_head = self.d_model // self.decoder_attention_heads\n",
    "\n",
    "        # same number of heads, head size for encoder, decoder \n",
    "        self.params_per_head_layer = self.d_model * self.d_model * 4  # + self.d_model * 4\n",
    "        self.params_per_head =  self.params_per_head_layer // self.encoder_attention_heads\n",
    "        \n",
    "        # same intermediate size for encoder, decoder\n",
    "        self.params_per_mlp_layer = self.d_model * config.encoder_ffn_dim * 2  # + self.d_model + self.d_model * 4\n",
    "        self.params_per_encoder_ffn_dim = self.params_per_mlp_layer // self.encoder_ffn_dim\n",
    "\n",
    "        # we ignore the parameters in normalization layers (it takes a very small amount)\n",
    "        self.full_model_size = (self.params_per_head_layer + self.params_per_mlp_layer) * self.num_hidden_layers\n",
    "        self.prunable_model_size = 0 \n",
    "\n",
    "        self.temperature = temperature\n",
    "        self.droprate_init = droprate_init if droprate_init != 0. else 0.5\n",
    "        \n",
    "        self.types = []\n",
    "        self.z_logas = {}\n",
    "        self.parameters_per_dim = {}\n",
    "        self.sizes = {}\n",
    "        self.shapes = {}\n",
    "\n",
    "        self.hidden_loga = None\n",
    "        self.hidden_type = None\n",
    "\n",
    "        types = self.pruning_type.split(\"+\")\n",
    "        for type in types:\n",
    "            if type != \"layer\":\n",
    "                self.initialize_one_module(type)\n",
    "        if \"layer\" in types:\n",
    "            self.initialize_one_module(\"layer\")\n",
    "\n",
    "        self.magical_number = magical_number\n",
    "\n",
    "        self.lambda_1 = torch.nn.Parameter(torch.tensor(0.0))\n",
    "        self.lambda_2 = torch.nn.Parameter(torch.tensor(0.0))\n",
    "\n",
    "        self.lagrangian_warmup = lagrangian_warmup\n",
    "        self.start_sparsity = start_sparsity\n",
    "        self.target_sparsity = target_sparsity\n",
    "\n",
    "        logger.info(\"********** Initializing L0 Module **********\") \n",
    "        for type in self.types:\n",
    "            logger.info(f\"***** {type} *****\")\n",
    "            logger.info(f\"z.shape\", self.z_logas[type].shape)\n",
    "            logger.info(f\"size\", self.sizes[type])\n",
    "        logger.info(f\"prunable model size: {self.prunable_model_size}\")\n",
    "\n",
    "    def set_lagrangian_warmup_steps(self, lagrangian_warmup):\n",
    "        self.lagrangian_warmup = lagrangian_warmup\n",
    "\n",
    "    def initialize_one_module(self, module_name):\n",
    "        if module_name == \"structured_mlp\":\n",
    "            self.initialize_structured_mlp()\n",
    "        elif module_name == \"structured_heads\":\n",
    "            self.initialize_structured_head()\n",
    "        elif module_name == \"hidden\":\n",
    "            self.initialize_hidden()\n",
    "        elif module_name == \"layer\":\n",
    "            self.initialize_whole_mlp()\n",
    "            self.initialized_layer_structured_heads()\n",
    "            \n",
    "    def add_one_module(self, z_loga, type, parameter_per_dim, size, shape): #! init the z_logas\n",
    "        self.types.append(type)\n",
    "        self.z_logas[type] = z_loga\n",
    "        self.parameters_per_dim[type] = parameter_per_dim\n",
    "        self.sizes[type] = size\n",
    "        self.shapes[type] = shape\n",
    "\n",
    "    def initialize_parameters(self, size, num_layer=None):\n",
    "        if num_layer is not None:\n",
    "            return Parameter(torch.Tensor(num_layer, size))\n",
    "        else:\n",
    "            return Parameter(torch.Tensor(size))\n",
    "\n",
    "    def initialize_hidden(self):\n",
    "        self.hidden_loga = self.initialize_parameters(self.d_model)\n",
    "        self.add_one_module(self.hidden_loga, type=\"hidden\", \n",
    "                            parameter_per_dim=self.d_model * 4 + self.d_model* 4 * 2,\n",
    "                            size=self.d_model, shape=[self.d_model])\n",
    "        self.reset_loga(self.hidden_loga, mean=10)\n",
    "        logger.info(f\"Initialized hidden loga! Prunable_model_size = {self.prunable_model_size}\")\n",
    "\n",
    "    def initialize_structured_head(self, add_prunable_model_size=True):\n",
    "        self.head_loga = self.initialize_parameters(self.encoder_attention_heads, self.num_hidden_layers)\n",
    "        self.reset_loga(self.head_loga, mean=10)\n",
    "        self.add_one_module(self.head_loga, type=\"head\", \n",
    "                            parameter_per_dim=self.params_per_head, size=self.encoder_attention_heads,\n",
    "                            shape=[self.num_hidden_layers, 1, self.encoder_attention_heads, 1, 1])\n",
    "        if add_prunable_model_size:\n",
    "            self.prunable_model_size += self.params_per_head * self.num_hidden_layers * self.encoder_attention_heads\n",
    "        logger.info(f\"Initialized structured heads! Prunable_model_size = {self.prunable_model_size}\")\n",
    "\n",
    "    def initialized_layer_structured_heads(self):\n",
    "        n_layer = self.num_hidden_layers\n",
    "        self.headlayer_loga = self.initialize_parameters(n_layer)\n",
    "        self.reset_loga(self.headlayer_loga, mean=10)\n",
    "        self.add_one_module(self.headlayer_loga, type=\"head_layer\", \n",
    "                            parameter_per_dim=self.params_per_head * self.encoder_attention_heads, size=1,\n",
    "                            shape=[n_layer])\n",
    "        logger.info(f\"Initialized layerwise structured heads! Prunable_model_size = {self.prunable_model_size}\")\n",
    "\n",
    "    def initialize_structured_mlp(self):\n",
    "        self.int_loga = self.initialize_parameters(self.encoder_ffn_dim, self.num_hidden_layers)\n",
    "\n",
    "        self.add_one_module(self.int_loga, type=\"intermediate\", \n",
    "                            parameter_per_dim=self.params_per_encoder_ffn_dim, size=self.encoder_ffn_dim,\n",
    "                            shape=[self.num_hidden_layers, 1, 1, self.encoder_ffn_dim])\n",
    "        self.prunable_model_size += self.params_per_mlp_layer * self.num_hidden_layers\n",
    "        self.reset_loga(self.int_loga)\n",
    "        logger.info(f\"Initialized structured mlp! Prunable_model_size = {self.prunable_model_size}\")\n",
    "\n",
    "\n",
    "    def initialize_whole_mlp(self):\n",
    "        n_layer = self.num_hidden_layers\n",
    "        self.intlayer_loga = self.initialize_parameters(n_layer)\n",
    "        self.add_one_module(self.intlayer_loga, type=\"mlp\", \n",
    "                            parameter_per_dim=self.params_per_mlp_layer, size=self.mlp_num_per_layer,\n",
    "                            shape=[n_layer])\n",
    "        self.reset_loga(self.intlayer_loga, mean=10)\n",
    "        logger.info(f\"Initialized whole mlps! Prunable_model_size = {self.prunable_model_size}\")\n",
    "\n",
    "\n",
    "    def reset_loga(self, tensor, mean=None):\n",
    "        if mean is None:\n",
    "            mean = math.log(1 - self.droprate_init) - math.log(self.droprate_init)\n",
    "        tensor.data.normal_(mean, 1e-2)\n",
    "\n",
    "    def reset_qz_logas(self):\n",
    "        for key in self.z_logas:\n",
    "            if key in [\"head_layer\", \"mlp\", \"head\"]:\n",
    "                self.reset_loga(self.z_logas[key], 10)\n",
    "            else:\n",
    "                self.reset_loga(self.z_logas[key])\n",
    "\n",
    "    def constrain_parameters(self):\n",
    "        def _constrain(tensor):\n",
    "            tensor.data.clamp_(min=math.log(1e-2), max=math.log(1e2))\n",
    "        for key in self.z_logas:\n",
    "            _constrain(self.z_logas[key])\n",
    "\n",
    "    def cdf_qz(self, x, loga):\n",
    "        \"\"\"Implements the CDF of the 'stretched' concrete distribution\"\"\"\n",
    "        xn = (x - limit_a) / (limit_b - limit_a)\n",
    "        logits = math.log(xn) - math.log(1 - xn)\n",
    "        return torch.sigmoid(logits * self.temperature - loga).clamp(min=epsilon, max=1 - epsilon)\n",
    "\n",
    "    def quantile_concrete(self, x, loga):\n",
    "        y = torch.sigmoid((torch.log(x) - torch.log(1 - x) + loga) / self.temperature)\n",
    "        return y * (limit_b - limit_a) + limit_a\n",
    "\n",
    "    def get_num_parameters_for_one(self, loga, parameter_size):\n",
    "        return torch.sum(1 - self.cdf_qz(0, loga)) * parameter_size\n",
    "\n",
    "    def transform_scores_for_head(self):\n",
    "        assert \"head\" in self.types\n",
    "\n",
    "        if \"head_layer\" in self.types:\n",
    "            all_head_score = 1 - self.cdf_qz(0, self.headlayer_loga)\n",
    "        else:\n",
    "            all_head_score = None\n",
    "        head_score = 1 - self.cdf_qz(0, self.head_loga) # 12 * 12\n",
    "       \n",
    "        if all_head_score is not None:\n",
    "            all_head_score = all_head_score.view(-1, 1, 1) # 12 * 1 * 1\n",
    "        head_score = head_score.unsqueeze(-1)   # 12 * 12 * 1\n",
    "       \n",
    "        return all_head_score, head_score\n",
    "\n",
    "    def get_num_parameters_for_mlp(self):\n",
    "        intlayer_score = 1 - self.cdf_qz(0, self.intlayer_loga) # 12\n",
    "        int_score = 1 - self.cdf_qz(0, self.int_loga) # 12 * 3072\n",
    "        intlayer_score = intlayer_score.unsqueeze(-1)\n",
    "\n",
    "        num_parameters = torch.sum(intlayer_score * int_score) * self.parameters_per_dim[\"intermediate\"]\n",
    "        return num_parameters\n",
    "\n",
    "    def get_num_parameters_and_constraint_for_hidden(self): #! calculate the current parsity\n",
    "        num_parameters = 0\n",
    "       \n",
    "        # 12 * 1 * 1\n",
    "        # 12 * 12 * 1\n",
    "        all_head_score, head_score = self.transform_scores_for_head()\n",
    "        hidden_score = 1 - self.cdf_qz(0, self.hidden_loga) # 768\n",
    "\n",
    "        if all_head_score is not None:\n",
    "            head_score = (all_head_score * head_score).reshape(-1)\n",
    "        else:\n",
    "            head_score = head_score.reshape(-1)\n",
    "        num_parameters += \\\n",
    "            torch.sum(torch.outer(hidden_score, head_score)) * self.parameters_per_dim[\"head\"] / self.d_model\n",
    "\n",
    "        intlayer_score = 1 - self.cdf_qz(0, self.intlayer_loga)  # 12\n",
    "        int_score = 1 - self.cdf_qz(0, self.int_loga)  # 12 * 3072\n",
    "        intlayer_score = intlayer_score.unsqueeze(-1)\n",
    "\n",
    "        int_score = (intlayer_score * int_score).reshape(-1)\n",
    "        num_parameters += torch.sum(torch.outer(hidden_score, int_score)) * 2\n",
    "        return num_parameters\n",
    "\n",
    "\n",
    "    def get_num_parameters_and_constraint(self):\n",
    "        num_parameters = 0\n",
    "\n",
    "        all_head_score, head_score = self.transform_scores_for_head()\n",
    "        \n",
    "        head_score = head_score * all_head_score\n",
    "        num_parameters += torch.sum(head_score) * self.parameters_per_dim[\"head\"]\n",
    "\n",
    "        intlayer_score = 1 - self.cdf_qz(0, self.intlayer_loga)  # 12\n",
    "        int_score = 1 - self.cdf_qz(0, self.int_loga)  # 12 * 3072\n",
    "        intlayer_score = intlayer_score.unsqueeze(-1)\n",
    "\n",
    "        int_score = int_score * intlayer_score\n",
    "        num_parameters += torch.sum(int_score) * self.parameters_per_dim[\"intermediate\"]\n",
    "        return num_parameters\n",
    "\n",
    "\n",
    "    def get_target_sparsity(self, pruned_steps):\n",
    "        target_sparsity = (self.target_sparsity - self.start_sparsity) * min(1, pruned_steps / self.lagrangian_warmup) + self.start_sparsity\n",
    "        return target_sparsity\n",
    "\n",
    "\n",
    "    def lagrangian_regularization(self, pruned_steps):\n",
    "        target_sparsity = self.target_sparsity\n",
    "        if \"hidden\" in self.types:\n",
    "            expected_size = self.get_num_parameters_and_constraint_for_hidden() #! calculate \\bar s\n",
    "        else:\n",
    "            expected_size = self.get_num_parameters_and_constraint() #! calculate \\bar s\n",
    "        expected_sparsity = 1 - expected_size / self.prunable_model_size\n",
    "        if self.lagrangian_warmup > 0:\n",
    "            target_sparsity = self.get_target_sparsity(pruned_steps)\n",
    "        lagrangian_loss = ( #! see appendix\n",
    "                self.lambda_1 * (expected_sparsity - target_sparsity)\n",
    "                + self.lambda_2 * (expected_sparsity - target_sparsity) ** 2 #! where is the lambda 1 and lambda 2 from\n",
    "        )\n",
    "        return lagrangian_loss, expected_sparsity, target_sparsity\n",
    "\n",
    "    def get_eps(self, size):\n",
    "        \"\"\"Uniform random numbers for the concrete distribution\"\"\"\n",
    "        eps = torch.FloatTensor(size).uniform_(epsilon, 1-epsilon)\n",
    "        eps = Variable(eps)\n",
    "        return eps\n",
    "\n",
    "    # during training\n",
    "    def _sample_z(self, loga):\n",
    "        eps = self.get_eps(torch.FloatTensor(*loga.shape)).to(loga.device)\n",
    "        z = self.quantile_concrete(eps, loga)\n",
    "        z = F.hardtanh(z, min_val=0, max_val=1)\n",
    "        return z\n",
    "\n",
    "    # during inference\n",
    "    def _deterministic_z(self, size, loga):\n",
    "        # Following https://github.com/asappresearch/flop/blob/e80e47155de83abbe7d90190e00d30bfb85c18d5/flop/hardconcrete.py#L8 line 103\n",
    "        expected_num_nonzeros = torch.sum(1 - self.cdf_qz(0, loga))\n",
    "        expected_num_zeros = size - expected_num_nonzeros.item()\n",
    "        try:\n",
    "            num_zeros = round(expected_num_zeros)\n",
    "        except:\n",
    "            pdb.set_trace()\n",
    "        soft_mask = torch.sigmoid(loga / self.temperature * self.magical_number)\n",
    "        if num_zeros > 0:\n",
    "            if soft_mask.ndim == 0:\n",
    "                soft_mask = torch.tensor(0).to(loga.device)\n",
    "            else:\n",
    "                _, indices = torch.topk(soft_mask, k=num_zeros, largest=False)\n",
    "                soft_mask[indices] = 0.\n",
    "        return soft_mask\n",
    "\n",
    "    def get_z_from_zs(self, zs):\n",
    "        numpified_zs = {} \n",
    "        for type in self.all_types:\n",
    "            name = type[:-2]\n",
    "            z = zs.get(type, np.ones(self.shapes[name]))\n",
    "            if torch.is_tensor(z): \n",
    "                new_z = z.squeeze().detach().cpu().numpy() > 0\n",
    "            numpified_zs[name] = new_z\n",
    "        return numpified_zs\n",
    "\n",
    "    def calculate_model_size(self, zs):\n",
    "        numpified_zs = self.get_z_from_zs(zs)\n",
    "        hidden_z = numpified_zs[\"hidden\"]\n",
    "        intermediate_z = numpified_zs[\"intermediate\"]\n",
    "        mlp_z = numpified_zs[\"mlp\"].reshape(-1, 1)\n",
    "        head_z = numpified_zs[\"head\"]\n",
    "        head_layer_z = numpified_zs[\"head_layer\"].reshape(-1, 1)\n",
    "\n",
    "        remaining_hidden_dims = hidden_z.sum().item()\n",
    "        remaining_intermediate_nums = intermediate_z.reshape(self.num_hidden_layers, self.encoder_ffn_dim).sum(-1).tolist()\n",
    "        remaining_head_nums = head_z.reshape(self.num_hidden_layers, self.encoder_attention_heads).sum(-1).tolist()\n",
    "\n",
    "        head_nums = np.outer((head_z * head_layer_z).reshape(-1), hidden_z).sum().item()\n",
    "        intermediate_nums = np.outer((intermediate_z * mlp_z).reshape(-1), hidden_z).sum().item()\n",
    "\n",
    "        remaining_model_size = head_nums * self.dim_per_encoder_head * 4 + intermediate_nums * 2\n",
    "        pruned_model_size = self.prunable_model_size - remaining_model_size\n",
    "\n",
    "        results = {}\n",
    "        # Not multiplied with each other\n",
    "        results[\"head_layers\"] = head_layer_z.reshape(-1).astype(int).tolist()\n",
    "        results[\"mlp_layers\"] = mlp_z.reshape(-1).astype(int).tolist()\n",
    "        results[\"hidden_dims\"] = remaining_hidden_dims\n",
    "        results[\"intermediate_dims\"] = remaining_intermediate_nums\n",
    "        results[\"head_nums\"] = remaining_head_nums\n",
    "        results[\"pruned_params\"] = pruned_model_size\n",
    "        results[\"remaining_params\"] = remaining_model_size\n",
    "        results[\"pruned_model_sparsity\"] = pruned_model_size / self.prunable_model_size\n",
    "        \n",
    "        logger.info(f\"remaining_head_layers: {head_layer_z}\")\n",
    "        logger.info(f\"remaining_mlp_layers: {mlp_z}\")\n",
    "        logger.info(f\"remaining_hidden_dims: {remaining_hidden_dims}\")\n",
    "        logger.info(f\"remaining_intermediate_nums: {remaining_intermediate_nums}\")\n",
    "        logger.info(f\"remaining_head_nums: {remaining_head_nums}\")\n",
    "        logger.info(f\"pruned_model_size: {pruned_model_size}\")\n",
    "        logger.info(f\"remaining_model_size: {remaining_model_size}\")\n",
    "\n",
    "        return results\n",
    "\n",
    "        \n",
    "\n",
    "    def forward(self, training=True,):\n",
    "        zs = {f\"{type}_z\": [] for type in self.types}\n",
    "\n",
    "        if training:\n",
    "            for i, type in enumerate(self.types):\n",
    "                loga = self.z_logas[type]\n",
    "                z = self._sample_z(loga)\n",
    "                zs[f\"{type}_z\"] = z.reshape(self.shapes[type])\n",
    "        else:\n",
    "            for i, type in enumerate(self.types):\n",
    "                if type != \"hidden\": # hidden is not a per layer sample\n",
    "                    loga_all_layers = self.z_logas[type]\n",
    "                    for layer in range(len(loga_all_layers)):\n",
    "                        loga = loga_all_layers[layer]\n",
    "                        size = self.sizes[type]\n",
    "                        z = self._deterministic_z(size, loga)\n",
    "                        zs[f\"{type}_z\"].append(z.reshape(self.shapes[type][1:]))\n",
    "                else:\n",
    "                    z = self._deterministic_z(self.sizes[type], self.hidden_loga)\n",
    "                    zs[f\"{type}_z\"] = z\n",
    "            for type in zs:\n",
    "                if type != \"hidden_z\":\n",
    "                    zs[type] = torch.stack(zs[type])\n",
    "        return zs \n",
    " "
   ]
  },
  {
   "cell_type": "code",
   "execution_count": 54,
   "id": "76b29972",
   "metadata": {},
   "outputs": [],
   "source": [
    "from transformers import AutoConfig, WhisperForConditionalGeneration, BertModel\n",
    "    \n",
    "config = AutoConfig.from_pretrained(\"openai/whisper-small\")\n",
    "model = WhisperForConditionalGeneration.from_pretrained(\"openai/whisper-small\")\n",
    "l0_module = L0Module(config, lagrangian_warmup=200, target_sparsity=0.5)"
   ]
  },
  {
   "cell_type": "code",
   "execution_count": 56,
   "id": "9cfa50e5",
   "metadata": {},
   "outputs": [
    {
     "data": {
      "text/plain": [
       "['head', 'intermediate', 'hidden', 'mlp', 'head_layer']"
      ]
     },
     "execution_count": 56,
     "metadata": {},
     "output_type": "execute_result"
    }
   ],
   "source": [
    "l0_module.types"
   ]
  },
  {
   "cell_type": "code",
   "execution_count": 58,
   "id": "9a6ec928",
   "metadata": {},
   "outputs": [
    {
     "data": {
      "text/plain": [
       "dict_keys(['head', 'intermediate', 'hidden', 'mlp', 'head_layer'])"
      ]
     },
     "execution_count": 58,
     "metadata": {},
     "output_type": "execute_result"
    }
   ],
   "source": [
    "l0_module.z_logas.keys()"
   ]
  },
  {
   "cell_type": "code",
   "execution_count": 60,
   "id": "172941e3",
   "metadata": {},
   "outputs": [
    {
     "data": {
      "text/plain": [
       "torch.Size([12, 12])"
      ]
     },
     "execution_count": 60,
     "metadata": {},
     "output_type": "execute_result"
    }
   ],
   "source": [
    "l0_module.z_logas['head'].shape"
   ]
  },
  {
   "cell_type": "code",
   "execution_count": 61,
   "id": "61dab359",
   "metadata": {},
   "outputs": [
    {
     "data": {
      "text/plain": [
       "torch.Size([12, 3072])"
      ]
     },
     "execution_count": 61,
     "metadata": {},
     "output_type": "execute_result"
    }
   ],
   "source": [
    "l0_module.z_logas['intermediate'].shape"
   ]
  },
  {
   "cell_type": "code",
   "execution_count": 63,
   "id": "8ab7a742",
   "metadata": {},
   "outputs": [
    {
     "data": {
      "text/plain": [
       "torch.Size([768])"
      ]
     },
     "execution_count": 63,
     "metadata": {},
     "output_type": "execute_result"
    }
   ],
   "source": [
    "l0_module.z_logas['hidden'].shape"
   ]
  },
  {
   "cell_type": "code",
   "execution_count": 64,
   "id": "4f09e298",
   "metadata": {},
   "outputs": [
    {
     "data": {
      "text/plain": [
       "torch.Size([12])"
      ]
     },
     "execution_count": 64,
     "metadata": {},
     "output_type": "execute_result"
    }
   ],
   "source": [
    "l0_module.z_logas['mlp'].shape"
   ]
  },
  {
   "cell_type": "code",
   "execution_count": 65,
   "id": "981efbec",
   "metadata": {},
   "outputs": [
    {
     "data": {
      "text/plain": [
       "torch.Size([12])"
      ]
     },
     "execution_count": 65,
     "metadata": {},
     "output_type": "execute_result"
    }
   ],
   "source": [
    "l0_module.z_logas['head_layer'].shape"
   ]
  },
  {
   "cell_type": "code",
   "execution_count": null,
   "id": "263ffbb0",
   "metadata": {},
   "outputs": [],
   "source": []
  },
  {
   "cell_type": "code",
   "execution_count": null,
   "id": "24770788",
   "metadata": {},
   "outputs": [],
   "source": [
    "self.types = []\n",
    "        self.z_logas = {}\n",
    "        self.parameters_per_dim = {}\n",
    "        self.sizes = {}\n",
    "        self.shapes = {}\n",
    "\n",
    "        self.hidden_loga = None\n",
    "        self.hidden_type = None"
   ]
  },
  {
   "cell_type": "code",
   "execution_count": 10,
   "id": "53d48dca",
   "metadata": {},
   "outputs": [
    {
     "name": "stdout",
     "output_type": "stream",
     "text": [
      "torch.Size([3072, 768])\n",
      "torch.Size([768, 3072])\n"
     ]
    }
   ],
   "source": [
    "print(model.model.encoder.layers[3].fc1.weight.shape)\n",
    "print(model.model.encoder.layers[3].fc2.weight.shape)"
   ]
  },
  {
   "cell_type": "code",
   "execution_count": 45,
   "id": "388ad2c1",
   "metadata": {},
   "outputs": [
    {
     "data": {
      "text/plain": [
       "12"
      ]
     },
     "execution_count": 45,
     "metadata": {},
     "output_type": "execute_result"
    }
   ],
   "source": [
    "config.decoder_attention_heads"
   ]
  },
  {
   "cell_type": "code",
   "execution_count": 13,
   "id": "7a2b78c2",
   "metadata": {},
   "outputs": [
    {
     "data": {
      "text/plain": [
       "2362368"
      ]
     },
     "execution_count": 13,
     "metadata": {},
     "output_type": "execute_result"
    }
   ],
   "source": [
    "# params_per_head_layer\n",
    "config.d_model * config.d_model * 4 + config.d_model * 4"
   ]
  },
  {
   "cell_type": "code",
   "execution_count": 18,
   "id": "60fafa34",
   "metadata": {},
   "outputs": [
    {
     "data": {
      "text/plain": [
       "WhisperEncoderLayer(\n",
       "  (self_attn): WhisperAttention(\n",
       "    (k_proj): Linear(in_features=768, out_features=768, bias=False)\n",
       "    (v_proj): Linear(in_features=768, out_features=768, bias=True)\n",
       "    (q_proj): Linear(in_features=768, out_features=768, bias=True)\n",
       "    (out_proj): Linear(in_features=768, out_features=768, bias=True)\n",
       "  )\n",
       "  (self_attn_layer_norm): LayerNorm((768,), eps=1e-05, elementwise_affine=True)\n",
       "  (activation_fn): GELUActivation()\n",
       "  (fc1): Linear(in_features=768, out_features=3072, bias=True)\n",
       "  (fc2): Linear(in_features=3072, out_features=768, bias=True)\n",
       "  (final_layer_norm): LayerNorm((768,), eps=1e-05, elementwise_affine=True)\n",
       ")"
      ]
     },
     "execution_count": 18,
     "metadata": {},
     "output_type": "execute_result"
    }
   ],
   "source": [
    "model.model.encoder.layers[3]"
   ]
  },
  {
   "cell_type": "code",
   "execution_count": 25,
   "id": "76ef9281",
   "metadata": {},
   "outputs": [
    {
     "name": "stdout",
     "output_type": "stream",
     "text": [
      "torch.Size([768, 768])\n",
      "torch.Size([768, 768])\n",
      "torch.Size([768, 768])\n",
      "torch.Size([768, 768])\n"
     ]
    }
   ],
   "source": [
    "print(model.model.encoder.layers[3].self_attn.k_proj.weight.shape)\n",
    "print(model.model.encoder.layers[3].self_attn.v_proj.weight.shape)\n",
    "print(model.model.encoder.layers[3].self_attn.q_proj.weight.shape)\n",
    "print(model.model.encoder.layers[3].self_attn.out_proj.weight.shape)"
   ]
  },
  {
   "cell_type": "code",
   "execution_count": 43,
   "id": "45d4be04",
   "metadata": {},
   "outputs": [
    {
     "data": {
      "text/plain": [
       "WhisperAttention(\n",
       "  (k_proj): Linear(in_features=768, out_features=768, bias=False)\n",
       "  (v_proj): Linear(in_features=768, out_features=768, bias=True)\n",
       "  (q_proj): Linear(in_features=768, out_features=768, bias=True)\n",
       "  (out_proj): Linear(in_features=768, out_features=768, bias=True)\n",
       ")"
      ]
     },
     "execution_count": 43,
     "metadata": {},
     "output_type": "execute_result"
    }
   ],
   "source": [
    "model.model.encoder.layers[3].self_attn"
   ]
  },
  {
   "cell_type": "code",
   "execution_count": 31,
   "id": "cc3a5124",
   "metadata": {},
   "outputs": [
    {
     "data": {
      "application/vnd.jupyter.widget-view+json": {
       "model_id": "52d1e635bb8343ce984952b0256e41ee",
       "version_major": 2,
       "version_minor": 0
      },
      "text/plain": [
       "Downloading (…)lve/main/config.json:   0%|          | 0.00/570 [00:00<?, ?B/s]"
      ]
     },
     "metadata": {},
     "output_type": "display_data"
    },
    {
     "data": {
      "application/vnd.jupyter.widget-view+json": {
       "model_id": "4a3567c42a3e4f6ca7ed729d10dbd4e5",
       "version_major": 2,
       "version_minor": 0
      },
      "text/plain": [
       "Downloading model.safetensors:   0%|          | 0.00/440M [00:00<?, ?B/s]"
      ]
     },
     "metadata": {},
     "output_type": "display_data"
    }
   ],
   "source": [
    "model = BertModel.from_pretrained(\"bert-base-uncased\")"
   ]
  },
  {
   "cell_type": "code",
   "execution_count": 35,
   "id": "2714e137",
   "metadata": {},
   "outputs": [
    {
     "data": {
      "text/plain": [
       "BertLayer(\n",
       "  (attention): BertAttention(\n",
       "    (self): BertSelfAttention(\n",
       "      (query): Linear(in_features=768, out_features=768, bias=True)\n",
       "      (key): Linear(in_features=768, out_features=768, bias=True)\n",
       "      (value): Linear(in_features=768, out_features=768, bias=True)\n",
       "      (dropout): Dropout(p=0.1, inplace=False)\n",
       "    )\n",
       "    (output): BertSelfOutput(\n",
       "      (dense): Linear(in_features=768, out_features=768, bias=True)\n",
       "      (LayerNorm): LayerNorm((768,), eps=1e-12, elementwise_affine=True)\n",
       "      (dropout): Dropout(p=0.1, inplace=False)\n",
       "    )\n",
       "  )\n",
       "  (intermediate): BertIntermediate(\n",
       "    (dense): Linear(in_features=768, out_features=3072, bias=True)\n",
       "    (intermediate_act_fn): GELUActivation()\n",
       "  )\n",
       "  (output): BertOutput(\n",
       "    (dense): Linear(in_features=3072, out_features=768, bias=True)\n",
       "    (LayerNorm): LayerNorm((768,), eps=1e-12, elementwise_affine=True)\n",
       "    (dropout): Dropout(p=0.1, inplace=False)\n",
       "  )\n",
       ")"
      ]
     },
     "execution_count": 35,
     "metadata": {},
     "output_type": "execute_result"
    }
   ],
   "source": [
    "model.encoder.layer[2]"
   ]
  },
  {
   "cell_type": "code",
   "execution_count": 39,
   "id": "d7102b6b",
   "metadata": {},
   "outputs": [
    {
     "data": {
      "text/plain": [
       "torch.Size([3072, 768])"
      ]
     },
     "execution_count": 39,
     "metadata": {},
     "output_type": "execute_result"
    }
   ],
   "source": [
    "model.encoder.layer[2].intermediate.dense.weight.shape"
   ]
  },
  {
   "cell_type": "code",
   "execution_count": 40,
   "id": "e7d7f338",
   "metadata": {},
   "outputs": [
    {
     "data": {
      "text/plain": [
       "torch.Size([768, 3072])"
      ]
     },
     "execution_count": 40,
     "metadata": {},
     "output_type": "execute_result"
    }
   ],
   "source": [
    "model.encoder.layer[2].output.dense.weight.shape"
   ]
  },
  {
   "cell_type": "code",
   "execution_count": 47,
   "id": "9c5c4154",
   "metadata": {},
   "outputs": [
    {
     "data": {
      "text/plain": [
       "3072"
      ]
     },
     "execution_count": 47,
     "metadata": {},
     "output_type": "execute_result"
    }
   ],
   "source": [
    "config.encoder_ffn_dim"
   ]
  },
  {
   "cell_type": "code",
   "execution_count": 49,
   "id": "a8f59143",
   "metadata": {},
   "outputs": [
    {
     "data": {
      "text/plain": [
       "4722432"
      ]
     },
     "execution_count": 49,
     "metadata": {},
     "output_type": "execute_result"
    }
   ],
   "source": [
    "#self.params_per_mlp_layer\n",
    "config.d_model * config.encoder_ffn_dim * 2 + config.d_model + config.d_model * 4"
   ]
  },
  {
   "cell_type": "code",
   "execution_count": 50,
   "id": "95875f67",
   "metadata": {},
   "outputs": [
    {
     "data": {
      "text/plain": [
       "WhisperEncoderLayer(\n",
       "  (self_attn): WhisperAttention(\n",
       "    (k_proj): Linear(in_features=768, out_features=768, bias=False)\n",
       "    (v_proj): Linear(in_features=768, out_features=768, bias=True)\n",
       "    (q_proj): Linear(in_features=768, out_features=768, bias=True)\n",
       "    (out_proj): Linear(in_features=768, out_features=768, bias=True)\n",
       "  )\n",
       "  (self_attn_layer_norm): LayerNorm((768,), eps=1e-05, elementwise_affine=True)\n",
       "  (activation_fn): GELUActivation()\n",
       "  (fc1): Linear(in_features=768, out_features=3072, bias=True)\n",
       "  (fc2): Linear(in_features=3072, out_features=768, bias=True)\n",
       "  (final_layer_norm): LayerNorm((768,), eps=1e-05, elementwise_affine=True)\n",
       ")"
      ]
     },
     "execution_count": 50,
     "metadata": {},
     "output_type": "execute_result"
    }
   ],
   "source": [
    "model.model.encoder.layers[3]"
   ]
  },
  {
   "cell_type": "code",
   "execution_count": 51,
   "id": "846daa1f",
   "metadata": {},
   "outputs": [
    {
     "data": {
      "text/plain": [
       "torch.Size([3072, 768])"
      ]
     },
     "execution_count": 51,
     "metadata": {},
     "output_type": "execute_result"
    }
   ],
   "source": [
    "model.model.encoder.layers[3].fc1.weight.shape"
   ]
  },
  {
   "cell_type": "code",
   "execution_count": null,
   "id": "f5f6342c",
   "metadata": {},
   "outputs": [],
   "source": []
  },
  {
   "cell_type": "code",
   "execution_count": null,
   "id": "b746b18d",
   "metadata": {},
   "outputs": [],
   "source": []
  },
  {
   "cell_type": "code",
   "execution_count": 1,
   "id": "1c480b5c",
   "metadata": {},
   "outputs": [
    {
     "data": {
      "application/vnd.jupyter.widget-view+json": {
       "model_id": "b2e2803edf3a49269fcbd55918cc8e8a",
       "version_major": 2,
       "version_minor": 0
      },
      "text/plain": [
       "Downloading (…)lve/main/config.json:   0%|          | 0.00/1.33k [00:00<?, ?B/s]"
      ]
     },
     "metadata": {},
     "output_type": "display_data"
    },
    {
     "data": {
      "application/vnd.jupyter.widget-view+json": {
       "model_id": "8581711ef081454d888f2847c8ad7948",
       "version_major": 2,
       "version_minor": 0
      },
      "text/plain": [
       "Downloading pytorch_model.bin:   0%|          | 0.00/298M [00:00<?, ?B/s]"
      ]
     },
     "metadata": {},
     "output_type": "display_data"
    },
    {
     "data": {
      "application/vnd.jupyter.widget-view+json": {
       "model_id": "a33f7ad5d3b24887a2f0f3a062f85116",
       "version_major": 2,
       "version_minor": 0
      },
      "text/plain": [
       "Downloading (…)neration_config.json:   0%|          | 0.00/293 [00:00<?, ?B/s]"
      ]
     },
     "metadata": {},
     "output_type": "display_data"
    },
    {
     "data": {
      "text/plain": [
       "74410496"
      ]
     },
     "execution_count": 1,
     "metadata": {},
     "output_type": "execute_result"
    }
   ],
   "source": [
    "from transformers import MarianMTModel\n",
    "model = MarianMTModel.from_pretrained(\"Helsinki-NLP/opus-mt-en-de\")\n",
    "\n",
    "model.num_parameters()"
   ]
  },
  {
   "cell_type": "code",
   "execution_count": 4,
   "id": "0f2c646f",
   "metadata": {},
   "outputs": [],
   "source": [
    "from transformers import WhisperForConditionalGeneration, WhisperConfig\n",
    "\n",
    "config = WhisperConfig.from_pretrained('openai/whisper-small')\n",
    "model = WhisperForConditionalGeneration.from_pretrained('openai/whisper-small')"
   ]
  },
  {
   "cell_type": "code",
   "execution_count": 5,
   "id": "14557249",
   "metadata": {},
   "outputs": [
    {
     "data": {
      "text/plain": [
       "241734912"
      ]
     },
     "execution_count": 5,
     "metadata": {},
     "output_type": "execute_result"
    }
   ],
   "source": [
    "model.num_parameters()"
   ]
  },
  {
   "cell_type": "code",
   "execution_count": 6,
   "id": "992afed8",
   "metadata": {},
   "outputs": [
    {
     "data": {
      "text/plain": [
       "241734912"
      ]
     },
     "execution_count": 6,
     "metadata": {},
     "output_type": "execute_result"
    }
   ],
   "source": [
    "sum(p.numel() for p in model.parameters() if p.requires_grad)"
   ]
  },
  {
   "cell_type": "code",
   "execution_count": 7,
   "id": "b7292332",
   "metadata": {},
   "outputs": [
    {
     "data": {
      "text/plain": [
       "WhisperEncoder(\n",
       "  (conv1): Conv1d(80, 768, kernel_size=(3,), stride=(1,), padding=(1,))\n",
       "  (conv2): Conv1d(768, 768, kernel_size=(3,), stride=(2,), padding=(1,))\n",
       "  (embed_positions): Embedding(1500, 768)\n",
       "  (layers): ModuleList(\n",
       "    (0-11): 12 x WhisperEncoderLayer(\n",
       "      (self_attn): WhisperAttention(\n",
       "        (k_proj): Linear(in_features=768, out_features=768, bias=False)\n",
       "        (v_proj): Linear(in_features=768, out_features=768, bias=True)\n",
       "        (q_proj): Linear(in_features=768, out_features=768, bias=True)\n",
       "        (out_proj): Linear(in_features=768, out_features=768, bias=True)\n",
       "      )\n",
       "      (self_attn_layer_norm): LayerNorm((768,), eps=1e-05, elementwise_affine=True)\n",
       "      (activation_fn): GELUActivation()\n",
       "      (fc1): Linear(in_features=768, out_features=3072, bias=True)\n",
       "      (fc2): Linear(in_features=3072, out_features=768, bias=True)\n",
       "      (final_layer_norm): LayerNorm((768,), eps=1e-05, elementwise_affine=True)\n",
       "    )\n",
       "  )\n",
       "  (layer_norm): LayerNorm((768,), eps=1e-05, elementwise_affine=True)\n",
       ")"
      ]
     },
     "execution_count": 7,
     "metadata": {},
     "output_type": "execute_result"
    }
   ],
   "source": [
    "model.model.encoder"
   ]
  },
  {
   "cell_type": "code",
   "execution_count": 84,
   "id": "445518ff",
   "metadata": {},
   "outputs": [],
   "source": [
    "num_params = 0\n",
    "\n",
    "num_params += model.model.encoder.conv1.weight.numel()\n",
    "num_params += model.model.encoder.conv1.bias.numel()\n",
    "num_params += model.model.encoder.conv2.weight.numel()\n",
    "num_params += model.model.encoder.conv2.bias.numel()\n",
    "\n",
    "num_params += model.model.encoder.embed_positions.weight.numel()\n",
    "\n",
    "attn = 0\n",
    "attn += model.model.encoder.layers[0].self_attn.k_proj.weight.numel()\n",
    "attn += model.model.encoder.layers[0].self_attn.v_proj.weight.numel()\n",
    "attn += model.model.encoder.layers[0].self_attn.v_proj.bias.numel()\n",
    "attn += model.model.encoder.layers[0].self_attn.q_proj.weight.numel()\n",
    "attn += model.model.encoder.layers[0].self_attn.q_proj.bias.numel()\n",
    "attn += model.model.encoder.layers[0].self_attn.out_proj.weight.numel()\n",
    "attn += model.model.encoder.layers[0].self_attn.out_proj.bias.numel()\n",
    "attn = attn*12\n",
    "\n",
    "layer_norm = 0\n",
    "layer_norm += model.model.encoder.layers[0].self_attn_layer_norm.weight.numel()\n",
    "layer_norm += model.model.encoder.layers[0].self_attn_layer_norm.bias.numel()\n",
    "layer_norm = layer_norm*12\n",
    "\n",
    "ffn = 0\n",
    "ffn += model.model.encoder.layers[0].fc1.weight.numel()\n",
    "ffn += model.model.encoder.layers[0].fc1.bias.numel()\n",
    "ffn += model.model.encoder.layers[0].fc2.weight.numel()\n",
    "ffn += model.model.encoder.layers[0].fc2.bias.numel()\n",
    "ffn = ffn*12\n",
    "\n",
    "final_layer_norm = 0\n",
    "final_layer_norm += model.model.encoder.layers[i].final_layer_norm.weight.numel()\n",
    "final_layer_norm += model.model.encoder.layers[i].final_layer_norm.bias.numel()\n",
    "final_layer_norm = final_layer_norm*12\n",
    "\n",
    "num_params += (attn + layer_norm + ffn + final_layer_norm)\n",
    "\n",
    "num_params += model.model.encoder.layer_norm.weight.numel()\n",
    "num_params += model.model.encoder.layer_norm.bias.numel()"
   ]
  },
  {
   "cell_type": "code",
   "execution_count": 85,
   "id": "6e07cec9",
   "metadata": {},
   "outputs": [
    {
     "data": {
      "text/plain": [
       "88154112"
      ]
     },
     "execution_count": 85,
     "metadata": {},
     "output_type": "execute_result"
    }
   ],
   "source": [
    "model.model.encoder.num_parameters()"
   ]
  },
  {
   "cell_type": "code",
   "execution_count": 86,
   "id": "8002c115",
   "metadata": {},
   "outputs": [
    {
     "data": {
      "text/plain": [
       "88154112"
      ]
     },
     "execution_count": 86,
     "metadata": {},
     "output_type": "execute_result"
    }
   ],
   "source": [
    "num_params"
   ]
  },
  {
   "cell_type": "code",
   "execution_count": 83,
   "id": "0864eabe",
   "metadata": {},
   "outputs": [
    {
     "data": {
      "text/plain": [
       "torch.Size([768])"
      ]
     },
     "execution_count": 83,
     "metadata": {},
     "output_type": "execute_result"
    }
   ],
   "source": [
    "model.model.encoder.layers[0].self_attn.v_proj.bias.shape"
   ]
  },
  {
   "cell_type": "code",
   "execution_count": 77,
   "id": "8c970517",
   "metadata": {},
   "outputs": [
    {
     "data": {
      "text/plain": [
       "768"
      ]
     },
     "execution_count": 77,
     "metadata": {},
     "output_type": "execute_result"
    }
   ],
   "source": [
    "config.d_model"
   ]
  },
  {
   "cell_type": "code",
   "execution_count": 88,
   "id": "698031b2",
   "metadata": {},
   "outputs": [
    {
     "data": {
      "text/plain": [
       "torch.Size([3072, 768])"
      ]
     },
     "execution_count": 88,
     "metadata": {},
     "output_type": "execute_result"
    }
   ],
   "source": [
    "model.model.encoder.layers[0].fc1.weight.shape"
   ]
  },
  {
   "cell_type": "code",
   "execution_count": 89,
   "id": "93b087da",
   "metadata": {},
   "outputs": [
    {
     "data": {
      "text/plain": [
       "torch.Size([3072])"
      ]
     },
     "execution_count": 89,
     "metadata": {},
     "output_type": "execute_result"
    }
   ],
   "source": [
    "model.model.encoder.layers[0].fc1.bias.shape"
   ]
  },
  {
   "cell_type": "code",
   "execution_count": 90,
   "id": "9f606568",
   "metadata": {},
   "outputs": [
    {
     "data": {
      "text/plain": [
       "torch.Size([768, 3072])"
      ]
     },
     "execution_count": 90,
     "metadata": {},
     "output_type": "execute_result"
    }
   ],
   "source": [
    "model.model.encoder.layers[0].fc2.weight.shape"
   ]
  },
  {
   "cell_type": "code",
   "execution_count": 91,
   "id": "bb1e3a25",
   "metadata": {},
   "outputs": [
    {
     "data": {
      "text/plain": [
       "torch.Size([768])"
      ]
     },
     "execution_count": 91,
     "metadata": {},
     "output_type": "execute_result"
    }
   ],
   "source": [
    "model.model.encoder.layers[0].fc2.bias.shape"
   ]
  },
  {
   "cell_type": "code",
   "execution_count": null,
   "id": "a1f76712",
   "metadata": {},
   "outputs": [],
   "source": []
  }
 ],
 "metadata": {
  "kernelspec": {
   "display_name": "Python 3 (ipykernel)",
   "language": "python",
   "name": "python3"
  },
  "language_info": {
   "codemirror_mode": {
    "name": "ipython",
    "version": 3
   },
   "file_extension": ".py",
   "mimetype": "text/x-python",
   "name": "python",
   "nbconvert_exporter": "python",
   "pygments_lexer": "ipython3",
   "version": "3.10.12"
  },
  "vscode": {
   "interpreter": {
    "hash": "70ee1ab45e8b937f09fa6841b13701829ac76ec7fe39d355982d785d83845075"
   }
  }
 },
 "nbformat": 4,
 "nbformat_minor": 5
}
