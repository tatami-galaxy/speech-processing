{
 "cells": [
  {
   "cell_type": "code",
   "execution_count": 6,
   "id": "e21bdd7c",
   "metadata": {},
   "outputs": [],
   "source": [
    "import torch\n",
    "from torch_geometric.data import Data\n",
    "from torch_geometric.utils import get_laplacian, to_dense_adj\n",
    "import itertools"
   ]
  },
  {
   "cell_type": "markdown",
   "id": "e23ea9b6",
   "metadata": {},
   "source": [
    "##### example graph"
   ]
  },
  {
   "cell_type": "code",
   "execution_count": 2,
   "id": "ced55ea1",
   "metadata": {},
   "outputs": [
    {
     "data": {
      "text/plain": [
       "Data(x=[3, 1], edge_index=[2, 4])"
      ]
     },
     "execution_count": 2,
     "metadata": {},
     "output_type": "execute_result"
    }
   ],
   "source": [
    "# COO format -> row 1 : row index, row 2 : col index\n",
    "# shape (2, num_edges)\n",
    "# source and target nodes of all edges\n",
    "edge_index = torch.tensor([[0, 1, 1, 2],\n",
    "                           [1, 0, 2, 1]], dtype=torch.long)\n",
    "\n",
    "# node features\n",
    "x = torch.tensor([[-1], [0], [1]], dtype=torch.float)\n",
    "\n",
    "data = Data(x=x, edge_index=edge_index)\n",
    "\n",
    "data"
   ]
  },
  {
   "cell_type": "code",
   "execution_count": 3,
   "id": "fb2073ac",
   "metadata": {},
   "outputs": [
    {
     "data": {
      "text/plain": [
       "Data(x=[3, 1], edge_index=[2, 4])"
      ]
     },
     "execution_count": 3,
     "metadata": {},
     "output_type": "execute_result"
    }
   ],
   "source": [
    "# edge_index, i.e. the tensor defining the source and target nodes of all edges,\n",
    "# is not a list of index tuples. \n",
    "# If you want to write your indices this way, \n",
    "# you should transpose and call contiguous on it before passing them to the data constructor\n",
    "\n",
    "edge_index = torch.tensor([[0, 1],\n",
    "                           [1, 0],\n",
    "                           [1, 2],\n",
    "                           [2, 1]], dtype=torch.long)\n",
    "x = torch.tensor([[-1], [0], [1]], dtype=torch.float)\n",
    "\n",
    "data = Data(x=x, edge_index=edge_index.t().contiguous())\n",
    "\n",
    "data"
   ]
  },
  {
   "cell_type": "markdown",
   "id": "efd1c1e4-3ba0-4eda-9d2f-254993a6e9c8",
   "metadata": {},
   "source": [
    "Although the graph has only two edges, we need to define four index tuples to account for both directions of a edge."
   ]
  },
  {
   "cell_type": "markdown",
   "id": "30d9f3c8-9813-45d2-8c52-79bc45c7f56f",
   "metadata": {},
   "source": [
    "Note that it is necessary that the elements in edge_index only hold indices in the range { 0, ..., num_nodes - 1}. This is needed as we want our final data representation to be as compact as possible, e.g., we want to index the source and destination node features of the first edge (0, 1) via x[0] and x[1], respectively. You can always check that your final Data objects fulfill these requirements by running validate()"
   ]
  },
  {
   "cell_type": "code",
   "execution_count": 4,
   "id": "276146c8",
   "metadata": {},
   "outputs": [
    {
     "data": {
      "text/plain": [
       "True"
      ]
     },
     "execution_count": 4,
     "metadata": {},
     "output_type": "execute_result"
    }
   ],
   "source": [
    "data.validate(raise_on_error=True)"
   ]
  },
  {
   "cell_type": "code",
   "execution_count": 7,
   "id": "ba52b22d-03b8-475e-8af0-04539713e43b",
   "metadata": {},
   "outputs": [
    {
     "data": {
      "text/plain": [
       "tensor([[0, 1, 1, 2],\n",
       "        [1, 0, 2, 1]])"
      ]
     },
     "execution_count": 7,
     "metadata": {},
     "output_type": "execute_result"
    }
   ],
   "source": [
    "data.edge_index"
   ]
  },
  {
   "cell_type": "code",
   "execution_count": 8,
   "id": "336105a0-4be3-4d2c-b09e-9cb2cd7262eb",
   "metadata": {},
   "outputs": [
    {
     "data": {
      "text/plain": [
       "(tensor([[0, 1, 1, 2, 0, 1, 2],\n",
       "         [1, 0, 2, 1, 0, 1, 2]]),\n",
       " tensor([-1., -1., -1., -1.,  1.,  2.,  1.]))"
      ]
     },
     "execution_count": 8,
     "metadata": {},
     "output_type": "execute_result"
    }
   ],
   "source": [
    "# returns (edge_index, edge_weight)\n",
    "get_laplacian(edge_index=data.edge_index)"
   ]
  },
  {
   "cell_type": "code",
   "execution_count": 10,
   "id": "4ce644ab-b31c-4061-90db-ca8d8d186c93",
   "metadata": {},
   "outputs": [
    {
     "data": {
      "text/plain": [
       "tensor([[[0., 1., 0.],\n",
       "         [1., 0., 1.],\n",
       "         [0., 1., 0.]]])"
      ]
     },
     "execution_count": 10,
     "metadata": {},
     "output_type": "execute_result"
    }
   ],
   "source": [
    "to_dense_adj(data.edge_index)"
   ]
  },
  {
   "cell_type": "markdown",
   "id": "b027b390-abd2-462e-9c4a-c050b72a04c1",
   "metadata": {},
   "source": [
    "##### complete graph"
   ]
  },
  {
   "cell_type": "code",
   "execution_count": 12,
   "id": "9352bbbb-3703-4aa6-b1ac-00e5c62b53c0",
   "metadata": {},
   "outputs": [],
   "source": [
    "# vertices\n",
    "nodes = [i for i in range(5)]\n",
    "# edges\n",
    "edges = list(itertools.permutations(range(5), 2))\n",
    "edges = [list(e) for e in edges]"
   ]
  },
  {
   "cell_type": "code",
   "execution_count": 72,
   "id": "0cd10b87-1b52-4468-882a-ed5d0c295bdf",
   "metadata": {},
   "outputs": [
    {
     "data": {
      "text/plain": [
       "Data(x=[5, 1], edge_index=[2, 20])"
      ]
     },
     "execution_count": 72,
     "metadata": {},
     "output_type": "execute_result"
    }
   ],
   "source": [
    "edge_index = torch.tensor(edges, dtype=torch.long)\n",
    "x = torch.tensor([[0.1], [0.8], [0.8], [0.9], [0.8]], dtype=torch.float)\n",
    "data = Data(x=x, edge_index=edge_index.t().contiguous())\n",
    "\n",
    "data"
   ]
  },
  {
   "cell_type": "code",
   "execution_count": 73,
   "id": "e72ca0e9-1dbc-4b9b-802e-c75f7b6b69f1",
   "metadata": {},
   "outputs": [
    {
     "data": {
      "text/plain": [
       "tensor([[0, 0, 0, 0, 1, 1, 1, 1, 2, 2, 2, 2, 3, 3, 3, 3, 4, 4, 4, 4],\n",
       "        [1, 2, 3, 4, 0, 2, 3, 4, 0, 1, 3, 4, 0, 1, 2, 4, 0, 1, 2, 3]])"
      ]
     },
     "execution_count": 73,
     "metadata": {},
     "output_type": "execute_result"
    }
   ],
   "source": [
    "data.edge_index"
   ]
  },
  {
   "cell_type": "code",
   "execution_count": 74,
   "id": "041fdb99-39d5-4c3c-bde6-292096a04087",
   "metadata": {},
   "outputs": [
    {
     "data": {
      "text/plain": [
       "tensor([[[0., 1., 1., 1., 1.],\n",
       "         [1., 0., 1., 1., 1.],\n",
       "         [1., 1., 0., 1., 1.],\n",
       "         [1., 1., 1., 0., 1.],\n",
       "         [1., 1., 1., 1., 0.]]])"
      ]
     },
     "execution_count": 74,
     "metadata": {},
     "output_type": "execute_result"
    }
   ],
   "source": [
    "to_dense_adj(data.edge_index)"
   ]
  },
  {
   "cell_type": "code",
   "execution_count": 75,
   "id": "79d1ed56-6dbc-47b3-b793-e2a5efe1a5a3",
   "metadata": {},
   "outputs": [
    {
     "data": {
      "text/plain": [
       "(tensor([[0, 0, 0, 0, 1, 1, 1, 1, 2, 2, 2, 2, 3, 3, 3, 3, 4, 4, 4, 4, 0, 1, 2, 3,\n",
       "          4],\n",
       "         [1, 2, 3, 4, 0, 2, 3, 4, 0, 1, 3, 4, 0, 1, 2, 4, 0, 1, 2, 3, 0, 1, 2, 3,\n",
       "          4]]),\n",
       " tensor([-1., -1., -1., -1., -1., -1., -1., -1., -1., -1., -1., -1., -1., -1.,\n",
       "         -1., -1., -1., -1., -1., -1.,  4.,  4.,  4.,  4.,  4.]))"
      ]
     },
     "execution_count": 75,
     "metadata": {},
     "output_type": "execute_result"
    }
   ],
   "source": [
    "get_laplacian(edge_index=data.edge_index)"
   ]
  },
  {
   "cell_type": "code",
   "execution_count": 76,
   "id": "cbd5ac65-2b6a-4dbc-b6be-c0ff05070a64",
   "metadata": {},
   "outputs": [
    {
     "data": {
      "text/plain": [
       "tensor([[ 4., -1., -1., -1., -1.],\n",
       "        [-1.,  4., -1., -1., -1.],\n",
       "        [-1., -1.,  4., -1., -1.],\n",
       "        [-1., -1., -1.,  4., -1.],\n",
       "        [-1., -1., -1., -1.,  4.]])"
      ]
     },
     "execution_count": 76,
     "metadata": {},
     "output_type": "execute_result"
    }
   ],
   "source": [
    "L = torch.tensor([[-1.]*5]*5)\n",
    "for i in range(5):\n",
    "    L[i][i] = 4\n",
    "\n",
    "L"
   ]
  },
  {
   "cell_type": "code",
   "execution_count": 77,
   "id": "ed3b82b0-cb11-4963-be9d-d1f5d04f69a3",
   "metadata": {},
   "outputs": [
    {
     "data": {
      "text/plain": [
       "tensor([[-2.9000],\n",
       "        [ 0.6000],\n",
       "        [ 0.6000],\n",
       "        [ 1.1000],\n",
       "        [ 0.6000]])"
      ]
     },
     "execution_count": 77,
     "metadata": {},
     "output_type": "execute_result"
    }
   ],
   "source": [
    "L@data.x"
   ]
  },
  {
   "cell_type": "code",
   "execution_count": null,
   "id": "ebe8eaf7-68c8-4834-a061-3321e7e8128f",
   "metadata": {},
   "outputs": [],
   "source": []
  }
 ],
 "metadata": {
  "kernelspec": {
   "display_name": "Python 3 (ipykernel)",
   "language": "python",
   "name": "python3"
  },
  "language_info": {
   "codemirror_mode": {
    "name": "ipython",
    "version": 3
   },
   "file_extension": ".py",
   "mimetype": "text/x-python",
   "name": "python",
   "nbconvert_exporter": "python",
   "pygments_lexer": "ipython3",
   "version": "3.10.12"
  }
 },
 "nbformat": 4,
 "nbformat_minor": 5
}
