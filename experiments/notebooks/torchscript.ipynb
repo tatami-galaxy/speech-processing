{
 "cells": [
  {
   "cell_type": "code",
   "execution_count": null,
   "id": "01510bbe",
   "metadata": {},
   "outputs": [],
   "source": [
    "from transformers import WhisperFeatureExtractor\n",
    "from transformers import WhisperTokenizer\n",
    "from transformers import WhisperProcessor\n",
    "from transformers import WhisperForConditionalGeneration\n",
    "from datasets import load_dataset, DatasetDict\n",
    "from datasets import Audio\n",
    "import torch\n",
    "import timeit"
   ]
  },
  {
   "cell_type": "code",
   "execution_count": null,
   "id": "7254fd8e",
   "metadata": {},
   "outputs": [],
   "source": [
    "common_voice = DatasetDict()\n",
    "\n",
    "common_voice[\"train\"] = load_dataset(\"mozilla-foundation/common_voice_11_0\", \"hi\", split=\"train+validation\")\n",
    "common_voice[\"test\"] = load_dataset(\"mozilla-foundation/common_voice_11_0\", \"hi\", split=\"test\")\n",
    "\n",
    "print(common_voice)"
   ]
  },
  {
   "cell_type": "code",
   "execution_count": null,
   "id": "95e981ab",
   "metadata": {},
   "outputs": [],
   "source": [
    "feature_extractor = WhisperFeatureExtractor.from_pretrained(\"openai/whisper-small\")\n",
    "tokenizer = WhisperTokenizer.from_pretrained(\"openai/whisper-small\", language=\"Hindi\", task=\"transcribe\")\n",
    "processor = WhisperProcessor.from_pretrained(\"openai/whisper-small\", language=\"Hindi\", task=\"transcribe\")\n",
    "\n",
    "model = WhisperForConditionalGeneration.from_pretrained(\"openai/whisper-small\", torchscript=True)"
   ]
  },
  {
   "cell_type": "code",
   "execution_count": null,
   "id": "0dcd2799",
   "metadata": {},
   "outputs": [],
   "source": [
    "model.config.torchscript  # assert True"
   ]
  },
  {
   "cell_type": "code",
   "execution_count": null,
   "id": "1934b35a",
   "metadata": {},
   "outputs": [],
   "source": [
    "common_voice = common_voice.cast_column(\"audio\", Audio(sampling_rate=16000))"
   ]
  },
  {
   "cell_type": "code",
   "execution_count": null,
   "id": "ccc6b655",
   "metadata": {},
   "outputs": [],
   "source": [
    "sample = common_voice['train'][0]"
   ]
  },
  {
   "cell_type": "code",
   "execution_count": null,
   "id": "e2fa2be1",
   "metadata": {},
   "outputs": [],
   "source": [
    "# An example input you would normally provide to your model's forward() method.\n",
    "input_features = processor(\n",
    "    sample[\"audio\"][\"array\"],\n",
    "    sampling_rate=feature_extractor.sampling_rate,\n",
    "    return_attention_mask=True,\n",
    "    return_tensors=\"pt\"\n",
    "    ).input_features\n",
    "\n",
    "attention_mask = processor(\n",
    "    sample[\"audio\"][\"array\"],\n",
    "    sampling_rate=feature_extractor.sampling_rate,\n",
    "    return_attention_mask=True,\n",
    "    return_tensors=\"pt\"\n",
    "    ).attention_mask\n",
    "\n",
    "decoder_input_ids = tokenizer(sample['sentence'], return_tensors=\"pt\").input_ids\n",
    "\n",
    "# Use torch.jit.trace to generate a torch.jit.ScriptModule via tracing.\n",
    "model.eval()\n",
    "traced_model = torch.jit.trace(model, (input_features, attention_mask, decoder_input_ids))"
   ]
  },
  {
   "cell_type": "code",
   "execution_count": null,
   "id": "2df73590",
   "metadata": {},
   "outputs": [],
   "source": [
    "start_time = timeit.default_timer()\n",
    "traced_model(input_features, attention_mask, decoder_input_ids)\n",
    "elapsed = timeit.default_timer() - start_time\n",
    "\n",
    "elapsed"
   ]
  },
  {
   "cell_type": "code",
   "execution_count": null,
   "id": "0d818bb5",
   "metadata": {},
   "outputs": [],
   "source": [
    "start_time = timeit.default_timer()\n",
    "model(input_features, attention_mask, decoder_input_ids)\n",
    "elapsed = timeit.default_timer() - start_time\n",
    "\n",
    "elapsed"
   ]
  }
 ],
 "metadata": {
  "kernelspec": {
   "display_name": "Python 3 (ipykernel)",
   "language": "python",
   "name": "python3"
  },
  "language_info": {
   "codemirror_mode": {
    "name": "ipython",
    "version": 3
   },
   "file_extension": ".py",
   "mimetype": "text/x-python",
   "name": "python",
   "nbconvert_exporter": "python",
   "pygments_lexer": "ipython3",
   "version": "3.10.9"
  }
 },
 "nbformat": 4,
 "nbformat_minor": 5
}
