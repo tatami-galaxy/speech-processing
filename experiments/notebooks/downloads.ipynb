{
 "cells": [
  {
   "cell_type": "code",
   "execution_count": 1,
   "id": "2f387fb7",
   "metadata": {},
   "outputs": [
    {
     "name": "stderr",
     "output_type": "stream",
     "text": [
      "/Users/ujan/opt/anaconda3/envs/asr_jax/lib/python3.10/site-packages/tqdm/auto.py:21: TqdmWarning: IProgress not found. Please update jupyter and ipywidgets. See https://ipywidgets.readthedocs.io/en/stable/user_install.html\n",
      "  from .autonotebook import tqdm as notebook_tqdm\n",
      "Using the latest cached version of the module from /users/ujan/.cache/huggingface/modules/datasets_modules/datasets/mozilla-foundation--common_voice_11_0/2c65b95d99ca879b1b1074ea197b65e0497848fd697fdb0582e0f6b75b6f4da0 (last modified on Thu Feb  9 17:53:09 2023) since it couldn't be found locally at mozilla-foundation/common_voice_11_0., or remotely on the Hugging Face Hub.\n",
      "Found cached dataset common_voice_11_0 (/users/ujan/.cache/huggingface/datasets/mozilla-foundation___common_voice_11_0/hi/11.0.0/2c65b95d99ca879b1b1074ea197b65e0497848fd697fdb0582e0f6b75b6f4da0)\n",
      "Using the latest cached version of the module from /users/ujan/.cache/huggingface/modules/datasets_modules/datasets/mozilla-foundation--common_voice_11_0/2c65b95d99ca879b1b1074ea197b65e0497848fd697fdb0582e0f6b75b6f4da0 (last modified on Thu Feb  9 17:53:09 2023) since it couldn't be found locally at mozilla-foundation/common_voice_11_0., or remotely on the Hugging Face Hub.\n",
      "Found cached dataset common_voice_11_0 (/users/ujan/.cache/huggingface/datasets/mozilla-foundation___common_voice_11_0/hi/11.0.0/2c65b95d99ca879b1b1074ea197b65e0497848fd697fdb0582e0f6b75b6f4da0)\n"
     ]
    }
   ],
   "source": [
    "from datasets import DatasetDict, load_dataset\n",
    "\n",
    "common_voice = DatasetDict()\n",
    "common_voice[\"train\"] = load_dataset(\"mozilla-foundation/common_voice_11_0\", \"hi\", split=\"train+validation\", use_auth_token=True)\n",
    "common_voice[\"test\"] = load_dataset(\"mozilla-foundation/common_voice_11_0\", \"hi\", split=\"test\", use_auth_token=True)"
   ]
  },
  {
   "cell_type": "code",
   "execution_count": 2,
   "id": "78160dd1",
   "metadata": {},
   "outputs": [
    {
     "data": {
      "text/plain": [
       "{'client_id': '0f018a99663f33afbb7d38aee281fb1afcfd07f9e7acd00383f604e1e17c38d6ed8adf1bd2ccbf927a52c5adefb8ac4b158ce27a7c2ed9581e71202eb302dfb3',\n",
       " 'path': '/users/ujan/.cache/huggingface/datasets/downloads/extracted/c97e32e2de32510be7c273dbcdc82db93cb021f851ff1f0751145082d83effd9/common_voice_hi_26010471.mp3',\n",
       " 'audio': {'path': '/users/ujan/.cache/huggingface/datasets/downloads/extracted/c97e32e2de32510be7c273dbcdc82db93cb021f851ff1f0751145082d83effd9/common_voice_hi_26010471.mp3',\n",
       "  'array': array([-2.13162821e-14,  1.40332190e-13,  2.23820962e-13, ...,\n",
       "          1.03580276e-03,  6.28637266e-04,  3.20890395e-04]),\n",
       "  'sampling_rate': 48000},\n",
       " 'sentence': 'तुम ने टॉम को कहाँ भेज दिया?',\n",
       " 'up_votes': 2,\n",
       " 'down_votes': 1,\n",
       " 'age': '',\n",
       " 'gender': '',\n",
       " 'accent': '',\n",
       " 'locale': 'hi',\n",
       " 'segment': ''}"
      ]
     },
     "execution_count": 2,
     "metadata": {},
     "output_type": "execute_result"
    }
   ],
   "source": [
    "common_voice['train'][4]"
   ]
  },
  {
   "cell_type": "code",
   "execution_count": 8,
   "id": "7d7de6fa",
   "metadata": {},
   "outputs": [],
   "source": [
    "import jax.numpy as jnp\n",
    "from transformers import WhisperFeatureExtractor\n",
    "from transformers import WhisperTokenizer\n",
    "from transformers import WhisperProcessor\n",
    "from transformers import FlaxWhisperForConditionalGeneration"
   ]
  },
  {
   "cell_type": "code",
   "execution_count": null,
   "id": "55062a46",
   "metadata": {},
   "outputs": [
    {
     "name": "stderr",
     "output_type": "stream",
     "text": [
      "Downloading (…)lve/main/config.json: 100%|█████████████████████████████████████████████████████████████████████████████████████████████████████████████████████████████| 1.94k/1.94k [00:00<00:00, 2.14MB/s]\n",
      "Downloading flax_model.msgpack: 100%|████████████████████████████████████████████████████████████████████████████████████████████████████████████████████████████████████| 151M/151M [02:18<00:00, 1.09MB/s]\n"
     ]
    }
   ],
   "source": [
    "#feature_extractor = WhisperFeatureExtractor.from_pretrained(\"openai/whisper-tiny\")\n",
    "#tokenizer = WhisperTokenizer.from_pretrained(\"openai/whisper-tiny\", language=\"hindi\", task=\"transcribe\")\n",
    "# We only need to set the task id when the language is specified (i.e. in a multilingual setting)\n",
    "#tokenizer.set_prefix_tokens(language=\"hindi\", task=\"transcribe\")\n",
    "#processor = WhisperProcessor.from_pretrained(\"openai/whisper-tiny\", language=\"hindi\", task=\"transcribe\")\n",
    "\n",
    "# model\n",
    "model = FlaxWhisperForConditionalGeneration.from_pretrained(\n",
    "    \"openai/whisper-tiny\", # small\n",
    "    seed=42,\n",
    "    dtype=getattr(jnp, 'float16')\n",
    ")"
   ]
  },
  {
   "cell_type": "code",
   "execution_count": 9,
   "id": "0c9944d6",
   "metadata": {},
   "outputs": [],
   "source": [
    "tokenizer = WhisperTokenizer.from_pretrained(\"openai/whisper-tiny.en\")\n",
    "#tokenizer.save_pretrained(\"/users/ujan/Downloads/whisper_en_tokenizer\")"
   ]
  },
  {
   "cell_type": "code",
   "execution_count": 3,
   "id": "0f0a21b0",
   "metadata": {},
   "outputs": [],
   "source": [
    "from transformers import WhisperConfig\n",
    "config = WhisperConfig.from_pretrained('openai/whisper-tiny')"
   ]
  },
  {
   "cell_type": "code",
   "execution_count": 6,
   "id": "06220909",
   "metadata": {},
   "outputs": [],
   "source": [
    "model = FlaxWhisperForConditionalGeneration.from_pretrained('openai/whisper-small')"
   ]
  },
  {
   "cell_type": "code",
   "execution_count": null,
   "id": "e7bb63a0",
   "metadata": {},
   "outputs": [],
   "source": [
    "print(tokenizer.encoder.keys())"
   ]
  },
  {
   "cell_type": "code",
   "execution_count": null,
   "id": "f8851c74",
   "metadata": {},
   "outputs": [],
   "source": []
  },
  {
   "cell_type": "code",
   "execution_count": null,
   "id": "9d8c2172",
   "metadata": {},
   "outputs": [],
   "source": []
  }
 ],
 "metadata": {
  "kernelspec": {
   "display_name": "Python 3 (ipykernel)",
   "language": "python",
   "name": "python3"
  },
  "language_info": {
   "codemirror_mode": {
    "name": "ipython",
    "version": 3
   },
   "file_extension": ".py",
   "mimetype": "text/x-python",
   "name": "python",
   "nbconvert_exporter": "python",
   "pygments_lexer": "ipython3",
   "version": "3.10.4"
  }
 },
 "nbformat": 4,
 "nbformat_minor": 5
}
