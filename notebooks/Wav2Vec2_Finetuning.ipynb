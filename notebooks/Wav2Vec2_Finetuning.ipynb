{
 "cells": [
  {
   "cell_type": "code",
   "execution_count": 1,
   "id": "1a7dc1be",
   "metadata": {},
   "outputs": [],
   "source": [
    "from datasets import load_dataset, load_metric\n",
    "from datasets import ClassLabel\n",
    "import random\n",
    "import pandas as pd\n",
    "from IPython.display import display, HTML\n",
    "import re\n",
    "import json\n",
    "from transformers import Wav2Vec2CTCTokenizer\n",
    "from transformers import Wav2Vec2FeatureExtractor\n",
    "from transformers import Wav2Vec2Processor\n",
    "import IPython.display as ipd\n",
    "import numpy as np\n",
    "import torch\n",
    "from dataclasses import dataclass, field\n",
    "from typing import Any, Dict, List, Optional, Union\n",
    "from transformers import Wav2Vec2ForCTC\n",
    "from transformers import TrainingArguments\n",
    "from transformers import Trainer"
   ]
  },
  {
   "cell_type": "markdown",
   "id": "7647203b",
   "metadata": {},
   "source": [
    "Dataset"
   ]
  },
  {
   "cell_type": "code",
   "execution_count": 2,
   "id": "27f68aa0",
   "metadata": {},
   "outputs": [
    {
     "name": "stderr",
     "output_type": "stream",
     "text": [
      "Reusing dataset librispeech_asr (/home/ujan/.cache/huggingface/datasets/librispeech_asr/clean/2.1.0/14c8bffddb861b4b3a4fcdff648a56980dbb808f3fc56f5a3d56b18ee88458eb)\n"
     ]
    },
    {
     "data": {
      "application/vnd.jupyter.widget-view+json": {
       "model_id": "4237fe68800541599c20206df51e9c08",
       "version_major": 2,
       "version_minor": 0
      },
      "text/plain": [
       "  0%|          | 0/4 [00:00<?, ?it/s]"
      ]
     },
     "metadata": {},
     "output_type": "display_data"
    },
    {
     "name": "stdout",
     "output_type": "stream",
     "text": [
      "DatasetDict({\n",
      "    train.100: Dataset({\n",
      "        features: ['file', 'audio', 'text', 'speaker_id', 'chapter_id', 'id'],\n",
      "        num_rows: 28539\n",
      "    })\n",
      "    train.360: Dataset({\n",
      "        features: ['file', 'audio', 'text', 'speaker_id', 'chapter_id', 'id'],\n",
      "        num_rows: 104014\n",
      "    })\n",
      "    validation: Dataset({\n",
      "        features: ['file', 'audio', 'text', 'speaker_id', 'chapter_id', 'id'],\n",
      "        num_rows: 2703\n",
      "    })\n",
      "    test: Dataset({\n",
      "        features: ['file', 'audio', 'text', 'speaker_id', 'chapter_id', 'id'],\n",
      "        num_rows: 2620\n",
      "    })\n",
      "})\n"
     ]
    }
   ],
   "source": [
    "libri= load_dataset(\"librispeech_asr\", name=\"clean\")\n",
    "print(libri)"
   ]
  },
  {
   "cell_type": "code",
   "execution_count": 3,
   "id": "faeb4385",
   "metadata": {},
   "outputs": [],
   "source": [
    "libri = libri.remove_columns(['speaker_id', 'chapter_id', 'id'])"
   ]
  },
  {
   "cell_type": "code",
   "execution_count": 4,
   "id": "6f9f9f30",
   "metadata": {},
   "outputs": [
    {
     "data": {
      "text/html": [
       "<table border=\"1\" class=\"dataframe\">\n",
       "  <thead>\n",
       "    <tr style=\"text-align: right;\">\n",
       "      <th></th>\n",
       "      <th>text</th>\n",
       "    </tr>\n",
       "  </thead>\n",
       "  <tbody>\n",
       "    <tr>\n",
       "      <th>0</th>\n",
       "      <td>SHE SEIZED WITH AN UNSTEADY HAND THE PRECIOUS MANUSCRIPT</td>\n",
       "    </tr>\n",
       "    <tr>\n",
       "      <th>1</th>\n",
       "      <td>AND APPARENTLY SUPPORTED THE REBELLIONS OF THE NORTHERN MESOPOTAMIAN KINGS</td>\n",
       "    </tr>\n",
       "    <tr>\n",
       "      <th>2</th>\n",
       "      <td>SAMSON'S INTENTION IN PERSUADING HIM TO SALLY FORTH ONCE MORE WAS TO DO WHAT THE HISTORY RELATES FARTHER ON</td>\n",
       "    </tr>\n",
       "    <tr>\n",
       "      <th>3</th>\n",
       "      <td>AND AS I HAD ALREADY PREPARED EVERYTHING AS WELL AS I COULD AS TO MY BUSINESS AND WHOM TO ENTRUST MY AFFAIRS WITH I HAD LITTLE TO DO BUT TO RESOLVE I WENT HOME THAT EVENING GREATLY OPPRESSED IN MY MIND</td>\n",
       "    </tr>\n",
       "    <tr>\n",
       "      <th>4</th>\n",
       "      <td>NO OTHER MAN IN ALL THIS FRANCE COULD HAVE DONE WHAT HE HAS DONE FOR ME SHE LAID HER HEAD UPON HER FATHER'S BREAST AS SHE HAD LAID HIS POOR HEAD ON HER OWN BREAST LONG LONG AGO HE WAS HAPPY IN THE RETURN HE HAD MADE HER</td>\n",
       "    </tr>\n",
       "    <tr>\n",
       "      <th>5</th>\n",
       "      <td>TO THE SUPPORT OF ITS ORDINANCES AND NOT TO BE COMPELLED AFTER SUCH A FASHION THERE I HAVE YOU EXCLAIMED MISTER TEMPLETON</td>\n",
       "    </tr>\n",
       "    <tr>\n",
       "      <th>6</th>\n",
       "      <td>SIX MEN WHO WERE MARCHING SEPARATELY AND AT SOME DISTANCE FROM EACH OTHER ALONG THE WALL AND WHO MIGHT HAVE BEEN TAKEN FOR A GRAY PATROL</td>\n",
       "    </tr>\n",
       "    <tr>\n",
       "      <th>7</th>\n",
       "      <td>SUPPER WAS NEARLY READY WHEN MISTER PARKER RETURNED HIS FACE WORE A RATHER SERIOUS AIR AND MISTER DAMON NOTING IT ASKED LAUGHINGLY WELL</td>\n",
       "    </tr>\n",
       "    <tr>\n",
       "      <th>8</th>\n",
       "      <td>WE MAY REJOICE THAT THESE CAUSES OF IRRITATION NO LONGER EXIST AND THAT IF SUCH FEELINGS AS JEALOUSY RIVALRY AND DISCONTENT EVER TOUCH CELESTIAL BOSOMS IN THE MODERN BALL ROOM THEY MUST ARISE FROM DIFFERENT AND MORE RECONDITE SOURCES</td>\n",
       "    </tr>\n",
       "    <tr>\n",
       "      <th>9</th>\n",
       "      <td>IN THE DIVISION OF THE BAUBLES THE CUNNING HURON DISCOVERED NO LESS ART THAN IN THEIR SELECTION WHILE HE BESTOWED THOSE OF GREATER VALUE ON THE TWO MOST DISTINGUISHED WARRIORS ONE OF WHOM WAS HIS HOST HE SEASONED HIS OFFERINGS TO THEIR INFERIORS</td>\n",
       "    </tr>\n",
       "  </tbody>\n",
       "</table>"
      ],
      "text/plain": [
       "<IPython.core.display.HTML object>"
      ]
     },
     "metadata": {},
     "output_type": "display_data"
    }
   ],
   "source": [
    "def show_random_elements(dataset, num_examples=10):\n",
    "    assert num_examples <= len(dataset), \"Can't pick more elements than there are in the dataset.\"\n",
    "    picks = []\n",
    "    for _ in range(num_examples):\n",
    "        pick = random.randint(0, len(dataset)-1)\n",
    "        while pick in picks:\n",
    "            pick = random.randint(0, len(dataset)-1)\n",
    "        picks.append(pick)\n",
    "    \n",
    "    df = pd.DataFrame(dataset[picks])\n",
    "    display(HTML(df.to_html()))\n",
    "\n",
    "show_random_elements(libri[\"train.100\"].remove_columns([\"file\", \"audio\"]))"
   ]
  },
  {
   "cell_type": "code",
   "execution_count": 5,
   "id": "4617bcab",
   "metadata": {},
   "outputs": [
    {
     "name": "stderr",
     "output_type": "stream",
     "text": [
      "Loading cached processed dataset at /home/ujan/.cache/huggingface/datasets/librispeech_asr/clean/2.1.0/14c8bffddb861b4b3a4fcdff648a56980dbb808f3fc56f5a3d56b18ee88458eb/cache-f2f76a6a936a78ee.arrow\n",
      "Loading cached processed dataset at /home/ujan/.cache/huggingface/datasets/librispeech_asr/clean/2.1.0/14c8bffddb861b4b3a4fcdff648a56980dbb808f3fc56f5a3d56b18ee88458eb/cache-cc8bea45c46a7c7c.arrow\n",
      "Loading cached processed dataset at /home/ujan/.cache/huggingface/datasets/librispeech_asr/clean/2.1.0/14c8bffddb861b4b3a4fcdff648a56980dbb808f3fc56f5a3d56b18ee88458eb/cache-887227bc6ed99a36.arrow\n",
      "Loading cached processed dataset at /home/ujan/.cache/huggingface/datasets/librispeech_asr/clean/2.1.0/14c8bffddb861b4b3a4fcdff648a56980dbb808f3fc56f5a3d56b18ee88458eb/cache-090e62f70d2d3247.arrow\n"
     ]
    }
   ],
   "source": [
    "chars_to_ignore_regex = '[\\,\\?\\.\\!\\-\\;\\:\\\"]'\n",
    "\n",
    "def remove_special_characters(batch):\n",
    "    batch[\"text\"] = re.sub(chars_to_ignore_regex, '', batch[\"text\"]).lower()\n",
    "    return batch\n",
    "\n",
    "libri = libri.map(remove_special_characters)"
   ]
  },
  {
   "cell_type": "code",
   "execution_count": 6,
   "id": "42ae6d37",
   "metadata": {},
   "outputs": [
    {
     "data": {
      "text/html": [
       "<table border=\"1\" class=\"dataframe\">\n",
       "  <thead>\n",
       "    <tr style=\"text-align: right;\">\n",
       "      <th></th>\n",
       "      <th>text</th>\n",
       "    </tr>\n",
       "  </thead>\n",
       "  <tbody>\n",
       "    <tr>\n",
       "      <th>0</th>\n",
       "      <td>regardless of its effect on the mate is short sighted in the extreme even if you could care only for personal pleasure that cannot long outlast your spouse's displeasure staging a contest or a succession of small contests for the sake of finding out who is boss</td>\n",
       "    </tr>\n",
       "    <tr>\n",
       "      <th>1</th>\n",
       "      <td>he's such a game little feller an' an such a queer little un and when they turned away he stood and looked after them in a dazed kind of way and there was still a mist in his eyes and a lump in his throat</td>\n",
       "    </tr>\n",
       "    <tr>\n",
       "      <th>2</th>\n",
       "      <td>anyone could have told her that by this attitude of mind towards the future she was laying up for herself disappointment at the least if not the bitterest disillusions but there was no one to throw cold water on her hopes</td>\n",
       "    </tr>\n",
       "    <tr>\n",
       "      <th>3</th>\n",
       "      <td>he's axtra fond o the feeshin was the reply for a that he's a foreign shentleman waiting till the boat had become a distant speck on the face of the waters gimblet made his way into the inn and entered into conversation with the landlord</td>\n",
       "    </tr>\n",
       "    <tr>\n",
       "      <th>4</th>\n",
       "      <td>and of the hethites and of the hevites and of the amorrhites and all the mighty ones in hesebon</td>\n",
       "    </tr>\n",
       "    <tr>\n",
       "      <th>5</th>\n",
       "      <td>the life is not so bad said craggs but it's lonely sometimes life need never be lonely so long as a man has health and his faculties said billy give me nature to admire a bit of baycon for dinner</td>\n",
       "    </tr>\n",
       "    <tr>\n",
       "      <th>6</th>\n",
       "      <td>as a continuous accompaniment to the exclamations sighs and whispered comments of the bystanders came the murmur of the water trickling from a spigot at the head of each slab a tiny stream that flowed forth</td>\n",
       "    </tr>\n",
       "    <tr>\n",
       "      <th>7</th>\n",
       "      <td>you know nothing of her former life and last year at this time you did not know that such a person existed no matter there is such a thing as looking through a person's eyes into the heart and learning more of the height and breadth</td>\n",
       "    </tr>\n",
       "    <tr>\n",
       "      <th>8</th>\n",
       "      <td>exposure threatening you at any moment why don't you tell me again that i lie carling but now the man made no answer he had sunk a little deeper in his chair</td>\n",
       "    </tr>\n",
       "    <tr>\n",
       "      <th>9</th>\n",
       "      <td>riquet with the tuft cinderella and little thumb eight stories in all on the cover of the book was depicted an old lady holding in her hand a distaff</td>\n",
       "    </tr>\n",
       "  </tbody>\n",
       "</table>"
      ],
      "text/plain": [
       "<IPython.core.display.HTML object>"
      ]
     },
     "metadata": {},
     "output_type": "display_data"
    }
   ],
   "source": [
    "show_random_elements(libri[\"train.100\"].remove_columns([\"file\", \"audio\"]))"
   ]
  },
  {
   "cell_type": "markdown",
   "id": "97133ceb",
   "metadata": {},
   "source": [
    "Extract all distinct letters of the training and test data and build our vocabulary from this set of letters"
   ]
  },
  {
   "cell_type": "code",
   "execution_count": 7,
   "id": "594b480a",
   "metadata": {},
   "outputs": [
    {
     "data": {
      "application/vnd.jupyter.widget-view+json": {
       "model_id": "22e1a9e7814d4b25b0953bff550eab85",
       "version_major": 2,
       "version_minor": 0
      },
      "text/plain": [
       "  0%|          | 0/1 [00:00<?, ?ba/s]"
      ]
     },
     "metadata": {},
     "output_type": "display_data"
    },
    {
     "data": {
      "application/vnd.jupyter.widget-view+json": {
       "model_id": "c033663f91f84a68b6b4e54a219e0a4e",
       "version_major": 2,
       "version_minor": 0
      },
      "text/plain": [
       "  0%|          | 0/1 [00:00<?, ?ba/s]"
      ]
     },
     "metadata": {},
     "output_type": "display_data"
    },
    {
     "data": {
      "application/vnd.jupyter.widget-view+json": {
       "model_id": "df3d896b059d41ecb126c4c088cbc6ab",
       "version_major": 2,
       "version_minor": 0
      },
      "text/plain": [
       "  0%|          | 0/1 [00:00<?, ?ba/s]"
      ]
     },
     "metadata": {},
     "output_type": "display_data"
    },
    {
     "data": {
      "application/vnd.jupyter.widget-view+json": {
       "model_id": "aa966975020d4f9dad37009ec1749ada",
       "version_major": 2,
       "version_minor": 0
      },
      "text/plain": [
       "  0%|          | 0/1 [00:00<?, ?ba/s]"
      ]
     },
     "metadata": {},
     "output_type": "display_data"
    }
   ],
   "source": [
    "def extract_all_chars(batch):\n",
    "  all_text = \" \".join(batch[\"text\"])\n",
    "  vocab = list(set(all_text))\n",
    "  return {\"vocab\": [vocab], \"all_text\": [all_text]}\n",
    "\n",
    "vocabs = libri.map(extract_all_chars, batched=True, batch_size=-1, keep_in_memory=True, remove_columns=libri.column_names[\"train.100\"])"
   ]
  },
  {
   "cell_type": "code",
   "execution_count": 8,
   "id": "04c67181",
   "metadata": {},
   "outputs": [
    {
     "data": {
      "text/plain": [
       "{'p': 0,\n",
       " 'r': 1,\n",
       " 'g': 2,\n",
       " 'z': 3,\n",
       " 'o': 4,\n",
       " 'u': 5,\n",
       " 'd': 6,\n",
       " 'b': 7,\n",
       " 'k': 8,\n",
       " 'e': 9,\n",
       " 'y': 10,\n",
       " 's': 11,\n",
       " 'c': 12,\n",
       " 'w': 13,\n",
       " 'h': 14,\n",
       " 'a': 15,\n",
       " 't': 16,\n",
       " 'x': 17,\n",
       " ' ': 18,\n",
       " 'v': 19,\n",
       " 'i': 20,\n",
       " 'm': 21,\n",
       " \"'\": 22,\n",
       " 'l': 23,\n",
       " 'n': 24,\n",
       " 'j': 25,\n",
       " 'f': 26,\n",
       " 'q': 27}"
      ]
     },
     "execution_count": 8,
     "metadata": {},
     "output_type": "execute_result"
    }
   ],
   "source": [
    "vocab_list = list(set(vocabs[\"train.100\"][\"vocab\"][0]) | set(vocabs[\"test\"][\"vocab\"][0]))\n",
    "\n",
    "vocab_dict = {v: k for k, v in enumerate(vocab_list)}\n",
    "vocab_dict"
   ]
  },
  {
   "cell_type": "markdown",
   "id": "4274097f",
   "metadata": {},
   "source": [
    "To make it clearer that \" \" has its own token class, we give it a more visible character |. In addition, we also add an \"unknown\" token. We also add a padding token that corresponds to CTC's \"blank token\""
   ]
  },
  {
   "cell_type": "code",
   "execution_count": 9,
   "id": "cea44f6d",
   "metadata": {},
   "outputs": [
    {
     "name": "stdout",
     "output_type": "stream",
     "text": [
      "30\n"
     ]
    }
   ],
   "source": [
    "vocab_dict[\"|\"] = vocab_dict[\" \"]\n",
    "del vocab_dict[\" \"]\n",
    "\n",
    "vocab_dict[\"[UNK]\"] = len(vocab_dict)\n",
    "vocab_dict[\"[PAD]\"] = len(vocab_dict)\n",
    "print(len(vocab_dict))"
   ]
  },
  {
   "cell_type": "markdown",
   "id": "760766cf",
   "metadata": {},
   "source": [
    "Save the vocabulary as a json file"
   ]
  },
  {
   "cell_type": "code",
   "execution_count": 10,
   "id": "6a19f0a9",
   "metadata": {},
   "outputs": [],
   "source": [
    "with open('vocab.json', 'w') as vocab_file:\n",
    "    json.dump(vocab_dict, vocab_file)"
   ]
  },
  {
   "cell_type": "markdown",
   "id": "e112b9fb",
   "metadata": {},
   "source": [
    "We use the json file to instantiate an object of the Wav2Vec2CTCTokenizer class."
   ]
  },
  {
   "cell_type": "code",
   "execution_count": 11,
   "id": "4282c3ee",
   "metadata": {},
   "outputs": [],
   "source": [
    "tokenizer = Wav2Vec2CTCTokenizer(\"./vocab.json\", unk_token=\"[UNK]\", pad_token=\"[PAD]\", word_delimiter_token=\"|\")"
   ]
  },
  {
   "cell_type": "markdown",
   "id": "cc822236",
   "metadata": {},
   "source": [
    "Wav2Vec2 feature extractor"
   ]
  },
  {
   "cell_type": "code",
   "execution_count": 12,
   "id": "5de0a8a4",
   "metadata": {},
   "outputs": [],
   "source": [
    "feature_extractor = Wav2Vec2FeatureExtractor(feature_size=1, sampling_rate=16000, padding_value=0.0, do_normalize=True, return_attention_mask=False)"
   ]
  },
  {
   "cell_type": "markdown",
   "id": "a055bba8",
   "metadata": {},
   "source": [
    "To make the usage of Wav2Vec2 as user-friendly as possible, the feature extractor and tokenizer are wrapped into a single Wav2Vec2Processor class so that one only needs a model and processor object"
   ]
  },
  {
   "cell_type": "code",
   "execution_count": 13,
   "id": "69231776",
   "metadata": {},
   "outputs": [],
   "source": [
    "processor = Wav2Vec2Processor(feature_extractor=feature_extractor, tokenizer=tokenizer)"
   ]
  },
  {
   "cell_type": "code",
   "execution_count": 14,
   "id": "41eb8874",
   "metadata": {},
   "outputs": [
    {
     "data": {
      "text/plain": [
       "{'file': '/home/ujan/.cache/huggingface/datasets/downloads/extracted/02733bd6de54bdc39dd89183579973aa11646dce57a22216427906405ebc7284/374-180298-0000.flac',\n",
       " 'audio': {'path': '/home/ujan/.cache/huggingface/datasets/downloads/extracted/02733bd6de54bdc39dd89183579973aa11646dce57a22216427906405ebc7284/374-180298-0000.flac',\n",
       "  'array': array([ 7.01904297e-04,  7.32421875e-04,  7.32421875e-04, ...,\n",
       "         -2.74658203e-04, -1.83105469e-04, -3.05175781e-05]),\n",
       "  'sampling_rate': 16000},\n",
       " 'text': 'chapter sixteen i might have told you of the beginning of this liaison in a few lines but i wanted you to see every step by which we came i to agree to whatever marguerite wished'}"
      ]
     },
     "execution_count": 14,
     "metadata": {},
     "output_type": "execute_result"
    }
   ],
   "source": [
    "libri['train.100'][0]"
   ]
  },
  {
   "cell_type": "code",
   "execution_count": 15,
   "id": "007e4bfb",
   "metadata": {},
   "outputs": [
    {
     "name": "stdout",
     "output_type": "stream",
     "text": [
      "there was a moon that night wasn't there full or near it i returned and how soon was the alarm raised along the countryside\n"
     ]
    },
    {
     "data": {
      "text/html": [
       "\n",
       "                <audio  controls=\"controls\" autoplay=\"autoplay\">\n",
       "                    <source src=\"data:audio/wav;base64,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\" type=\"audio/wav\" />\n",
       "                    Your browser does not support the audio element.\n",
       "                </audio>\n",
       "              "
      ],
      "text/plain": [
       "<IPython.lib.display.Audio object>"
      ]
     },
     "execution_count": 15,
     "metadata": {},
     "output_type": "execute_result"
    }
   ],
   "source": [
    "rand_int = random.randint(0, len(libri[\"train.100\"]))\n",
    "\n",
    "print(libri[\"train.100\"][rand_int][\"text\"])\n",
    "ipd.Audio(data=np.asarray(libri[\"train.100\"][rand_int][\"audio\"][\"array\"]), autoplay=True, rate=16000)"
   ]
  },
  {
   "cell_type": "code",
   "execution_count": 16,
   "id": "efe0105b",
   "metadata": {},
   "outputs": [
    {
     "name": "stdout",
     "output_type": "stream",
     "text": [
      "Target text: take a golden walnut and hide it in my green box ask the young lady olga ignatyevna for it say it's for vanka vanka sighed convulsively and again stared at the window\n",
      "Input array shape: (225600,)\n",
      "Sampling rate: 16000\n"
     ]
    }
   ],
   "source": [
    "rand_int = random.randint(0, len(libri[\"train.100\"]))\n",
    "\n",
    "print(\"Target text:\", libri[\"train.100\"][rand_int][\"text\"])\n",
    "print(\"Input array shape:\", np.asarray(libri[\"train.100\"][rand_int][\"audio\"][\"array\"]).shape)\n",
    "print(\"Sampling rate:\", libri[\"train.100\"][rand_int][\"audio\"][\"sampling_rate\"])"
   ]
  },
  {
   "cell_type": "code",
   "execution_count": 17,
   "id": "0056f421",
   "metadata": {},
   "outputs": [],
   "source": [
    "def prepare_dataset(batch):\n",
    "    audio = batch[\"audio\"]\n",
    "\n",
    "    # batched output is \"un-batched\" to ensure mapping is correct\n",
    "    batch[\"input_values\"] = processor(audio[\"array\"], sampling_rate=audio[\"sampling_rate\"]).input_values[0]\n",
    "    \n",
    "    with processor.as_target_processor():\n",
    "        batch[\"labels\"] = processor(batch[\"text\"]).input_ids\n",
    "    return batch"
   ]
  },
  {
   "cell_type": "code",
   "execution_count": 18,
   "id": "afa095e0",
   "metadata": {},
   "outputs": [
    {
     "name": "stdout",
     "output_type": "stream",
     "text": [
      "      "
     ]
    },
    {
     "data": {
      "application/vnd.jupyter.widget-view+json": {
       "model_id": "f51247def6b5454b96d50520632e2a24",
       "version_major": 2,
       "version_minor": 0
      },
      "text/plain": [
       "#0:   0%|          | 0/7135 [00:00<?, ?ex/s]"
      ]
     },
     "metadata": {},
     "output_type": "display_data"
    },
    {
     "name": "stdout",
     "output_type": "stream",
     "text": [
      " "
     ]
    },
    {
     "data": {
      "application/vnd.jupyter.widget-view+json": {
       "model_id": "222c5a4756d64e1b81ffef9b7e0ed7e7",
       "version_major": 2,
       "version_minor": 0
      },
      "text/plain": [
       "#1:   0%|          | 0/7135 [00:00<?, ?ex/s]"
      ]
     },
     "metadata": {},
     "output_type": "display_data"
    },
    {
     "name": "stdout",
     "output_type": "stream",
     "text": [
      " "
     ]
    },
    {
     "data": {
      "application/vnd.jupyter.widget-view+json": {
       "model_id": "2f0af0b7c38448e58c9cadc1f622d53c",
       "version_major": 2,
       "version_minor": 0
      },
      "text/plain": [
       "#2:   0%|          | 0/7135 [00:00<?, ?ex/s]"
      ]
     },
     "metadata": {},
     "output_type": "display_data"
    },
    {
     "data": {
      "application/vnd.jupyter.widget-view+json": {
       "model_id": "1366d04d762c491b8312486c579dbedc",
       "version_major": 2,
       "version_minor": 0
      },
      "text/plain": [
       "#3:   0%|          | 0/7134 [00:00<?, ?ex/s]"
      ]
     },
     "metadata": {},
     "output_type": "display_data"
    },
    {
     "name": "stdout",
     "output_type": "stream",
     "text": [
      "       "
     ]
    },
    {
     "data": {
      "application/vnd.jupyter.widget-view+json": {
       "model_id": "a4d92abceb494a92b4c00ff0f6eb565b",
       "version_major": 2,
       "version_minor": 0
      },
      "text/plain": [
       "#0:   0%|          | 0/26004 [00:00<?, ?ex/s]"
      ]
     },
     "metadata": {},
     "output_type": "display_data"
    },
    {
     "name": "stdout",
     "output_type": "stream",
     "text": [
      " "
     ]
    },
    {
     "data": {
      "application/vnd.jupyter.widget-view+json": {
       "model_id": "54aa6724d5bd471e8686e9e7c65d01b6",
       "version_major": 2,
       "version_minor": 0
      },
      "text/plain": [
       "#1:   0%|          | 0/26004 [00:00<?, ?ex/s]"
      ]
     },
     "metadata": {},
     "output_type": "display_data"
    },
    {
     "data": {
      "application/vnd.jupyter.widget-view+json": {
       "model_id": "15986b2d56554ec699cad34696a396cd",
       "version_major": 2,
       "version_minor": 0
      },
      "text/plain": [
       "#2:   0%|          | 0/26003 [00:00<?, ?ex/s]"
      ]
     },
     "metadata": {},
     "output_type": "display_data"
    },
    {
     "data": {
      "application/vnd.jupyter.widget-view+json": {
       "model_id": "e5c6e83eb2a84f71aae303091e09780d",
       "version_major": 2,
       "version_minor": 0
      },
      "text/plain": [
       "#3:   0%|          | 0/26003 [00:00<?, ?ex/s]"
      ]
     },
     "metadata": {},
     "output_type": "display_data"
    },
    {
     "name": "stdout",
     "output_type": "stream",
     "text": [
      "      "
     ]
    },
    {
     "data": {
      "application/vnd.jupyter.widget-view+json": {
       "model_id": "44c3ccf7d6d8483aa2f4fabc55a0bbd9",
       "version_major": 2,
       "version_minor": 0
      },
      "text/plain": [
       "#0:   0%|          | 0/676 [00:00<?, ?ex/s]"
      ]
     },
     "metadata": {},
     "output_type": "display_data"
    },
    {
     "name": "stdout",
     "output_type": "stream",
     "text": [
      "  "
     ]
    },
    {
     "data": {
      "application/vnd.jupyter.widget-view+json": {
       "model_id": "f9e5a4ba8d89470b9073a4e0d33c9b9f",
       "version_major": 2,
       "version_minor": 0
      },
      "text/plain": [
       "#1:   0%|          | 0/676 [00:00<?, ?ex/s]"
      ]
     },
     "metadata": {},
     "output_type": "display_data"
    },
    {
     "data": {
      "application/vnd.jupyter.widget-view+json": {
       "model_id": "3eff9a49749b41cfbe1f2dd60c1fe52c",
       "version_major": 2,
       "version_minor": 0
      },
      "text/plain": [
       "#3:   0%|          | 0/675 [00:00<?, ?ex/s]"
      ]
     },
     "metadata": {},
     "output_type": "display_data"
    },
    {
     "data": {
      "application/vnd.jupyter.widget-view+json": {
       "model_id": "500df6832c2f4424bb5ea5b466ee247c",
       "version_major": 2,
       "version_minor": 0
      },
      "text/plain": [
       "#2:   0%|          | 0/676 [00:00<?, ?ex/s]"
      ]
     },
     "metadata": {},
     "output_type": "display_data"
    },
    {
     "name": "stdout",
     "output_type": "stream",
     "text": [
      "       "
     ]
    },
    {
     "data": {
      "application/vnd.jupyter.widget-view+json": {
       "model_id": "f68c128d780f485c8b45a2e8645c26a6",
       "version_major": 2,
       "version_minor": 0
      },
      "text/plain": [
       "#0:   0%|          | 0/655 [00:00<?, ?ex/s]"
      ]
     },
     "metadata": {},
     "output_type": "display_data"
    },
    {
     "name": "stdout",
     "output_type": "stream",
     "text": [
      " "
     ]
    },
    {
     "data": {
      "application/vnd.jupyter.widget-view+json": {
       "model_id": "be3d56349d604cdc8d5c6128f348cbbe",
       "version_major": 2,
       "version_minor": 0
      },
      "text/plain": [
       "#1:   0%|          | 0/655 [00:00<?, ?ex/s]"
      ]
     },
     "metadata": {},
     "output_type": "display_data"
    },
    {
     "data": {
      "application/vnd.jupyter.widget-view+json": {
       "model_id": "9bd16b50a8f549328bd0c674410e2eba",
       "version_major": 2,
       "version_minor": 0
      },
      "text/plain": [
       "#2:   0%|          | 0/655 [00:00<?, ?ex/s]"
      ]
     },
     "metadata": {},
     "output_type": "display_data"
    },
    {
     "data": {
      "application/vnd.jupyter.widget-view+json": {
       "model_id": "ea645bf4464841c781aa149cff5ba39d",
       "version_major": 2,
       "version_minor": 0
      },
      "text/plain": [
       "#3:   0%|          | 0/655 [00:00<?, ?ex/s]"
      ]
     },
     "metadata": {},
     "output_type": "display_data"
    }
   ],
   "source": [
    "libri = libri.map(prepare_dataset, remove_columns=libri.column_names[\"train.100\"], num_proc=4)"
   ]
  },
  {
   "cell_type": "markdown",
   "id": "65090f9e",
   "metadata": {},
   "source": [
    "Training & Evaluation"
   ]
  },
  {
   "cell_type": "code",
   "execution_count": 19,
   "id": "274f9048",
   "metadata": {},
   "outputs": [],
   "source": [
    "@dataclass\n",
    "class DataCollatorCTCWithPadding:\n",
    "    \"\"\"\n",
    "    Data collator that will dynamically pad the inputs received.\n",
    "    Args:\n",
    "        processor (:class:`~transformers.Wav2Vec2Processor`)\n",
    "            The processor used for proccessing the data.\n",
    "        padding (:obj:`bool`, :obj:`str` or :class:`~transformers.tokenization_utils_base.PaddingStrategy`, `optional`, defaults to :obj:`True`):\n",
    "            Select a strategy to pad the returned sequences (according to the model's padding side and padding index)\n",
    "            among:\n",
    "            * :obj:`True` or :obj:`'longest'`: Pad to the longest sequence in the batch (or no padding if only a single\n",
    "              sequence if provided).\n",
    "            * :obj:`'max_length'`: Pad to a maximum length specified with the argument :obj:`max_length` or to the\n",
    "              maximum acceptable input length for the model if that argument is not provided.\n",
    "            * :obj:`False` or :obj:`'do_not_pad'` (default): No padding (i.e., can output a batch with sequences of\n",
    "              different lengths).\n",
    "        max_length (:obj:`int`, `optional`):\n",
    "            Maximum length of the ``input_values`` of the returned list and optionally padding length (see above).\n",
    "        max_length_labels (:obj:`int`, `optional`):\n",
    "            Maximum length of the ``labels`` returned list and optionally padding length (see above).\n",
    "        pad_to_multiple_of (:obj:`int`, `optional`):\n",
    "            If set will pad the sequence to a multiple of the provided value.\n",
    "            This is especially useful to enable the use of Tensor Cores on NVIDIA hardware with compute capability >=\n",
    "            7.5 (Volta).\n",
    "    \"\"\"\n",
    "\n",
    "    processor: Wav2Vec2Processor\n",
    "    padding: Union[bool, str] = True\n",
    "    max_length: Optional[int] = None\n",
    "    max_length_labels: Optional[int] = None\n",
    "    pad_to_multiple_of: Optional[int] = None\n",
    "    pad_to_multiple_of_labels: Optional[int] = None\n",
    "\n",
    "    def __call__(self, features: List[Dict[str, Union[List[int], torch.Tensor]]]) -> Dict[str, torch.Tensor]:\n",
    "        # split inputs and labels since they have to be of different lenghts and need\n",
    "        # different padding methods\n",
    "        input_features = [{\"input_values\": feature[\"input_values\"]} for feature in features]\n",
    "        label_features = [{\"input_ids\": feature[\"labels\"]} for feature in features]\n",
    "\n",
    "        batch = self.processor.pad(\n",
    "            input_features,\n",
    "            padding=self.padding,\n",
    "            max_length=self.max_length,\n",
    "            pad_to_multiple_of=self.pad_to_multiple_of,\n",
    "            return_tensors=\"pt\",\n",
    "        )\n",
    "        with self.processor.as_target_processor():\n",
    "            labels_batch = self.processor.pad(\n",
    "                label_features,\n",
    "                padding=self.padding,\n",
    "                max_length=self.max_length_labels,\n",
    "                pad_to_multiple_of=self.pad_to_multiple_of_labels,\n",
    "                return_tensors=\"pt\",\n",
    "            )\n",
    "\n",
    "        # replace padding with -100 to ignore loss correctly\n",
    "        labels = labels_batch[\"input_ids\"].masked_fill(labels_batch.attention_mask.ne(1), -100)\n",
    "\n",
    "        batch[\"labels\"] = labels\n",
    "\n",
    "        return batch"
   ]
  },
  {
   "cell_type": "code",
   "execution_count": 20,
   "id": "d402fdaa",
   "metadata": {},
   "outputs": [],
   "source": [
    "data_collator = DataCollatorCTCWithPadding(processor=processor, padding=True)"
   ]
  },
  {
   "cell_type": "code",
   "execution_count": 21,
   "id": "f8e8ecab",
   "metadata": {},
   "outputs": [],
   "source": [
    "wer_metric = load_metric(\"wer\")"
   ]
  },
  {
   "cell_type": "code",
   "execution_count": 22,
   "id": "e450cbe9",
   "metadata": {},
   "outputs": [],
   "source": [
    "def compute_metrics(pred):\n",
    "    pred_logits = pred.predictions\n",
    "    pred_ids = np.argmax(pred_logits, axis=-1)\n",
    "\n",
    "    pred.label_ids[pred.label_ids == -100] = processor.tokenizer.pad_token_id\n",
    "\n",
    "    pred_str = processor.batch_decode(pred_ids)\n",
    "    # we do not want to group tokens when computing the metrics\n",
    "    label_str = processor.batch_decode(pred.label_ids, group_tokens=False)\n",
    "\n",
    "    wer = wer_metric.compute(predictions=pred_str, references=label_str)\n",
    "\n",
    "    return {\"wer\": wer}"
   ]
  },
  {
   "cell_type": "code",
   "execution_count": 23,
   "id": "48374ca7",
   "metadata": {},
   "outputs": [
    {
     "name": "stderr",
     "output_type": "stream",
     "text": [
      "/home/ujan/anaconda3/envs/asr/lib/python3.10/site-packages/transformers/configuration_utils.py:368: UserWarning: Passing `gradient_checkpointing` to a config initialization is deprecated and will be removed in v5 Transformers. Using `model.gradient_checkpointing_enable()` instead, or if you are using the `Trainer` API, pass `gradient_checkpointing=True` in your `TrainingArguments`.\n",
      "  warnings.warn(\n",
      "Some weights of the model checkpoint at facebook/wav2vec2-base were not used when initializing Wav2Vec2ForCTC: ['project_q.bias', 'project_hid.weight', 'quantizer.weight_proj.weight', 'quantizer.weight_proj.bias', 'project_q.weight', 'quantizer.codevectors', 'project_hid.bias']\n",
      "- This IS expected if you are initializing Wav2Vec2ForCTC from the checkpoint of a model trained on another task or with another architecture (e.g. initializing a BertForSequenceClassification model from a BertForPreTraining model).\n",
      "- This IS NOT expected if you are initializing Wav2Vec2ForCTC from the checkpoint of a model that you expect to be exactly identical (initializing a BertForSequenceClassification model from a BertForSequenceClassification model).\n",
      "Some weights of Wav2Vec2ForCTC were not initialized from the model checkpoint at facebook/wav2vec2-base and are newly initialized: ['lm_head.weight', 'lm_head.bias']\n",
      "You should probably TRAIN this model on a down-stream task to be able to use it for predictions and inference.\n"
     ]
    }
   ],
   "source": [
    "model = Wav2Vec2ForCTC.from_pretrained(\n",
    "    \"facebook/wav2vec2-base\", \n",
    "    ctc_loss_reduction=\"mean\", \n",
    "    pad_token_id=processor.tokenizer.pad_token_id,\n",
    ")"
   ]
  },
  {
   "cell_type": "markdown",
   "id": "fc541d48",
   "metadata": {},
   "source": [
    "The first component of Wav2Vec2 consists of a stack of CNN layers that are used to extract acoustically meaningful - but contextually independent - features from the raw speech signal. This part of the model has already been sufficiently trained during pretrainind and as stated in the paper does not need to be fine-tuned anymore "
   ]
  },
  {
   "cell_type": "code",
   "execution_count": 24,
   "id": "0c3c9a01",
   "metadata": {},
   "outputs": [
    {
     "name": "stderr",
     "output_type": "stream",
     "text": [
      "/home/ujan/anaconda3/envs/asr/lib/python3.10/site-packages/transformers/models/wav2vec2/modeling_wav2vec2.py:1618: FutureWarning: The method `freeze_feature_extractor` is deprecated and will be removed in Transformers v5.Please use the equivalent `freeze_feature_encoder` method instead.\n",
      "  warnings.warn(\n"
     ]
    }
   ],
   "source": [
    "model.freeze_feature_extractor()"
   ]
  },
  {
   "cell_type": "code",
   "execution_count": 25,
   "id": "a86ff81f",
   "metadata": {},
   "outputs": [],
   "source": [
    "training_args = TrainingArguments(\n",
    "  output_dir='/home/ujan/Notebooks/libri_fn',\n",
    "  group_by_length=True,\n",
    "  per_device_train_batch_size=32,\n",
    "  evaluation_strategy=\"steps\",\n",
    "  num_train_epochs=30,\n",
    "  fp16=True,\n",
    "  gradient_checkpointing=True, \n",
    "  save_steps=500,\n",
    "  eval_steps=500,\n",
    "  logging_steps=500,\n",
    "  learning_rate=1e-4,\n",
    "  weight_decay=0.005,\n",
    "  warmup_steps=1000,\n",
    "  save_total_limit=2,\n",
    ")"
   ]
  },
  {
   "cell_type": "code",
   "execution_count": 26,
   "id": "715522fd",
   "metadata": {},
   "outputs": [
    {
     "name": "stderr",
     "output_type": "stream",
     "text": [
      "Using cuda_amp half precision backend\n"
     ]
    }
   ],
   "source": [
    "trainer = Trainer(\n",
    "    model=model,\n",
    "    data_collator=data_collator,\n",
    "    args=training_args,\n",
    "    compute_metrics=compute_metrics,\n",
    "    train_dataset=libri[\"train.100\"],\n",
    "    eval_dataset=libri[\"test\"],\n",
    "    tokenizer=processor.feature_extractor,\n",
    ")"
   ]
  },
  {
   "cell_type": "code",
   "execution_count": 27,
   "id": "400db5be",
   "metadata": {},
   "outputs": [
    {
     "name": "stderr",
     "output_type": "stream",
     "text": [
      "/home/ujan/anaconda3/envs/asr/lib/python3.10/site-packages/transformers/optimization.py:306: FutureWarning: This implementation of AdamW is deprecated and will be removed in a future version. Use the PyTorch implementation torch.optim.AdamW instead, or set `no_deprecation_warning=True` to disable this warning\n",
      "  warnings.warn(\n",
      "***** Running training *****\n",
      "  Num examples = 28539\n",
      "  Num Epochs = 30\n",
      "  Instantaneous batch size per device = 32\n",
      "  Total train batch size (w. parallel, distributed & accumulation) = 32\n",
      "  Gradient Accumulation steps = 1\n",
      "  Total optimization steps = 26760\n"
     ]
    },
    {
     "data": {
      "text/html": [
       "\n",
       "    <div>\n",
       "      \n",
       "      <progress value='26760' max='26760' style='width:300px; height:20px; vertical-align: middle;'></progress>\n",
       "      [26760/26760 25:13:10, Epoch 30/30]\n",
       "    </div>\n",
       "    <table border=\"1\" class=\"dataframe\">\n",
       "  <thead>\n",
       " <tr style=\"text-align: left;\">\n",
       "      <th>Step</th>\n",
       "      <th>Training Loss</th>\n",
       "      <th>Validation Loss</th>\n",
       "      <th>Wer</th>\n",
       "    </tr>\n",
       "  </thead>\n",
       "  <tbody>\n",
       "    <tr>\n",
       "      <td>500</td>\n",
       "      <td>3.696200</td>\n",
       "      <td>2.000828</td>\n",
       "      <td>0.950339</td>\n",
       "    </tr>\n",
       "    <tr>\n",
       "      <td>1000</td>\n",
       "      <td>0.399600</td>\n",
       "      <td>0.332512</td>\n",
       "      <td>0.225008</td>\n",
       "    </tr>\n",
       "    <tr>\n",
       "      <td>1500</td>\n",
       "      <td>0.153500</td>\n",
       "      <td>0.171447</td>\n",
       "      <td>0.155394</td>\n",
       "    </tr>\n",
       "    <tr>\n",
       "      <td>2000</td>\n",
       "      <td>0.117600</td>\n",
       "      <td>0.467462</td>\n",
       "      <td>0.173444</td>\n",
       "    </tr>\n",
       "    <tr>\n",
       "      <td>2500</td>\n",
       "      <td>0.096600</td>\n",
       "      <td>0.146005</td>\n",
       "      <td>0.131714</td>\n",
       "    </tr>\n",
       "    <tr>\n",
       "      <td>3000</td>\n",
       "      <td>0.081600</td>\n",
       "      <td>0.164864</td>\n",
       "      <td>0.138980</td>\n",
       "    </tr>\n",
       "    <tr>\n",
       "      <td>3500</td>\n",
       "      <td>0.077800</td>\n",
       "      <td>0.140615</td>\n",
       "      <td>0.128081</td>\n",
       "    </tr>\n",
       "    <tr>\n",
       "      <td>4000</td>\n",
       "      <td>0.068300</td>\n",
       "      <td>0.143121</td>\n",
       "      <td>0.125818</td>\n",
       "    </tr>\n",
       "    <tr>\n",
       "      <td>4500</td>\n",
       "      <td>0.064200</td>\n",
       "      <td>0.137573</td>\n",
       "      <td>0.119028</td>\n",
       "    </tr>\n",
       "    <tr>\n",
       "      <td>5000</td>\n",
       "      <td>0.058500</td>\n",
       "      <td>0.173645</td>\n",
       "      <td>0.139550</td>\n",
       "    </tr>\n",
       "    <tr>\n",
       "      <td>5500</td>\n",
       "      <td>0.055700</td>\n",
       "      <td>0.145273</td>\n",
       "      <td>0.124087</td>\n",
       "    </tr>\n",
       "    <tr>\n",
       "      <td>6000</td>\n",
       "      <td>0.051900</td>\n",
       "      <td>0.151871</td>\n",
       "      <td>0.117925</td>\n",
       "    </tr>\n",
       "    <tr>\n",
       "      <td>6500</td>\n",
       "      <td>0.049600</td>\n",
       "      <td>0.178046</td>\n",
       "      <td>0.128918</td>\n",
       "    </tr>\n",
       "    <tr>\n",
       "      <td>7000</td>\n",
       "      <td>0.047400</td>\n",
       "      <td>0.136978</td>\n",
       "      <td>0.118343</td>\n",
       "    </tr>\n",
       "    <tr>\n",
       "      <td>7500</td>\n",
       "      <td>0.044800</td>\n",
       "      <td>0.153231</td>\n",
       "      <td>0.127111</td>\n",
       "    </tr>\n",
       "    <tr>\n",
       "      <td>8000</td>\n",
       "      <td>0.043500</td>\n",
       "      <td>0.142823</td>\n",
       "      <td>0.118362</td>\n",
       "    </tr>\n",
       "    <tr>\n",
       "      <td>8500</td>\n",
       "      <td>0.039900</td>\n",
       "      <td>0.151957</td>\n",
       "      <td>0.116821</td>\n",
       "    </tr>\n",
       "    <tr>\n",
       "      <td>9000</td>\n",
       "      <td>0.039800</td>\n",
       "      <td>0.160897</td>\n",
       "      <td>0.120017</td>\n",
       "    </tr>\n",
       "    <tr>\n",
       "      <td>9500</td>\n",
       "      <td>0.036100</td>\n",
       "      <td>0.161237</td>\n",
       "      <td>0.118876</td>\n",
       "    </tr>\n",
       "    <tr>\n",
       "      <td>10000</td>\n",
       "      <td>0.035400</td>\n",
       "      <td>0.172018</td>\n",
       "      <td>0.115984</td>\n",
       "    </tr>\n",
       "    <tr>\n",
       "      <td>10500</td>\n",
       "      <td>0.034900</td>\n",
       "      <td>0.160541</td>\n",
       "      <td>0.118267</td>\n",
       "    </tr>\n",
       "    <tr>\n",
       "      <td>11000</td>\n",
       "      <td>0.033300</td>\n",
       "      <td>0.161450</td>\n",
       "      <td>0.113131</td>\n",
       "    </tr>\n",
       "    <tr>\n",
       "      <td>11500</td>\n",
       "      <td>0.032200</td>\n",
       "      <td>0.149801</td>\n",
       "      <td>0.112047</td>\n",
       "    </tr>\n",
       "    <tr>\n",
       "      <td>12000</td>\n",
       "      <td>0.031000</td>\n",
       "      <td>0.186714</td>\n",
       "      <td>0.114786</td>\n",
       "    </tr>\n",
       "    <tr>\n",
       "      <td>12500</td>\n",
       "      <td>0.030200</td>\n",
       "      <td>0.160252</td>\n",
       "      <td>0.113398</td>\n",
       "    </tr>\n",
       "    <tr>\n",
       "      <td>13000</td>\n",
       "      <td>0.028500</td>\n",
       "      <td>0.154510</td>\n",
       "      <td>0.113683</td>\n",
       "    </tr>\n",
       "    <tr>\n",
       "      <td>13500</td>\n",
       "      <td>0.028300</td>\n",
       "      <td>0.165096</td>\n",
       "      <td>0.111667</td>\n",
       "    </tr>\n",
       "    <tr>\n",
       "      <td>14000</td>\n",
       "      <td>0.026300</td>\n",
       "      <td>0.163876</td>\n",
       "      <td>0.112865</td>\n",
       "    </tr>\n",
       "    <tr>\n",
       "      <td>14500</td>\n",
       "      <td>0.025200</td>\n",
       "      <td>0.165371</td>\n",
       "      <td>0.111800</td>\n",
       "    </tr>\n",
       "    <tr>\n",
       "      <td>15000</td>\n",
       "      <td>0.025900</td>\n",
       "      <td>0.163669</td>\n",
       "      <td>0.112428</td>\n",
       "    </tr>\n",
       "    <tr>\n",
       "      <td>15500</td>\n",
       "      <td>0.023700</td>\n",
       "      <td>0.180964</td>\n",
       "      <td>0.112371</td>\n",
       "    </tr>\n",
       "    <tr>\n",
       "      <td>16000</td>\n",
       "      <td>0.023500</td>\n",
       "      <td>0.174175</td>\n",
       "      <td>0.110259</td>\n",
       "    </tr>\n",
       "    <tr>\n",
       "      <td>16500</td>\n",
       "      <td>0.022300</td>\n",
       "      <td>0.177896</td>\n",
       "      <td>0.110982</td>\n",
       "    </tr>\n",
       "    <tr>\n",
       "      <td>17000</td>\n",
       "      <td>0.022200</td>\n",
       "      <td>0.180109</td>\n",
       "      <td>0.110488</td>\n",
       "    </tr>\n",
       "    <tr>\n",
       "      <td>17500</td>\n",
       "      <td>0.021200</td>\n",
       "      <td>0.170019</td>\n",
       "      <td>0.110507</td>\n",
       "    </tr>\n",
       "    <tr>\n",
       "      <td>18000</td>\n",
       "      <td>0.020800</td>\n",
       "      <td>0.183120</td>\n",
       "      <td>0.111857</td>\n",
       "    </tr>\n",
       "    <tr>\n",
       "      <td>18500</td>\n",
       "      <td>0.020200</td>\n",
       "      <td>0.179004</td>\n",
       "      <td>0.110221</td>\n",
       "    </tr>\n",
       "    <tr>\n",
       "      <td>19000</td>\n",
       "      <td>0.019400</td>\n",
       "      <td>0.178938</td>\n",
       "      <td>0.110811</td>\n",
       "    </tr>\n",
       "    <tr>\n",
       "      <td>19500</td>\n",
       "      <td>0.019100</td>\n",
       "      <td>0.173053</td>\n",
       "      <td>0.110355</td>\n",
       "    </tr>\n",
       "    <tr>\n",
       "      <td>20000</td>\n",
       "      <td>0.018300</td>\n",
       "      <td>0.180661</td>\n",
       "      <td>0.109651</td>\n",
       "    </tr>\n",
       "    <tr>\n",
       "      <td>20500</td>\n",
       "      <td>0.018400</td>\n",
       "      <td>0.177559</td>\n",
       "      <td>0.108567</td>\n",
       "    </tr>\n",
       "    <tr>\n",
       "      <td>21000</td>\n",
       "      <td>0.017800</td>\n",
       "      <td>0.181611</td>\n",
       "      <td>0.109080</td>\n",
       "    </tr>\n",
       "    <tr>\n",
       "      <td>21500</td>\n",
       "      <td>0.017200</td>\n",
       "      <td>0.185276</td>\n",
       "      <td>0.107996</td>\n",
       "    </tr>\n",
       "    <tr>\n",
       "      <td>22000</td>\n",
       "      <td>0.016300</td>\n",
       "      <td>0.181353</td>\n",
       "      <td>0.109289</td>\n",
       "    </tr>\n",
       "    <tr>\n",
       "      <td>22500</td>\n",
       "      <td>0.016100</td>\n",
       "      <td>0.182284</td>\n",
       "      <td>0.108110</td>\n",
       "    </tr>\n",
       "    <tr>\n",
       "      <td>23000</td>\n",
       "      <td>0.015900</td>\n",
       "      <td>0.183061</td>\n",
       "      <td>0.108529</td>\n",
       "    </tr>\n",
       "    <tr>\n",
       "      <td>23500</td>\n",
       "      <td>0.015900</td>\n",
       "      <td>0.181222</td>\n",
       "      <td>0.107273</td>\n",
       "    </tr>\n",
       "    <tr>\n",
       "      <td>24000</td>\n",
       "      <td>0.014800</td>\n",
       "      <td>0.183027</td>\n",
       "      <td>0.106836</td>\n",
       "    </tr>\n",
       "    <tr>\n",
       "      <td>24500</td>\n",
       "      <td>0.014600</td>\n",
       "      <td>0.186468</td>\n",
       "      <td>0.107749</td>\n",
       "    </tr>\n",
       "    <tr>\n",
       "      <td>25000</td>\n",
       "      <td>0.014800</td>\n",
       "      <td>0.183372</td>\n",
       "      <td>0.106493</td>\n",
       "    </tr>\n",
       "    <tr>\n",
       "      <td>25500</td>\n",
       "      <td>0.014000</td>\n",
       "      <td>0.180593</td>\n",
       "      <td>0.106246</td>\n",
       "    </tr>\n",
       "    <tr>\n",
       "      <td>26000</td>\n",
       "      <td>0.014000</td>\n",
       "      <td>0.177336</td>\n",
       "      <td>0.105733</td>\n",
       "    </tr>\n",
       "    <tr>\n",
       "      <td>26500</td>\n",
       "      <td>0.014300</td>\n",
       "      <td>0.178028</td>\n",
       "      <td>0.105447</td>\n",
       "    </tr>\n",
       "  </tbody>\n",
       "</table><p>"
      ],
      "text/plain": [
       "<IPython.core.display.HTML object>"
      ]
     },
     "metadata": {},
     "output_type": "display_data"
    },
    {
     "name": "stderr",
     "output_type": "stream",
     "text": [
      "***** Running Evaluation *****\n",
      "  Num examples = 2620\n",
      "  Batch size = 8\n",
      "Saving model checkpoint to /home/ujan/Notebooks/libri_fn/checkpoint-500\n",
      "Configuration saved in /home/ujan/Notebooks/libri_fn/checkpoint-500/config.json\n",
      "Model weights saved in /home/ujan/Notebooks/libri_fn/checkpoint-500/pytorch_model.bin\n",
      "Feature extractor saved in /home/ujan/Notebooks/libri_fn/checkpoint-500/preprocessor_config.json\n",
      "***** Running Evaluation *****\n",
      "  Num examples = 2620\n",
      "  Batch size = 8\n",
      "Saving model checkpoint to /home/ujan/Notebooks/libri_fn/checkpoint-1000\n",
      "Configuration saved in /home/ujan/Notebooks/libri_fn/checkpoint-1000/config.json\n",
      "Model weights saved in /home/ujan/Notebooks/libri_fn/checkpoint-1000/pytorch_model.bin\n",
      "Feature extractor saved in /home/ujan/Notebooks/libri_fn/checkpoint-1000/preprocessor_config.json\n",
      "***** Running Evaluation *****\n",
      "  Num examples = 2620\n",
      "  Batch size = 8\n",
      "Saving model checkpoint to /home/ujan/Notebooks/libri_fn/checkpoint-1500\n",
      "Configuration saved in /home/ujan/Notebooks/libri_fn/checkpoint-1500/config.json\n",
      "Model weights saved in /home/ujan/Notebooks/libri_fn/checkpoint-1500/pytorch_model.bin\n",
      "Feature extractor saved in /home/ujan/Notebooks/libri_fn/checkpoint-1500/preprocessor_config.json\n",
      "Deleting older checkpoint [/home/ujan/Notebooks/libri_fn/checkpoint-500] due to args.save_total_limit\n",
      "***** Running Evaluation *****\n",
      "  Num examples = 2620\n",
      "  Batch size = 8\n",
      "Saving model checkpoint to /home/ujan/Notebooks/libri_fn/checkpoint-2000\n",
      "Configuration saved in /home/ujan/Notebooks/libri_fn/checkpoint-2000/config.json\n",
      "Model weights saved in /home/ujan/Notebooks/libri_fn/checkpoint-2000/pytorch_model.bin\n",
      "Feature extractor saved in /home/ujan/Notebooks/libri_fn/checkpoint-2000/preprocessor_config.json\n",
      "Deleting older checkpoint [/home/ujan/Notebooks/libri_fn/checkpoint-1000] due to args.save_total_limit\n",
      "***** Running Evaluation *****\n",
      "  Num examples = 2620\n",
      "  Batch size = 8\n",
      "Saving model checkpoint to /home/ujan/Notebooks/libri_fn/checkpoint-2500\n",
      "Configuration saved in /home/ujan/Notebooks/libri_fn/checkpoint-2500/config.json\n",
      "Model weights saved in /home/ujan/Notebooks/libri_fn/checkpoint-2500/pytorch_model.bin\n",
      "Feature extractor saved in /home/ujan/Notebooks/libri_fn/checkpoint-2500/preprocessor_config.json\n",
      "Deleting older checkpoint [/home/ujan/Notebooks/libri_fn/checkpoint-1500] due to args.save_total_limit\n",
      "***** Running Evaluation *****\n",
      "  Num examples = 2620\n",
      "  Batch size = 8\n",
      "Saving model checkpoint to /home/ujan/Notebooks/libri_fn/checkpoint-3000\n",
      "Configuration saved in /home/ujan/Notebooks/libri_fn/checkpoint-3000/config.json\n",
      "Model weights saved in /home/ujan/Notebooks/libri_fn/checkpoint-3000/pytorch_model.bin\n",
      "Feature extractor saved in /home/ujan/Notebooks/libri_fn/checkpoint-3000/preprocessor_config.json\n",
      "Deleting older checkpoint [/home/ujan/Notebooks/libri_fn/checkpoint-2000] due to args.save_total_limit\n",
      "***** Running Evaluation *****\n",
      "  Num examples = 2620\n",
      "  Batch size = 8\n",
      "Saving model checkpoint to /home/ujan/Notebooks/libri_fn/checkpoint-3500\n",
      "Configuration saved in /home/ujan/Notebooks/libri_fn/checkpoint-3500/config.json\n",
      "Model weights saved in /home/ujan/Notebooks/libri_fn/checkpoint-3500/pytorch_model.bin\n",
      "Feature extractor saved in /home/ujan/Notebooks/libri_fn/checkpoint-3500/preprocessor_config.json\n",
      "Deleting older checkpoint [/home/ujan/Notebooks/libri_fn/checkpoint-2500] due to args.save_total_limit\n",
      "***** Running Evaluation *****\n",
      "  Num examples = 2620\n",
      "  Batch size = 8\n",
      "Saving model checkpoint to /home/ujan/Notebooks/libri_fn/checkpoint-4000\n",
      "Configuration saved in /home/ujan/Notebooks/libri_fn/checkpoint-4000/config.json\n",
      "Model weights saved in /home/ujan/Notebooks/libri_fn/checkpoint-4000/pytorch_model.bin\n",
      "Feature extractor saved in /home/ujan/Notebooks/libri_fn/checkpoint-4000/preprocessor_config.json\n",
      "Deleting older checkpoint [/home/ujan/Notebooks/libri_fn/checkpoint-3000] due to args.save_total_limit\n",
      "***** Running Evaluation *****\n",
      "  Num examples = 2620\n",
      "  Batch size = 8\n",
      "Saving model checkpoint to /home/ujan/Notebooks/libri_fn/checkpoint-4500\n",
      "Configuration saved in /home/ujan/Notebooks/libri_fn/checkpoint-4500/config.json\n",
      "Model weights saved in /home/ujan/Notebooks/libri_fn/checkpoint-4500/pytorch_model.bin\n",
      "Feature extractor saved in /home/ujan/Notebooks/libri_fn/checkpoint-4500/preprocessor_config.json\n",
      "Deleting older checkpoint [/home/ujan/Notebooks/libri_fn/checkpoint-3500] due to args.save_total_limit\n",
      "***** Running Evaluation *****\n",
      "  Num examples = 2620\n",
      "  Batch size = 8\n",
      "Saving model checkpoint to /home/ujan/Notebooks/libri_fn/checkpoint-5000\n",
      "Configuration saved in /home/ujan/Notebooks/libri_fn/checkpoint-5000/config.json\n",
      "Model weights saved in /home/ujan/Notebooks/libri_fn/checkpoint-5000/pytorch_model.bin\n",
      "Feature extractor saved in /home/ujan/Notebooks/libri_fn/checkpoint-5000/preprocessor_config.json\n",
      "Deleting older checkpoint [/home/ujan/Notebooks/libri_fn/checkpoint-4000] due to args.save_total_limit\n",
      "***** Running Evaluation *****\n",
      "  Num examples = 2620\n",
      "  Batch size = 8\n",
      "Saving model checkpoint to /home/ujan/Notebooks/libri_fn/checkpoint-5500\n",
      "Configuration saved in /home/ujan/Notebooks/libri_fn/checkpoint-5500/config.json\n",
      "Model weights saved in /home/ujan/Notebooks/libri_fn/checkpoint-5500/pytorch_model.bin\n",
      "Feature extractor saved in /home/ujan/Notebooks/libri_fn/checkpoint-5500/preprocessor_config.json\n",
      "Deleting older checkpoint [/home/ujan/Notebooks/libri_fn/checkpoint-4500] due to args.save_total_limit\n",
      "***** Running Evaluation *****\n",
      "  Num examples = 2620\n",
      "  Batch size = 8\n",
      "Saving model checkpoint to /home/ujan/Notebooks/libri_fn/checkpoint-6000\n",
      "Configuration saved in /home/ujan/Notebooks/libri_fn/checkpoint-6000/config.json\n",
      "Model weights saved in /home/ujan/Notebooks/libri_fn/checkpoint-6000/pytorch_model.bin\n",
      "Feature extractor saved in /home/ujan/Notebooks/libri_fn/checkpoint-6000/preprocessor_config.json\n",
      "Deleting older checkpoint [/home/ujan/Notebooks/libri_fn/checkpoint-5000] due to args.save_total_limit\n",
      "***** Running Evaluation *****\n",
      "  Num examples = 2620\n",
      "  Batch size = 8\n",
      "Saving model checkpoint to /home/ujan/Notebooks/libri_fn/checkpoint-6500\n",
      "Configuration saved in /home/ujan/Notebooks/libri_fn/checkpoint-6500/config.json\n",
      "Model weights saved in /home/ujan/Notebooks/libri_fn/checkpoint-6500/pytorch_model.bin\n",
      "Feature extractor saved in /home/ujan/Notebooks/libri_fn/checkpoint-6500/preprocessor_config.json\n",
      "Deleting older checkpoint [/home/ujan/Notebooks/libri_fn/checkpoint-5500] due to args.save_total_limit\n",
      "***** Running Evaluation *****\n",
      "  Num examples = 2620\n",
      "  Batch size = 8\n",
      "Saving model checkpoint to /home/ujan/Notebooks/libri_fn/checkpoint-7000\n",
      "Configuration saved in /home/ujan/Notebooks/libri_fn/checkpoint-7000/config.json\n",
      "Model weights saved in /home/ujan/Notebooks/libri_fn/checkpoint-7000/pytorch_model.bin\n",
      "Feature extractor saved in /home/ujan/Notebooks/libri_fn/checkpoint-7000/preprocessor_config.json\n",
      "Deleting older checkpoint [/home/ujan/Notebooks/libri_fn/checkpoint-6000] due to args.save_total_limit\n",
      "***** Running Evaluation *****\n",
      "  Num examples = 2620\n",
      "  Batch size = 8\n",
      "Saving model checkpoint to /home/ujan/Notebooks/libri_fn/checkpoint-7500\n",
      "Configuration saved in /home/ujan/Notebooks/libri_fn/checkpoint-7500/config.json\n",
      "Model weights saved in /home/ujan/Notebooks/libri_fn/checkpoint-7500/pytorch_model.bin\n",
      "Feature extractor saved in /home/ujan/Notebooks/libri_fn/checkpoint-7500/preprocessor_config.json\n",
      "Deleting older checkpoint [/home/ujan/Notebooks/libri_fn/checkpoint-6500] due to args.save_total_limit\n",
      "***** Running Evaluation *****\n",
      "  Num examples = 2620\n",
      "  Batch size = 8\n",
      "Saving model checkpoint to /home/ujan/Notebooks/libri_fn/checkpoint-8000\n",
      "Configuration saved in /home/ujan/Notebooks/libri_fn/checkpoint-8000/config.json\n",
      "Model weights saved in /home/ujan/Notebooks/libri_fn/checkpoint-8000/pytorch_model.bin\n",
      "Feature extractor saved in /home/ujan/Notebooks/libri_fn/checkpoint-8000/preprocessor_config.json\n",
      "Deleting older checkpoint [/home/ujan/Notebooks/libri_fn/checkpoint-7000] due to args.save_total_limit\n",
      "***** Running Evaluation *****\n",
      "  Num examples = 2620\n",
      "  Batch size = 8\n",
      "Saving model checkpoint to /home/ujan/Notebooks/libri_fn/checkpoint-8500\n",
      "Configuration saved in /home/ujan/Notebooks/libri_fn/checkpoint-8500/config.json\n"
     ]
    },
    {
     "name": "stderr",
     "output_type": "stream",
     "text": [
      "Model weights saved in /home/ujan/Notebooks/libri_fn/checkpoint-8500/pytorch_model.bin\n",
      "Feature extractor saved in /home/ujan/Notebooks/libri_fn/checkpoint-8500/preprocessor_config.json\n",
      "Deleting older checkpoint [/home/ujan/Notebooks/libri_fn/checkpoint-7500] due to args.save_total_limit\n",
      "***** Running Evaluation *****\n",
      "  Num examples = 2620\n",
      "  Batch size = 8\n",
      "Saving model checkpoint to /home/ujan/Notebooks/libri_fn/checkpoint-9000\n",
      "Configuration saved in /home/ujan/Notebooks/libri_fn/checkpoint-9000/config.json\n",
      "Model weights saved in /home/ujan/Notebooks/libri_fn/checkpoint-9000/pytorch_model.bin\n",
      "Feature extractor saved in /home/ujan/Notebooks/libri_fn/checkpoint-9000/preprocessor_config.json\n",
      "Deleting older checkpoint [/home/ujan/Notebooks/libri_fn/checkpoint-8000] due to args.save_total_limit\n",
      "***** Running Evaluation *****\n",
      "  Num examples = 2620\n",
      "  Batch size = 8\n",
      "Saving model checkpoint to /home/ujan/Notebooks/libri_fn/checkpoint-9500\n",
      "Configuration saved in /home/ujan/Notebooks/libri_fn/checkpoint-9500/config.json\n",
      "Model weights saved in /home/ujan/Notebooks/libri_fn/checkpoint-9500/pytorch_model.bin\n",
      "Feature extractor saved in /home/ujan/Notebooks/libri_fn/checkpoint-9500/preprocessor_config.json\n",
      "Deleting older checkpoint [/home/ujan/Notebooks/libri_fn/checkpoint-8500] due to args.save_total_limit\n",
      "***** Running Evaluation *****\n",
      "  Num examples = 2620\n",
      "  Batch size = 8\n",
      "Saving model checkpoint to /home/ujan/Notebooks/libri_fn/checkpoint-10000\n",
      "Configuration saved in /home/ujan/Notebooks/libri_fn/checkpoint-10000/config.json\n",
      "Model weights saved in /home/ujan/Notebooks/libri_fn/checkpoint-10000/pytorch_model.bin\n",
      "Feature extractor saved in /home/ujan/Notebooks/libri_fn/checkpoint-10000/preprocessor_config.json\n",
      "Deleting older checkpoint [/home/ujan/Notebooks/libri_fn/checkpoint-9000] due to args.save_total_limit\n",
      "***** Running Evaluation *****\n",
      "  Num examples = 2620\n",
      "  Batch size = 8\n",
      "Saving model checkpoint to /home/ujan/Notebooks/libri_fn/checkpoint-10500\n",
      "Configuration saved in /home/ujan/Notebooks/libri_fn/checkpoint-10500/config.json\n",
      "Model weights saved in /home/ujan/Notebooks/libri_fn/checkpoint-10500/pytorch_model.bin\n",
      "Feature extractor saved in /home/ujan/Notebooks/libri_fn/checkpoint-10500/preprocessor_config.json\n",
      "Deleting older checkpoint [/home/ujan/Notebooks/libri_fn/checkpoint-9500] due to args.save_total_limit\n",
      "***** Running Evaluation *****\n",
      "  Num examples = 2620\n",
      "  Batch size = 8\n",
      "Saving model checkpoint to /home/ujan/Notebooks/libri_fn/checkpoint-11000\n",
      "Configuration saved in /home/ujan/Notebooks/libri_fn/checkpoint-11000/config.json\n",
      "Model weights saved in /home/ujan/Notebooks/libri_fn/checkpoint-11000/pytorch_model.bin\n",
      "Feature extractor saved in /home/ujan/Notebooks/libri_fn/checkpoint-11000/preprocessor_config.json\n",
      "Deleting older checkpoint [/home/ujan/Notebooks/libri_fn/checkpoint-10000] due to args.save_total_limit\n",
      "***** Running Evaluation *****\n",
      "  Num examples = 2620\n",
      "  Batch size = 8\n",
      "Saving model checkpoint to /home/ujan/Notebooks/libri_fn/checkpoint-11500\n",
      "Configuration saved in /home/ujan/Notebooks/libri_fn/checkpoint-11500/config.json\n",
      "Model weights saved in /home/ujan/Notebooks/libri_fn/checkpoint-11500/pytorch_model.bin\n",
      "Feature extractor saved in /home/ujan/Notebooks/libri_fn/checkpoint-11500/preprocessor_config.json\n",
      "Deleting older checkpoint [/home/ujan/Notebooks/libri_fn/checkpoint-10500] due to args.save_total_limit\n",
      "***** Running Evaluation *****\n",
      "  Num examples = 2620\n",
      "  Batch size = 8\n",
      "Saving model checkpoint to /home/ujan/Notebooks/libri_fn/checkpoint-12000\n",
      "Configuration saved in /home/ujan/Notebooks/libri_fn/checkpoint-12000/config.json\n",
      "Model weights saved in /home/ujan/Notebooks/libri_fn/checkpoint-12000/pytorch_model.bin\n",
      "Feature extractor saved in /home/ujan/Notebooks/libri_fn/checkpoint-12000/preprocessor_config.json\n",
      "Deleting older checkpoint [/home/ujan/Notebooks/libri_fn/checkpoint-11000] due to args.save_total_limit\n",
      "***** Running Evaluation *****\n",
      "  Num examples = 2620\n",
      "  Batch size = 8\n",
      "Saving model checkpoint to /home/ujan/Notebooks/libri_fn/checkpoint-12500\n",
      "Configuration saved in /home/ujan/Notebooks/libri_fn/checkpoint-12500/config.json\n",
      "Model weights saved in /home/ujan/Notebooks/libri_fn/checkpoint-12500/pytorch_model.bin\n",
      "Feature extractor saved in /home/ujan/Notebooks/libri_fn/checkpoint-12500/preprocessor_config.json\n",
      "Deleting older checkpoint [/home/ujan/Notebooks/libri_fn/checkpoint-11500] due to args.save_total_limit\n",
      "***** Running Evaluation *****\n",
      "  Num examples = 2620\n",
      "  Batch size = 8\n",
      "Saving model checkpoint to /home/ujan/Notebooks/libri_fn/checkpoint-13000\n",
      "Configuration saved in /home/ujan/Notebooks/libri_fn/checkpoint-13000/config.json\n",
      "Model weights saved in /home/ujan/Notebooks/libri_fn/checkpoint-13000/pytorch_model.bin\n",
      "Feature extractor saved in /home/ujan/Notebooks/libri_fn/checkpoint-13000/preprocessor_config.json\n",
      "Deleting older checkpoint [/home/ujan/Notebooks/libri_fn/checkpoint-12000] due to args.save_total_limit\n",
      "***** Running Evaluation *****\n",
      "  Num examples = 2620\n",
      "  Batch size = 8\n",
      "Saving model checkpoint to /home/ujan/Notebooks/libri_fn/checkpoint-13500\n",
      "Configuration saved in /home/ujan/Notebooks/libri_fn/checkpoint-13500/config.json\n",
      "Model weights saved in /home/ujan/Notebooks/libri_fn/checkpoint-13500/pytorch_model.bin\n",
      "Feature extractor saved in /home/ujan/Notebooks/libri_fn/checkpoint-13500/preprocessor_config.json\n",
      "Deleting older checkpoint [/home/ujan/Notebooks/libri_fn/checkpoint-12500] due to args.save_total_limit\n",
      "***** Running Evaluation *****\n",
      "  Num examples = 2620\n",
      "  Batch size = 8\n",
      "Saving model checkpoint to /home/ujan/Notebooks/libri_fn/checkpoint-14000\n",
      "Configuration saved in /home/ujan/Notebooks/libri_fn/checkpoint-14000/config.json\n",
      "Model weights saved in /home/ujan/Notebooks/libri_fn/checkpoint-14000/pytorch_model.bin\n",
      "Feature extractor saved in /home/ujan/Notebooks/libri_fn/checkpoint-14000/preprocessor_config.json\n",
      "Deleting older checkpoint [/home/ujan/Notebooks/libri_fn/checkpoint-13000] due to args.save_total_limit\n",
      "***** Running Evaluation *****\n",
      "  Num examples = 2620\n",
      "  Batch size = 8\n",
      "Saving model checkpoint to /home/ujan/Notebooks/libri_fn/checkpoint-14500\n",
      "Configuration saved in /home/ujan/Notebooks/libri_fn/checkpoint-14500/config.json\n",
      "Model weights saved in /home/ujan/Notebooks/libri_fn/checkpoint-14500/pytorch_model.bin\n",
      "Feature extractor saved in /home/ujan/Notebooks/libri_fn/checkpoint-14500/preprocessor_config.json\n",
      "Deleting older checkpoint [/home/ujan/Notebooks/libri_fn/checkpoint-13500] due to args.save_total_limit\n",
      "***** Running Evaluation *****\n",
      "  Num examples = 2620\n",
      "  Batch size = 8\n",
      "Saving model checkpoint to /home/ujan/Notebooks/libri_fn/checkpoint-15000\n",
      "Configuration saved in /home/ujan/Notebooks/libri_fn/checkpoint-15000/config.json\n",
      "Model weights saved in /home/ujan/Notebooks/libri_fn/checkpoint-15000/pytorch_model.bin\n",
      "Feature extractor saved in /home/ujan/Notebooks/libri_fn/checkpoint-15000/preprocessor_config.json\n",
      "Deleting older checkpoint [/home/ujan/Notebooks/libri_fn/checkpoint-14000] due to args.save_total_limit\n",
      "***** Running Evaluation *****\n",
      "  Num examples = 2620\n",
      "  Batch size = 8\n",
      "Saving model checkpoint to /home/ujan/Notebooks/libri_fn/checkpoint-15500\n",
      "Configuration saved in /home/ujan/Notebooks/libri_fn/checkpoint-15500/config.json\n",
      "Model weights saved in /home/ujan/Notebooks/libri_fn/checkpoint-15500/pytorch_model.bin\n",
      "Feature extractor saved in /home/ujan/Notebooks/libri_fn/checkpoint-15500/preprocessor_config.json\n",
      "Deleting older checkpoint [/home/ujan/Notebooks/libri_fn/checkpoint-14500] due to args.save_total_limit\n",
      "***** Running Evaluation *****\n",
      "  Num examples = 2620\n",
      "  Batch size = 8\n",
      "Saving model checkpoint to /home/ujan/Notebooks/libri_fn/checkpoint-16000\n",
      "Configuration saved in /home/ujan/Notebooks/libri_fn/checkpoint-16000/config.json\n",
      "Model weights saved in /home/ujan/Notebooks/libri_fn/checkpoint-16000/pytorch_model.bin\n",
      "Feature extractor saved in /home/ujan/Notebooks/libri_fn/checkpoint-16000/preprocessor_config.json\n",
      "Deleting older checkpoint [/home/ujan/Notebooks/libri_fn/checkpoint-15000] due to args.save_total_limit\n",
      "***** Running Evaluation *****\n",
      "  Num examples = 2620\n",
      "  Batch size = 8\n",
      "Saving model checkpoint to /home/ujan/Notebooks/libri_fn/checkpoint-16500\n",
      "Configuration saved in /home/ujan/Notebooks/libri_fn/checkpoint-16500/config.json\n"
     ]
    },
    {
     "name": "stderr",
     "output_type": "stream",
     "text": [
      "Model weights saved in /home/ujan/Notebooks/libri_fn/checkpoint-16500/pytorch_model.bin\n",
      "Feature extractor saved in /home/ujan/Notebooks/libri_fn/checkpoint-16500/preprocessor_config.json\n",
      "Deleting older checkpoint [/home/ujan/Notebooks/libri_fn/checkpoint-15500] due to args.save_total_limit\n",
      "***** Running Evaluation *****\n",
      "  Num examples = 2620\n",
      "  Batch size = 8\n",
      "Saving model checkpoint to /home/ujan/Notebooks/libri_fn/checkpoint-17000\n",
      "Configuration saved in /home/ujan/Notebooks/libri_fn/checkpoint-17000/config.json\n",
      "Model weights saved in /home/ujan/Notebooks/libri_fn/checkpoint-17000/pytorch_model.bin\n",
      "Feature extractor saved in /home/ujan/Notebooks/libri_fn/checkpoint-17000/preprocessor_config.json\n",
      "Deleting older checkpoint [/home/ujan/Notebooks/libri_fn/checkpoint-16000] due to args.save_total_limit\n",
      "***** Running Evaluation *****\n",
      "  Num examples = 2620\n",
      "  Batch size = 8\n",
      "Saving model checkpoint to /home/ujan/Notebooks/libri_fn/checkpoint-17500\n",
      "Configuration saved in /home/ujan/Notebooks/libri_fn/checkpoint-17500/config.json\n",
      "Model weights saved in /home/ujan/Notebooks/libri_fn/checkpoint-17500/pytorch_model.bin\n",
      "Feature extractor saved in /home/ujan/Notebooks/libri_fn/checkpoint-17500/preprocessor_config.json\n",
      "Deleting older checkpoint [/home/ujan/Notebooks/libri_fn/checkpoint-16500] due to args.save_total_limit\n",
      "***** Running Evaluation *****\n",
      "  Num examples = 2620\n",
      "  Batch size = 8\n",
      "Saving model checkpoint to /home/ujan/Notebooks/libri_fn/checkpoint-18000\n",
      "Configuration saved in /home/ujan/Notebooks/libri_fn/checkpoint-18000/config.json\n",
      "Model weights saved in /home/ujan/Notebooks/libri_fn/checkpoint-18000/pytorch_model.bin\n",
      "Feature extractor saved in /home/ujan/Notebooks/libri_fn/checkpoint-18000/preprocessor_config.json\n",
      "Deleting older checkpoint [/home/ujan/Notebooks/libri_fn/checkpoint-17000] due to args.save_total_limit\n",
      "***** Running Evaluation *****\n",
      "  Num examples = 2620\n",
      "  Batch size = 8\n",
      "Saving model checkpoint to /home/ujan/Notebooks/libri_fn/checkpoint-18500\n",
      "Configuration saved in /home/ujan/Notebooks/libri_fn/checkpoint-18500/config.json\n",
      "Model weights saved in /home/ujan/Notebooks/libri_fn/checkpoint-18500/pytorch_model.bin\n",
      "Feature extractor saved in /home/ujan/Notebooks/libri_fn/checkpoint-18500/preprocessor_config.json\n",
      "Deleting older checkpoint [/home/ujan/Notebooks/libri_fn/checkpoint-17500] due to args.save_total_limit\n",
      "***** Running Evaluation *****\n",
      "  Num examples = 2620\n",
      "  Batch size = 8\n",
      "Saving model checkpoint to /home/ujan/Notebooks/libri_fn/checkpoint-19000\n",
      "Configuration saved in /home/ujan/Notebooks/libri_fn/checkpoint-19000/config.json\n",
      "Model weights saved in /home/ujan/Notebooks/libri_fn/checkpoint-19000/pytorch_model.bin\n",
      "Feature extractor saved in /home/ujan/Notebooks/libri_fn/checkpoint-19000/preprocessor_config.json\n",
      "Deleting older checkpoint [/home/ujan/Notebooks/libri_fn/checkpoint-18000] due to args.save_total_limit\n",
      "***** Running Evaluation *****\n",
      "  Num examples = 2620\n",
      "  Batch size = 8\n",
      "Saving model checkpoint to /home/ujan/Notebooks/libri_fn/checkpoint-19500\n",
      "Configuration saved in /home/ujan/Notebooks/libri_fn/checkpoint-19500/config.json\n",
      "Model weights saved in /home/ujan/Notebooks/libri_fn/checkpoint-19500/pytorch_model.bin\n",
      "Feature extractor saved in /home/ujan/Notebooks/libri_fn/checkpoint-19500/preprocessor_config.json\n",
      "Deleting older checkpoint [/home/ujan/Notebooks/libri_fn/checkpoint-18500] due to args.save_total_limit\n",
      "***** Running Evaluation *****\n",
      "  Num examples = 2620\n",
      "  Batch size = 8\n",
      "Saving model checkpoint to /home/ujan/Notebooks/libri_fn/checkpoint-20000\n",
      "Configuration saved in /home/ujan/Notebooks/libri_fn/checkpoint-20000/config.json\n",
      "Model weights saved in /home/ujan/Notebooks/libri_fn/checkpoint-20000/pytorch_model.bin\n",
      "Feature extractor saved in /home/ujan/Notebooks/libri_fn/checkpoint-20000/preprocessor_config.json\n",
      "Deleting older checkpoint [/home/ujan/Notebooks/libri_fn/checkpoint-19000] due to args.save_total_limit\n",
      "***** Running Evaluation *****\n",
      "  Num examples = 2620\n",
      "  Batch size = 8\n",
      "Saving model checkpoint to /home/ujan/Notebooks/libri_fn/checkpoint-20500\n",
      "Configuration saved in /home/ujan/Notebooks/libri_fn/checkpoint-20500/config.json\n",
      "Model weights saved in /home/ujan/Notebooks/libri_fn/checkpoint-20500/pytorch_model.bin\n",
      "Feature extractor saved in /home/ujan/Notebooks/libri_fn/checkpoint-20500/preprocessor_config.json\n",
      "Deleting older checkpoint [/home/ujan/Notebooks/libri_fn/checkpoint-19500] due to args.save_total_limit\n",
      "***** Running Evaluation *****\n",
      "  Num examples = 2620\n",
      "  Batch size = 8\n",
      "Saving model checkpoint to /home/ujan/Notebooks/libri_fn/checkpoint-21000\n",
      "Configuration saved in /home/ujan/Notebooks/libri_fn/checkpoint-21000/config.json\n",
      "Model weights saved in /home/ujan/Notebooks/libri_fn/checkpoint-21000/pytorch_model.bin\n",
      "Feature extractor saved in /home/ujan/Notebooks/libri_fn/checkpoint-21000/preprocessor_config.json\n",
      "Deleting older checkpoint [/home/ujan/Notebooks/libri_fn/checkpoint-20000] due to args.save_total_limit\n",
      "***** Running Evaluation *****\n",
      "  Num examples = 2620\n",
      "  Batch size = 8\n",
      "Saving model checkpoint to /home/ujan/Notebooks/libri_fn/checkpoint-21500\n",
      "Configuration saved in /home/ujan/Notebooks/libri_fn/checkpoint-21500/config.json\n",
      "Model weights saved in /home/ujan/Notebooks/libri_fn/checkpoint-21500/pytorch_model.bin\n",
      "Feature extractor saved in /home/ujan/Notebooks/libri_fn/checkpoint-21500/preprocessor_config.json\n",
      "Deleting older checkpoint [/home/ujan/Notebooks/libri_fn/checkpoint-20500] due to args.save_total_limit\n",
      "***** Running Evaluation *****\n",
      "  Num examples = 2620\n",
      "  Batch size = 8\n",
      "Saving model checkpoint to /home/ujan/Notebooks/libri_fn/checkpoint-22000\n",
      "Configuration saved in /home/ujan/Notebooks/libri_fn/checkpoint-22000/config.json\n",
      "Model weights saved in /home/ujan/Notebooks/libri_fn/checkpoint-22000/pytorch_model.bin\n",
      "Feature extractor saved in /home/ujan/Notebooks/libri_fn/checkpoint-22000/preprocessor_config.json\n",
      "Deleting older checkpoint [/home/ujan/Notebooks/libri_fn/checkpoint-21000] due to args.save_total_limit\n",
      "***** Running Evaluation *****\n",
      "  Num examples = 2620\n",
      "  Batch size = 8\n",
      "Saving model checkpoint to /home/ujan/Notebooks/libri_fn/checkpoint-22500\n",
      "Configuration saved in /home/ujan/Notebooks/libri_fn/checkpoint-22500/config.json\n",
      "Model weights saved in /home/ujan/Notebooks/libri_fn/checkpoint-22500/pytorch_model.bin\n",
      "Feature extractor saved in /home/ujan/Notebooks/libri_fn/checkpoint-22500/preprocessor_config.json\n",
      "Deleting older checkpoint [/home/ujan/Notebooks/libri_fn/checkpoint-21500] due to args.save_total_limit\n",
      "***** Running Evaluation *****\n",
      "  Num examples = 2620\n",
      "  Batch size = 8\n",
      "Saving model checkpoint to /home/ujan/Notebooks/libri_fn/checkpoint-23000\n",
      "Configuration saved in /home/ujan/Notebooks/libri_fn/checkpoint-23000/config.json\n",
      "Model weights saved in /home/ujan/Notebooks/libri_fn/checkpoint-23000/pytorch_model.bin\n",
      "Feature extractor saved in /home/ujan/Notebooks/libri_fn/checkpoint-23000/preprocessor_config.json\n",
      "Deleting older checkpoint [/home/ujan/Notebooks/libri_fn/checkpoint-22000] due to args.save_total_limit\n",
      "***** Running Evaluation *****\n",
      "  Num examples = 2620\n",
      "  Batch size = 8\n",
      "Saving model checkpoint to /home/ujan/Notebooks/libri_fn/checkpoint-23500\n",
      "Configuration saved in /home/ujan/Notebooks/libri_fn/checkpoint-23500/config.json\n",
      "Model weights saved in /home/ujan/Notebooks/libri_fn/checkpoint-23500/pytorch_model.bin\n",
      "Feature extractor saved in /home/ujan/Notebooks/libri_fn/checkpoint-23500/preprocessor_config.json\n",
      "Deleting older checkpoint [/home/ujan/Notebooks/libri_fn/checkpoint-22500] due to args.save_total_limit\n",
      "***** Running Evaluation *****\n",
      "  Num examples = 2620\n",
      "  Batch size = 8\n",
      "Saving model checkpoint to /home/ujan/Notebooks/libri_fn/checkpoint-24000\n",
      "Configuration saved in /home/ujan/Notebooks/libri_fn/checkpoint-24000/config.json\n",
      "Model weights saved in /home/ujan/Notebooks/libri_fn/checkpoint-24000/pytorch_model.bin\n",
      "Feature extractor saved in /home/ujan/Notebooks/libri_fn/checkpoint-24000/preprocessor_config.json\n",
      "Deleting older checkpoint [/home/ujan/Notebooks/libri_fn/checkpoint-23000] due to args.save_total_limit\n",
      "***** Running Evaluation *****\n",
      "  Num examples = 2620\n",
      "  Batch size = 8\n",
      "Saving model checkpoint to /home/ujan/Notebooks/libri_fn/checkpoint-24500\n",
      "Configuration saved in /home/ujan/Notebooks/libri_fn/checkpoint-24500/config.json\n"
     ]
    },
    {
     "name": "stderr",
     "output_type": "stream",
     "text": [
      "Model weights saved in /home/ujan/Notebooks/libri_fn/checkpoint-24500/pytorch_model.bin\n",
      "Feature extractor saved in /home/ujan/Notebooks/libri_fn/checkpoint-24500/preprocessor_config.json\n",
      "Deleting older checkpoint [/home/ujan/Notebooks/libri_fn/checkpoint-23500] due to args.save_total_limit\n",
      "***** Running Evaluation *****\n",
      "  Num examples = 2620\n",
      "  Batch size = 8\n",
      "Saving model checkpoint to /home/ujan/Notebooks/libri_fn/checkpoint-25000\n",
      "Configuration saved in /home/ujan/Notebooks/libri_fn/checkpoint-25000/config.json\n",
      "Model weights saved in /home/ujan/Notebooks/libri_fn/checkpoint-25000/pytorch_model.bin\n",
      "Feature extractor saved in /home/ujan/Notebooks/libri_fn/checkpoint-25000/preprocessor_config.json\n",
      "Deleting older checkpoint [/home/ujan/Notebooks/libri_fn/checkpoint-24000] due to args.save_total_limit\n",
      "***** Running Evaluation *****\n",
      "  Num examples = 2620\n",
      "  Batch size = 8\n",
      "Saving model checkpoint to /home/ujan/Notebooks/libri_fn/checkpoint-25500\n",
      "Configuration saved in /home/ujan/Notebooks/libri_fn/checkpoint-25500/config.json\n",
      "Model weights saved in /home/ujan/Notebooks/libri_fn/checkpoint-25500/pytorch_model.bin\n",
      "Feature extractor saved in /home/ujan/Notebooks/libri_fn/checkpoint-25500/preprocessor_config.json\n",
      "Deleting older checkpoint [/home/ujan/Notebooks/libri_fn/checkpoint-24500] due to args.save_total_limit\n",
      "***** Running Evaluation *****\n",
      "  Num examples = 2620\n",
      "  Batch size = 8\n",
      "Saving model checkpoint to /home/ujan/Notebooks/libri_fn/checkpoint-26000\n",
      "Configuration saved in /home/ujan/Notebooks/libri_fn/checkpoint-26000/config.json\n",
      "Model weights saved in /home/ujan/Notebooks/libri_fn/checkpoint-26000/pytorch_model.bin\n",
      "Feature extractor saved in /home/ujan/Notebooks/libri_fn/checkpoint-26000/preprocessor_config.json\n",
      "Deleting older checkpoint [/home/ujan/Notebooks/libri_fn/checkpoint-25000] due to args.save_total_limit\n",
      "***** Running Evaluation *****\n",
      "  Num examples = 2620\n",
      "  Batch size = 8\n",
      "Saving model checkpoint to /home/ujan/Notebooks/libri_fn/checkpoint-26500\n",
      "Configuration saved in /home/ujan/Notebooks/libri_fn/checkpoint-26500/config.json\n",
      "Model weights saved in /home/ujan/Notebooks/libri_fn/checkpoint-26500/pytorch_model.bin\n",
      "Feature extractor saved in /home/ujan/Notebooks/libri_fn/checkpoint-26500/preprocessor_config.json\n",
      "Deleting older checkpoint [/home/ujan/Notebooks/libri_fn/checkpoint-25500] due to args.save_total_limit\n",
      "\n",
      "\n",
      "Training completed. Do not forget to share your model on huggingface.co/models =)\n",
      "\n",
      "\n"
     ]
    },
    {
     "data": {
      "text/plain": [
       "TrainOutput(global_step=26760, training_loss=0.11166186776396406, metrics={'train_runtime': 90805.915, 'train_samples_per_second': 9.429, 'train_steps_per_second': 0.295, 'total_flos': 9.971972038207242e+19, 'train_loss': 0.11166186776396406, 'epoch': 30.0})"
      ]
     },
     "execution_count": 27,
     "metadata": {},
     "output_type": "execute_result"
    }
   ],
   "source": [
    "trainer.train()"
   ]
  },
  {
   "cell_type": "markdown",
   "id": "c61817c1",
   "metadata": {},
   "source": [
    "Evaluation"
   ]
  },
  {
   "cell_type": "code",
   "execution_count": 28,
   "id": "9207efa8",
   "metadata": {},
   "outputs": [
    {
     "data": {
      "application/vnd.jupyter.widget-view+json": {
       "model_id": "306eac836fff450c9c14e061970f103a",
       "version_major": 2,
       "version_minor": 0
      },
      "text/plain": [
       "  0%|          | 0/2620 [00:00<?, ?ex/s]"
      ]
     },
     "metadata": {},
     "output_type": "display_data"
    },
    {
     "name": "stderr",
     "output_type": "stream",
     "text": [
      "/home/ujan/anaconda3/envs/asr/lib/python3.10/site-packages/torch/utils/checkpoint.py:25: UserWarning: None of the inputs have requires_grad=True. Gradients will be None\n",
      "  warnings.warn(\"None of the inputs have requires_grad=True. Gradients will be None\")\n"
     ]
    }
   ],
   "source": [
    "def map_to_result(batch):\n",
    "  with torch.no_grad():\n",
    "    input_values = torch.tensor(batch[\"input_values\"], device=\"cuda\").unsqueeze(0)\n",
    "    logits = model(input_values).logits\n",
    "\n",
    "  pred_ids = torch.argmax(logits, dim=-1)\n",
    "  batch[\"pred_str\"] = processor.batch_decode(pred_ids)[0]\n",
    "  batch[\"text\"] = processor.decode(batch[\"labels\"], group_tokens=False)\n",
    "  \n",
    "  return batch\n",
    "\n",
    "results = libri[\"test\"].map(map_to_result, remove_columns=libri[\"test\"].column_names)"
   ]
  },
  {
   "cell_type": "code",
   "execution_count": 29,
   "id": "08c62278",
   "metadata": {},
   "outputs": [
    {
     "name": "stdout",
     "output_type": "stream",
     "text": [
      "Test WER: 0.082\n"
     ]
    }
   ],
   "source": [
    "print(\"Test WER: {:.3f}\".format(wer_metric.compute(predictions=results[\"pred_str\"], references=results[\"text\"])))"
   ]
  },
  {
   "cell_type": "code",
   "execution_count": 32,
   "id": "ed50b7db",
   "metadata": {},
   "outputs": [
    {
     "data": {
      "text/html": [
       "<table border=\"1\" class=\"dataframe\">\n",
       "  <thead>\n",
       "    <tr style=\"text-align: right;\">\n",
       "      <th></th>\n",
       "      <th>pred_str</th>\n",
       "      <th>text</th>\n",
       "    </tr>\n",
       "  </thead>\n",
       "  <tbody>\n",
       "    <tr>\n",
       "      <th>0</th>\n",
       "      <td>my heart doth plead that thou in him dost lie a closet never pierced with crystal eyes but the defendant doth that plead deniye and says in him thy fair apparants lies</td>\n",
       "      <td>my heart doth plead that thou in him dost lie a closet never pierc'd with crystal eyes but the defendant doth that plea deny and says in him thy fair appearance lies</td>\n",
       "    </tr>\n",
       "    <tr>\n",
       "      <th>1</th>\n",
       "      <td>she was here just now said the count</td>\n",
       "      <td>she was here just now said the count</td>\n",
       "    </tr>\n",
       "    <tr>\n",
       "      <th>2</th>\n",
       "      <td>but hackey who was too much occupied with his own thoughts to note the movement continued speaking more to himself than to his companion</td>\n",
       "      <td>but hawkeye who was too much occupied with his own thoughts to note the movement continued speaking more to himself than to his companion</td>\n",
       "    </tr>\n",
       "    <tr>\n",
       "      <th>3</th>\n",
       "      <td>a word sha now be said about the origin of luther's commonto agelations</td>\n",
       "      <td>a word should now be said about the origin of luther's commentary on galatians</td>\n",
       "    </tr>\n",
       "    <tr>\n",
       "      <th>4</th>\n",
       "      <td>you have received us with all that courtesy and hospitality for which your character in england stands so high</td>\n",
       "      <td>you have received us with all that courtesy and hospitality for which your character in england stands so high</td>\n",
       "    </tr>\n",
       "    <tr>\n",
       "      <th>5</th>\n",
       "      <td>so we harried the cost of norway</td>\n",
       "      <td>so we harried the coast of norway</td>\n",
       "    </tr>\n",
       "    <tr>\n",
       "      <th>6</th>\n",
       "      <td>for many then this book has been a source of fascination surely one of the most influential novels ever written an inspiration for such scientists and discoverers as engineer simon lake ochinographer willam bb poler traveler sar earnist shaleton</td>\n",
       "      <td>for many then this book has been a source of fascination surely one of the most influential novels ever written an inspiration for such scientists and discoverers as engineer simon lake oceanographer william beebe polar traveler sir ernest shackleton</td>\n",
       "    </tr>\n",
       "    <tr>\n",
       "      <th>7</th>\n",
       "      <td>tabby had tended them in their childhood they and none others should tend her in her infirmity and age</td>\n",
       "      <td>tabby had tended them in their childhood they and none other should tend her in her infirmity and age</td>\n",
       "    </tr>\n",
       "    <tr>\n",
       "      <th>8</th>\n",
       "      <td>mistress fitzouth had been carried off bo the sheriff's daughter and her maids as soon as they had entered the house so that robin alone wat the care of mont fichet</td>\n",
       "      <td>mistress fitzooth had been carried off by the sheriff's daughter and her maids as soon as they had entered the house so that robin alone had the care of montfichet</td>\n",
       "    </tr>\n",
       "    <tr>\n",
       "      <th>9</th>\n",
       "      <td>said captain donnethorne seating himself where he could see along the short passage to the open derry door</td>\n",
       "      <td>said captain donnithorne seating himself where he could see along the short passage to the open dairy door</td>\n",
       "    </tr>\n",
       "  </tbody>\n",
       "</table>"
      ],
      "text/plain": [
       "<IPython.core.display.HTML object>"
      ]
     },
     "metadata": {},
     "output_type": "display_data"
    }
   ],
   "source": [
    "show_random_elements(results)"
   ]
  },
  {
   "cell_type": "code",
   "execution_count": 33,
   "id": "f5bc8370",
   "metadata": {},
   "outputs": [
    {
     "name": "stderr",
     "output_type": "stream",
     "text": [
      "/home/ujan/anaconda3/envs/asr/lib/python3.10/site-packages/torch/utils/checkpoint.py:25: UserWarning: None of the inputs have requires_grad=True. Gradients will be None\n",
      "  warnings.warn(\"None of the inputs have requires_grad=True. Gradients will be None\")\n"
     ]
    },
    {
     "data": {
      "text/plain": [
       "'[PAD] [PAD] [PAD] [PAD] [PAD] [PAD] [PAD] [PAD] [PAD] [PAD] [PAD] [PAD] [PAD] [PAD] [PAD] [PAD] [PAD] [PAD] [PAD] [PAD] [PAD] [PAD] [PAD] [PAD] [PAD] [PAD] [PAD] [PAD] c [PAD] [PAD] [PAD] [PAD] [PAD] o o o [PAD] n n [PAD] [PAD] [PAD] c c [PAD] [PAD] [PAD] [PAD] o o o r r r r d d | | r r [PAD] e [PAD] [PAD] [PAD] t t [PAD] [PAD] [PAD] [PAD] [PAD] u u r n n e d | | t o o | | | i [PAD] t s s s | | | p p l l [PAD] [PAD] [PAD] a a [PAD] c c e e [PAD] | | [PAD] [PAD] a [PAD] [PAD] [PAD] m m i i i d d d s s t t | | | t t h e e | | t t [PAD] [PAD] [PAD] [PAD] [PAD] e e n n n n [PAD] t [PAD] s s [PAD] [PAD] [PAD] [PAD] [PAD] [PAD] [PAD] [PAD] [PAD] [PAD] [PAD] [PAD] [PAD] [PAD]'"
      ]
     },
     "execution_count": 33,
     "metadata": {},
     "output_type": "execute_result"
    }
   ],
   "source": [
    "model.to(\"cuda\")\n",
    "\n",
    "with torch.no_grad():\n",
    "  logits = model(torch.tensor(libri[\"test\"][:1][\"input_values\"], device=\"cuda\")).logits\n",
    "\n",
    "pred_ids = torch.argmax(logits, dim=-1)\n",
    "\n",
    "# convert ids to tokens\n",
    "\" \".join(processor.tokenizer.convert_ids_to_tokens(pred_ids[0].tolist()))"
   ]
  },
  {
   "cell_type": "code",
   "execution_count": 34,
   "id": "a3ab3975",
   "metadata": {},
   "outputs": [],
   "source": [
    "torch.save(model.state_dict(), '/home/ujan/Notebooks/models/wav2vec2_asr_libri_100')"
   ]
  },
  {
   "cell_type": "code",
   "execution_count": null,
   "id": "5041ab9a",
   "metadata": {},
   "outputs": [],
   "source": []
  }
 ],
 "metadata": {
  "kernelspec": {
   "display_name": "Python 3 (ipykernel)",
   "language": "python",
   "name": "python3"
  },
  "language_info": {
   "codemirror_mode": {
    "name": "ipython",
    "version": 3
   },
   "file_extension": ".py",
   "mimetype": "text/x-python",
   "name": "python",
   "nbconvert_exporter": "python",
   "pygments_lexer": "ipython3",
   "version": "3.10.4"
  }
 },
 "nbformat": 4,
 "nbformat_minor": 5
}
